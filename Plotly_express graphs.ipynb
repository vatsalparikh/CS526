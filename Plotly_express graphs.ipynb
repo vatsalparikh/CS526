{
 "cells": [
  {
   "cell_type": "code",
   "execution_count": 1,
   "metadata": {},
   "outputs": [
    {
     "data": {
      "text/html": [
       "<script type=\"text/javascript\">window.PlotlyConfig = {MathJaxConfig: 'local'};</script><script type=\"text/javascript\">if (window.MathJax) {MathJax.Hub.Config({SVG: {font: \"STIX-Web\"}});}</script><script>requirejs.config({paths: { 'plotly': ['https://cdn.plot.ly/plotly-latest.min']},});if(!window._Plotly) {require(['plotly'],function(plotly) {window._Plotly=plotly;});}</script>"
      ],
      "text/vnd.plotly.v1+html": [
       "<script type=\"text/javascript\">window.PlotlyConfig = {MathJaxConfig: 'local'};</script><script type=\"text/javascript\">if (window.MathJax) {MathJax.Hub.Config({SVG: {font: \"STIX-Web\"}});}</script><script>requirejs.config({paths: { 'plotly': ['https://cdn.plot.ly/plotly-latest.min']},});if(!window._Plotly) {require(['plotly'],function(plotly) {window._Plotly=plotly;});}</script>"
      ]
     },
     "metadata": {},
     "output_type": "display_data"
    }
   ],
   "source": [
    "import numpy as np # linear algebra\n",
    "import pandas as pd # data processing, CSV file I/O (e.g. pd.read_csv)\n",
    "import matplotlib.pyplot as mlt\n",
    "import seaborn as sns\n",
    "mlt.style.use('fivethirtyeight')\n",
    "import plotly.offline as py\n",
    "py.init_notebook_mode(connected=True)\n",
    "import plotly.graph_objs as go\n",
    "import plotly.tools as tls\n",
    "import plotly_express as px"
   ]
  },
  {
   "cell_type": "code",
   "execution_count": 2,
   "metadata": {},
   "outputs": [],
   "source": [
    "matches=pd.read_csv('Datacric/data/matches.csv')   \n",
    "delivery=pd.read_csv('Datacric/data/deliveries.csv')"
   ]
  },
  {
   "cell_type": "code",
   "execution_count": 3,
   "metadata": {
    "collapsed": true
   },
   "outputs": [],
   "source": [
    "matches.drop(['umpire3'],axis=1,inplace=True)  #since all the values are NaN\n",
    "delivery.fillna(0,inplace=True)     #filling all the NaN values with 0\n",
    "matches['team1'].unique()\n",
    "#Replacing the Team Names with their abbreviations\n",
    "\n",
    "matches.replace(['Mumbai Indians','Kolkata Knight Riders','Royal Challengers Bangalore','Deccan Chargers','Chennai Super Kings',\n",
    "                 'Rajasthan Royals','Delhi Daredevils','Gujarat Lions','Kings XI Punjab',\n",
    "                 'Sunrisers Hyderabad','Rising Pune Supergiants','Kochi Tuskers Kerala','Pune Warriors','Rising Pune Supergiant']\n",
    "                ,['MI','KKR','RCB','DC','CSK','RR','DD','GL','KXIP','SRH','RPS','KTK','PW','RPS'],inplace=True)\n",
    "\n",
    "delivery.replace(['Mumbai Indians','Kolkata Knight Riders','Royal Challengers Bangalore','Deccan Chargers','Chennai Super Kings',\n",
    "                 'Rajasthan Royals','Delhi Daredevils','Gujarat Lions','Kings XI Punjab',\n",
    "                 'Sunrisers Hyderabad','Rising Pune Supergiants','Kochi Tuskers Kerala','Pune Warriors','Rising Pune Supergiant']\n",
    "                ,['MI','KKR','RCB','DC','CSK','RR','DD','GL','KXIP','SRH','RPS','KTK','PW','RPS'],inplace=True)"
   ]
  },
  {
   "cell_type": "code",
   "execution_count": 4,
   "metadata": {},
   "outputs": [],
   "source": [
    "bowlers=delivery.groupby('bowler').sum().reset_index()\n",
    "bowl=delivery['bowler'].value_counts().reset_index()\n",
    "bowlers=bowlers.merge(bowl,left_on='bowler',right_on='index',how='left')\n",
    "bowlers=bowlers[['bowler_x','total_runs','bowler_y']]\n",
    "bowlers.rename({'bowler_x':'bowler','total_runs':'runs_given','bowler_y':'balls'},axis=1,inplace=True)\n",
    "bowlers['overs']=(bowlers['balls']//6)\n",
    "dismissal_kinds = [\"bowled\", \"caught\", \"lbw\", \"stumped\", \"caught and bowled\", \"hit wicket\"]  \n",
    "ct=delivery[delivery[\"dismissal_kind\"].isin(dismissal_kinds)]\n",
    "ct=ct['bowler'].value_counts()[:20].reset_index()\n",
    "bowlers=bowlers.merge(ct,left_on='bowler',right_on='index',how='left').dropna()\n",
    "bowlers=bowlers[['bowler_x','runs_given','overs','bowler_y']]\n",
    "bowlers.rename({'bowler_x':'bowler','bowler_y':'wickets'},axis=1,inplace=True)\n",
    "bowlers['economy']=(bowlers['runs_given']/bowlers['overs'])"
   ]
  },
  {
   "cell_type": "code",
   "execution_count": 19,
   "metadata": {},
   "outputs": [
    {
     "data": {
      "application/vnd.plotly.v1+json": {
       "config": {
        "linkText": "Export to plot.ly",
        "plotlyServerURL": "https://plot.ly",
        "showLink": false
       },
       "data": [
        {
         "hovertemplate": "bowler=%{x}<br>wickets=%{y}<br>overs=%{marker.size}<br>economy=%{marker.color}<extra></extra>",
         "legendgroup": "",
         "marker": {
          "cmax": 8.289940828402367,
          "cmin": 6.395705521472393,
          "color": [
           7.344444444444444,
           7.711246200607903,
           7.046783625730995,
           8.01994301994302,
           6.6155988857938715,
           6.933734939759036,
           8.003322259136212,
           8,
           7.612756264236902,
           7.673611111111111,
           7.404320987654321,
           6.493638676844784,
           8.266666666666667,
           7.767584097859327,
           7.746794871794871,
           6.757238307349666,
           6.395705521472393,
           7.638036809815951,
           8.289940828402367,
           7.546174142480211
          ],
          "colorbar": {
           "title": {
            "text": "economy"
           }
          },
          "colorscale": [
           [
            0,
            "#0508b8"
           ],
           [
            0.08333333333333333,
            "#1910d8"
           ],
           [
            0.16666666666666666,
            "#3c19f0"
           ],
           [
            0.25,
            "#6b1cfb"
           ],
           [
            0.3333333333333333,
            "#981cfd"
           ],
           [
            0.4166666666666667,
            "#bf1cfd"
           ],
           [
            0.5,
            "#dd2bfd"
           ],
           [
            0.5833333333333334,
            "#f246fe"
           ],
           [
            0.6666666666666666,
            "#fc67fd"
           ],
           [
            0.75,
            "#fe88fc"
           ],
           [
            0.8333333333333334,
            "#fea5fd"
           ],
           [
            0.9166666666666666,
            "#febefe"
           ],
           [
            1,
            "#fec3fe"
           ]
          ],
          "showscale": true,
          "size": [
           450,
           329,
           342,
           351,
           359,
           498,
           301,
           261,
           439,
           432,
           324,
           393,
           360,
           327,
           312,
           449,
           326,
           326,
           338,
           379
          ],
          "sizemode": "area",
          "sizeref": 0.5533333333333333,
          "symbol": "circle"
         },
         "mode": "markers",
         "name": "",
         "showlegend": false,
         "type": "scatter",
         "uid": "b7152c37-3b25-4357-8843-aaac873ed15d",
         "x": [
          "A Mishra",
          "A Nehra",
          "B Kumar",
          "DJ Bravo",
          "DW Steyn",
          "Harbhajan Singh",
          "JA Morkel",
          "MM Sharma",
          "P Kumar",
          "PP Chawla",
          "PP Ojha",
          "R Ashwin",
          "R Vinay Kumar",
          "RA Jadeja",
          "RP Singh",
          "SL Malinga",
          "SP Narine",
          "SR Watson",
          "UT Yadav",
          "Z Khan"
         ],
         "xaxis": "x",
         "y": [
          134,
          106,
          111,
          122,
          92,
          127,
          85,
          83,
          90,
          126,
          89,
          100,
          103,
          82,
          90,
          154,
          95,
          86,
          91,
          102
         ],
         "yaxis": "y"
        }
       ],
       "layout": {
        "grid": {
         "xaxes": [
          "x"
         ],
         "xgap": 0.1,
         "xside": "bottom",
         "yaxes": [
          "y"
         ],
         "ygap": 0.1,
         "yside": "left"
        },
        "height": 600,
        "legend": {
         "tracegroupgap": 0
        },
        "template": {
         "data": {
          "bar": [
           {
            "marker": {
             "line": {
              "color": "#E5ECF6",
              "width": 0.5
             }
            },
            "type": "bar"
           }
          ],
          "barpolar": [
           {
            "marker": {
             "line": {
              "color": "#E5ECF6",
              "width": 0.5
             }
            },
            "type": "barpolar"
           }
          ],
          "carpet": [
           {
            "aaxis": {
             "endlinecolor": "#2a3f5f",
             "gridcolor": "white",
             "linecolor": "white",
             "minorgridcolor": "white",
             "startlinecolor": "#2a3f5f"
            },
            "baxis": {
             "endlinecolor": "#2a3f5f",
             "gridcolor": "white",
             "linecolor": "white",
             "minorgridcolor": "white",
             "startlinecolor": "#2a3f5f"
            },
            "type": "carpet"
           }
          ],
          "choropleth": [
           {
            "colorbar": {
             "outlinewidth": 0,
             "ticks": ""
            },
            "type": "choropleth"
           }
          ],
          "contour": [
           {
            "autocolorscale": true,
            "colorbar": {
             "outlinewidth": 0,
             "ticks": ""
            },
            "type": "contour"
           }
          ],
          "contourcarpet": [
           {
            "colorbar": {
             "outlinewidth": 0,
             "ticks": ""
            },
            "type": "contourcarpet"
           }
          ],
          "heatmap": [
           {
            "autocolorscale": true,
            "colorbar": {
             "outlinewidth": 0,
             "ticks": ""
            },
            "type": "heatmap"
           }
          ],
          "heatmapgl": [
           {
            "colorbar": {
             "outlinewidth": 0,
             "ticks": ""
            },
            "type": "heatmapgl"
           }
          ],
          "histogram": [
           {
            "marker": {
             "colorbar": {
              "outlinewidth": 0,
              "ticks": ""
             }
            },
            "type": "histogram"
           }
          ],
          "histogram2d": [
           {
            "autocolorscale": true,
            "colorbar": {
             "outlinewidth": 0,
             "ticks": ""
            },
            "type": "histogram2d"
           }
          ],
          "histogram2dcontour": [
           {
            "autocolorscale": true,
            "colorbar": {
             "outlinewidth": 0,
             "ticks": ""
            },
            "type": "histogram2dcontour"
           }
          ],
          "mesh3d": [
           {
            "colorbar": {
             "outlinewidth": 0,
             "ticks": ""
            },
            "type": "mesh3d"
           }
          ],
          "parcoords": [
           {
            "line": {
             "colorbar": {
              "outlinewidth": 0,
              "ticks": ""
             }
            },
            "type": "parcoords"
           }
          ],
          "scatter": [
           {
            "marker": {
             "colorbar": {
              "outlinewidth": 0,
              "ticks": ""
             }
            },
            "type": "scatter"
           }
          ],
          "scatter3d": [
           {
            "marker": {
             "colorbar": {
              "outlinewidth": 0,
              "ticks": ""
             }
            },
            "type": "scatter3d"
           }
          ],
          "scattercarpet": [
           {
            "marker": {
             "colorbar": {
              "outlinewidth": 0,
              "ticks": ""
             }
            },
            "type": "scattercarpet"
           }
          ],
          "scattergeo": [
           {
            "marker": {
             "colorbar": {
              "outlinewidth": 0,
              "ticks": ""
             }
            },
            "type": "scattergeo"
           }
          ],
          "scattergl": [
           {
            "marker": {
             "colorbar": {
              "outlinewidth": 0,
              "ticks": ""
             }
            },
            "type": "scattergl"
           }
          ],
          "scattermapbox": [
           {
            "marker": {
             "colorbar": {
              "outlinewidth": 0,
              "ticks": ""
             }
            },
            "type": "scattermapbox"
           }
          ],
          "scatterpolar": [
           {
            "marker": {
             "colorbar": {
              "outlinewidth": 0,
              "ticks": ""
             }
            },
            "type": "scatterpolar"
           }
          ],
          "scatterpolargl": [
           {
            "marker": {
             "colorbar": {
              "outlinewidth": 0,
              "ticks": ""
             }
            },
            "type": "scatterpolargl"
           }
          ],
          "scatterternary": [
           {
            "marker": {
             "colorbar": {
              "outlinewidth": 0,
              "ticks": ""
             }
            },
            "type": "scatterternary"
           }
          ],
          "surface": [
           {
            "colorbar": {
             "outlinewidth": 0,
             "ticks": ""
            },
            "type": "surface"
           }
          ],
          "table": [
           {
            "cells": {
             "fill": {
              "color": "#EBF0F8"
             },
             "line": {
              "color": "white"
             }
            },
            "header": {
             "fill": {
              "color": "#C8D4E3"
             },
             "line": {
              "color": "white"
             }
            },
            "type": "table"
           }
          ]
         },
         "layout": {
          "annotationdefaults": {
           "arrowcolor": "#506784",
           "arrowhead": 0,
           "arrowwidth": 1
          },
          "colorscale": {
           "diverging": [
            [
             0,
             "#8e0152"
            ],
            [
             0.1,
             "#c51b7d"
            ],
            [
             0.2,
             "#de77ae"
            ],
            [
             0.3,
             "#f1b6da"
            ],
            [
             0.4,
             "#fde0ef"
            ],
            [
             0.5,
             "#f7f7f7"
            ],
            [
             0.6,
             "#e6f5d0"
            ],
            [
             0.7,
             "#b8e186"
            ],
            [
             0.8,
             "#7fbc41"
            ],
            [
             0.9,
             "#4d9221"
            ],
            [
             1,
             "#276419"
            ]
           ],
           "sequential": [
            [
             0,
             "#0508b8"
            ],
            [
             0.0893854748603352,
             "#1910d8"
            ],
            [
             0.1787709497206704,
             "#3c19f0"
            ],
            [
             0.2681564245810056,
             "#6b1cfb"
            ],
            [
             0.3575418994413408,
             "#981cfd"
            ],
            [
             0.44692737430167595,
             "#bf1cfd"
            ],
            [
             0.5363128491620112,
             "#dd2bfd"
            ],
            [
             0.6256983240223464,
             "#f246fe"
            ],
            [
             0.7150837988826816,
             "#fc67fd"
            ],
            [
             0.8044692737430168,
             "#fe88fc"
            ],
            [
             0.8938547486033519,
             "#fea5fd"
            ],
            [
             0.9832402234636871,
             "#febefe"
            ],
            [
             1,
             "#fec3fe"
            ]
           ],
           "sequentialminus": [
            [
             0,
             "#0508b8"
            ],
            [
             0.0893854748603352,
             "#1910d8"
            ],
            [
             0.1787709497206704,
             "#3c19f0"
            ],
            [
             0.2681564245810056,
             "#6b1cfb"
            ],
            [
             0.3575418994413408,
             "#981cfd"
            ],
            [
             0.44692737430167595,
             "#bf1cfd"
            ],
            [
             0.5363128491620112,
             "#dd2bfd"
            ],
            [
             0.6256983240223464,
             "#f246fe"
            ],
            [
             0.7150837988826816,
             "#fc67fd"
            ],
            [
             0.8044692737430168,
             "#fe88fc"
            ],
            [
             0.8938547486033519,
             "#fea5fd"
            ],
            [
             0.9832402234636871,
             "#febefe"
            ],
            [
             1,
             "#fec3fe"
            ]
           ]
          },
          "colorway": [
           "#636efa",
           "#EF553B",
           "#00cc96",
           "#ab63fa",
           "#19d3f3",
           "#e763fa",
           "#FECB52",
           "#FFA15A",
           "#FF6692",
           "#B6E880"
          ],
          "font": {
           "color": "#2a3f5f"
          },
          "geo": {
           "bgcolor": "white",
           "lakecolor": "white",
           "landcolor": "#E5ECF6",
           "showlakes": true,
           "showland": true,
           "subunitcolor": "white"
          },
          "hovermode": "closest",
          "mapbox": {
           "style": "light"
          },
          "paper_bgcolor": "white",
          "plot_bgcolor": "#E5ECF6",
          "polar": {
           "angularaxis": {
            "gridcolor": "white",
            "linecolor": "white",
            "ticks": ""
           },
           "bgcolor": "#E5ECF6",
           "radialaxis": {
            "gridcolor": "white",
            "linecolor": "white",
            "ticks": ""
           }
          },
          "scene": {
           "xaxis": {
            "backgroundcolor": "#E5ECF6",
            "gridcolor": "white",
            "gridwidth": 2,
            "linecolor": "white",
            "showbackground": true,
            "ticks": "",
            "zerolinecolor": "white"
           },
           "yaxis": {
            "backgroundcolor": "#E5ECF6",
            "gridcolor": "white",
            "gridwidth": 2,
            "linecolor": "white",
            "showbackground": true,
            "ticks": "",
            "zerolinecolor": "white"
           },
           "zaxis": {
            "backgroundcolor": "#E5ECF6",
            "gridcolor": "white",
            "gridwidth": 2,
            "linecolor": "white",
            "showbackground": true,
            "ticks": "",
            "zerolinecolor": "white"
           }
          },
          "shapedefaults": {
           "fillcolor": "#506784",
           "line": {
            "width": 0
           },
           "opacity": 0.4
          },
          "ternary": {
           "aaxis": {
            "gridcolor": "white",
            "linecolor": "white",
            "ticks": ""
           },
           "baxis": {
            "gridcolor": "white",
            "linecolor": "white",
            "ticks": ""
           },
           "bgcolor": "#E5ECF6",
           "caxis": {
            "gridcolor": "white",
            "linecolor": "white",
            "ticks": ""
           }
          },
          "title": {
           "x": 0.05
          },
          "xaxis": {
           "automargin": true,
           "gridcolor": "white",
           "linecolor": "white",
           "ticks": "",
           "zerolinecolor": "white",
           "zerolinewidth": 2
          },
          "yaxis": {
           "automargin": true,
           "gridcolor": "white",
           "linecolor": "white",
           "ticks": "",
           "zerolinecolor": "white",
           "zerolinewidth": 2
          }
         }
        },
        "title": {
         "text": "Top 20 Wicket Taking Bowlers"
        },
        "xaxis": {
         "title": {
          "text": "bowler"
         }
        },
        "yaxis": {
         "title": {
          "text": "wickets"
         }
        }
       }
      },
      "text/html": [
       "<div id=\"054fb80c-1ddb-40e6-a44d-5b96864fa363\" style=\"height: 600px; width: 100%;\" class=\"plotly-graph-div\"></div><script type=\"text/javascript\">require([\"plotly\"], function(Plotly) { window.PLOTLYENV=window.PLOTLYENV || {};window.PLOTLYENV.BASE_URL=\"https://plot.ly\";\n",
       "if (document.getElementById(\"054fb80c-1ddb-40e6-a44d-5b96864fa363\")) {\n",
       "    Plotly.newPlot(\"054fb80c-1ddb-40e6-a44d-5b96864fa363\", [{\"hovertemplate\": \"bowler=%{x}<br>wickets=%{y}<br>overs=%{marker.size}<br>economy=%{marker.color}<extra></extra>\", \"legendgroup\": \"\", \"marker\": {\"cmax\": 8.289940828402367, \"cmin\": 6.395705521472393, \"color\": [7.344444444444444, 7.711246200607903, 7.046783625730995, 8.01994301994302, 6.6155988857938715, 6.933734939759036, 8.003322259136212, 8.0, 7.612756264236902, 7.673611111111111, 7.404320987654321, 6.493638676844784, 8.266666666666667, 7.767584097859327, 7.746794871794871, 6.757238307349666, 6.395705521472393, 7.638036809815951, 8.289940828402367, 7.546174142480211], \"colorbar\": {\"title\": {\"text\": \"economy\"}}, \"colorscale\": [[0.0, \"#0508b8\"], [0.08333333333333333, \"#1910d8\"], [0.16666666666666666, \"#3c19f0\"], [0.25, \"#6b1cfb\"], [0.3333333333333333, \"#981cfd\"], [0.4166666666666667, \"#bf1cfd\"], [0.5, \"#dd2bfd\"], [0.5833333333333334, \"#f246fe\"], [0.6666666666666666, \"#fc67fd\"], [0.75, \"#fe88fc\"], [0.8333333333333334, \"#fea5fd\"], [0.9166666666666666, \"#febefe\"], [1.0, \"#fec3fe\"]], \"showscale\": true, \"size\": [450, 329, 342, 351, 359, 498, 301, 261, 439, 432, 324, 393, 360, 327, 312, 449, 326, 326, 338, 379], \"sizemode\": \"area\", \"sizeref\": 0.5533333333333333, \"symbol\": \"circle\"}, \"mode\": \"markers\", \"name\": \"\", \"showlegend\": false, \"x\": [\"A Mishra\", \"A Nehra\", \"B Kumar\", \"DJ Bravo\", \"DW Steyn\", \"Harbhajan Singh\", \"JA Morkel\", \"MM Sharma\", \"P Kumar\", \"PP Chawla\", \"PP Ojha\", \"R Ashwin\", \"R Vinay Kumar\", \"RA Jadeja\", \"RP Singh\", \"SL Malinga\", \"SP Narine\", \"SR Watson\", \"UT Yadav\", \"Z Khan\"], \"xaxis\": \"x\", \"y\": [134.0, 106.0, 111.0, 122.0, 92.0, 127.0, 85.0, 83.0, 90.0, 126.0, 89.0, 100.0, 103.0, 82.0, 90.0, 154.0, 95.0, 86.0, 91.0, 102.0], \"yaxis\": \"y\", \"type\": \"scatter\", \"uid\": \"b7152c37-3b25-4357-8843-aaac873ed15d\"}], {\"height\": 600, \"legend\": {\"tracegroupgap\": 0}, \"template\": {\"data\": {\"barpolar\": [{\"marker\": {\"line\": {\"color\": \"#E5ECF6\", \"width\": 0.5}}, \"type\": \"barpolar\"}], \"bar\": [{\"marker\": {\"line\": {\"color\": \"#E5ECF6\", \"width\": 0.5}}, \"type\": \"bar\"}], \"carpet\": [{\"aaxis\": {\"endlinecolor\": \"#2a3f5f\", \"gridcolor\": \"white\", \"linecolor\": \"white\", \"minorgridcolor\": \"white\", \"startlinecolor\": \"#2a3f5f\"}, \"baxis\": {\"endlinecolor\": \"#2a3f5f\", \"gridcolor\": \"white\", \"linecolor\": \"white\", \"minorgridcolor\": \"white\", \"startlinecolor\": \"#2a3f5f\"}, \"type\": \"carpet\"}], \"choropleth\": [{\"colorbar\": {\"outlinewidth\": 0, \"ticks\": \"\"}, \"type\": \"choropleth\"}], \"contourcarpet\": [{\"colorbar\": {\"outlinewidth\": 0, \"ticks\": \"\"}, \"type\": \"contourcarpet\"}], \"contour\": [{\"autocolorscale\": true, \"colorbar\": {\"outlinewidth\": 0, \"ticks\": \"\"}, \"type\": \"contour\"}], \"heatmapgl\": [{\"colorbar\": {\"outlinewidth\": 0, \"ticks\": \"\"}, \"type\": \"heatmapgl\"}], \"heatmap\": [{\"autocolorscale\": true, \"colorbar\": {\"outlinewidth\": 0, \"ticks\": \"\"}, \"type\": \"heatmap\"}], \"histogram2dcontour\": [{\"autocolorscale\": true, \"colorbar\": {\"outlinewidth\": 0, \"ticks\": \"\"}, \"type\": \"histogram2dcontour\"}], \"histogram2d\": [{\"autocolorscale\": true, \"colorbar\": {\"outlinewidth\": 0, \"ticks\": \"\"}, \"type\": \"histogram2d\"}], \"histogram\": [{\"marker\": {\"colorbar\": {\"outlinewidth\": 0, \"ticks\": \"\"}}, \"type\": \"histogram\"}], \"mesh3d\": [{\"colorbar\": {\"outlinewidth\": 0, \"ticks\": \"\"}, \"type\": \"mesh3d\"}], \"parcoords\": [{\"line\": {\"colorbar\": {\"outlinewidth\": 0, \"ticks\": \"\"}}, \"type\": \"parcoords\"}], \"scatter3d\": [{\"marker\": {\"colorbar\": {\"outlinewidth\": 0, \"ticks\": \"\"}}, \"type\": \"scatter3d\"}], \"scattercarpet\": [{\"marker\": {\"colorbar\": {\"outlinewidth\": 0, \"ticks\": \"\"}}, \"type\": \"scattercarpet\"}], \"scattergeo\": [{\"marker\": {\"colorbar\": {\"outlinewidth\": 0, \"ticks\": \"\"}}, \"type\": \"scattergeo\"}], \"scattergl\": [{\"marker\": {\"colorbar\": {\"outlinewidth\": 0, \"ticks\": \"\"}}, \"type\": \"scattergl\"}], \"scattermapbox\": [{\"marker\": {\"colorbar\": {\"outlinewidth\": 0, \"ticks\": \"\"}}, \"type\": \"scattermapbox\"}], \"scatterpolargl\": [{\"marker\": {\"colorbar\": {\"outlinewidth\": 0, \"ticks\": \"\"}}, \"type\": \"scatterpolargl\"}], \"scatterpolar\": [{\"marker\": {\"colorbar\": {\"outlinewidth\": 0, \"ticks\": \"\"}}, \"type\": \"scatterpolar\"}], \"scatter\": [{\"marker\": {\"colorbar\": {\"outlinewidth\": 0, \"ticks\": \"\"}}, \"type\": \"scatter\"}], \"scatterternary\": [{\"marker\": {\"colorbar\": {\"outlinewidth\": 0, \"ticks\": \"\"}}, \"type\": \"scatterternary\"}], \"surface\": [{\"colorbar\": {\"outlinewidth\": 0, \"ticks\": \"\"}, \"type\": \"surface\"}], \"table\": [{\"cells\": {\"fill\": {\"color\": \"#EBF0F8\"}, \"line\": {\"color\": \"white\"}}, \"header\": {\"fill\": {\"color\": \"#C8D4E3\"}, \"line\": {\"color\": \"white\"}}, \"type\": \"table\"}]}, \"layout\": {\"annotationdefaults\": {\"arrowcolor\": \"#506784\", \"arrowhead\": 0, \"arrowwidth\": 1}, \"colorscale\": {\"diverging\": [[0, \"#8e0152\"], [0.1, \"#c51b7d\"], [0.2, \"#de77ae\"], [0.3, \"#f1b6da\"], [0.4, \"#fde0ef\"], [0.5, \"#f7f7f7\"], [0.6, \"#e6f5d0\"], [0.7, \"#b8e186\"], [0.8, \"#7fbc41\"], [0.9, \"#4d9221\"], [1, \"#276419\"]], \"sequential\": [[0.0, \"#0508b8\"], [0.0893854748603352, \"#1910d8\"], [0.1787709497206704, \"#3c19f0\"], [0.2681564245810056, \"#6b1cfb\"], [0.3575418994413408, \"#981cfd\"], [0.44692737430167595, \"#bf1cfd\"], [0.5363128491620112, \"#dd2bfd\"], [0.6256983240223464, \"#f246fe\"], [0.7150837988826816, \"#fc67fd\"], [0.8044692737430168, \"#fe88fc\"], [0.8938547486033519, \"#fea5fd\"], [0.9832402234636871, \"#febefe\"], [1.0, \"#fec3fe\"]], \"sequentialminus\": [[0.0, \"#0508b8\"], [0.0893854748603352, \"#1910d8\"], [0.1787709497206704, \"#3c19f0\"], [0.2681564245810056, \"#6b1cfb\"], [0.3575418994413408, \"#981cfd\"], [0.44692737430167595, \"#bf1cfd\"], [0.5363128491620112, \"#dd2bfd\"], [0.6256983240223464, \"#f246fe\"], [0.7150837988826816, \"#fc67fd\"], [0.8044692737430168, \"#fe88fc\"], [0.8938547486033519, \"#fea5fd\"], [0.9832402234636871, \"#febefe\"], [1.0, \"#fec3fe\"]]}, \"colorway\": [\"#636efa\", \"#EF553B\", \"#00cc96\", \"#ab63fa\", \"#19d3f3\", \"#e763fa\", \"#FECB52\", \"#FFA15A\", \"#FF6692\", \"#B6E880\"], \"font\": {\"color\": \"#2a3f5f\"}, \"geo\": {\"bgcolor\": \"white\", \"lakecolor\": \"white\", \"landcolor\": \"#E5ECF6\", \"showlakes\": true, \"showland\": true, \"subunitcolor\": \"white\"}, \"hovermode\": \"closest\", \"mapbox\": {\"style\": \"light\"}, \"paper_bgcolor\": \"white\", \"plot_bgcolor\": \"#E5ECF6\", \"polar\": {\"angularaxis\": {\"gridcolor\": \"white\", \"linecolor\": \"white\", \"ticks\": \"\"}, \"bgcolor\": \"#E5ECF6\", \"radialaxis\": {\"gridcolor\": \"white\", \"linecolor\": \"white\", \"ticks\": \"\"}}, \"scene\": {\"xaxis\": {\"backgroundcolor\": \"#E5ECF6\", \"gridcolor\": \"white\", \"gridwidth\": 2, \"linecolor\": \"white\", \"showbackground\": true, \"ticks\": \"\", \"zerolinecolor\": \"white\"}, \"yaxis\": {\"backgroundcolor\": \"#E5ECF6\", \"gridcolor\": \"white\", \"gridwidth\": 2, \"linecolor\": \"white\", \"showbackground\": true, \"ticks\": \"\", \"zerolinecolor\": \"white\"}, \"zaxis\": {\"backgroundcolor\": \"#E5ECF6\", \"gridcolor\": \"white\", \"gridwidth\": 2, \"linecolor\": \"white\", \"showbackground\": true, \"ticks\": \"\", \"zerolinecolor\": \"white\"}}, \"shapedefaults\": {\"fillcolor\": \"#506784\", \"line\": {\"width\": 0}, \"opacity\": 0.4}, \"ternary\": {\"aaxis\": {\"gridcolor\": \"white\", \"linecolor\": \"white\", \"ticks\": \"\"}, \"baxis\": {\"gridcolor\": \"white\", \"linecolor\": \"white\", \"ticks\": \"\"}, \"bgcolor\": \"#E5ECF6\", \"caxis\": {\"gridcolor\": \"white\", \"linecolor\": \"white\", \"ticks\": \"\"}}, \"title\": {\"x\": 0.05}, \"xaxis\": {\"automargin\": true, \"gridcolor\": \"white\", \"linecolor\": \"white\", \"ticks\": \"\", \"zerolinecolor\": \"white\", \"zerolinewidth\": 2}, \"yaxis\": {\"automargin\": true, \"gridcolor\": \"white\", \"linecolor\": \"white\", \"ticks\": \"\", \"zerolinecolor\": \"white\", \"zerolinewidth\": 2}}}, \"title\": {\"text\": \"Top 20 Wicket Taking Bowlers\"}, \"grid\": {\"xaxes\": [\"x\"], \"yaxes\": [\"y\"], \"xgap\": 0.1, \"ygap\": 0.1, \"xside\": \"bottom\", \"yside\": \"left\"}, \"xaxis\": {\"title\": {\"text\": \"bowler\"}}, \"yaxis\": {\"title\": {\"text\": \"wickets\"}}}, {\"showLink\": false, \"linkText\": \"Export to plot.ly\", \"plotlyServerURL\": \"https://plot.ly\"}); \n",
       "}\n",
       "});</script><script type=\"text/javascript\">window.addEventListener(\"resize\", function(){if (document.getElementById(\"054fb80c-1ddb-40e6-a44d-5b96864fa363\")) {window._Plotly.Plots.resize(document.getElementById(\"054fb80c-1ddb-40e6-a44d-5b96864fa363\"));};})</script>"
      ],
      "text/vnd.plotly.v1+html": [
       "<div id=\"054fb80c-1ddb-40e6-a44d-5b96864fa363\" style=\"height: 600px; width: 100%;\" class=\"plotly-graph-div\"></div><script type=\"text/javascript\">require([\"plotly\"], function(Plotly) { window.PLOTLYENV=window.PLOTLYENV || {};window.PLOTLYENV.BASE_URL=\"https://plot.ly\";\n",
       "if (document.getElementById(\"054fb80c-1ddb-40e6-a44d-5b96864fa363\")) {\n",
       "    Plotly.newPlot(\"054fb80c-1ddb-40e6-a44d-5b96864fa363\", [{\"hovertemplate\": \"bowler=%{x}<br>wickets=%{y}<br>overs=%{marker.size}<br>economy=%{marker.color}<extra></extra>\", \"legendgroup\": \"\", \"marker\": {\"cmax\": 8.289940828402367, \"cmin\": 6.395705521472393, \"color\": [7.344444444444444, 7.711246200607903, 7.046783625730995, 8.01994301994302, 6.6155988857938715, 6.933734939759036, 8.003322259136212, 8.0, 7.612756264236902, 7.673611111111111, 7.404320987654321, 6.493638676844784, 8.266666666666667, 7.767584097859327, 7.746794871794871, 6.757238307349666, 6.395705521472393, 7.638036809815951, 8.289940828402367, 7.546174142480211], \"colorbar\": {\"title\": {\"text\": \"economy\"}}, \"colorscale\": [[0.0, \"#0508b8\"], [0.08333333333333333, \"#1910d8\"], [0.16666666666666666, \"#3c19f0\"], [0.25, \"#6b1cfb\"], [0.3333333333333333, \"#981cfd\"], [0.4166666666666667, \"#bf1cfd\"], [0.5, \"#dd2bfd\"], [0.5833333333333334, \"#f246fe\"], [0.6666666666666666, \"#fc67fd\"], [0.75, \"#fe88fc\"], [0.8333333333333334, \"#fea5fd\"], [0.9166666666666666, \"#febefe\"], [1.0, \"#fec3fe\"]], \"showscale\": true, \"size\": [450, 329, 342, 351, 359, 498, 301, 261, 439, 432, 324, 393, 360, 327, 312, 449, 326, 326, 338, 379], \"sizemode\": \"area\", \"sizeref\": 0.5533333333333333, \"symbol\": \"circle\"}, \"mode\": \"markers\", \"name\": \"\", \"showlegend\": false, \"x\": [\"A Mishra\", \"A Nehra\", \"B Kumar\", \"DJ Bravo\", \"DW Steyn\", \"Harbhajan Singh\", \"JA Morkel\", \"MM Sharma\", \"P Kumar\", \"PP Chawla\", \"PP Ojha\", \"R Ashwin\", \"R Vinay Kumar\", \"RA Jadeja\", \"RP Singh\", \"SL Malinga\", \"SP Narine\", \"SR Watson\", \"UT Yadav\", \"Z Khan\"], \"xaxis\": \"x\", \"y\": [134.0, 106.0, 111.0, 122.0, 92.0, 127.0, 85.0, 83.0, 90.0, 126.0, 89.0, 100.0, 103.0, 82.0, 90.0, 154.0, 95.0, 86.0, 91.0, 102.0], \"yaxis\": \"y\", \"type\": \"scatter\", \"uid\": \"b7152c37-3b25-4357-8843-aaac873ed15d\"}], {\"height\": 600, \"legend\": {\"tracegroupgap\": 0}, \"template\": {\"data\": {\"barpolar\": [{\"marker\": {\"line\": {\"color\": \"#E5ECF6\", \"width\": 0.5}}, \"type\": \"barpolar\"}], \"bar\": [{\"marker\": {\"line\": {\"color\": \"#E5ECF6\", \"width\": 0.5}}, \"type\": \"bar\"}], \"carpet\": [{\"aaxis\": {\"endlinecolor\": \"#2a3f5f\", \"gridcolor\": \"white\", \"linecolor\": \"white\", \"minorgridcolor\": \"white\", \"startlinecolor\": \"#2a3f5f\"}, \"baxis\": {\"endlinecolor\": \"#2a3f5f\", \"gridcolor\": \"white\", \"linecolor\": \"white\", \"minorgridcolor\": \"white\", \"startlinecolor\": \"#2a3f5f\"}, \"type\": \"carpet\"}], \"choropleth\": [{\"colorbar\": {\"outlinewidth\": 0, \"ticks\": \"\"}, \"type\": \"choropleth\"}], \"contourcarpet\": [{\"colorbar\": {\"outlinewidth\": 0, \"ticks\": \"\"}, \"type\": \"contourcarpet\"}], \"contour\": [{\"autocolorscale\": true, \"colorbar\": {\"outlinewidth\": 0, \"ticks\": \"\"}, \"type\": \"contour\"}], \"heatmapgl\": [{\"colorbar\": {\"outlinewidth\": 0, \"ticks\": \"\"}, \"type\": \"heatmapgl\"}], \"heatmap\": [{\"autocolorscale\": true, \"colorbar\": {\"outlinewidth\": 0, \"ticks\": \"\"}, \"type\": \"heatmap\"}], \"histogram2dcontour\": [{\"autocolorscale\": true, \"colorbar\": {\"outlinewidth\": 0, \"ticks\": \"\"}, \"type\": \"histogram2dcontour\"}], \"histogram2d\": [{\"autocolorscale\": true, \"colorbar\": {\"outlinewidth\": 0, \"ticks\": \"\"}, \"type\": \"histogram2d\"}], \"histogram\": [{\"marker\": {\"colorbar\": {\"outlinewidth\": 0, \"ticks\": \"\"}}, \"type\": \"histogram\"}], \"mesh3d\": [{\"colorbar\": {\"outlinewidth\": 0, \"ticks\": \"\"}, \"type\": \"mesh3d\"}], \"parcoords\": [{\"line\": {\"colorbar\": {\"outlinewidth\": 0, \"ticks\": \"\"}}, \"type\": \"parcoords\"}], \"scatter3d\": [{\"marker\": {\"colorbar\": {\"outlinewidth\": 0, \"ticks\": \"\"}}, \"type\": \"scatter3d\"}], \"scattercarpet\": [{\"marker\": {\"colorbar\": {\"outlinewidth\": 0, \"ticks\": \"\"}}, \"type\": \"scattercarpet\"}], \"scattergeo\": [{\"marker\": {\"colorbar\": {\"outlinewidth\": 0, \"ticks\": \"\"}}, \"type\": \"scattergeo\"}], \"scattergl\": [{\"marker\": {\"colorbar\": {\"outlinewidth\": 0, \"ticks\": \"\"}}, \"type\": \"scattergl\"}], \"scattermapbox\": [{\"marker\": {\"colorbar\": {\"outlinewidth\": 0, \"ticks\": \"\"}}, \"type\": \"scattermapbox\"}], \"scatterpolargl\": [{\"marker\": {\"colorbar\": {\"outlinewidth\": 0, \"ticks\": \"\"}}, \"type\": \"scatterpolargl\"}], \"scatterpolar\": [{\"marker\": {\"colorbar\": {\"outlinewidth\": 0, \"ticks\": \"\"}}, \"type\": \"scatterpolar\"}], \"scatter\": [{\"marker\": {\"colorbar\": {\"outlinewidth\": 0, \"ticks\": \"\"}}, \"type\": \"scatter\"}], \"scatterternary\": [{\"marker\": {\"colorbar\": {\"outlinewidth\": 0, \"ticks\": \"\"}}, \"type\": \"scatterternary\"}], \"surface\": [{\"colorbar\": {\"outlinewidth\": 0, \"ticks\": \"\"}, \"type\": \"surface\"}], \"table\": [{\"cells\": {\"fill\": {\"color\": \"#EBF0F8\"}, \"line\": {\"color\": \"white\"}}, \"header\": {\"fill\": {\"color\": \"#C8D4E3\"}, \"line\": {\"color\": \"white\"}}, \"type\": \"table\"}]}, \"layout\": {\"annotationdefaults\": {\"arrowcolor\": \"#506784\", \"arrowhead\": 0, \"arrowwidth\": 1}, \"colorscale\": {\"diverging\": [[0, \"#8e0152\"], [0.1, \"#c51b7d\"], [0.2, \"#de77ae\"], [0.3, \"#f1b6da\"], [0.4, \"#fde0ef\"], [0.5, \"#f7f7f7\"], [0.6, \"#e6f5d0\"], [0.7, \"#b8e186\"], [0.8, \"#7fbc41\"], [0.9, \"#4d9221\"], [1, \"#276419\"]], \"sequential\": [[0.0, \"#0508b8\"], [0.0893854748603352, \"#1910d8\"], [0.1787709497206704, \"#3c19f0\"], [0.2681564245810056, \"#6b1cfb\"], [0.3575418994413408, \"#981cfd\"], [0.44692737430167595, \"#bf1cfd\"], [0.5363128491620112, \"#dd2bfd\"], [0.6256983240223464, \"#f246fe\"], [0.7150837988826816, \"#fc67fd\"], [0.8044692737430168, \"#fe88fc\"], [0.8938547486033519, \"#fea5fd\"], [0.9832402234636871, \"#febefe\"], [1.0, \"#fec3fe\"]], \"sequentialminus\": [[0.0, \"#0508b8\"], [0.0893854748603352, \"#1910d8\"], [0.1787709497206704, \"#3c19f0\"], [0.2681564245810056, \"#6b1cfb\"], [0.3575418994413408, \"#981cfd\"], [0.44692737430167595, \"#bf1cfd\"], [0.5363128491620112, \"#dd2bfd\"], [0.6256983240223464, \"#f246fe\"], [0.7150837988826816, \"#fc67fd\"], [0.8044692737430168, \"#fe88fc\"], [0.8938547486033519, \"#fea5fd\"], [0.9832402234636871, \"#febefe\"], [1.0, \"#fec3fe\"]]}, \"colorway\": [\"#636efa\", \"#EF553B\", \"#00cc96\", \"#ab63fa\", \"#19d3f3\", \"#e763fa\", \"#FECB52\", \"#FFA15A\", \"#FF6692\", \"#B6E880\"], \"font\": {\"color\": \"#2a3f5f\"}, \"geo\": {\"bgcolor\": \"white\", \"lakecolor\": \"white\", \"landcolor\": \"#E5ECF6\", \"showlakes\": true, \"showland\": true, \"subunitcolor\": \"white\"}, \"hovermode\": \"closest\", \"mapbox\": {\"style\": \"light\"}, \"paper_bgcolor\": \"white\", \"plot_bgcolor\": \"#E5ECF6\", \"polar\": {\"angularaxis\": {\"gridcolor\": \"white\", \"linecolor\": \"white\", \"ticks\": \"\"}, \"bgcolor\": \"#E5ECF6\", \"radialaxis\": {\"gridcolor\": \"white\", \"linecolor\": \"white\", \"ticks\": \"\"}}, \"scene\": {\"xaxis\": {\"backgroundcolor\": \"#E5ECF6\", \"gridcolor\": \"white\", \"gridwidth\": 2, \"linecolor\": \"white\", \"showbackground\": true, \"ticks\": \"\", \"zerolinecolor\": \"white\"}, \"yaxis\": {\"backgroundcolor\": \"#E5ECF6\", \"gridcolor\": \"white\", \"gridwidth\": 2, \"linecolor\": \"white\", \"showbackground\": true, \"ticks\": \"\", \"zerolinecolor\": \"white\"}, \"zaxis\": {\"backgroundcolor\": \"#E5ECF6\", \"gridcolor\": \"white\", \"gridwidth\": 2, \"linecolor\": \"white\", \"showbackground\": true, \"ticks\": \"\", \"zerolinecolor\": \"white\"}}, \"shapedefaults\": {\"fillcolor\": \"#506784\", \"line\": {\"width\": 0}, \"opacity\": 0.4}, \"ternary\": {\"aaxis\": {\"gridcolor\": \"white\", \"linecolor\": \"white\", \"ticks\": \"\"}, \"baxis\": {\"gridcolor\": \"white\", \"linecolor\": \"white\", \"ticks\": \"\"}, \"bgcolor\": \"#E5ECF6\", \"caxis\": {\"gridcolor\": \"white\", \"linecolor\": \"white\", \"ticks\": \"\"}}, \"title\": {\"x\": 0.05}, \"xaxis\": {\"automargin\": true, \"gridcolor\": \"white\", \"linecolor\": \"white\", \"ticks\": \"\", \"zerolinecolor\": \"white\", \"zerolinewidth\": 2}, \"yaxis\": {\"automargin\": true, \"gridcolor\": \"white\", \"linecolor\": \"white\", \"ticks\": \"\", \"zerolinecolor\": \"white\", \"zerolinewidth\": 2}}}, \"title\": {\"text\": \"Top 20 Wicket Taking Bowlers\"}, \"grid\": {\"xaxes\": [\"x\"], \"yaxes\": [\"y\"], \"xgap\": 0.1, \"ygap\": 0.1, \"xside\": \"bottom\", \"yside\": \"left\"}, \"xaxis\": {\"title\": {\"text\": \"bowler\"}}, \"yaxis\": {\"title\": {\"text\": \"wickets\"}}}, {\"showLink\": false, \"linkText\": \"Export to plot.ly\", \"plotlyServerURL\": \"https://plot.ly\"}); \n",
       "}\n",
       "});</script><script type=\"text/javascript\">window.addEventListener(\"resize\", function(){if (document.getElementById(\"054fb80c-1ddb-40e6-a44d-5b96864fa363\")) {window._Plotly.Plots.resize(document.getElementById(\"054fb80c-1ddb-40e6-a44d-5b96864fa363\"));};})</script>"
      ]
     },
     "metadata": {},
     "output_type": "display_data"
    }
   ],
   "source": [
    "px.scatter(bowlers, x=\"bowler\", y=\"wickets\", color=\"economy\", size=\"overs\", size_max=30, title='Top 20 Wicket Taking Bowlers')"
   ]
  },
  {
   "cell_type": "code",
   "execution_count": 27,
   "metadata": {},
   "outputs": [],
   "source": [
    "scores=delivery.groupby(['match_id','inning','batting_team'])['total_runs'].sum().reset_index()\n",
    "scores.drop('match_id',axis=1,inplace=True)\n",
    "scores=scores.sort_values(by=['batting_team','total_runs'],ascending=True)"
   ]
  },
  {
   "cell_type": "code",
   "execution_count": 29,
   "metadata": {},
   "outputs": [
    {
     "data": {
      "application/vnd.plotly.v1+json": {
       "config": {
        "linkText": "Export to plot.ly",
        "plotlyServerURL": "https://plot.ly",
        "showLink": false
       },
       "data": [
        {
         "alignmentgroup": "True",
         "legendgroup": "",
         "marker": {
          "color": "#636efa"
         },
         "name": "",
         "notched": false,
         "offsetgroup": "",
         "orientation": "v",
         "showlegend": false,
         "type": "box",
         "uid": "2c05fb58-2e72-4932-a8e3-f009fdcc50a4",
         "x": [
          "CSK",
          "CSK",
          "CSK",
          "CSK",
          "CSK",
          "CSK",
          "CSK",
          "CSK",
          "CSK",
          "CSK",
          "CSK",
          "CSK",
          "CSK",
          "CSK",
          "CSK",
          "CSK",
          "CSK",
          "CSK",
          "CSK",
          "CSK",
          "CSK",
          "CSK",
          "CSK",
          "CSK",
          "CSK",
          "CSK",
          "CSK",
          "CSK",
          "CSK",
          "CSK",
          "CSK",
          "CSK",
          "CSK",
          "CSK",
          "CSK",
          "CSK",
          "CSK",
          "CSK",
          "CSK",
          "CSK",
          "CSK",
          "CSK",
          "CSK",
          "CSK",
          "CSK",
          "CSK",
          "CSK",
          "CSK",
          "CSK",
          "CSK",
          "CSK",
          "CSK",
          "CSK",
          "CSK",
          "CSK",
          "CSK",
          "CSK",
          "CSK",
          "CSK",
          "CSK",
          "CSK",
          "CSK",
          "CSK",
          "CSK",
          "CSK",
          "CSK",
          "CSK",
          "CSK",
          "CSK",
          "CSK",
          "CSK",
          "CSK",
          "CSK",
          "CSK",
          "CSK",
          "CSK",
          "CSK",
          "CSK",
          "CSK",
          "CSK",
          "CSK",
          "CSK",
          "CSK",
          "CSK",
          "CSK",
          "CSK",
          "CSK",
          "CSK",
          "CSK",
          "CSK",
          "CSK",
          "CSK",
          "CSK",
          "CSK",
          "CSK",
          "CSK",
          "CSK",
          "CSK",
          "CSK",
          "CSK",
          "CSK",
          "CSK",
          "CSK",
          "CSK",
          "CSK",
          "CSK",
          "CSK",
          "CSK",
          "CSK",
          "CSK",
          "CSK",
          "CSK",
          "CSK",
          "CSK",
          "CSK",
          "CSK",
          "CSK",
          "CSK",
          "CSK",
          "CSK",
          "CSK",
          "CSK",
          "CSK",
          "CSK",
          "CSK",
          "CSK",
          "CSK",
          "CSK",
          "CSK",
          "CSK",
          "CSK",
          "CSK",
          "DC",
          "DC",
          "DC",
          "DC",
          "DC",
          "DC",
          "DC",
          "DC",
          "DC",
          "DC",
          "DC",
          "DC",
          "DC",
          "DC",
          "DC",
          "DC",
          "DC",
          "DC",
          "DC",
          "DC",
          "DC",
          "DC",
          "DC",
          "DC",
          "DC",
          "DC",
          "DC",
          "DC",
          "DC",
          "DC",
          "DC",
          "DC",
          "DC",
          "DC",
          "DC",
          "DC",
          "DC",
          "DC",
          "DC",
          "DC",
          "DC",
          "DC",
          "DC",
          "DC",
          "DC",
          "DC",
          "DC",
          "DC",
          "DC",
          "DC",
          "DC",
          "DC",
          "DC",
          "DC",
          "DC",
          "DC",
          "DC",
          "DC",
          "DC",
          "DC",
          "DC",
          "DC",
          "DC",
          "DC",
          "DC",
          "DC",
          "DC",
          "DC",
          "DC",
          "DC",
          "DC",
          "DC",
          "DC",
          "DC",
          "DC",
          "DD",
          "DD",
          "DD",
          "DD",
          "DD",
          "DD",
          "DD",
          "DD",
          "DD",
          "DD",
          "DD",
          "DD",
          "DD",
          "DD",
          "DD",
          "DD",
          "DD",
          "DD",
          "DD",
          "DD",
          "DD",
          "DD",
          "DD",
          "DD",
          "DD",
          "DD",
          "DD",
          "DD",
          "DD",
          "DD",
          "DD",
          "DD",
          "DD",
          "DD",
          "DD",
          "DD",
          "DD",
          "DD",
          "DD",
          "DD",
          "DD",
          "DD",
          "DD",
          "DD",
          "DD",
          "DD",
          "DD",
          "DD",
          "DD",
          "DD",
          "DD",
          "DD",
          "DD",
          "DD",
          "DD",
          "DD",
          "DD",
          "DD",
          "DD",
          "DD",
          "DD",
          "DD",
          "DD",
          "DD",
          "DD",
          "DD",
          "DD",
          "DD",
          "DD",
          "DD",
          "DD",
          "DD",
          "DD",
          "DD",
          "DD",
          "DD",
          "DD",
          "DD",
          "DD",
          "DD",
          "DD",
          "DD",
          "DD",
          "DD",
          "DD",
          "DD",
          "DD",
          "DD",
          "DD",
          "DD",
          "DD",
          "DD",
          "DD",
          "DD",
          "DD",
          "DD",
          "DD",
          "DD",
          "DD",
          "DD",
          "DD",
          "DD",
          "DD",
          "DD",
          "DD",
          "DD",
          "DD",
          "DD",
          "DD",
          "DD",
          "DD",
          "DD",
          "DD",
          "DD",
          "DD",
          "DD",
          "DD",
          "DD",
          "DD",
          "DD",
          "DD",
          "DD",
          "DD",
          "DD",
          "DD",
          "DD",
          "DD",
          "DD",
          "DD",
          "DD",
          "DD",
          "DD",
          "DD",
          "DD",
          "DD",
          "DD",
          "DD",
          "DD",
          "DD",
          "DD",
          "DD",
          "DD",
          "DD",
          "DD",
          "DD",
          "DD",
          "DD",
          "DD",
          "GL",
          "GL",
          "GL",
          "GL",
          "GL",
          "GL",
          "GL",
          "GL",
          "GL",
          "GL",
          "GL",
          "GL",
          "GL",
          "GL",
          "GL",
          "GL",
          "GL",
          "GL",
          "GL",
          "GL",
          "GL",
          "GL",
          "GL",
          "GL",
          "GL",
          "GL",
          "GL",
          "GL",
          "GL",
          "GL",
          "GL",
          "KKR",
          "KKR",
          "KKR",
          "KKR",
          "KKR",
          "KKR",
          "KKR",
          "KKR",
          "KKR",
          "KKR",
          "KKR",
          "KKR",
          "KKR",
          "KKR",
          "KKR",
          "KKR",
          "KKR",
          "KKR",
          "KKR",
          "KKR",
          "KKR",
          "KKR",
          "KKR",
          "KKR",
          "KKR",
          "KKR",
          "KKR",
          "KKR",
          "KKR",
          "KKR",
          "KKR",
          "KKR",
          "KKR",
          "KKR",
          "KKR",
          "KKR",
          "KKR",
          "KKR",
          "KKR",
          "KKR",
          "KKR",
          "KKR",
          "KKR",
          "KKR",
          "KKR",
          "KKR",
          "KKR",
          "KKR",
          "KKR",
          "KKR",
          "KKR",
          "KKR",
          "KKR",
          "KKR",
          "KKR",
          "KKR",
          "KKR",
          "KKR",
          "KKR",
          "KKR",
          "KKR",
          "KKR",
          "KKR",
          "KKR",
          "KKR",
          "KKR",
          "KKR",
          "KKR",
          "KKR",
          "KKR",
          "KKR",
          "KKR",
          "KKR",
          "KKR",
          "KKR",
          "KKR",
          "KKR",
          "KKR",
          "KKR",
          "KKR",
          "KKR",
          "KKR",
          "KKR",
          "KKR",
          "KKR",
          "KKR",
          "KKR",
          "KKR",
          "KKR",
          "KKR",
          "KKR",
          "KKR",
          "KKR",
          "KKR",
          "KKR",
          "KKR",
          "KKR",
          "KKR",
          "KKR",
          "KKR",
          "KKR",
          "KKR",
          "KKR",
          "KKR",
          "KKR",
          "KKR",
          "KKR",
          "KKR",
          "KKR",
          "KKR",
          "KKR",
          "KKR",
          "KKR",
          "KKR",
          "KKR",
          "KKR",
          "KKR",
          "KKR",
          "KKR",
          "KKR",
          "KKR",
          "KKR",
          "KKR",
          "KKR",
          "KKR",
          "KKR",
          "KKR",
          "KKR",
          "KKR",
          "KKR",
          "KKR",
          "KKR",
          "KKR",
          "KKR",
          "KKR",
          "KKR",
          "KKR",
          "KKR",
          "KKR",
          "KKR",
          "KKR",
          "KKR",
          "KKR",
          "KKR",
          "KKR",
          "KKR",
          "KKR",
          "KKR",
          "KKR",
          "KKR",
          "KTK",
          "KTK",
          "KTK",
          "KTK",
          "KTK",
          "KTK",
          "KTK",
          "KTK",
          "KTK",
          "KTK",
          "KTK",
          "KTK",
          "KTK",
          "KTK",
          "KXIP",
          "KXIP",
          "KXIP",
          "KXIP",
          "KXIP",
          "KXIP",
          "KXIP",
          "KXIP",
          "KXIP",
          "KXIP",
          "KXIP",
          "KXIP",
          "KXIP",
          "KXIP",
          "KXIP",
          "KXIP",
          "KXIP",
          "KXIP",
          "KXIP",
          "KXIP",
          "KXIP",
          "KXIP",
          "KXIP",
          "KXIP",
          "KXIP",
          "KXIP",
          "KXIP",
          "KXIP",
          "KXIP",
          "KXIP",
          "KXIP",
          "KXIP",
          "KXIP",
          "KXIP",
          "KXIP",
          "KXIP",
          "KXIP",
          "KXIP",
          "KXIP",
          "KXIP",
          "KXIP",
          "KXIP",
          "KXIP",
          "KXIP",
          "KXIP",
          "KXIP",
          "KXIP",
          "KXIP",
          "KXIP",
          "KXIP",
          "KXIP",
          "KXIP",
          "KXIP",
          "KXIP",
          "KXIP",
          "KXIP",
          "KXIP",
          "KXIP",
          "KXIP",
          "KXIP",
          "KXIP",
          "KXIP",
          "KXIP",
          "KXIP",
          "KXIP",
          "KXIP",
          "KXIP",
          "KXIP",
          "KXIP",
          "KXIP",
          "KXIP",
          "KXIP",
          "KXIP",
          "KXIP",
          "KXIP",
          "KXIP",
          "KXIP",
          "KXIP",
          "KXIP",
          "KXIP",
          "KXIP",
          "KXIP",
          "KXIP",
          "KXIP",
          "KXIP",
          "KXIP",
          "KXIP",
          "KXIP",
          "KXIP",
          "KXIP",
          "KXIP",
          "KXIP",
          "KXIP",
          "KXIP",
          "KXIP",
          "KXIP",
          "KXIP",
          "KXIP",
          "KXIP",
          "KXIP",
          "KXIP",
          "KXIP",
          "KXIP",
          "KXIP",
          "KXIP",
          "KXIP",
          "KXIP",
          "KXIP",
          "KXIP",
          "KXIP",
          "KXIP",
          "KXIP",
          "KXIP",
          "KXIP",
          "KXIP",
          "KXIP",
          "KXIP",
          "KXIP",
          "KXIP",
          "KXIP",
          "KXIP",
          "KXIP",
          "KXIP",
          "KXIP",
          "KXIP",
          "KXIP",
          "KXIP",
          "KXIP",
          "KXIP",
          "KXIP",
          "KXIP",
          "KXIP",
          "KXIP",
          "KXIP",
          "KXIP",
          "KXIP",
          "KXIP",
          "KXIP",
          "KXIP",
          "KXIP",
          "KXIP",
          "KXIP",
          "KXIP",
          "KXIP",
          "KXIP",
          "KXIP",
          "KXIP",
          "KXIP",
          "KXIP",
          "KXIP",
          "MI",
          "MI",
          "MI",
          "MI",
          "MI",
          "MI",
          "MI",
          "MI",
          "MI",
          "MI",
          "MI",
          "MI",
          "MI",
          "MI",
          "MI",
          "MI",
          "MI",
          "MI",
          "MI",
          "MI",
          "MI",
          "MI",
          "MI",
          "MI",
          "MI",
          "MI",
          "MI",
          "MI",
          "MI",
          "MI",
          "MI",
          "MI",
          "MI",
          "MI",
          "MI",
          "MI",
          "MI",
          "MI",
          "MI",
          "MI",
          "MI",
          "MI",
          "MI",
          "MI",
          "MI",
          "MI",
          "MI",
          "MI",
          "MI",
          "MI",
          "MI",
          "MI",
          "MI",
          "MI",
          "MI",
          "MI",
          "MI",
          "MI",
          "MI",
          "MI",
          "MI",
          "MI",
          "MI",
          "MI",
          "MI",
          "MI",
          "MI",
          "MI",
          "MI",
          "MI",
          "MI",
          "MI",
          "MI",
          "MI",
          "MI",
          "MI",
          "MI",
          "MI",
          "MI",
          "MI",
          "MI",
          "MI",
          "MI",
          "MI",
          "MI",
          "MI",
          "MI",
          "MI",
          "MI",
          "MI",
          "MI",
          "MI",
          "MI",
          "MI",
          "MI",
          "MI",
          "MI",
          "MI",
          "MI",
          "MI",
          "MI",
          "MI",
          "MI",
          "MI",
          "MI",
          "MI",
          "MI",
          "MI",
          "MI",
          "MI",
          "MI",
          "MI",
          "MI",
          "MI",
          "MI",
          "MI",
          "MI",
          "MI",
          "MI",
          "MI",
          "MI",
          "MI",
          "MI",
          "MI",
          "MI",
          "MI",
          "MI",
          "MI",
          "MI",
          "MI",
          "MI",
          "MI",
          "MI",
          "MI",
          "MI",
          "MI",
          "MI",
          "MI",
          "MI",
          "MI",
          "MI",
          "MI",
          "MI",
          "MI",
          "MI",
          "MI",
          "MI",
          "MI",
          "MI",
          "MI",
          "MI",
          "MI",
          "MI",
          "MI",
          "MI",
          "MI",
          "MI",
          "MI",
          "PW",
          "PW",
          "PW",
          "PW",
          "PW",
          "PW",
          "PW",
          "PW",
          "PW",
          "PW",
          "PW",
          "PW",
          "PW",
          "PW",
          "PW",
          "PW",
          "PW",
          "PW",
          "PW",
          "PW",
          "PW",
          "PW",
          "PW",
          "PW",
          "PW",
          "PW",
          "PW",
          "PW",
          "PW",
          "PW",
          "PW",
          "PW",
          "PW",
          "PW",
          "PW",
          "PW",
          "PW",
          "PW",
          "PW",
          "PW",
          "PW",
          "PW",
          "PW",
          "PW",
          "PW",
          "RCB",
          "RCB",
          "RCB",
          "RCB",
          "RCB",
          "RCB",
          "RCB",
          "RCB",
          "RCB",
          "RCB",
          "RCB",
          "RCB",
          "RCB",
          "RCB",
          "RCB",
          "RCB",
          "RCB",
          "RCB",
          "RCB",
          "RCB",
          "RCB",
          "RCB",
          "RCB",
          "RCB",
          "RCB",
          "RCB",
          "RCB",
          "RCB",
          "RCB",
          "RCB",
          "RCB",
          "RCB",
          "RCB",
          "RCB",
          "RCB",
          "RCB",
          "RCB",
          "RCB",
          "RCB",
          "RCB",
          "RCB",
          "RCB",
          "RCB",
          "RCB",
          "RCB",
          "RCB",
          "RCB",
          "RCB",
          "RCB",
          "RCB",
          "RCB",
          "RCB",
          "RCB",
          "RCB",
          "RCB",
          "RCB",
          "RCB",
          "RCB",
          "RCB",
          "RCB",
          "RCB",
          "RCB",
          "RCB",
          "RCB",
          "RCB",
          "RCB",
          "RCB",
          "RCB",
          "RCB",
          "RCB",
          "RCB",
          "RCB",
          "RCB",
          "RCB",
          "RCB",
          "RCB",
          "RCB",
          "RCB",
          "RCB",
          "RCB",
          "RCB",
          "RCB",
          "RCB",
          "RCB",
          "RCB",
          "RCB",
          "RCB",
          "RCB",
          "RCB",
          "RCB",
          "RCB",
          "RCB",
          "RCB",
          "RCB",
          "RCB",
          "RCB",
          "RCB",
          "RCB",
          "RCB",
          "RCB",
          "RCB",
          "RCB",
          "RCB",
          "RCB",
          "RCB",
          "RCB",
          "RCB",
          "RCB",
          "RCB",
          "RCB",
          "RCB",
          "RCB",
          "RCB",
          "RCB",
          "RCB",
          "RCB",
          "RCB",
          "RCB",
          "RCB",
          "RCB",
          "RCB",
          "RCB",
          "RCB",
          "RCB",
          "RCB",
          "RCB",
          "RCB",
          "RCB",
          "RCB",
          "RCB",
          "RCB",
          "RCB",
          "RCB",
          "RCB",
          "RCB",
          "RCB",
          "RCB",
          "RCB",
          "RCB",
          "RCB",
          "RCB",
          "RCB",
          "RCB",
          "RCB",
          "RCB",
          "RCB",
          "RCB",
          "RCB",
          "RCB",
          "RCB",
          "RCB",
          "RCB",
          "RCB",
          "RCB",
          "RPS",
          "RPS",
          "RPS",
          "RPS",
          "RPS",
          "RPS",
          "RPS",
          "RPS",
          "RPS",
          "RPS",
          "RPS",
          "RPS",
          "RPS",
          "RPS",
          "RPS",
          "RPS",
          "RPS",
          "RPS",
          "RPS",
          "RPS",
          "RPS",
          "RPS",
          "RPS",
          "RPS",
          "RPS",
          "RPS",
          "RPS",
          "RPS",
          "RPS",
          "RPS",
          "RR",
          "RR",
          "RR",
          "RR",
          "RR",
          "RR",
          "RR",
          "RR",
          "RR",
          "RR",
          "RR",
          "RR",
          "RR",
          "RR",
          "RR",
          "RR",
          "RR",
          "RR",
          "RR",
          "RR",
          "RR",
          "RR",
          "RR",
          "RR",
          "RR",
          "RR",
          "RR",
          "RR",
          "RR",
          "RR",
          "RR",
          "RR",
          "RR",
          "RR",
          "RR",
          "RR",
          "RR",
          "RR",
          "RR",
          "RR",
          "RR",
          "RR",
          "RR",
          "RR",
          "RR",
          "RR",
          "RR",
          "RR",
          "RR",
          "RR",
          "RR",
          "RR",
          "RR",
          "RR",
          "RR",
          "RR",
          "RR",
          "RR",
          "RR",
          "RR",
          "RR",
          "RR",
          "RR",
          "RR",
          "RR",
          "RR",
          "RR",
          "RR",
          "RR",
          "RR",
          "RR",
          "RR",
          "RR",
          "RR",
          "RR",
          "RR",
          "RR",
          "RR",
          "RR",
          "RR",
          "RR",
          "RR",
          "RR",
          "RR",
          "RR",
          "RR",
          "RR",
          "RR",
          "RR",
          "RR",
          "RR",
          "RR",
          "RR",
          "RR",
          "RR",
          "RR",
          "RR",
          "RR",
          "RR",
          "RR",
          "RR",
          "RR",
          "RR",
          "RR",
          "RR",
          "RR",
          "RR",
          "RR",
          "RR",
          "RR",
          "RR",
          "RR",
          "RR",
          "RR",
          "RR",
          "RR",
          "RR",
          "RR",
          "RR",
          "RR",
          "SRH",
          "SRH",
          "SRH",
          "SRH",
          "SRH",
          "SRH",
          "SRH",
          "SRH",
          "SRH",
          "SRH",
          "SRH",
          "SRH",
          "SRH",
          "SRH",
          "SRH",
          "SRH",
          "SRH",
          "SRH",
          "SRH",
          "SRH",
          "SRH",
          "SRH",
          "SRH",
          "SRH",
          "SRH",
          "SRH",
          "SRH",
          "SRH",
          "SRH",
          "SRH",
          "SRH",
          "SRH",
          "SRH",
          "SRH",
          "SRH",
          "SRH",
          "SRH",
          "SRH",
          "SRH",
          "SRH",
          "SRH",
          "SRH",
          "SRH",
          "SRH",
          "SRH",
          "SRH",
          "SRH",
          "SRH",
          "SRH",
          "SRH",
          "SRH",
          "SRH",
          "SRH",
          "SRH",
          "SRH",
          "SRH",
          "SRH",
          "SRH",
          "SRH",
          "SRH",
          "SRH",
          "SRH",
          "SRH",
          "SRH",
          "SRH",
          "SRH",
          "SRH",
          "SRH",
          "SRH",
          "SRH",
          "SRH",
          "SRH",
          "SRH",
          "SRH",
          "SRH",
          "SRH",
          "SRH"
         ],
         "xaxis": "x",
         "y": [
          9,
          55,
          79,
          82,
          109,
          110,
          112,
          112,
          112,
          114,
          115,
          116,
          116,
          119,
          120,
          124,
          125,
          127,
          128,
          129,
          131,
          134,
          134,
          135,
          135,
          136,
          138,
          138,
          139,
          139,
          139,
          140,
          140,
          141,
          141,
          142,
          142,
          142,
          143,
          144,
          145,
          146,
          146,
          146,
          147,
          148,
          148,
          148,
          149,
          149,
          149,
          150,
          151,
          152,
          152,
          153,
          154,
          155,
          156,
          156,
          156,
          157,
          158,
          159,
          160,
          160,
          160,
          160,
          160,
          160,
          161,
          162,
          162,
          163,
          163,
          164,
          164,
          164,
          164,
          165,
          165,
          165,
          165,
          166,
          168,
          168,
          169,
          169,
          170,
          173,
          176,
          176,
          177,
          177,
          178,
          178,
          179,
          180,
          180,
          181,
          181,
          181,
          183,
          185,
          185,
          186,
          186,
          187,
          187,
          188,
          188,
          188,
          189,
          190,
          190,
          192,
          192,
          193,
          195,
          196,
          200,
          201,
          202,
          205,
          205,
          208,
          208,
          209,
          222,
          223,
          240,
          246,
          82,
          100,
          100,
          104,
          104,
          110,
          115,
          119,
          126,
          128,
          129,
          131,
          132,
          133,
          135,
          135,
          136,
          137,
          138,
          138,
          139,
          140,
          141,
          142,
          143,
          145,
          145,
          145,
          146,
          147,
          148,
          148,
          148,
          149,
          150,
          150,
          151,
          153,
          153,
          154,
          154,
          155,
          157,
          157,
          157,
          158,
          161,
          164,
          165,
          165,
          166,
          166,
          168,
          168,
          168,
          169,
          170,
          171,
          175,
          175,
          175,
          177,
          178,
          181,
          181,
          182,
          184,
          186,
          186,
          187,
          190,
          190,
          196,
          198,
          214,
          11,
          56,
          58,
          66,
          67,
          80,
          83,
          84,
          87,
          93,
          95,
          95,
          98,
          100,
          110,
          111,
          111,
          113,
          113,
          114,
          114,
          115,
          118,
          118,
          119,
          120,
          120,
          120,
          120,
          121,
          125,
          126,
          126,
          128,
          128,
          131,
          132,
          133,
          134,
          134,
          134,
          135,
          136,
          137,
          137,
          138,
          139,
          140,
          140,
          141,
          142,
          142,
          143,
          143,
          143,
          144,
          144,
          144,
          145,
          145,
          145,
          146,
          146,
          146,
          148,
          149,
          150,
          150,
          150,
          150,
          150,
          151,
          151,
          152,
          152,
          152,
          152,
          152,
          153,
          153,
          154,
          156,
          157,
          157,
          157,
          158,
          158,
          158,
          158,
          158,
          160,
          160,
          160,
          160,
          161,
          161,
          162,
          162,
          164,
          164,
          164,
          164,
          165,
          165,
          166,
          167,
          167,
          167,
          168,
          168,
          169,
          170,
          171,
          172,
          172,
          172,
          173,
          175,
          176,
          177,
          178,
          179,
          179,
          179,
          180,
          183,
          184,
          184,
          185,
          186,
          187,
          187,
          188,
          188,
          189,
          189,
          190,
          190,
          191,
          192,
          193,
          194,
          194,
          197,
          205,
          207,
          214,
          231,
          6,
          104,
          125,
          126,
          131,
          135,
          135,
          135,
          147,
          149,
          153,
          154,
          158,
          161,
          162,
          162,
          162,
          164,
          164,
          172,
          172,
          173,
          176,
          182,
          183,
          188,
          192,
          192,
          195,
          196,
          208,
          11,
          15,
          48,
          61,
          66,
          67,
          79,
          85,
          89,
          95,
          97,
          99,
          101,
          101,
          102,
          105,
          107,
          109,
          109,
          111,
          112,
          114,
          116,
          119,
          119,
          120,
          123,
          124,
          125,
          126,
          127,
          127,
          129,
          129,
          130,
          131,
          132,
          132,
          133,
          133,
          133,
          134,
          135,
          136,
          136,
          136,
          137,
          137,
          137,
          139,
          139,
          139,
          139,
          140,
          140,
          140,
          141,
          142,
          142,
          146,
          146,
          147,
          147,
          147,
          147,
          148,
          149,
          150,
          150,
          150,
          150,
          150,
          151,
          151,
          152,
          152,
          153,
          153,
          153,
          154,
          154,
          154,
          155,
          155,
          155,
          156,
          158,
          158,
          159,
          159,
          159,
          159,
          160,
          160,
          160,
          160,
          161,
          161,
          161,
          161,
          161,
          162,
          162,
          163,
          163,
          163,
          163,
          164,
          164,
          165,
          166,
          166,
          167,
          169,
          169,
          169,
          169,
          170,
          171,
          171,
          171,
          171,
          172,
          173,
          174,
          175,
          175,
          177,
          178,
          180,
          181,
          181,
          183,
          183,
          184,
          184,
          184,
          186,
          187,
          187,
          189,
          189,
          190,
          190,
          192,
          195,
          200,
          200,
          204,
          222,
          74,
          98,
          109,
          119,
          125,
          132,
          135,
          141,
          141,
          148,
          156,
          161,
          178,
          184,
          10,
          15,
          68,
          73,
          88,
          92,
          94,
          95,
          100,
          104,
          106,
          111,
          112,
          112,
          112,
          116,
          116,
          118,
          119,
          119,
          119,
          119,
          119,
          120,
          120,
          120,
          121,
          123,
          123,
          123,
          124,
          124,
          127,
          127,
          127,
          130,
          130,
          132,
          133,
          134,
          134,
          134,
          135,
          136,
          136,
          136,
          136,
          137,
          137,
          138,
          138,
          138,
          139,
          141,
          142,
          143,
          144,
          144,
          144,
          145,
          149,
          149,
          149,
          150,
          152,
          153,
          153,
          154,
          154,
          154,
          155,
          156,
          156,
          157,
          157,
          158,
          158,
          160,
          161,
          162,
          163,
          163,
          163,
          163,
          163,
          164,
          164,
          164,
          164,
          165,
          165,
          166,
          166,
          167,
          167,
          168,
          168,
          169,
          170,
          170,
          170,
          170,
          171,
          171,
          172,
          173,
          174,
          174,
          174,
          174,
          176,
          177,
          178,
          178,
          179,
          179,
          180,
          181,
          181,
          181,
          181,
          182,
          183,
          183,
          186,
          188,
          189,
          189,
          191,
          192,
          193,
          193,
          193,
          194,
          194,
          195,
          198,
          198,
          199,
          202,
          203,
          204,
          206,
          207,
          211,
          221,
          226,
          230,
          231,
          232,
          11,
          68,
          87,
          92,
          92,
          92,
          94,
          99,
          101,
          101,
          104,
          108,
          111,
          114,
          115,
          115,
          116,
          116,
          116,
          116,
          120,
          121,
          122,
          122,
          124,
          124,
          125,
          125,
          126,
          126,
          129,
          129,
          133,
          133,
          133,
          138,
          138,
          139,
          141,
          141,
          141,
          141,
          142,
          142,
          142,
          142,
          142,
          143,
          143,
          143,
          144,
          145,
          145,
          146,
          147,
          148,
          148,
          148,
          148,
          149,
          149,
          151,
          153,
          153,
          153,
          153,
          154,
          154,
          154,
          154,
          156,
          156,
          157,
          157,
          157,
          157,
          157,
          158,
          159,
          159,
          159,
          159,
          159,
          160,
          160,
          161,
          161,
          162,
          162,
          163,
          163,
          164,
          164,
          164,
          165,
          165,
          165,
          165,
          166,
          168,
          169,
          170,
          170,
          170,
          171,
          171,
          171,
          172,
          172,
          172,
          172,
          173,
          173,
          173,
          173,
          174,
          174,
          174,
          176,
          177,
          178,
          178,
          178,
          178,
          178,
          178,
          180,
          181,
          182,
          182,
          183,
          183,
          183,
          184,
          184,
          184,
          187,
          187,
          187,
          187,
          188,
          188,
          189,
          191,
          194,
          195,
          196,
          197,
          199,
          202,
          202,
          206,
          209,
          209,
          212,
          212,
          218,
          223,
          99,
          102,
          104,
          106,
          108,
          112,
          113,
          115,
          117,
          118,
          118,
          119,
          120,
          125,
          125,
          127,
          129,
          133,
          136,
          137,
          138,
          139,
          141,
          142,
          143,
          143,
          146,
          148,
          149,
          151,
          151,
          155,
          156,
          159,
          159,
          166,
          170,
          170,
          172,
          173,
          178,
          182,
          185,
          187,
          192,
          2,
          15,
          15,
          49,
          70,
          82,
          83,
          84,
          86,
          87,
          93,
          96,
          99,
          105,
          105,
          106,
          115,
          115,
          116,
          119,
          121,
          122,
          123,
          123,
          123,
          124,
          124,
          124,
          126,
          126,
          128,
          129,
          130,
          132,
          132,
          132,
          133,
          134,
          134,
          134,
          134,
          135,
          135,
          135,
          136,
          136,
          137,
          138,
          139,
          139,
          140,
          141,
          142,
          142,
          142,
          142,
          143,
          143,
          143,
          145,
          146,
          147,
          147,
          148,
          148,
          149,
          149,
          149,
          150,
          151,
          151,
          152,
          154,
          154,
          154,
          155,
          156,
          156,
          157,
          157,
          158,
          158,
          158,
          158,
          159,
          160,
          160,
          161,
          161,
          161,
          162,
          162,
          162,
          162,
          162,
          165,
          165,
          165,
          166,
          166,
          166,
          166,
          166,
          168,
          168,
          170,
          170,
          171,
          171,
          171,
          171,
          172,
          173,
          174,
          175,
          175,
          175,
          176,
          179,
          179,
          180,
          180,
          181,
          181,
          183,
          184,
          184,
          185,
          185,
          185,
          185,
          186,
          186,
          186,
          187,
          189,
          190,
          190,
          191,
          191,
          195,
          200,
          200,
          204,
          205,
          205,
          211,
          213,
          215,
          226,
          227,
          235,
          248,
          263,
          76,
          78,
          94,
          103,
          108,
          126,
          128,
          133,
          148,
          152,
          157,
          158,
          159,
          160,
          160,
          161,
          161,
          162,
          163,
          163,
          166,
          167,
          171,
          172,
          173,
          179,
          182,
          187,
          191,
          195,
          6,
          11,
          18,
          58,
          71,
          81,
          92,
          95,
          97,
          101,
          102,
          103,
          107,
          109,
          110,
          111,
          112,
          113,
          113,
          117,
          121,
          126,
          126,
          126,
          126,
          126,
          129,
          130,
          130,
          131,
          131,
          132,
          132,
          133,
          133,
          134,
          135,
          135,
          136,
          137,
          138,
          140,
          141,
          141,
          141,
          141,
          142,
          143,
          144,
          144,
          144,
          145,
          145,
          145,
          146,
          146,
          146,
          146,
          147,
          147,
          147,
          147,
          148,
          150,
          150,
          151,
          151,
          152,
          152,
          152,
          153,
          155,
          156,
          157,
          157,
          159,
          159,
          159,
          162,
          162,
          163,
          164,
          164,
          165,
          165,
          165,
          168,
          168,
          170,
          170,
          170,
          173,
          177,
          177,
          179,
          179,
          180,
          182,
          183,
          185,
          186,
          189,
          189,
          191,
          191,
          191,
          191,
          192,
          194,
          195,
          196,
          197,
          197,
          199,
          201,
          208,
          211,
          211,
          217,
          223,
          20,
          44,
          81,
          113,
          115,
          118,
          119,
          121,
          126,
          127,
          127,
          128,
          129,
          130,
          130,
          132,
          132,
          132,
          132,
          133,
          134,
          135,
          136,
          136,
          137,
          137,
          137,
          140,
          140,
          142,
          142,
          144,
          145,
          145,
          146,
          146,
          146,
          149,
          150,
          150,
          155,
          155,
          157,
          158,
          158,
          158,
          159,
          159,
          160,
          161,
          161,
          162,
          163,
          163,
          163,
          164,
          172,
          172,
          176,
          176,
          177,
          178,
          180,
          182,
          184,
          185,
          185,
          189,
          191,
          192,
          194,
          201,
          205,
          207,
          207,
          208,
          209
         ],
         "yaxis": "y"
        }
       ],
       "layout": {
        "boxmode": "group",
        "grid": {
         "xaxes": [
          "x"
         ],
         "xgap": 0.1,
         "xside": "bottom",
         "yaxes": [
          "y"
         ],
         "ygap": 0.1,
         "yside": "left"
        },
        "height": 600,
        "legend": {
         "tracegroupgap": 0
        },
        "template": {
         "data": {
          "bar": [
           {
            "marker": {
             "line": {
              "color": "#E5ECF6",
              "width": 0.5
             }
            },
            "type": "bar"
           }
          ],
          "barpolar": [
           {
            "marker": {
             "line": {
              "color": "#E5ECF6",
              "width": 0.5
             }
            },
            "type": "barpolar"
           }
          ],
          "carpet": [
           {
            "aaxis": {
             "endlinecolor": "#2a3f5f",
             "gridcolor": "white",
             "linecolor": "white",
             "minorgridcolor": "white",
             "startlinecolor": "#2a3f5f"
            },
            "baxis": {
             "endlinecolor": "#2a3f5f",
             "gridcolor": "white",
             "linecolor": "white",
             "minorgridcolor": "white",
             "startlinecolor": "#2a3f5f"
            },
            "type": "carpet"
           }
          ],
          "choropleth": [
           {
            "colorbar": {
             "outlinewidth": 0,
             "ticks": ""
            },
            "type": "choropleth"
           }
          ],
          "contour": [
           {
            "autocolorscale": true,
            "colorbar": {
             "outlinewidth": 0,
             "ticks": ""
            },
            "type": "contour"
           }
          ],
          "contourcarpet": [
           {
            "colorbar": {
             "outlinewidth": 0,
             "ticks": ""
            },
            "type": "contourcarpet"
           }
          ],
          "heatmap": [
           {
            "autocolorscale": true,
            "colorbar": {
             "outlinewidth": 0,
             "ticks": ""
            },
            "type": "heatmap"
           }
          ],
          "heatmapgl": [
           {
            "colorbar": {
             "outlinewidth": 0,
             "ticks": ""
            },
            "type": "heatmapgl"
           }
          ],
          "histogram": [
           {
            "marker": {
             "colorbar": {
              "outlinewidth": 0,
              "ticks": ""
             }
            },
            "type": "histogram"
           }
          ],
          "histogram2d": [
           {
            "autocolorscale": true,
            "colorbar": {
             "outlinewidth": 0,
             "ticks": ""
            },
            "type": "histogram2d"
           }
          ],
          "histogram2dcontour": [
           {
            "autocolorscale": true,
            "colorbar": {
             "outlinewidth": 0,
             "ticks": ""
            },
            "type": "histogram2dcontour"
           }
          ],
          "mesh3d": [
           {
            "colorbar": {
             "outlinewidth": 0,
             "ticks": ""
            },
            "type": "mesh3d"
           }
          ],
          "parcoords": [
           {
            "line": {
             "colorbar": {
              "outlinewidth": 0,
              "ticks": ""
             }
            },
            "type": "parcoords"
           }
          ],
          "scatter": [
           {
            "marker": {
             "colorbar": {
              "outlinewidth": 0,
              "ticks": ""
             }
            },
            "type": "scatter"
           }
          ],
          "scatter3d": [
           {
            "marker": {
             "colorbar": {
              "outlinewidth": 0,
              "ticks": ""
             }
            },
            "type": "scatter3d"
           }
          ],
          "scattercarpet": [
           {
            "marker": {
             "colorbar": {
              "outlinewidth": 0,
              "ticks": ""
             }
            },
            "type": "scattercarpet"
           }
          ],
          "scattergeo": [
           {
            "marker": {
             "colorbar": {
              "outlinewidth": 0,
              "ticks": ""
             }
            },
            "type": "scattergeo"
           }
          ],
          "scattergl": [
           {
            "marker": {
             "colorbar": {
              "outlinewidth": 0,
              "ticks": ""
             }
            },
            "type": "scattergl"
           }
          ],
          "scattermapbox": [
           {
            "marker": {
             "colorbar": {
              "outlinewidth": 0,
              "ticks": ""
             }
            },
            "type": "scattermapbox"
           }
          ],
          "scatterpolar": [
           {
            "marker": {
             "colorbar": {
              "outlinewidth": 0,
              "ticks": ""
             }
            },
            "type": "scatterpolar"
           }
          ],
          "scatterpolargl": [
           {
            "marker": {
             "colorbar": {
              "outlinewidth": 0,
              "ticks": ""
             }
            },
            "type": "scatterpolargl"
           }
          ],
          "scatterternary": [
           {
            "marker": {
             "colorbar": {
              "outlinewidth": 0,
              "ticks": ""
             }
            },
            "type": "scatterternary"
           }
          ],
          "surface": [
           {
            "colorbar": {
             "outlinewidth": 0,
             "ticks": ""
            },
            "type": "surface"
           }
          ],
          "table": [
           {
            "cells": {
             "fill": {
              "color": "#EBF0F8"
             },
             "line": {
              "color": "white"
             }
            },
            "header": {
             "fill": {
              "color": "#C8D4E3"
             },
             "line": {
              "color": "white"
             }
            },
            "type": "table"
           }
          ]
         },
         "layout": {
          "annotationdefaults": {
           "arrowcolor": "#506784",
           "arrowhead": 0,
           "arrowwidth": 1
          },
          "colorscale": {
           "diverging": [
            [
             0,
             "#8e0152"
            ],
            [
             0.1,
             "#c51b7d"
            ],
            [
             0.2,
             "#de77ae"
            ],
            [
             0.3,
             "#f1b6da"
            ],
            [
             0.4,
             "#fde0ef"
            ],
            [
             0.5,
             "#f7f7f7"
            ],
            [
             0.6,
             "#e6f5d0"
            ],
            [
             0.7,
             "#b8e186"
            ],
            [
             0.8,
             "#7fbc41"
            ],
            [
             0.9,
             "#4d9221"
            ],
            [
             1,
             "#276419"
            ]
           ],
           "sequential": [
            [
             0,
             "#0508b8"
            ],
            [
             0.0893854748603352,
             "#1910d8"
            ],
            [
             0.1787709497206704,
             "#3c19f0"
            ],
            [
             0.2681564245810056,
             "#6b1cfb"
            ],
            [
             0.3575418994413408,
             "#981cfd"
            ],
            [
             0.44692737430167595,
             "#bf1cfd"
            ],
            [
             0.5363128491620112,
             "#dd2bfd"
            ],
            [
             0.6256983240223464,
             "#f246fe"
            ],
            [
             0.7150837988826816,
             "#fc67fd"
            ],
            [
             0.8044692737430168,
             "#fe88fc"
            ],
            [
             0.8938547486033519,
             "#fea5fd"
            ],
            [
             0.9832402234636871,
             "#febefe"
            ],
            [
             1,
             "#fec3fe"
            ]
           ],
           "sequentialminus": [
            [
             0,
             "#0508b8"
            ],
            [
             0.0893854748603352,
             "#1910d8"
            ],
            [
             0.1787709497206704,
             "#3c19f0"
            ],
            [
             0.2681564245810056,
             "#6b1cfb"
            ],
            [
             0.3575418994413408,
             "#981cfd"
            ],
            [
             0.44692737430167595,
             "#bf1cfd"
            ],
            [
             0.5363128491620112,
             "#dd2bfd"
            ],
            [
             0.6256983240223464,
             "#f246fe"
            ],
            [
             0.7150837988826816,
             "#fc67fd"
            ],
            [
             0.8044692737430168,
             "#fe88fc"
            ],
            [
             0.8938547486033519,
             "#fea5fd"
            ],
            [
             0.9832402234636871,
             "#febefe"
            ],
            [
             1,
             "#fec3fe"
            ]
           ]
          },
          "colorway": [
           "#636efa",
           "#EF553B",
           "#00cc96",
           "#ab63fa",
           "#19d3f3",
           "#e763fa",
           "#FECB52",
           "#FFA15A",
           "#FF6692",
           "#B6E880"
          ],
          "font": {
           "color": "#2a3f5f"
          },
          "geo": {
           "bgcolor": "white",
           "lakecolor": "white",
           "landcolor": "#E5ECF6",
           "showlakes": true,
           "showland": true,
           "subunitcolor": "white"
          },
          "hovermode": "closest",
          "mapbox": {
           "style": "light"
          },
          "paper_bgcolor": "white",
          "plot_bgcolor": "#E5ECF6",
          "polar": {
           "angularaxis": {
            "gridcolor": "white",
            "linecolor": "white",
            "ticks": ""
           },
           "bgcolor": "#E5ECF6",
           "radialaxis": {
            "gridcolor": "white",
            "linecolor": "white",
            "ticks": ""
           }
          },
          "scene": {
           "xaxis": {
            "backgroundcolor": "#E5ECF6",
            "gridcolor": "white",
            "gridwidth": 2,
            "linecolor": "white",
            "showbackground": true,
            "ticks": "",
            "zerolinecolor": "white"
           },
           "yaxis": {
            "backgroundcolor": "#E5ECF6",
            "gridcolor": "white",
            "gridwidth": 2,
            "linecolor": "white",
            "showbackground": true,
            "ticks": "",
            "zerolinecolor": "white"
           },
           "zaxis": {
            "backgroundcolor": "#E5ECF6",
            "gridcolor": "white",
            "gridwidth": 2,
            "linecolor": "white",
            "showbackground": true,
            "ticks": "",
            "zerolinecolor": "white"
           }
          },
          "shapedefaults": {
           "fillcolor": "#506784",
           "line": {
            "width": 0
           },
           "opacity": 0.4
          },
          "ternary": {
           "aaxis": {
            "gridcolor": "white",
            "linecolor": "white",
            "ticks": ""
           },
           "baxis": {
            "gridcolor": "white",
            "linecolor": "white",
            "ticks": ""
           },
           "bgcolor": "#E5ECF6",
           "caxis": {
            "gridcolor": "white",
            "linecolor": "white",
            "ticks": ""
           }
          },
          "title": {
           "x": 0.05
          },
          "xaxis": {
           "automargin": true,
           "gridcolor": "white",
           "linecolor": "white",
           "ticks": "",
           "zerolinecolor": "white",
           "zerolinewidth": 2
          },
          "yaxis": {
           "automargin": true,
           "gridcolor": "white",
           "linecolor": "white",
           "ticks": "",
           "zerolinecolor": "white",
           "zerolinewidth": 2
          }
         }
        },
        "title": {
         "text": "Score Distribution For Teams by Innings"
        },
        "xaxis": {
         "title": {
          "text": "batting_team"
         }
        },
        "yaxis": {
         "title": {
          "text": "total_runs"
         }
        }
       }
      },
      "text/html": [
       "<div id=\"c1ce1a0f-4167-4c87-94bd-77d5a6b3551f\" style=\"height: 600px; width: 100%;\" class=\"plotly-graph-div\"></div><script type=\"text/javascript\">require([\"plotly\"], function(Plotly) { window.PLOTLYENV=window.PLOTLYENV || {};window.PLOTLYENV.BASE_URL=\"https://plot.ly\";\n",
       "if (document.getElementById(\"c1ce1a0f-4167-4c87-94bd-77d5a6b3551f\")) {\n",
       "    Plotly.newPlot(\"c1ce1a0f-4167-4c87-94bd-77d5a6b3551f\", [{\"alignmentgroup\": \"True\", \"legendgroup\": \"\", \"marker\": {\"color\": \"#636efa\"}, \"name\": \"\", \"notched\": false, \"offsetgroup\": \"\", \"orientation\": \"v\", \"showlegend\": false, \"x\": [\"CSK\", \"CSK\", \"CSK\", \"CSK\", \"CSK\", \"CSK\", \"CSK\", \"CSK\", \"CSK\", \"CSK\", \"CSK\", \"CSK\", \"CSK\", \"CSK\", \"CSK\", \"CSK\", \"CSK\", \"CSK\", \"CSK\", \"CSK\", \"CSK\", \"CSK\", \"CSK\", \"CSK\", \"CSK\", \"CSK\", \"CSK\", \"CSK\", \"CSK\", \"CSK\", \"CSK\", \"CSK\", \"CSK\", \"CSK\", \"CSK\", \"CSK\", \"CSK\", \"CSK\", \"CSK\", \"CSK\", \"CSK\", \"CSK\", \"CSK\", \"CSK\", \"CSK\", \"CSK\", \"CSK\", \"CSK\", \"CSK\", \"CSK\", \"CSK\", \"CSK\", \"CSK\", \"CSK\", \"CSK\", \"CSK\", \"CSK\", \"CSK\", \"CSK\", \"CSK\", \"CSK\", \"CSK\", \"CSK\", \"CSK\", \"CSK\", \"CSK\", \"CSK\", \"CSK\", \"CSK\", \"CSK\", \"CSK\", \"CSK\", \"CSK\", \"CSK\", \"CSK\", \"CSK\", \"CSK\", \"CSK\", \"CSK\", \"CSK\", \"CSK\", \"CSK\", \"CSK\", \"CSK\", \"CSK\", \"CSK\", \"CSK\", \"CSK\", \"CSK\", \"CSK\", \"CSK\", \"CSK\", \"CSK\", \"CSK\", \"CSK\", \"CSK\", \"CSK\", \"CSK\", \"CSK\", \"CSK\", \"CSK\", \"CSK\", \"CSK\", \"CSK\", \"CSK\", \"CSK\", \"CSK\", \"CSK\", \"CSK\", \"CSK\", \"CSK\", \"CSK\", \"CSK\", \"CSK\", \"CSK\", \"CSK\", \"CSK\", \"CSK\", \"CSK\", \"CSK\", \"CSK\", \"CSK\", \"CSK\", \"CSK\", \"CSK\", \"CSK\", \"CSK\", \"CSK\", \"CSK\", \"CSK\", \"CSK\", \"CSK\", \"DC\", \"DC\", \"DC\", \"DC\", \"DC\", \"DC\", \"DC\", \"DC\", \"DC\", \"DC\", \"DC\", \"DC\", \"DC\", \"DC\", \"DC\", \"DC\", \"DC\", \"DC\", \"DC\", \"DC\", \"DC\", \"DC\", \"DC\", \"DC\", \"DC\", \"DC\", \"DC\", \"DC\", \"DC\", \"DC\", \"DC\", \"DC\", \"DC\", \"DC\", \"DC\", \"DC\", \"DC\", \"DC\", \"DC\", \"DC\", \"DC\", \"DC\", \"DC\", \"DC\", \"DC\", \"DC\", \"DC\", \"DC\", \"DC\", \"DC\", \"DC\", \"DC\", \"DC\", \"DC\", \"DC\", \"DC\", \"DC\", \"DC\", \"DC\", \"DC\", \"DC\", \"DC\", \"DC\", \"DC\", \"DC\", \"DC\", \"DC\", \"DC\", \"DC\", \"DC\", \"DC\", \"DC\", \"DC\", \"DC\", \"DC\", \"DD\", \"DD\", \"DD\", \"DD\", \"DD\", \"DD\", \"DD\", \"DD\", \"DD\", \"DD\", \"DD\", \"DD\", \"DD\", \"DD\", \"DD\", \"DD\", \"DD\", \"DD\", \"DD\", \"DD\", \"DD\", \"DD\", \"DD\", \"DD\", \"DD\", \"DD\", \"DD\", \"DD\", \"DD\", \"DD\", \"DD\", \"DD\", \"DD\", \"DD\", \"DD\", \"DD\", \"DD\", \"DD\", \"DD\", \"DD\", \"DD\", \"DD\", \"DD\", \"DD\", \"DD\", \"DD\", \"DD\", \"DD\", \"DD\", \"DD\", \"DD\", \"DD\", \"DD\", \"DD\", \"DD\", \"DD\", \"DD\", \"DD\", \"DD\", \"DD\", \"DD\", \"DD\", \"DD\", \"DD\", \"DD\", \"DD\", \"DD\", \"DD\", \"DD\", \"DD\", \"DD\", \"DD\", \"DD\", \"DD\", \"DD\", \"DD\", \"DD\", \"DD\", \"DD\", \"DD\", \"DD\", \"DD\", \"DD\", \"DD\", \"DD\", \"DD\", \"DD\", \"DD\", \"DD\", \"DD\", \"DD\", \"DD\", \"DD\", \"DD\", \"DD\", \"DD\", \"DD\", \"DD\", \"DD\", \"DD\", \"DD\", \"DD\", \"DD\", \"DD\", \"DD\", \"DD\", \"DD\", \"DD\", \"DD\", \"DD\", \"DD\", \"DD\", \"DD\", \"DD\", \"DD\", \"DD\", \"DD\", \"DD\", \"DD\", \"DD\", \"DD\", \"DD\", \"DD\", \"DD\", \"DD\", \"DD\", \"DD\", \"DD\", \"DD\", \"DD\", \"DD\", \"DD\", \"DD\", \"DD\", \"DD\", \"DD\", \"DD\", \"DD\", \"DD\", \"DD\", \"DD\", \"DD\", \"DD\", \"DD\", \"DD\", \"DD\", \"DD\", \"DD\", \"GL\", \"GL\", \"GL\", \"GL\", \"GL\", \"GL\", \"GL\", \"GL\", \"GL\", \"GL\", \"GL\", \"GL\", \"GL\", \"GL\", \"GL\", \"GL\", \"GL\", \"GL\", \"GL\", \"GL\", \"GL\", \"GL\", \"GL\", \"GL\", \"GL\", \"GL\", \"GL\", \"GL\", \"GL\", \"GL\", \"GL\", \"KKR\", \"KKR\", \"KKR\", \"KKR\", \"KKR\", \"KKR\", \"KKR\", \"KKR\", \"KKR\", \"KKR\", \"KKR\", \"KKR\", \"KKR\", \"KKR\", \"KKR\", \"KKR\", \"KKR\", \"KKR\", \"KKR\", \"KKR\", \"KKR\", \"KKR\", \"KKR\", \"KKR\", \"KKR\", \"KKR\", \"KKR\", \"KKR\", \"KKR\", \"KKR\", \"KKR\", \"KKR\", \"KKR\", \"KKR\", \"KKR\", \"KKR\", \"KKR\", \"KKR\", \"KKR\", \"KKR\", \"KKR\", \"KKR\", \"KKR\", \"KKR\", \"KKR\", \"KKR\", \"KKR\", \"KKR\", \"KKR\", \"KKR\", \"KKR\", \"KKR\", \"KKR\", \"KKR\", \"KKR\", \"KKR\", \"KKR\", \"KKR\", \"KKR\", \"KKR\", \"KKR\", \"KKR\", \"KKR\", \"KKR\", \"KKR\", \"KKR\", \"KKR\", \"KKR\", \"KKR\", \"KKR\", \"KKR\", \"KKR\", \"KKR\", \"KKR\", \"KKR\", \"KKR\", \"KKR\", \"KKR\", \"KKR\", \"KKR\", \"KKR\", \"KKR\", \"KKR\", \"KKR\", \"KKR\", \"KKR\", \"KKR\", \"KKR\", \"KKR\", \"KKR\", \"KKR\", \"KKR\", \"KKR\", \"KKR\", \"KKR\", \"KKR\", \"KKR\", \"KKR\", \"KKR\", \"KKR\", \"KKR\", \"KKR\", \"KKR\", \"KKR\", \"KKR\", \"KKR\", \"KKR\", \"KKR\", \"KKR\", \"KKR\", \"KKR\", \"KKR\", \"KKR\", \"KKR\", \"KKR\", \"KKR\", \"KKR\", \"KKR\", \"KKR\", \"KKR\", \"KKR\", \"KKR\", \"KKR\", \"KKR\", \"KKR\", \"KKR\", \"KKR\", \"KKR\", \"KKR\", \"KKR\", \"KKR\", \"KKR\", \"KKR\", \"KKR\", \"KKR\", \"KKR\", \"KKR\", \"KKR\", \"KKR\", \"KKR\", \"KKR\", \"KKR\", \"KKR\", \"KKR\", \"KKR\", \"KKR\", \"KKR\", \"KKR\", \"KKR\", \"KKR\", \"KTK\", \"KTK\", \"KTK\", \"KTK\", \"KTK\", \"KTK\", \"KTK\", \"KTK\", \"KTK\", \"KTK\", \"KTK\", \"KTK\", \"KTK\", \"KTK\", \"KXIP\", \"KXIP\", \"KXIP\", \"KXIP\", \"KXIP\", \"KXIP\", \"KXIP\", \"KXIP\", \"KXIP\", \"KXIP\", \"KXIP\", \"KXIP\", \"KXIP\", \"KXIP\", \"KXIP\", \"KXIP\", \"KXIP\", \"KXIP\", \"KXIP\", \"KXIP\", \"KXIP\", \"KXIP\", \"KXIP\", \"KXIP\", \"KXIP\", \"KXIP\", \"KXIP\", \"KXIP\", \"KXIP\", \"KXIP\", \"KXIP\", \"KXIP\", \"KXIP\", \"KXIP\", \"KXIP\", \"KXIP\", \"KXIP\", \"KXIP\", \"KXIP\", \"KXIP\", \"KXIP\", \"KXIP\", \"KXIP\", \"KXIP\", \"KXIP\", \"KXIP\", \"KXIP\", \"KXIP\", \"KXIP\", \"KXIP\", \"KXIP\", \"KXIP\", \"KXIP\", \"KXIP\", \"KXIP\", \"KXIP\", \"KXIP\", \"KXIP\", \"KXIP\", \"KXIP\", \"KXIP\", \"KXIP\", \"KXIP\", \"KXIP\", \"KXIP\", \"KXIP\", \"KXIP\", \"KXIP\", \"KXIP\", \"KXIP\", \"KXIP\", \"KXIP\", \"KXIP\", \"KXIP\", \"KXIP\", \"KXIP\", \"KXIP\", \"KXIP\", \"KXIP\", \"KXIP\", \"KXIP\", \"KXIP\", \"KXIP\", \"KXIP\", \"KXIP\", \"KXIP\", \"KXIP\", \"KXIP\", \"KXIP\", \"KXIP\", \"KXIP\", \"KXIP\", \"KXIP\", \"KXIP\", \"KXIP\", \"KXIP\", \"KXIP\", \"KXIP\", \"KXIP\", \"KXIP\", \"KXIP\", \"KXIP\", \"KXIP\", \"KXIP\", \"KXIP\", \"KXIP\", \"KXIP\", \"KXIP\", \"KXIP\", \"KXIP\", \"KXIP\", \"KXIP\", \"KXIP\", \"KXIP\", \"KXIP\", \"KXIP\", \"KXIP\", \"KXIP\", \"KXIP\", \"KXIP\", \"KXIP\", \"KXIP\", \"KXIP\", \"KXIP\", \"KXIP\", \"KXIP\", \"KXIP\", \"KXIP\", \"KXIP\", \"KXIP\", \"KXIP\", \"KXIP\", \"KXIP\", \"KXIP\", \"KXIP\", \"KXIP\", \"KXIP\", \"KXIP\", \"KXIP\", \"KXIP\", \"KXIP\", \"KXIP\", \"KXIP\", \"KXIP\", \"KXIP\", \"KXIP\", \"KXIP\", \"KXIP\", \"KXIP\", \"KXIP\", \"MI\", \"MI\", \"MI\", \"MI\", \"MI\", \"MI\", \"MI\", \"MI\", \"MI\", \"MI\", \"MI\", \"MI\", \"MI\", \"MI\", \"MI\", \"MI\", \"MI\", \"MI\", \"MI\", \"MI\", \"MI\", \"MI\", \"MI\", \"MI\", \"MI\", \"MI\", \"MI\", \"MI\", \"MI\", \"MI\", \"MI\", \"MI\", \"MI\", \"MI\", \"MI\", \"MI\", \"MI\", \"MI\", \"MI\", \"MI\", \"MI\", \"MI\", \"MI\", \"MI\", \"MI\", \"MI\", \"MI\", \"MI\", \"MI\", \"MI\", \"MI\", \"MI\", \"MI\", \"MI\", \"MI\", \"MI\", \"MI\", \"MI\", \"MI\", \"MI\", \"MI\", \"MI\", \"MI\", \"MI\", \"MI\", \"MI\", \"MI\", \"MI\", \"MI\", \"MI\", \"MI\", \"MI\", \"MI\", \"MI\", \"MI\", \"MI\", \"MI\", \"MI\", \"MI\", \"MI\", \"MI\", \"MI\", \"MI\", \"MI\", \"MI\", \"MI\", \"MI\", \"MI\", \"MI\", \"MI\", \"MI\", \"MI\", \"MI\", \"MI\", \"MI\", \"MI\", \"MI\", \"MI\", \"MI\", \"MI\", \"MI\", \"MI\", \"MI\", \"MI\", \"MI\", \"MI\", \"MI\", \"MI\", \"MI\", \"MI\", \"MI\", \"MI\", \"MI\", \"MI\", \"MI\", \"MI\", \"MI\", \"MI\", \"MI\", \"MI\", \"MI\", \"MI\", \"MI\", \"MI\", \"MI\", \"MI\", \"MI\", \"MI\", \"MI\", \"MI\", \"MI\", \"MI\", \"MI\", \"MI\", \"MI\", \"MI\", \"MI\", \"MI\", \"MI\", \"MI\", \"MI\", \"MI\", \"MI\", \"MI\", \"MI\", \"MI\", \"MI\", \"MI\", \"MI\", \"MI\", \"MI\", \"MI\", \"MI\", \"MI\", \"MI\", \"MI\", \"MI\", \"MI\", \"PW\", \"PW\", \"PW\", \"PW\", \"PW\", \"PW\", \"PW\", \"PW\", \"PW\", \"PW\", \"PW\", \"PW\", \"PW\", \"PW\", \"PW\", \"PW\", \"PW\", \"PW\", \"PW\", \"PW\", \"PW\", \"PW\", \"PW\", \"PW\", \"PW\", \"PW\", \"PW\", \"PW\", \"PW\", \"PW\", \"PW\", \"PW\", \"PW\", \"PW\", \"PW\", \"PW\", \"PW\", \"PW\", \"PW\", \"PW\", \"PW\", \"PW\", \"PW\", \"PW\", \"PW\", \"RCB\", \"RCB\", \"RCB\", \"RCB\", \"RCB\", \"RCB\", \"RCB\", \"RCB\", \"RCB\", \"RCB\", \"RCB\", \"RCB\", \"RCB\", \"RCB\", \"RCB\", \"RCB\", \"RCB\", \"RCB\", \"RCB\", \"RCB\", \"RCB\", \"RCB\", \"RCB\", \"RCB\", \"RCB\", \"RCB\", \"RCB\", \"RCB\", \"RCB\", \"RCB\", \"RCB\", \"RCB\", \"RCB\", \"RCB\", \"RCB\", \"RCB\", \"RCB\", \"RCB\", \"RCB\", \"RCB\", \"RCB\", \"RCB\", \"RCB\", \"RCB\", \"RCB\", \"RCB\", \"RCB\", \"RCB\", \"RCB\", \"RCB\", \"RCB\", \"RCB\", \"RCB\", \"RCB\", \"RCB\", \"RCB\", \"RCB\", \"RCB\", \"RCB\", \"RCB\", \"RCB\", \"RCB\", \"RCB\", \"RCB\", \"RCB\", \"RCB\", \"RCB\", \"RCB\", \"RCB\", \"RCB\", \"RCB\", \"RCB\", \"RCB\", \"RCB\", \"RCB\", \"RCB\", \"RCB\", \"RCB\", \"RCB\", \"RCB\", \"RCB\", \"RCB\", \"RCB\", \"RCB\", \"RCB\", \"RCB\", \"RCB\", \"RCB\", \"RCB\", \"RCB\", \"RCB\", \"RCB\", \"RCB\", \"RCB\", \"RCB\", \"RCB\", \"RCB\", \"RCB\", \"RCB\", \"RCB\", \"RCB\", \"RCB\", \"RCB\", \"RCB\", \"RCB\", \"RCB\", \"RCB\", \"RCB\", \"RCB\", \"RCB\", \"RCB\", \"RCB\", \"RCB\", \"RCB\", \"RCB\", \"RCB\", \"RCB\", \"RCB\", \"RCB\", \"RCB\", \"RCB\", \"RCB\", \"RCB\", \"RCB\", \"RCB\", \"RCB\", \"RCB\", \"RCB\", \"RCB\", \"RCB\", \"RCB\", \"RCB\", \"RCB\", \"RCB\", \"RCB\", \"RCB\", \"RCB\", \"RCB\", \"RCB\", \"RCB\", \"RCB\", \"RCB\", \"RCB\", \"RCB\", \"RCB\", \"RCB\", \"RCB\", \"RCB\", \"RCB\", \"RCB\", \"RCB\", \"RCB\", \"RCB\", \"RCB\", \"RPS\", \"RPS\", \"RPS\", \"RPS\", \"RPS\", \"RPS\", \"RPS\", \"RPS\", \"RPS\", \"RPS\", \"RPS\", \"RPS\", \"RPS\", \"RPS\", \"RPS\", \"RPS\", \"RPS\", \"RPS\", \"RPS\", \"RPS\", \"RPS\", \"RPS\", \"RPS\", \"RPS\", \"RPS\", \"RPS\", \"RPS\", \"RPS\", \"RPS\", \"RPS\", \"RR\", \"RR\", \"RR\", \"RR\", \"RR\", \"RR\", \"RR\", \"RR\", \"RR\", \"RR\", \"RR\", \"RR\", \"RR\", \"RR\", \"RR\", \"RR\", \"RR\", \"RR\", \"RR\", \"RR\", \"RR\", \"RR\", \"RR\", \"RR\", \"RR\", \"RR\", \"RR\", \"RR\", \"RR\", \"RR\", \"RR\", \"RR\", \"RR\", \"RR\", \"RR\", \"RR\", \"RR\", \"RR\", \"RR\", \"RR\", \"RR\", \"RR\", \"RR\", \"RR\", \"RR\", \"RR\", \"RR\", \"RR\", \"RR\", \"RR\", \"RR\", \"RR\", \"RR\", \"RR\", \"RR\", \"RR\", \"RR\", \"RR\", \"RR\", \"RR\", \"RR\", \"RR\", \"RR\", \"RR\", \"RR\", \"RR\", \"RR\", \"RR\", \"RR\", \"RR\", \"RR\", \"RR\", \"RR\", \"RR\", \"RR\", \"RR\", \"RR\", \"RR\", \"RR\", \"RR\", \"RR\", \"RR\", \"RR\", \"RR\", \"RR\", \"RR\", \"RR\", \"RR\", \"RR\", \"RR\", \"RR\", \"RR\", \"RR\", \"RR\", \"RR\", \"RR\", \"RR\", \"RR\", \"RR\", \"RR\", \"RR\", \"RR\", \"RR\", \"RR\", \"RR\", \"RR\", \"RR\", \"RR\", \"RR\", \"RR\", \"RR\", \"RR\", \"RR\", \"RR\", \"RR\", \"RR\", \"RR\", \"RR\", \"RR\", \"RR\", \"SRH\", \"SRH\", \"SRH\", \"SRH\", \"SRH\", \"SRH\", \"SRH\", \"SRH\", \"SRH\", \"SRH\", \"SRH\", \"SRH\", \"SRH\", \"SRH\", \"SRH\", \"SRH\", \"SRH\", \"SRH\", \"SRH\", \"SRH\", \"SRH\", \"SRH\", \"SRH\", \"SRH\", \"SRH\", \"SRH\", \"SRH\", \"SRH\", \"SRH\", \"SRH\", \"SRH\", \"SRH\", \"SRH\", \"SRH\", \"SRH\", \"SRH\", \"SRH\", \"SRH\", \"SRH\", \"SRH\", \"SRH\", \"SRH\", \"SRH\", \"SRH\", \"SRH\", \"SRH\", \"SRH\", \"SRH\", \"SRH\", \"SRH\", \"SRH\", \"SRH\", \"SRH\", \"SRH\", \"SRH\", \"SRH\", \"SRH\", \"SRH\", \"SRH\", \"SRH\", \"SRH\", \"SRH\", \"SRH\", \"SRH\", \"SRH\", \"SRH\", \"SRH\", \"SRH\", \"SRH\", \"SRH\", \"SRH\", \"SRH\", \"SRH\", \"SRH\", \"SRH\", \"SRH\", \"SRH\"], \"xaxis\": \"x\", \"y\": [9, 55, 79, 82, 109, 110, 112, 112, 112, 114, 115, 116, 116, 119, 120, 124, 125, 127, 128, 129, 131, 134, 134, 135, 135, 136, 138, 138, 139, 139, 139, 140, 140, 141, 141, 142, 142, 142, 143, 144, 145, 146, 146, 146, 147, 148, 148, 148, 149, 149, 149, 150, 151, 152, 152, 153, 154, 155, 156, 156, 156, 157, 158, 159, 160, 160, 160, 160, 160, 160, 161, 162, 162, 163, 163, 164, 164, 164, 164, 165, 165, 165, 165, 166, 168, 168, 169, 169, 170, 173, 176, 176, 177, 177, 178, 178, 179, 180, 180, 181, 181, 181, 183, 185, 185, 186, 186, 187, 187, 188, 188, 188, 189, 190, 190, 192, 192, 193, 195, 196, 200, 201, 202, 205, 205, 208, 208, 209, 222, 223, 240, 246, 82, 100, 100, 104, 104, 110, 115, 119, 126, 128, 129, 131, 132, 133, 135, 135, 136, 137, 138, 138, 139, 140, 141, 142, 143, 145, 145, 145, 146, 147, 148, 148, 148, 149, 150, 150, 151, 153, 153, 154, 154, 155, 157, 157, 157, 158, 161, 164, 165, 165, 166, 166, 168, 168, 168, 169, 170, 171, 175, 175, 175, 177, 178, 181, 181, 182, 184, 186, 186, 187, 190, 190, 196, 198, 214, 11, 56, 58, 66, 67, 80, 83, 84, 87, 93, 95, 95, 98, 100, 110, 111, 111, 113, 113, 114, 114, 115, 118, 118, 119, 120, 120, 120, 120, 121, 125, 126, 126, 128, 128, 131, 132, 133, 134, 134, 134, 135, 136, 137, 137, 138, 139, 140, 140, 141, 142, 142, 143, 143, 143, 144, 144, 144, 145, 145, 145, 146, 146, 146, 148, 149, 150, 150, 150, 150, 150, 151, 151, 152, 152, 152, 152, 152, 153, 153, 154, 156, 157, 157, 157, 158, 158, 158, 158, 158, 160, 160, 160, 160, 161, 161, 162, 162, 164, 164, 164, 164, 165, 165, 166, 167, 167, 167, 168, 168, 169, 170, 171, 172, 172, 172, 173, 175, 176, 177, 178, 179, 179, 179, 180, 183, 184, 184, 185, 186, 187, 187, 188, 188, 189, 189, 190, 190, 191, 192, 193, 194, 194, 197, 205, 207, 214, 231, 6, 104, 125, 126, 131, 135, 135, 135, 147, 149, 153, 154, 158, 161, 162, 162, 162, 164, 164, 172, 172, 173, 176, 182, 183, 188, 192, 192, 195, 196, 208, 11, 15, 48, 61, 66, 67, 79, 85, 89, 95, 97, 99, 101, 101, 102, 105, 107, 109, 109, 111, 112, 114, 116, 119, 119, 120, 123, 124, 125, 126, 127, 127, 129, 129, 130, 131, 132, 132, 133, 133, 133, 134, 135, 136, 136, 136, 137, 137, 137, 139, 139, 139, 139, 140, 140, 140, 141, 142, 142, 146, 146, 147, 147, 147, 147, 148, 149, 150, 150, 150, 150, 150, 151, 151, 152, 152, 153, 153, 153, 154, 154, 154, 155, 155, 155, 156, 158, 158, 159, 159, 159, 159, 160, 160, 160, 160, 161, 161, 161, 161, 161, 162, 162, 163, 163, 163, 163, 164, 164, 165, 166, 166, 167, 169, 169, 169, 169, 170, 171, 171, 171, 171, 172, 173, 174, 175, 175, 177, 178, 180, 181, 181, 183, 183, 184, 184, 184, 186, 187, 187, 189, 189, 190, 190, 192, 195, 200, 200, 204, 222, 74, 98, 109, 119, 125, 132, 135, 141, 141, 148, 156, 161, 178, 184, 10, 15, 68, 73, 88, 92, 94, 95, 100, 104, 106, 111, 112, 112, 112, 116, 116, 118, 119, 119, 119, 119, 119, 120, 120, 120, 121, 123, 123, 123, 124, 124, 127, 127, 127, 130, 130, 132, 133, 134, 134, 134, 135, 136, 136, 136, 136, 137, 137, 138, 138, 138, 139, 141, 142, 143, 144, 144, 144, 145, 149, 149, 149, 150, 152, 153, 153, 154, 154, 154, 155, 156, 156, 157, 157, 158, 158, 160, 161, 162, 163, 163, 163, 163, 163, 164, 164, 164, 164, 165, 165, 166, 166, 167, 167, 168, 168, 169, 170, 170, 170, 170, 171, 171, 172, 173, 174, 174, 174, 174, 176, 177, 178, 178, 179, 179, 180, 181, 181, 181, 181, 182, 183, 183, 186, 188, 189, 189, 191, 192, 193, 193, 193, 194, 194, 195, 198, 198, 199, 202, 203, 204, 206, 207, 211, 221, 226, 230, 231, 232, 11, 68, 87, 92, 92, 92, 94, 99, 101, 101, 104, 108, 111, 114, 115, 115, 116, 116, 116, 116, 120, 121, 122, 122, 124, 124, 125, 125, 126, 126, 129, 129, 133, 133, 133, 138, 138, 139, 141, 141, 141, 141, 142, 142, 142, 142, 142, 143, 143, 143, 144, 145, 145, 146, 147, 148, 148, 148, 148, 149, 149, 151, 153, 153, 153, 153, 154, 154, 154, 154, 156, 156, 157, 157, 157, 157, 157, 158, 159, 159, 159, 159, 159, 160, 160, 161, 161, 162, 162, 163, 163, 164, 164, 164, 165, 165, 165, 165, 166, 168, 169, 170, 170, 170, 171, 171, 171, 172, 172, 172, 172, 173, 173, 173, 173, 174, 174, 174, 176, 177, 178, 178, 178, 178, 178, 178, 180, 181, 182, 182, 183, 183, 183, 184, 184, 184, 187, 187, 187, 187, 188, 188, 189, 191, 194, 195, 196, 197, 199, 202, 202, 206, 209, 209, 212, 212, 218, 223, 99, 102, 104, 106, 108, 112, 113, 115, 117, 118, 118, 119, 120, 125, 125, 127, 129, 133, 136, 137, 138, 139, 141, 142, 143, 143, 146, 148, 149, 151, 151, 155, 156, 159, 159, 166, 170, 170, 172, 173, 178, 182, 185, 187, 192, 2, 15, 15, 49, 70, 82, 83, 84, 86, 87, 93, 96, 99, 105, 105, 106, 115, 115, 116, 119, 121, 122, 123, 123, 123, 124, 124, 124, 126, 126, 128, 129, 130, 132, 132, 132, 133, 134, 134, 134, 134, 135, 135, 135, 136, 136, 137, 138, 139, 139, 140, 141, 142, 142, 142, 142, 143, 143, 143, 145, 146, 147, 147, 148, 148, 149, 149, 149, 150, 151, 151, 152, 154, 154, 154, 155, 156, 156, 157, 157, 158, 158, 158, 158, 159, 160, 160, 161, 161, 161, 162, 162, 162, 162, 162, 165, 165, 165, 166, 166, 166, 166, 166, 168, 168, 170, 170, 171, 171, 171, 171, 172, 173, 174, 175, 175, 175, 176, 179, 179, 180, 180, 181, 181, 183, 184, 184, 185, 185, 185, 185, 186, 186, 186, 187, 189, 190, 190, 191, 191, 195, 200, 200, 204, 205, 205, 211, 213, 215, 226, 227, 235, 248, 263, 76, 78, 94, 103, 108, 126, 128, 133, 148, 152, 157, 158, 159, 160, 160, 161, 161, 162, 163, 163, 166, 167, 171, 172, 173, 179, 182, 187, 191, 195, 6, 11, 18, 58, 71, 81, 92, 95, 97, 101, 102, 103, 107, 109, 110, 111, 112, 113, 113, 117, 121, 126, 126, 126, 126, 126, 129, 130, 130, 131, 131, 132, 132, 133, 133, 134, 135, 135, 136, 137, 138, 140, 141, 141, 141, 141, 142, 143, 144, 144, 144, 145, 145, 145, 146, 146, 146, 146, 147, 147, 147, 147, 148, 150, 150, 151, 151, 152, 152, 152, 153, 155, 156, 157, 157, 159, 159, 159, 162, 162, 163, 164, 164, 165, 165, 165, 168, 168, 170, 170, 170, 173, 177, 177, 179, 179, 180, 182, 183, 185, 186, 189, 189, 191, 191, 191, 191, 192, 194, 195, 196, 197, 197, 199, 201, 208, 211, 211, 217, 223, 20, 44, 81, 113, 115, 118, 119, 121, 126, 127, 127, 128, 129, 130, 130, 132, 132, 132, 132, 133, 134, 135, 136, 136, 137, 137, 137, 140, 140, 142, 142, 144, 145, 145, 146, 146, 146, 149, 150, 150, 155, 155, 157, 158, 158, 158, 159, 159, 160, 161, 161, 162, 163, 163, 163, 164, 172, 172, 176, 176, 177, 178, 180, 182, 184, 185, 185, 189, 191, 192, 194, 201, 205, 207, 207, 208, 209], \"yaxis\": \"y\", \"type\": \"box\", \"uid\": \"2c05fb58-2e72-4932-a8e3-f009fdcc50a4\"}], {\"boxmode\": \"group\", \"height\": 600, \"legend\": {\"tracegroupgap\": 0}, \"template\": {\"data\": {\"barpolar\": [{\"marker\": {\"line\": {\"color\": \"#E5ECF6\", \"width\": 0.5}}, \"type\": \"barpolar\"}], \"bar\": [{\"marker\": {\"line\": {\"color\": \"#E5ECF6\", \"width\": 0.5}}, \"type\": \"bar\"}], \"carpet\": [{\"aaxis\": {\"endlinecolor\": \"#2a3f5f\", \"gridcolor\": \"white\", \"linecolor\": \"white\", \"minorgridcolor\": \"white\", \"startlinecolor\": \"#2a3f5f\"}, \"baxis\": {\"endlinecolor\": \"#2a3f5f\", \"gridcolor\": \"white\", \"linecolor\": \"white\", \"minorgridcolor\": \"white\", \"startlinecolor\": \"#2a3f5f\"}, \"type\": \"carpet\"}], \"choropleth\": [{\"colorbar\": {\"outlinewidth\": 0, \"ticks\": \"\"}, \"type\": \"choropleth\"}], \"contourcarpet\": [{\"colorbar\": {\"outlinewidth\": 0, \"ticks\": \"\"}, \"type\": \"contourcarpet\"}], \"contour\": [{\"autocolorscale\": true, \"colorbar\": {\"outlinewidth\": 0, \"ticks\": \"\"}, \"type\": \"contour\"}], \"heatmapgl\": [{\"colorbar\": {\"outlinewidth\": 0, \"ticks\": \"\"}, \"type\": \"heatmapgl\"}], \"heatmap\": [{\"autocolorscale\": true, \"colorbar\": {\"outlinewidth\": 0, \"ticks\": \"\"}, \"type\": \"heatmap\"}], \"histogram2dcontour\": [{\"autocolorscale\": true, \"colorbar\": {\"outlinewidth\": 0, \"ticks\": \"\"}, \"type\": \"histogram2dcontour\"}], \"histogram2d\": [{\"autocolorscale\": true, \"colorbar\": {\"outlinewidth\": 0, \"ticks\": \"\"}, \"type\": \"histogram2d\"}], \"histogram\": [{\"marker\": {\"colorbar\": {\"outlinewidth\": 0, \"ticks\": \"\"}}, \"type\": \"histogram\"}], \"mesh3d\": [{\"colorbar\": {\"outlinewidth\": 0, \"ticks\": \"\"}, \"type\": \"mesh3d\"}], \"parcoords\": [{\"line\": {\"colorbar\": {\"outlinewidth\": 0, \"ticks\": \"\"}}, \"type\": \"parcoords\"}], \"scatter3d\": [{\"marker\": {\"colorbar\": {\"outlinewidth\": 0, \"ticks\": \"\"}}, \"type\": \"scatter3d\"}], \"scattercarpet\": [{\"marker\": {\"colorbar\": {\"outlinewidth\": 0, \"ticks\": \"\"}}, \"type\": \"scattercarpet\"}], \"scattergeo\": [{\"marker\": {\"colorbar\": {\"outlinewidth\": 0, \"ticks\": \"\"}}, \"type\": \"scattergeo\"}], \"scattergl\": [{\"marker\": {\"colorbar\": {\"outlinewidth\": 0, \"ticks\": \"\"}}, \"type\": \"scattergl\"}], \"scattermapbox\": [{\"marker\": {\"colorbar\": {\"outlinewidth\": 0, \"ticks\": \"\"}}, \"type\": \"scattermapbox\"}], \"scatterpolargl\": [{\"marker\": {\"colorbar\": {\"outlinewidth\": 0, \"ticks\": \"\"}}, \"type\": \"scatterpolargl\"}], \"scatterpolar\": [{\"marker\": {\"colorbar\": {\"outlinewidth\": 0, \"ticks\": \"\"}}, \"type\": \"scatterpolar\"}], \"scatter\": [{\"marker\": {\"colorbar\": {\"outlinewidth\": 0, \"ticks\": \"\"}}, \"type\": \"scatter\"}], \"scatterternary\": [{\"marker\": {\"colorbar\": {\"outlinewidth\": 0, \"ticks\": \"\"}}, \"type\": \"scatterternary\"}], \"surface\": [{\"colorbar\": {\"outlinewidth\": 0, \"ticks\": \"\"}, \"type\": \"surface\"}], \"table\": [{\"cells\": {\"fill\": {\"color\": \"#EBF0F8\"}, \"line\": {\"color\": \"white\"}}, \"header\": {\"fill\": {\"color\": \"#C8D4E3\"}, \"line\": {\"color\": \"white\"}}, \"type\": \"table\"}]}, \"layout\": {\"annotationdefaults\": {\"arrowcolor\": \"#506784\", \"arrowhead\": 0, \"arrowwidth\": 1}, \"colorscale\": {\"diverging\": [[0, \"#8e0152\"], [0.1, \"#c51b7d\"], [0.2, \"#de77ae\"], [0.3, \"#f1b6da\"], [0.4, \"#fde0ef\"], [0.5, \"#f7f7f7\"], [0.6, \"#e6f5d0\"], [0.7, \"#b8e186\"], [0.8, \"#7fbc41\"], [0.9, \"#4d9221\"], [1, \"#276419\"]], \"sequential\": [[0.0, \"#0508b8\"], [0.0893854748603352, \"#1910d8\"], [0.1787709497206704, \"#3c19f0\"], [0.2681564245810056, \"#6b1cfb\"], [0.3575418994413408, \"#981cfd\"], [0.44692737430167595, \"#bf1cfd\"], [0.5363128491620112, \"#dd2bfd\"], [0.6256983240223464, \"#f246fe\"], [0.7150837988826816, \"#fc67fd\"], [0.8044692737430168, \"#fe88fc\"], [0.8938547486033519, \"#fea5fd\"], [0.9832402234636871, \"#febefe\"], [1.0, \"#fec3fe\"]], \"sequentialminus\": [[0.0, \"#0508b8\"], [0.0893854748603352, \"#1910d8\"], [0.1787709497206704, \"#3c19f0\"], [0.2681564245810056, \"#6b1cfb\"], [0.3575418994413408, \"#981cfd\"], [0.44692737430167595, \"#bf1cfd\"], [0.5363128491620112, \"#dd2bfd\"], [0.6256983240223464, \"#f246fe\"], [0.7150837988826816, \"#fc67fd\"], [0.8044692737430168, \"#fe88fc\"], [0.8938547486033519, \"#fea5fd\"], [0.9832402234636871, \"#febefe\"], [1.0, \"#fec3fe\"]]}, \"colorway\": [\"#636efa\", \"#EF553B\", \"#00cc96\", \"#ab63fa\", \"#19d3f3\", \"#e763fa\", \"#FECB52\", \"#FFA15A\", \"#FF6692\", \"#B6E880\"], \"font\": {\"color\": \"#2a3f5f\"}, \"geo\": {\"bgcolor\": \"white\", \"lakecolor\": \"white\", \"landcolor\": \"#E5ECF6\", \"showlakes\": true, \"showland\": true, \"subunitcolor\": \"white\"}, \"hovermode\": \"closest\", \"mapbox\": {\"style\": \"light\"}, \"paper_bgcolor\": \"white\", \"plot_bgcolor\": \"#E5ECF6\", \"polar\": {\"angularaxis\": {\"gridcolor\": \"white\", \"linecolor\": \"white\", \"ticks\": \"\"}, \"bgcolor\": \"#E5ECF6\", \"radialaxis\": {\"gridcolor\": \"white\", \"linecolor\": \"white\", \"ticks\": \"\"}}, \"scene\": {\"xaxis\": {\"backgroundcolor\": \"#E5ECF6\", \"gridcolor\": \"white\", \"gridwidth\": 2, \"linecolor\": \"white\", \"showbackground\": true, \"ticks\": \"\", \"zerolinecolor\": \"white\"}, \"yaxis\": {\"backgroundcolor\": \"#E5ECF6\", \"gridcolor\": \"white\", \"gridwidth\": 2, \"linecolor\": \"white\", \"showbackground\": true, \"ticks\": \"\", \"zerolinecolor\": \"white\"}, \"zaxis\": {\"backgroundcolor\": \"#E5ECF6\", \"gridcolor\": \"white\", \"gridwidth\": 2, \"linecolor\": \"white\", \"showbackground\": true, \"ticks\": \"\", \"zerolinecolor\": \"white\"}}, \"shapedefaults\": {\"fillcolor\": \"#506784\", \"line\": {\"width\": 0}, \"opacity\": 0.4}, \"ternary\": {\"aaxis\": {\"gridcolor\": \"white\", \"linecolor\": \"white\", \"ticks\": \"\"}, \"baxis\": {\"gridcolor\": \"white\", \"linecolor\": \"white\", \"ticks\": \"\"}, \"bgcolor\": \"#E5ECF6\", \"caxis\": {\"gridcolor\": \"white\", \"linecolor\": \"white\", \"ticks\": \"\"}}, \"title\": {\"x\": 0.05}, \"xaxis\": {\"automargin\": true, \"gridcolor\": \"white\", \"linecolor\": \"white\", \"ticks\": \"\", \"zerolinecolor\": \"white\", \"zerolinewidth\": 2}, \"yaxis\": {\"automargin\": true, \"gridcolor\": \"white\", \"linecolor\": \"white\", \"ticks\": \"\", \"zerolinecolor\": \"white\", \"zerolinewidth\": 2}}}, \"title\": {\"text\": \"Score Distribution For Teams by Innings\"}, \"grid\": {\"xaxes\": [\"x\"], \"yaxes\": [\"y\"], \"xgap\": 0.1, \"ygap\": 0.1, \"xside\": \"bottom\", \"yside\": \"left\"}, \"xaxis\": {\"title\": {\"text\": \"batting_team\"}}, \"yaxis\": {\"title\": {\"text\": \"total_runs\"}}}, {\"showLink\": false, \"linkText\": \"Export to plot.ly\", \"plotlyServerURL\": \"https://plot.ly\"}); \n",
       "}\n",
       "});</script><script type=\"text/javascript\">window.addEventListener(\"resize\", function(){if (document.getElementById(\"c1ce1a0f-4167-4c87-94bd-77d5a6b3551f\")) {window._Plotly.Plots.resize(document.getElementById(\"c1ce1a0f-4167-4c87-94bd-77d5a6b3551f\"));};})</script>"
      ],
      "text/vnd.plotly.v1+html": [
       "<div id=\"c1ce1a0f-4167-4c87-94bd-77d5a6b3551f\" style=\"height: 600px; width: 100%;\" class=\"plotly-graph-div\"></div><script type=\"text/javascript\">require([\"plotly\"], function(Plotly) { window.PLOTLYENV=window.PLOTLYENV || {};window.PLOTLYENV.BASE_URL=\"https://plot.ly\";\n",
       "if (document.getElementById(\"c1ce1a0f-4167-4c87-94bd-77d5a6b3551f\")) {\n",
       "    Plotly.newPlot(\"c1ce1a0f-4167-4c87-94bd-77d5a6b3551f\", [{\"alignmentgroup\": \"True\", \"legendgroup\": \"\", \"marker\": {\"color\": \"#636efa\"}, \"name\": \"\", \"notched\": false, \"offsetgroup\": \"\", \"orientation\": \"v\", \"showlegend\": false, \"x\": [\"CSK\", \"CSK\", \"CSK\", \"CSK\", \"CSK\", \"CSK\", \"CSK\", \"CSK\", \"CSK\", \"CSK\", \"CSK\", \"CSK\", \"CSK\", \"CSK\", \"CSK\", \"CSK\", \"CSK\", \"CSK\", \"CSK\", \"CSK\", \"CSK\", \"CSK\", \"CSK\", \"CSK\", \"CSK\", \"CSK\", \"CSK\", \"CSK\", \"CSK\", \"CSK\", \"CSK\", \"CSK\", \"CSK\", \"CSK\", \"CSK\", \"CSK\", \"CSK\", \"CSK\", \"CSK\", \"CSK\", \"CSK\", \"CSK\", \"CSK\", \"CSK\", \"CSK\", \"CSK\", \"CSK\", \"CSK\", \"CSK\", \"CSK\", \"CSK\", \"CSK\", \"CSK\", \"CSK\", \"CSK\", \"CSK\", \"CSK\", \"CSK\", \"CSK\", \"CSK\", \"CSK\", \"CSK\", \"CSK\", \"CSK\", \"CSK\", \"CSK\", \"CSK\", \"CSK\", \"CSK\", \"CSK\", \"CSK\", \"CSK\", \"CSK\", \"CSK\", \"CSK\", \"CSK\", \"CSK\", \"CSK\", \"CSK\", \"CSK\", \"CSK\", \"CSK\", \"CSK\", \"CSK\", \"CSK\", \"CSK\", \"CSK\", \"CSK\", \"CSK\", \"CSK\", \"CSK\", \"CSK\", \"CSK\", \"CSK\", \"CSK\", \"CSK\", \"CSK\", \"CSK\", \"CSK\", \"CSK\", \"CSK\", \"CSK\", \"CSK\", \"CSK\", \"CSK\", \"CSK\", \"CSK\", \"CSK\", \"CSK\", \"CSK\", \"CSK\", \"CSK\", \"CSK\", \"CSK\", \"CSK\", \"CSK\", \"CSK\", \"CSK\", \"CSK\", \"CSK\", \"CSK\", \"CSK\", \"CSK\", \"CSK\", \"CSK\", \"CSK\", \"CSK\", \"CSK\", \"CSK\", \"CSK\", \"CSK\", \"CSK\", \"DC\", \"DC\", \"DC\", \"DC\", \"DC\", \"DC\", \"DC\", \"DC\", \"DC\", \"DC\", \"DC\", \"DC\", \"DC\", \"DC\", \"DC\", \"DC\", \"DC\", \"DC\", \"DC\", \"DC\", \"DC\", \"DC\", \"DC\", \"DC\", \"DC\", \"DC\", \"DC\", \"DC\", \"DC\", \"DC\", \"DC\", \"DC\", \"DC\", \"DC\", \"DC\", \"DC\", \"DC\", \"DC\", \"DC\", \"DC\", \"DC\", \"DC\", \"DC\", \"DC\", \"DC\", \"DC\", \"DC\", \"DC\", \"DC\", \"DC\", \"DC\", \"DC\", \"DC\", \"DC\", \"DC\", \"DC\", \"DC\", \"DC\", \"DC\", \"DC\", \"DC\", \"DC\", \"DC\", \"DC\", \"DC\", \"DC\", \"DC\", \"DC\", \"DC\", \"DC\", \"DC\", \"DC\", \"DC\", \"DC\", \"DC\", \"DD\", \"DD\", \"DD\", \"DD\", \"DD\", \"DD\", \"DD\", \"DD\", \"DD\", \"DD\", \"DD\", \"DD\", \"DD\", \"DD\", \"DD\", \"DD\", \"DD\", \"DD\", \"DD\", \"DD\", \"DD\", \"DD\", \"DD\", \"DD\", \"DD\", \"DD\", \"DD\", \"DD\", \"DD\", \"DD\", \"DD\", \"DD\", \"DD\", \"DD\", \"DD\", \"DD\", \"DD\", \"DD\", \"DD\", \"DD\", \"DD\", \"DD\", \"DD\", \"DD\", \"DD\", \"DD\", \"DD\", \"DD\", \"DD\", \"DD\", \"DD\", \"DD\", \"DD\", \"DD\", \"DD\", \"DD\", \"DD\", \"DD\", \"DD\", \"DD\", \"DD\", \"DD\", \"DD\", \"DD\", \"DD\", \"DD\", \"DD\", \"DD\", \"DD\", \"DD\", \"DD\", \"DD\", \"DD\", \"DD\", \"DD\", \"DD\", \"DD\", \"DD\", \"DD\", \"DD\", \"DD\", \"DD\", \"DD\", \"DD\", \"DD\", \"DD\", \"DD\", \"DD\", \"DD\", \"DD\", \"DD\", \"DD\", \"DD\", \"DD\", \"DD\", \"DD\", \"DD\", \"DD\", \"DD\", \"DD\", \"DD\", \"DD\", \"DD\", \"DD\", \"DD\", \"DD\", \"DD\", \"DD\", \"DD\", \"DD\", \"DD\", \"DD\", \"DD\", \"DD\", \"DD\", \"DD\", \"DD\", \"DD\", \"DD\", \"DD\", \"DD\", \"DD\", \"DD\", \"DD\", \"DD\", \"DD\", \"DD\", \"DD\", \"DD\", \"DD\", \"DD\", \"DD\", \"DD\", \"DD\", \"DD\", \"DD\", \"DD\", \"DD\", \"DD\", \"DD\", \"DD\", \"DD\", \"DD\", \"DD\", \"DD\", \"DD\", \"DD\", \"DD\", \"GL\", \"GL\", \"GL\", \"GL\", \"GL\", \"GL\", \"GL\", \"GL\", \"GL\", \"GL\", \"GL\", \"GL\", \"GL\", \"GL\", \"GL\", \"GL\", \"GL\", \"GL\", \"GL\", \"GL\", \"GL\", \"GL\", \"GL\", \"GL\", \"GL\", \"GL\", \"GL\", \"GL\", \"GL\", \"GL\", \"GL\", \"KKR\", \"KKR\", \"KKR\", \"KKR\", \"KKR\", \"KKR\", \"KKR\", \"KKR\", \"KKR\", \"KKR\", \"KKR\", \"KKR\", \"KKR\", \"KKR\", \"KKR\", \"KKR\", \"KKR\", \"KKR\", \"KKR\", \"KKR\", \"KKR\", \"KKR\", \"KKR\", \"KKR\", \"KKR\", \"KKR\", \"KKR\", \"KKR\", \"KKR\", \"KKR\", \"KKR\", \"KKR\", \"KKR\", \"KKR\", \"KKR\", \"KKR\", \"KKR\", \"KKR\", \"KKR\", \"KKR\", \"KKR\", \"KKR\", \"KKR\", \"KKR\", \"KKR\", \"KKR\", \"KKR\", \"KKR\", \"KKR\", \"KKR\", \"KKR\", \"KKR\", \"KKR\", \"KKR\", \"KKR\", \"KKR\", \"KKR\", \"KKR\", \"KKR\", \"KKR\", \"KKR\", \"KKR\", \"KKR\", \"KKR\", \"KKR\", \"KKR\", \"KKR\", \"KKR\", \"KKR\", \"KKR\", \"KKR\", \"KKR\", \"KKR\", \"KKR\", \"KKR\", \"KKR\", \"KKR\", \"KKR\", \"KKR\", \"KKR\", \"KKR\", \"KKR\", \"KKR\", \"KKR\", \"KKR\", \"KKR\", \"KKR\", \"KKR\", \"KKR\", \"KKR\", \"KKR\", \"KKR\", \"KKR\", \"KKR\", \"KKR\", \"KKR\", \"KKR\", \"KKR\", \"KKR\", \"KKR\", \"KKR\", \"KKR\", \"KKR\", \"KKR\", \"KKR\", \"KKR\", \"KKR\", \"KKR\", \"KKR\", \"KKR\", \"KKR\", \"KKR\", \"KKR\", \"KKR\", \"KKR\", \"KKR\", \"KKR\", \"KKR\", \"KKR\", \"KKR\", \"KKR\", \"KKR\", \"KKR\", \"KKR\", \"KKR\", \"KKR\", \"KKR\", \"KKR\", \"KKR\", \"KKR\", \"KKR\", \"KKR\", \"KKR\", \"KKR\", \"KKR\", \"KKR\", \"KKR\", \"KKR\", \"KKR\", \"KKR\", \"KKR\", \"KKR\", \"KKR\", \"KKR\", \"KKR\", \"KKR\", \"KKR\", \"KKR\", \"KKR\", \"KKR\", \"KTK\", \"KTK\", \"KTK\", \"KTK\", \"KTK\", \"KTK\", \"KTK\", \"KTK\", \"KTK\", \"KTK\", \"KTK\", \"KTK\", \"KTK\", \"KTK\", \"KXIP\", \"KXIP\", \"KXIP\", \"KXIP\", \"KXIP\", \"KXIP\", \"KXIP\", \"KXIP\", \"KXIP\", \"KXIP\", \"KXIP\", \"KXIP\", \"KXIP\", \"KXIP\", \"KXIP\", \"KXIP\", \"KXIP\", \"KXIP\", \"KXIP\", \"KXIP\", \"KXIP\", \"KXIP\", \"KXIP\", \"KXIP\", \"KXIP\", \"KXIP\", \"KXIP\", \"KXIP\", \"KXIP\", \"KXIP\", \"KXIP\", \"KXIP\", \"KXIP\", \"KXIP\", \"KXIP\", \"KXIP\", \"KXIP\", \"KXIP\", \"KXIP\", \"KXIP\", \"KXIP\", \"KXIP\", \"KXIP\", \"KXIP\", \"KXIP\", \"KXIP\", \"KXIP\", \"KXIP\", \"KXIP\", \"KXIP\", \"KXIP\", \"KXIP\", \"KXIP\", \"KXIP\", \"KXIP\", \"KXIP\", \"KXIP\", \"KXIP\", \"KXIP\", \"KXIP\", \"KXIP\", \"KXIP\", \"KXIP\", \"KXIP\", \"KXIP\", \"KXIP\", \"KXIP\", \"KXIP\", \"KXIP\", \"KXIP\", \"KXIP\", \"KXIP\", \"KXIP\", \"KXIP\", \"KXIP\", \"KXIP\", \"KXIP\", \"KXIP\", \"KXIP\", \"KXIP\", \"KXIP\", \"KXIP\", \"KXIP\", \"KXIP\", \"KXIP\", \"KXIP\", \"KXIP\", \"KXIP\", \"KXIP\", \"KXIP\", \"KXIP\", \"KXIP\", \"KXIP\", \"KXIP\", \"KXIP\", \"KXIP\", \"KXIP\", \"KXIP\", \"KXIP\", \"KXIP\", \"KXIP\", \"KXIP\", \"KXIP\", \"KXIP\", \"KXIP\", \"KXIP\", \"KXIP\", \"KXIP\", \"KXIP\", \"KXIP\", \"KXIP\", \"KXIP\", \"KXIP\", \"KXIP\", \"KXIP\", \"KXIP\", \"KXIP\", \"KXIP\", \"KXIP\", \"KXIP\", \"KXIP\", \"KXIP\", \"KXIP\", \"KXIP\", \"KXIP\", \"KXIP\", \"KXIP\", \"KXIP\", \"KXIP\", \"KXIP\", \"KXIP\", \"KXIP\", \"KXIP\", \"KXIP\", \"KXIP\", \"KXIP\", \"KXIP\", \"KXIP\", \"KXIP\", \"KXIP\", \"KXIP\", \"KXIP\", \"KXIP\", \"KXIP\", \"KXIP\", \"KXIP\", \"KXIP\", \"KXIP\", \"KXIP\", \"KXIP\", \"MI\", \"MI\", \"MI\", \"MI\", \"MI\", \"MI\", \"MI\", \"MI\", \"MI\", \"MI\", \"MI\", \"MI\", \"MI\", \"MI\", \"MI\", \"MI\", \"MI\", \"MI\", \"MI\", \"MI\", \"MI\", \"MI\", \"MI\", \"MI\", \"MI\", \"MI\", \"MI\", \"MI\", \"MI\", \"MI\", \"MI\", \"MI\", \"MI\", \"MI\", \"MI\", \"MI\", \"MI\", \"MI\", \"MI\", \"MI\", \"MI\", \"MI\", \"MI\", \"MI\", \"MI\", \"MI\", \"MI\", \"MI\", \"MI\", \"MI\", \"MI\", \"MI\", \"MI\", \"MI\", \"MI\", \"MI\", \"MI\", \"MI\", \"MI\", \"MI\", \"MI\", \"MI\", \"MI\", \"MI\", \"MI\", \"MI\", \"MI\", \"MI\", \"MI\", \"MI\", \"MI\", \"MI\", \"MI\", \"MI\", \"MI\", \"MI\", \"MI\", \"MI\", \"MI\", \"MI\", \"MI\", \"MI\", \"MI\", \"MI\", \"MI\", \"MI\", \"MI\", \"MI\", \"MI\", \"MI\", \"MI\", \"MI\", \"MI\", \"MI\", \"MI\", \"MI\", \"MI\", \"MI\", \"MI\", \"MI\", \"MI\", \"MI\", \"MI\", \"MI\", \"MI\", \"MI\", \"MI\", \"MI\", \"MI\", \"MI\", \"MI\", \"MI\", \"MI\", \"MI\", \"MI\", \"MI\", \"MI\", \"MI\", \"MI\", \"MI\", \"MI\", \"MI\", \"MI\", \"MI\", \"MI\", \"MI\", \"MI\", \"MI\", \"MI\", \"MI\", \"MI\", \"MI\", \"MI\", \"MI\", \"MI\", \"MI\", \"MI\", \"MI\", \"MI\", \"MI\", \"MI\", \"MI\", \"MI\", \"MI\", \"MI\", \"MI\", \"MI\", \"MI\", \"MI\", \"MI\", \"MI\", \"MI\", \"MI\", \"MI\", \"MI\", \"MI\", \"MI\", \"MI\", \"PW\", \"PW\", \"PW\", \"PW\", \"PW\", \"PW\", \"PW\", \"PW\", \"PW\", \"PW\", \"PW\", \"PW\", \"PW\", \"PW\", \"PW\", \"PW\", \"PW\", \"PW\", \"PW\", \"PW\", \"PW\", \"PW\", \"PW\", \"PW\", \"PW\", \"PW\", \"PW\", \"PW\", \"PW\", \"PW\", \"PW\", \"PW\", \"PW\", \"PW\", \"PW\", \"PW\", \"PW\", \"PW\", \"PW\", \"PW\", \"PW\", \"PW\", \"PW\", \"PW\", \"PW\", \"RCB\", \"RCB\", \"RCB\", \"RCB\", \"RCB\", \"RCB\", \"RCB\", \"RCB\", \"RCB\", \"RCB\", \"RCB\", \"RCB\", \"RCB\", \"RCB\", \"RCB\", \"RCB\", \"RCB\", \"RCB\", \"RCB\", \"RCB\", \"RCB\", \"RCB\", \"RCB\", \"RCB\", \"RCB\", \"RCB\", \"RCB\", \"RCB\", \"RCB\", \"RCB\", \"RCB\", \"RCB\", \"RCB\", \"RCB\", \"RCB\", \"RCB\", \"RCB\", \"RCB\", \"RCB\", \"RCB\", \"RCB\", \"RCB\", \"RCB\", \"RCB\", \"RCB\", \"RCB\", \"RCB\", \"RCB\", \"RCB\", \"RCB\", \"RCB\", \"RCB\", \"RCB\", \"RCB\", \"RCB\", \"RCB\", \"RCB\", \"RCB\", \"RCB\", \"RCB\", \"RCB\", \"RCB\", \"RCB\", \"RCB\", \"RCB\", \"RCB\", \"RCB\", \"RCB\", \"RCB\", \"RCB\", \"RCB\", \"RCB\", \"RCB\", \"RCB\", \"RCB\", \"RCB\", \"RCB\", \"RCB\", \"RCB\", \"RCB\", \"RCB\", \"RCB\", \"RCB\", \"RCB\", \"RCB\", \"RCB\", \"RCB\", \"RCB\", \"RCB\", \"RCB\", \"RCB\", \"RCB\", \"RCB\", \"RCB\", \"RCB\", \"RCB\", \"RCB\", \"RCB\", \"RCB\", \"RCB\", \"RCB\", \"RCB\", \"RCB\", \"RCB\", \"RCB\", \"RCB\", \"RCB\", \"RCB\", \"RCB\", \"RCB\", \"RCB\", \"RCB\", \"RCB\", \"RCB\", \"RCB\", \"RCB\", \"RCB\", \"RCB\", \"RCB\", \"RCB\", \"RCB\", \"RCB\", \"RCB\", \"RCB\", \"RCB\", \"RCB\", \"RCB\", \"RCB\", \"RCB\", \"RCB\", \"RCB\", \"RCB\", \"RCB\", \"RCB\", \"RCB\", \"RCB\", \"RCB\", \"RCB\", \"RCB\", \"RCB\", \"RCB\", \"RCB\", \"RCB\", \"RCB\", \"RCB\", \"RCB\", \"RCB\", \"RCB\", \"RCB\", \"RCB\", \"RCB\", \"RCB\", \"RCB\", \"RCB\", \"RPS\", \"RPS\", \"RPS\", \"RPS\", \"RPS\", \"RPS\", \"RPS\", \"RPS\", \"RPS\", \"RPS\", \"RPS\", \"RPS\", \"RPS\", \"RPS\", \"RPS\", \"RPS\", \"RPS\", \"RPS\", \"RPS\", \"RPS\", \"RPS\", \"RPS\", \"RPS\", \"RPS\", \"RPS\", \"RPS\", \"RPS\", \"RPS\", \"RPS\", \"RPS\", \"RR\", \"RR\", \"RR\", \"RR\", \"RR\", \"RR\", \"RR\", \"RR\", \"RR\", \"RR\", \"RR\", \"RR\", \"RR\", \"RR\", \"RR\", \"RR\", \"RR\", \"RR\", \"RR\", \"RR\", \"RR\", \"RR\", \"RR\", \"RR\", \"RR\", \"RR\", \"RR\", \"RR\", \"RR\", \"RR\", \"RR\", \"RR\", \"RR\", \"RR\", \"RR\", \"RR\", \"RR\", \"RR\", \"RR\", \"RR\", \"RR\", \"RR\", \"RR\", \"RR\", \"RR\", \"RR\", \"RR\", \"RR\", \"RR\", \"RR\", \"RR\", \"RR\", \"RR\", \"RR\", \"RR\", \"RR\", \"RR\", \"RR\", \"RR\", \"RR\", \"RR\", \"RR\", \"RR\", \"RR\", \"RR\", \"RR\", \"RR\", \"RR\", \"RR\", \"RR\", \"RR\", \"RR\", \"RR\", \"RR\", \"RR\", \"RR\", \"RR\", \"RR\", \"RR\", \"RR\", \"RR\", \"RR\", \"RR\", \"RR\", \"RR\", \"RR\", \"RR\", \"RR\", \"RR\", \"RR\", \"RR\", \"RR\", \"RR\", \"RR\", \"RR\", \"RR\", \"RR\", \"RR\", \"RR\", \"RR\", \"RR\", \"RR\", \"RR\", \"RR\", \"RR\", \"RR\", \"RR\", \"RR\", \"RR\", \"RR\", \"RR\", \"RR\", \"RR\", \"RR\", \"RR\", \"RR\", \"RR\", \"RR\", \"RR\", \"RR\", \"SRH\", \"SRH\", \"SRH\", \"SRH\", \"SRH\", \"SRH\", \"SRH\", \"SRH\", \"SRH\", \"SRH\", \"SRH\", \"SRH\", \"SRH\", \"SRH\", \"SRH\", \"SRH\", \"SRH\", \"SRH\", \"SRH\", \"SRH\", \"SRH\", \"SRH\", \"SRH\", \"SRH\", \"SRH\", \"SRH\", \"SRH\", \"SRH\", \"SRH\", \"SRH\", \"SRH\", \"SRH\", \"SRH\", \"SRH\", \"SRH\", \"SRH\", \"SRH\", \"SRH\", \"SRH\", \"SRH\", \"SRH\", \"SRH\", \"SRH\", \"SRH\", \"SRH\", \"SRH\", \"SRH\", \"SRH\", \"SRH\", \"SRH\", \"SRH\", \"SRH\", \"SRH\", \"SRH\", \"SRH\", \"SRH\", \"SRH\", \"SRH\", \"SRH\", \"SRH\", \"SRH\", \"SRH\", \"SRH\", \"SRH\", \"SRH\", \"SRH\", \"SRH\", \"SRH\", \"SRH\", \"SRH\", \"SRH\", \"SRH\", \"SRH\", \"SRH\", \"SRH\", \"SRH\", \"SRH\"], \"xaxis\": \"x\", \"y\": [9, 55, 79, 82, 109, 110, 112, 112, 112, 114, 115, 116, 116, 119, 120, 124, 125, 127, 128, 129, 131, 134, 134, 135, 135, 136, 138, 138, 139, 139, 139, 140, 140, 141, 141, 142, 142, 142, 143, 144, 145, 146, 146, 146, 147, 148, 148, 148, 149, 149, 149, 150, 151, 152, 152, 153, 154, 155, 156, 156, 156, 157, 158, 159, 160, 160, 160, 160, 160, 160, 161, 162, 162, 163, 163, 164, 164, 164, 164, 165, 165, 165, 165, 166, 168, 168, 169, 169, 170, 173, 176, 176, 177, 177, 178, 178, 179, 180, 180, 181, 181, 181, 183, 185, 185, 186, 186, 187, 187, 188, 188, 188, 189, 190, 190, 192, 192, 193, 195, 196, 200, 201, 202, 205, 205, 208, 208, 209, 222, 223, 240, 246, 82, 100, 100, 104, 104, 110, 115, 119, 126, 128, 129, 131, 132, 133, 135, 135, 136, 137, 138, 138, 139, 140, 141, 142, 143, 145, 145, 145, 146, 147, 148, 148, 148, 149, 150, 150, 151, 153, 153, 154, 154, 155, 157, 157, 157, 158, 161, 164, 165, 165, 166, 166, 168, 168, 168, 169, 170, 171, 175, 175, 175, 177, 178, 181, 181, 182, 184, 186, 186, 187, 190, 190, 196, 198, 214, 11, 56, 58, 66, 67, 80, 83, 84, 87, 93, 95, 95, 98, 100, 110, 111, 111, 113, 113, 114, 114, 115, 118, 118, 119, 120, 120, 120, 120, 121, 125, 126, 126, 128, 128, 131, 132, 133, 134, 134, 134, 135, 136, 137, 137, 138, 139, 140, 140, 141, 142, 142, 143, 143, 143, 144, 144, 144, 145, 145, 145, 146, 146, 146, 148, 149, 150, 150, 150, 150, 150, 151, 151, 152, 152, 152, 152, 152, 153, 153, 154, 156, 157, 157, 157, 158, 158, 158, 158, 158, 160, 160, 160, 160, 161, 161, 162, 162, 164, 164, 164, 164, 165, 165, 166, 167, 167, 167, 168, 168, 169, 170, 171, 172, 172, 172, 173, 175, 176, 177, 178, 179, 179, 179, 180, 183, 184, 184, 185, 186, 187, 187, 188, 188, 189, 189, 190, 190, 191, 192, 193, 194, 194, 197, 205, 207, 214, 231, 6, 104, 125, 126, 131, 135, 135, 135, 147, 149, 153, 154, 158, 161, 162, 162, 162, 164, 164, 172, 172, 173, 176, 182, 183, 188, 192, 192, 195, 196, 208, 11, 15, 48, 61, 66, 67, 79, 85, 89, 95, 97, 99, 101, 101, 102, 105, 107, 109, 109, 111, 112, 114, 116, 119, 119, 120, 123, 124, 125, 126, 127, 127, 129, 129, 130, 131, 132, 132, 133, 133, 133, 134, 135, 136, 136, 136, 137, 137, 137, 139, 139, 139, 139, 140, 140, 140, 141, 142, 142, 146, 146, 147, 147, 147, 147, 148, 149, 150, 150, 150, 150, 150, 151, 151, 152, 152, 153, 153, 153, 154, 154, 154, 155, 155, 155, 156, 158, 158, 159, 159, 159, 159, 160, 160, 160, 160, 161, 161, 161, 161, 161, 162, 162, 163, 163, 163, 163, 164, 164, 165, 166, 166, 167, 169, 169, 169, 169, 170, 171, 171, 171, 171, 172, 173, 174, 175, 175, 177, 178, 180, 181, 181, 183, 183, 184, 184, 184, 186, 187, 187, 189, 189, 190, 190, 192, 195, 200, 200, 204, 222, 74, 98, 109, 119, 125, 132, 135, 141, 141, 148, 156, 161, 178, 184, 10, 15, 68, 73, 88, 92, 94, 95, 100, 104, 106, 111, 112, 112, 112, 116, 116, 118, 119, 119, 119, 119, 119, 120, 120, 120, 121, 123, 123, 123, 124, 124, 127, 127, 127, 130, 130, 132, 133, 134, 134, 134, 135, 136, 136, 136, 136, 137, 137, 138, 138, 138, 139, 141, 142, 143, 144, 144, 144, 145, 149, 149, 149, 150, 152, 153, 153, 154, 154, 154, 155, 156, 156, 157, 157, 158, 158, 160, 161, 162, 163, 163, 163, 163, 163, 164, 164, 164, 164, 165, 165, 166, 166, 167, 167, 168, 168, 169, 170, 170, 170, 170, 171, 171, 172, 173, 174, 174, 174, 174, 176, 177, 178, 178, 179, 179, 180, 181, 181, 181, 181, 182, 183, 183, 186, 188, 189, 189, 191, 192, 193, 193, 193, 194, 194, 195, 198, 198, 199, 202, 203, 204, 206, 207, 211, 221, 226, 230, 231, 232, 11, 68, 87, 92, 92, 92, 94, 99, 101, 101, 104, 108, 111, 114, 115, 115, 116, 116, 116, 116, 120, 121, 122, 122, 124, 124, 125, 125, 126, 126, 129, 129, 133, 133, 133, 138, 138, 139, 141, 141, 141, 141, 142, 142, 142, 142, 142, 143, 143, 143, 144, 145, 145, 146, 147, 148, 148, 148, 148, 149, 149, 151, 153, 153, 153, 153, 154, 154, 154, 154, 156, 156, 157, 157, 157, 157, 157, 158, 159, 159, 159, 159, 159, 160, 160, 161, 161, 162, 162, 163, 163, 164, 164, 164, 165, 165, 165, 165, 166, 168, 169, 170, 170, 170, 171, 171, 171, 172, 172, 172, 172, 173, 173, 173, 173, 174, 174, 174, 176, 177, 178, 178, 178, 178, 178, 178, 180, 181, 182, 182, 183, 183, 183, 184, 184, 184, 187, 187, 187, 187, 188, 188, 189, 191, 194, 195, 196, 197, 199, 202, 202, 206, 209, 209, 212, 212, 218, 223, 99, 102, 104, 106, 108, 112, 113, 115, 117, 118, 118, 119, 120, 125, 125, 127, 129, 133, 136, 137, 138, 139, 141, 142, 143, 143, 146, 148, 149, 151, 151, 155, 156, 159, 159, 166, 170, 170, 172, 173, 178, 182, 185, 187, 192, 2, 15, 15, 49, 70, 82, 83, 84, 86, 87, 93, 96, 99, 105, 105, 106, 115, 115, 116, 119, 121, 122, 123, 123, 123, 124, 124, 124, 126, 126, 128, 129, 130, 132, 132, 132, 133, 134, 134, 134, 134, 135, 135, 135, 136, 136, 137, 138, 139, 139, 140, 141, 142, 142, 142, 142, 143, 143, 143, 145, 146, 147, 147, 148, 148, 149, 149, 149, 150, 151, 151, 152, 154, 154, 154, 155, 156, 156, 157, 157, 158, 158, 158, 158, 159, 160, 160, 161, 161, 161, 162, 162, 162, 162, 162, 165, 165, 165, 166, 166, 166, 166, 166, 168, 168, 170, 170, 171, 171, 171, 171, 172, 173, 174, 175, 175, 175, 176, 179, 179, 180, 180, 181, 181, 183, 184, 184, 185, 185, 185, 185, 186, 186, 186, 187, 189, 190, 190, 191, 191, 195, 200, 200, 204, 205, 205, 211, 213, 215, 226, 227, 235, 248, 263, 76, 78, 94, 103, 108, 126, 128, 133, 148, 152, 157, 158, 159, 160, 160, 161, 161, 162, 163, 163, 166, 167, 171, 172, 173, 179, 182, 187, 191, 195, 6, 11, 18, 58, 71, 81, 92, 95, 97, 101, 102, 103, 107, 109, 110, 111, 112, 113, 113, 117, 121, 126, 126, 126, 126, 126, 129, 130, 130, 131, 131, 132, 132, 133, 133, 134, 135, 135, 136, 137, 138, 140, 141, 141, 141, 141, 142, 143, 144, 144, 144, 145, 145, 145, 146, 146, 146, 146, 147, 147, 147, 147, 148, 150, 150, 151, 151, 152, 152, 152, 153, 155, 156, 157, 157, 159, 159, 159, 162, 162, 163, 164, 164, 165, 165, 165, 168, 168, 170, 170, 170, 173, 177, 177, 179, 179, 180, 182, 183, 185, 186, 189, 189, 191, 191, 191, 191, 192, 194, 195, 196, 197, 197, 199, 201, 208, 211, 211, 217, 223, 20, 44, 81, 113, 115, 118, 119, 121, 126, 127, 127, 128, 129, 130, 130, 132, 132, 132, 132, 133, 134, 135, 136, 136, 137, 137, 137, 140, 140, 142, 142, 144, 145, 145, 146, 146, 146, 149, 150, 150, 155, 155, 157, 158, 158, 158, 159, 159, 160, 161, 161, 162, 163, 163, 163, 164, 172, 172, 176, 176, 177, 178, 180, 182, 184, 185, 185, 189, 191, 192, 194, 201, 205, 207, 207, 208, 209], \"yaxis\": \"y\", \"type\": \"box\", \"uid\": \"2c05fb58-2e72-4932-a8e3-f009fdcc50a4\"}], {\"boxmode\": \"group\", \"height\": 600, \"legend\": {\"tracegroupgap\": 0}, \"template\": {\"data\": {\"barpolar\": [{\"marker\": {\"line\": {\"color\": \"#E5ECF6\", \"width\": 0.5}}, \"type\": \"barpolar\"}], \"bar\": [{\"marker\": {\"line\": {\"color\": \"#E5ECF6\", \"width\": 0.5}}, \"type\": \"bar\"}], \"carpet\": [{\"aaxis\": {\"endlinecolor\": \"#2a3f5f\", \"gridcolor\": \"white\", \"linecolor\": \"white\", \"minorgridcolor\": \"white\", \"startlinecolor\": \"#2a3f5f\"}, \"baxis\": {\"endlinecolor\": \"#2a3f5f\", \"gridcolor\": \"white\", \"linecolor\": \"white\", \"minorgridcolor\": \"white\", \"startlinecolor\": \"#2a3f5f\"}, \"type\": \"carpet\"}], \"choropleth\": [{\"colorbar\": {\"outlinewidth\": 0, \"ticks\": \"\"}, \"type\": \"choropleth\"}], \"contourcarpet\": [{\"colorbar\": {\"outlinewidth\": 0, \"ticks\": \"\"}, \"type\": \"contourcarpet\"}], \"contour\": [{\"autocolorscale\": true, \"colorbar\": {\"outlinewidth\": 0, \"ticks\": \"\"}, \"type\": \"contour\"}], \"heatmapgl\": [{\"colorbar\": {\"outlinewidth\": 0, \"ticks\": \"\"}, \"type\": \"heatmapgl\"}], \"heatmap\": [{\"autocolorscale\": true, \"colorbar\": {\"outlinewidth\": 0, \"ticks\": \"\"}, \"type\": \"heatmap\"}], \"histogram2dcontour\": [{\"autocolorscale\": true, \"colorbar\": {\"outlinewidth\": 0, \"ticks\": \"\"}, \"type\": \"histogram2dcontour\"}], \"histogram2d\": [{\"autocolorscale\": true, \"colorbar\": {\"outlinewidth\": 0, \"ticks\": \"\"}, \"type\": \"histogram2d\"}], \"histogram\": [{\"marker\": {\"colorbar\": {\"outlinewidth\": 0, \"ticks\": \"\"}}, \"type\": \"histogram\"}], \"mesh3d\": [{\"colorbar\": {\"outlinewidth\": 0, \"ticks\": \"\"}, \"type\": \"mesh3d\"}], \"parcoords\": [{\"line\": {\"colorbar\": {\"outlinewidth\": 0, \"ticks\": \"\"}}, \"type\": \"parcoords\"}], \"scatter3d\": [{\"marker\": {\"colorbar\": {\"outlinewidth\": 0, \"ticks\": \"\"}}, \"type\": \"scatter3d\"}], \"scattercarpet\": [{\"marker\": {\"colorbar\": {\"outlinewidth\": 0, \"ticks\": \"\"}}, \"type\": \"scattercarpet\"}], \"scattergeo\": [{\"marker\": {\"colorbar\": {\"outlinewidth\": 0, \"ticks\": \"\"}}, \"type\": \"scattergeo\"}], \"scattergl\": [{\"marker\": {\"colorbar\": {\"outlinewidth\": 0, \"ticks\": \"\"}}, \"type\": \"scattergl\"}], \"scattermapbox\": [{\"marker\": {\"colorbar\": {\"outlinewidth\": 0, \"ticks\": \"\"}}, \"type\": \"scattermapbox\"}], \"scatterpolargl\": [{\"marker\": {\"colorbar\": {\"outlinewidth\": 0, \"ticks\": \"\"}}, \"type\": \"scatterpolargl\"}], \"scatterpolar\": [{\"marker\": {\"colorbar\": {\"outlinewidth\": 0, \"ticks\": \"\"}}, \"type\": \"scatterpolar\"}], \"scatter\": [{\"marker\": {\"colorbar\": {\"outlinewidth\": 0, \"ticks\": \"\"}}, \"type\": \"scatter\"}], \"scatterternary\": [{\"marker\": {\"colorbar\": {\"outlinewidth\": 0, \"ticks\": \"\"}}, \"type\": \"scatterternary\"}], \"surface\": [{\"colorbar\": {\"outlinewidth\": 0, \"ticks\": \"\"}, \"type\": \"surface\"}], \"table\": [{\"cells\": {\"fill\": {\"color\": \"#EBF0F8\"}, \"line\": {\"color\": \"white\"}}, \"header\": {\"fill\": {\"color\": \"#C8D4E3\"}, \"line\": {\"color\": \"white\"}}, \"type\": \"table\"}]}, \"layout\": {\"annotationdefaults\": {\"arrowcolor\": \"#506784\", \"arrowhead\": 0, \"arrowwidth\": 1}, \"colorscale\": {\"diverging\": [[0, \"#8e0152\"], [0.1, \"#c51b7d\"], [0.2, \"#de77ae\"], [0.3, \"#f1b6da\"], [0.4, \"#fde0ef\"], [0.5, \"#f7f7f7\"], [0.6, \"#e6f5d0\"], [0.7, \"#b8e186\"], [0.8, \"#7fbc41\"], [0.9, \"#4d9221\"], [1, \"#276419\"]], \"sequential\": [[0.0, \"#0508b8\"], [0.0893854748603352, \"#1910d8\"], [0.1787709497206704, \"#3c19f0\"], [0.2681564245810056, \"#6b1cfb\"], [0.3575418994413408, \"#981cfd\"], [0.44692737430167595, \"#bf1cfd\"], [0.5363128491620112, \"#dd2bfd\"], [0.6256983240223464, \"#f246fe\"], [0.7150837988826816, \"#fc67fd\"], [0.8044692737430168, \"#fe88fc\"], [0.8938547486033519, \"#fea5fd\"], [0.9832402234636871, \"#febefe\"], [1.0, \"#fec3fe\"]], \"sequentialminus\": [[0.0, \"#0508b8\"], [0.0893854748603352, \"#1910d8\"], [0.1787709497206704, \"#3c19f0\"], [0.2681564245810056, \"#6b1cfb\"], [0.3575418994413408, \"#981cfd\"], [0.44692737430167595, \"#bf1cfd\"], [0.5363128491620112, \"#dd2bfd\"], [0.6256983240223464, \"#f246fe\"], [0.7150837988826816, \"#fc67fd\"], [0.8044692737430168, \"#fe88fc\"], [0.8938547486033519, \"#fea5fd\"], [0.9832402234636871, \"#febefe\"], [1.0, \"#fec3fe\"]]}, \"colorway\": [\"#636efa\", \"#EF553B\", \"#00cc96\", \"#ab63fa\", \"#19d3f3\", \"#e763fa\", \"#FECB52\", \"#FFA15A\", \"#FF6692\", \"#B6E880\"], \"font\": {\"color\": \"#2a3f5f\"}, \"geo\": {\"bgcolor\": \"white\", \"lakecolor\": \"white\", \"landcolor\": \"#E5ECF6\", \"showlakes\": true, \"showland\": true, \"subunitcolor\": \"white\"}, \"hovermode\": \"closest\", \"mapbox\": {\"style\": \"light\"}, \"paper_bgcolor\": \"white\", \"plot_bgcolor\": \"#E5ECF6\", \"polar\": {\"angularaxis\": {\"gridcolor\": \"white\", \"linecolor\": \"white\", \"ticks\": \"\"}, \"bgcolor\": \"#E5ECF6\", \"radialaxis\": {\"gridcolor\": \"white\", \"linecolor\": \"white\", \"ticks\": \"\"}}, \"scene\": {\"xaxis\": {\"backgroundcolor\": \"#E5ECF6\", \"gridcolor\": \"white\", \"gridwidth\": 2, \"linecolor\": \"white\", \"showbackground\": true, \"ticks\": \"\", \"zerolinecolor\": \"white\"}, \"yaxis\": {\"backgroundcolor\": \"#E5ECF6\", \"gridcolor\": \"white\", \"gridwidth\": 2, \"linecolor\": \"white\", \"showbackground\": true, \"ticks\": \"\", \"zerolinecolor\": \"white\"}, \"zaxis\": {\"backgroundcolor\": \"#E5ECF6\", \"gridcolor\": \"white\", \"gridwidth\": 2, \"linecolor\": \"white\", \"showbackground\": true, \"ticks\": \"\", \"zerolinecolor\": \"white\"}}, \"shapedefaults\": {\"fillcolor\": \"#506784\", \"line\": {\"width\": 0}, \"opacity\": 0.4}, \"ternary\": {\"aaxis\": {\"gridcolor\": \"white\", \"linecolor\": \"white\", \"ticks\": \"\"}, \"baxis\": {\"gridcolor\": \"white\", \"linecolor\": \"white\", \"ticks\": \"\"}, \"bgcolor\": \"#E5ECF6\", \"caxis\": {\"gridcolor\": \"white\", \"linecolor\": \"white\", \"ticks\": \"\"}}, \"title\": {\"x\": 0.05}, \"xaxis\": {\"automargin\": true, \"gridcolor\": \"white\", \"linecolor\": \"white\", \"ticks\": \"\", \"zerolinecolor\": \"white\", \"zerolinewidth\": 2}, \"yaxis\": {\"automargin\": true, \"gridcolor\": \"white\", \"linecolor\": \"white\", \"ticks\": \"\", \"zerolinecolor\": \"white\", \"zerolinewidth\": 2}}}, \"title\": {\"text\": \"Score Distribution For Teams by Innings\"}, \"grid\": {\"xaxes\": [\"x\"], \"yaxes\": [\"y\"], \"xgap\": 0.1, \"ygap\": 0.1, \"xside\": \"bottom\", \"yside\": \"left\"}, \"xaxis\": {\"title\": {\"text\": \"batting_team\"}}, \"yaxis\": {\"title\": {\"text\": \"total_runs\"}}}, {\"showLink\": false, \"linkText\": \"Export to plot.ly\", \"plotlyServerURL\": \"https://plot.ly\"}); \n",
       "}\n",
       "});</script><script type=\"text/javascript\">window.addEventListener(\"resize\", function(){if (document.getElementById(\"c1ce1a0f-4167-4c87-94bd-77d5a6b3551f\")) {window._Plotly.Plots.resize(document.getElementById(\"c1ce1a0f-4167-4c87-94bd-77d5a6b3551f\"));};})</script>"
      ]
     },
     "metadata": {},
     "output_type": "display_data"
    }
   ],
   "source": [
    "px.box(scores, x=\"batting_team\", y=\"total_runs\", title=\"Score Distribution For Teams by Innings\")"
   ]
  },
  {
   "cell_type": "code",
   "execution_count": 30,
   "metadata": {},
   "outputs": [
    {
     "data": {
      "application/vnd.plotly.v1+json": {
       "config": {
        "linkText": "Export to plot.ly",
        "plotlyServerURL": "https://plot.ly",
        "showLink": false
       },
       "data": [
        {
         "alignmentgroup": "True",
         "hovertemplate": "batsman=CH Gayle<br>season=%{x}<br>batsman_runs=%{y}<extra></extra>",
         "legendgroup": "batsman=CH Gayle",
         "marker": {
          "color": "#636efa"
         },
         "name": "batsman=CH Gayle",
         "offsetgroup": "batsman=CH Gayle",
         "orientation": "v",
         "showlegend": true,
         "textposition": "auto",
         "type": "bar",
         "uid": "f026cdd2-d461-4d76-8acc-e70954b56711",
         "x": [
          2012,
          2011
         ],
         "xaxis": "x",
         "y": [
          733,
          608
         ],
         "yaxis": "y"
        },
        {
         "alignmentgroup": "True",
         "hovertemplate": "batsman=DA Warner<br>season=%{x}<br>batsman_runs=%{y}<extra></extra>",
         "legendgroup": "batsman=DA Warner",
         "marker": {
          "color": "#EF553B"
         },
         "name": "batsman=DA Warner",
         "offsetgroup": "batsman=DA Warner",
         "orientation": "v",
         "showlegend": true,
         "textposition": "auto",
         "type": "bar",
         "uid": "2dff126f-ab4b-48c5-bed1-2b475aac4f80",
         "x": [
          2017,
          2015
         ],
         "xaxis": "x",
         "y": [
          641,
          562
         ],
         "yaxis": "y"
        },
        {
         "alignmentgroup": "True",
         "hovertemplate": "batsman=MEK Hussey<br>season=%{x}<br>batsman_runs=%{y}<extra></extra>",
         "legendgroup": "batsman=MEK Hussey",
         "marker": {
          "color": "#00cc96"
         },
         "name": "batsman=MEK Hussey",
         "offsetgroup": "batsman=MEK Hussey",
         "orientation": "v",
         "showlegend": true,
         "textposition": "auto",
         "type": "bar",
         "uid": "a920f4f2-e534-46f3-aa49-712095958790",
         "x": [
          2013
         ],
         "xaxis": "x",
         "y": [
          733
         ],
         "yaxis": "y"
        },
        {
         "alignmentgroup": "True",
         "hovertemplate": "batsman=ML Hayden<br>season=%{x}<br>batsman_runs=%{y}<extra></extra>",
         "legendgroup": "batsman=ML Hayden",
         "marker": {
          "color": "#ab63fa"
         },
         "name": "batsman=ML Hayden",
         "offsetgroup": "batsman=ML Hayden",
         "orientation": "v",
         "showlegend": true,
         "textposition": "auto",
         "type": "bar",
         "uid": "81f06b32-4b0b-4e2e-8d24-a1bfe5cfd310",
         "x": [
          2009
         ],
         "xaxis": "x",
         "y": [
          572
         ],
         "yaxis": "y"
        },
        {
         "alignmentgroup": "True",
         "hovertemplate": "batsman=RV Uthappa<br>season=%{x}<br>batsman_runs=%{y}<extra></extra>",
         "legendgroup": "batsman=RV Uthappa",
         "marker": {
          "color": "#19d3f3"
         },
         "name": "batsman=RV Uthappa",
         "offsetgroup": "batsman=RV Uthappa",
         "orientation": "v",
         "showlegend": true,
         "textposition": "auto",
         "type": "bar",
         "uid": "a3caba8f-1ea6-46ff-bc5e-855424658b2c",
         "x": [
          2014
         ],
         "xaxis": "x",
         "y": [
          660
         ],
         "yaxis": "y"
        },
        {
         "alignmentgroup": "True",
         "hovertemplate": "batsman=SE Marsh<br>season=%{x}<br>batsman_runs=%{y}<extra></extra>",
         "legendgroup": "batsman=SE Marsh",
         "marker": {
          "color": "#e763fa"
         },
         "name": "batsman=SE Marsh",
         "offsetgroup": "batsman=SE Marsh",
         "orientation": "v",
         "showlegend": true,
         "textposition": "auto",
         "type": "bar",
         "uid": "77039733-9ab8-41e2-a39a-3cd345133bff",
         "x": [
          2008
         ],
         "xaxis": "x",
         "y": [
          616
         ],
         "yaxis": "y"
        },
        {
         "alignmentgroup": "True",
         "hovertemplate": "batsman=SR Tendulkar<br>season=%{x}<br>batsman_runs=%{y}<extra></extra>",
         "legendgroup": "batsman=SR Tendulkar",
         "marker": {
          "color": "#fecb52"
         },
         "name": "batsman=SR Tendulkar",
         "offsetgroup": "batsman=SR Tendulkar",
         "orientation": "v",
         "showlegend": true,
         "textposition": "auto",
         "type": "bar",
         "uid": "f23fa886-bce2-4ccd-a3bc-636bf1ae0e98",
         "x": [
          2010
         ],
         "xaxis": "x",
         "y": [
          618
         ],
         "yaxis": "y"
        },
        {
         "alignmentgroup": "True",
         "hovertemplate": "batsman=V Kohli<br>season=%{x}<br>batsman_runs=%{y}<extra></extra>",
         "legendgroup": "batsman=V Kohli",
         "marker": {
          "color": "#ffa15a"
         },
         "name": "batsman=V Kohli",
         "offsetgroup": "batsman=V Kohli",
         "orientation": "v",
         "showlegend": true,
         "textposition": "auto",
         "type": "bar",
         "uid": "dca49445-370d-45aa-83e0-2e20c1ec895b",
         "x": [
          2016
         ],
         "xaxis": "x",
         "y": [
          973
         ],
         "yaxis": "y"
        }
       ],
       "layout": {
        "barmode": "relative",
        "grid": {
         "xaxes": [
          "x"
         ],
         "xgap": 0.1,
         "xside": "bottom",
         "yaxes": [
          "y"
         ],
         "ygap": 0.1,
         "yside": "left"
        },
        "height": 600,
        "legend": {
         "tracegroupgap": 0
        },
        "template": {
         "data": {
          "bar": [
           {
            "marker": {
             "line": {
              "color": "#E5ECF6",
              "width": 0.5
             }
            },
            "type": "bar"
           }
          ],
          "barpolar": [
           {
            "marker": {
             "line": {
              "color": "#E5ECF6",
              "width": 0.5
             }
            },
            "type": "barpolar"
           }
          ],
          "carpet": [
           {
            "aaxis": {
             "endlinecolor": "#2a3f5f",
             "gridcolor": "white",
             "linecolor": "white",
             "minorgridcolor": "white",
             "startlinecolor": "#2a3f5f"
            },
            "baxis": {
             "endlinecolor": "#2a3f5f",
             "gridcolor": "white",
             "linecolor": "white",
             "minorgridcolor": "white",
             "startlinecolor": "#2a3f5f"
            },
            "type": "carpet"
           }
          ],
          "choropleth": [
           {
            "colorbar": {
             "outlinewidth": 0,
             "ticks": ""
            },
            "type": "choropleth"
           }
          ],
          "contour": [
           {
            "autocolorscale": true,
            "colorbar": {
             "outlinewidth": 0,
             "ticks": ""
            },
            "type": "contour"
           }
          ],
          "contourcarpet": [
           {
            "colorbar": {
             "outlinewidth": 0,
             "ticks": ""
            },
            "type": "contourcarpet"
           }
          ],
          "heatmap": [
           {
            "autocolorscale": true,
            "colorbar": {
             "outlinewidth": 0,
             "ticks": ""
            },
            "type": "heatmap"
           }
          ],
          "heatmapgl": [
           {
            "colorbar": {
             "outlinewidth": 0,
             "ticks": ""
            },
            "type": "heatmapgl"
           }
          ],
          "histogram": [
           {
            "marker": {
             "colorbar": {
              "outlinewidth": 0,
              "ticks": ""
             }
            },
            "type": "histogram"
           }
          ],
          "histogram2d": [
           {
            "autocolorscale": true,
            "colorbar": {
             "outlinewidth": 0,
             "ticks": ""
            },
            "type": "histogram2d"
           }
          ],
          "histogram2dcontour": [
           {
            "autocolorscale": true,
            "colorbar": {
             "outlinewidth": 0,
             "ticks": ""
            },
            "type": "histogram2dcontour"
           }
          ],
          "mesh3d": [
           {
            "colorbar": {
             "outlinewidth": 0,
             "ticks": ""
            },
            "type": "mesh3d"
           }
          ],
          "parcoords": [
           {
            "line": {
             "colorbar": {
              "outlinewidth": 0,
              "ticks": ""
             }
            },
            "type": "parcoords"
           }
          ],
          "scatter": [
           {
            "marker": {
             "colorbar": {
              "outlinewidth": 0,
              "ticks": ""
             }
            },
            "type": "scatter"
           }
          ],
          "scatter3d": [
           {
            "marker": {
             "colorbar": {
              "outlinewidth": 0,
              "ticks": ""
             }
            },
            "type": "scatter3d"
           }
          ],
          "scattercarpet": [
           {
            "marker": {
             "colorbar": {
              "outlinewidth": 0,
              "ticks": ""
             }
            },
            "type": "scattercarpet"
           }
          ],
          "scattergeo": [
           {
            "marker": {
             "colorbar": {
              "outlinewidth": 0,
              "ticks": ""
             }
            },
            "type": "scattergeo"
           }
          ],
          "scattergl": [
           {
            "marker": {
             "colorbar": {
              "outlinewidth": 0,
              "ticks": ""
             }
            },
            "type": "scattergl"
           }
          ],
          "scattermapbox": [
           {
            "marker": {
             "colorbar": {
              "outlinewidth": 0,
              "ticks": ""
             }
            },
            "type": "scattermapbox"
           }
          ],
          "scatterpolar": [
           {
            "marker": {
             "colorbar": {
              "outlinewidth": 0,
              "ticks": ""
             }
            },
            "type": "scatterpolar"
           }
          ],
          "scatterpolargl": [
           {
            "marker": {
             "colorbar": {
              "outlinewidth": 0,
              "ticks": ""
             }
            },
            "type": "scatterpolargl"
           }
          ],
          "scatterternary": [
           {
            "marker": {
             "colorbar": {
              "outlinewidth": 0,
              "ticks": ""
             }
            },
            "type": "scatterternary"
           }
          ],
          "surface": [
           {
            "colorbar": {
             "outlinewidth": 0,
             "ticks": ""
            },
            "type": "surface"
           }
          ],
          "table": [
           {
            "cells": {
             "fill": {
              "color": "#EBF0F8"
             },
             "line": {
              "color": "white"
             }
            },
            "header": {
             "fill": {
              "color": "#C8D4E3"
             },
             "line": {
              "color": "white"
             }
            },
            "type": "table"
           }
          ]
         },
         "layout": {
          "annotationdefaults": {
           "arrowcolor": "#506784",
           "arrowhead": 0,
           "arrowwidth": 1
          },
          "colorscale": {
           "diverging": [
            [
             0,
             "#8e0152"
            ],
            [
             0.1,
             "#c51b7d"
            ],
            [
             0.2,
             "#de77ae"
            ],
            [
             0.3,
             "#f1b6da"
            ],
            [
             0.4,
             "#fde0ef"
            ],
            [
             0.5,
             "#f7f7f7"
            ],
            [
             0.6,
             "#e6f5d0"
            ],
            [
             0.7,
             "#b8e186"
            ],
            [
             0.8,
             "#7fbc41"
            ],
            [
             0.9,
             "#4d9221"
            ],
            [
             1,
             "#276419"
            ]
           ],
           "sequential": [
            [
             0,
             "#0508b8"
            ],
            [
             0.0893854748603352,
             "#1910d8"
            ],
            [
             0.1787709497206704,
             "#3c19f0"
            ],
            [
             0.2681564245810056,
             "#6b1cfb"
            ],
            [
             0.3575418994413408,
             "#981cfd"
            ],
            [
             0.44692737430167595,
             "#bf1cfd"
            ],
            [
             0.5363128491620112,
             "#dd2bfd"
            ],
            [
             0.6256983240223464,
             "#f246fe"
            ],
            [
             0.7150837988826816,
             "#fc67fd"
            ],
            [
             0.8044692737430168,
             "#fe88fc"
            ],
            [
             0.8938547486033519,
             "#fea5fd"
            ],
            [
             0.9832402234636871,
             "#febefe"
            ],
            [
             1,
             "#fec3fe"
            ]
           ],
           "sequentialminus": [
            [
             0,
             "#0508b8"
            ],
            [
             0.0893854748603352,
             "#1910d8"
            ],
            [
             0.1787709497206704,
             "#3c19f0"
            ],
            [
             0.2681564245810056,
             "#6b1cfb"
            ],
            [
             0.3575418994413408,
             "#981cfd"
            ],
            [
             0.44692737430167595,
             "#bf1cfd"
            ],
            [
             0.5363128491620112,
             "#dd2bfd"
            ],
            [
             0.6256983240223464,
             "#f246fe"
            ],
            [
             0.7150837988826816,
             "#fc67fd"
            ],
            [
             0.8044692737430168,
             "#fe88fc"
            ],
            [
             0.8938547486033519,
             "#fea5fd"
            ],
            [
             0.9832402234636871,
             "#febefe"
            ],
            [
             1,
             "#fec3fe"
            ]
           ]
          },
          "colorway": [
           "#636efa",
           "#EF553B",
           "#00cc96",
           "#ab63fa",
           "#19d3f3",
           "#e763fa",
           "#FECB52",
           "#FFA15A",
           "#FF6692",
           "#B6E880"
          ],
          "font": {
           "color": "#2a3f5f"
          },
          "geo": {
           "bgcolor": "white",
           "lakecolor": "white",
           "landcolor": "#E5ECF6",
           "showlakes": true,
           "showland": true,
           "subunitcolor": "white"
          },
          "hovermode": "closest",
          "mapbox": {
           "style": "light"
          },
          "paper_bgcolor": "white",
          "plot_bgcolor": "#E5ECF6",
          "polar": {
           "angularaxis": {
            "gridcolor": "white",
            "linecolor": "white",
            "ticks": ""
           },
           "bgcolor": "#E5ECF6",
           "radialaxis": {
            "gridcolor": "white",
            "linecolor": "white",
            "ticks": ""
           }
          },
          "scene": {
           "xaxis": {
            "backgroundcolor": "#E5ECF6",
            "gridcolor": "white",
            "gridwidth": 2,
            "linecolor": "white",
            "showbackground": true,
            "ticks": "",
            "zerolinecolor": "white"
           },
           "yaxis": {
            "backgroundcolor": "#E5ECF6",
            "gridcolor": "white",
            "gridwidth": 2,
            "linecolor": "white",
            "showbackground": true,
            "ticks": "",
            "zerolinecolor": "white"
           },
           "zaxis": {
            "backgroundcolor": "#E5ECF6",
            "gridcolor": "white",
            "gridwidth": 2,
            "linecolor": "white",
            "showbackground": true,
            "ticks": "",
            "zerolinecolor": "white"
           }
          },
          "shapedefaults": {
           "fillcolor": "#506784",
           "line": {
            "width": 0
           },
           "opacity": 0.4
          },
          "ternary": {
           "aaxis": {
            "gridcolor": "white",
            "linecolor": "white",
            "ticks": ""
           },
           "baxis": {
            "gridcolor": "white",
            "linecolor": "white",
            "ticks": ""
           },
           "bgcolor": "#E5ECF6",
           "caxis": {
            "gridcolor": "white",
            "linecolor": "white",
            "ticks": ""
           }
          },
          "title": {
           "x": 0.05
          },
          "xaxis": {
           "automargin": true,
           "gridcolor": "white",
           "linecolor": "white",
           "ticks": "",
           "zerolinecolor": "white",
           "zerolinewidth": 2
          },
          "yaxis": {
           "automargin": true,
           "gridcolor": "white",
           "linecolor": "white",
           "ticks": "",
           "zerolinecolor": "white",
           "zerolinewidth": 2
          }
         }
        },
        "title": {
         "text": "Highest Run Getter per Season"
        },
        "xaxis": {
         "title": {
          "text": "season"
         }
        },
        "yaxis": {
         "title": {
          "text": "batsman_runs"
         }
        }
       }
      },
      "text/html": [
       "<div id=\"473c2f23-dff1-4f58-87c0-9f1a9633f7b2\" style=\"height: 600px; width: 100%;\" class=\"plotly-graph-div\"></div><script type=\"text/javascript\">require([\"plotly\"], function(Plotly) { window.PLOTLYENV=window.PLOTLYENV || {};window.PLOTLYENV.BASE_URL=\"https://plot.ly\";\n",
       "if (document.getElementById(\"473c2f23-dff1-4f58-87c0-9f1a9633f7b2\")) {\n",
       "    Plotly.newPlot(\"473c2f23-dff1-4f58-87c0-9f1a9633f7b2\", [{\"alignmentgroup\": \"True\", \"hovertemplate\": \"batsman=CH Gayle<br>season=%{x}<br>batsman_runs=%{y}<extra></extra>\", \"legendgroup\": \"batsman=CH Gayle\", \"marker\": {\"color\": \"#636efa\"}, \"name\": \"batsman=CH Gayle\", \"offsetgroup\": \"batsman=CH Gayle\", \"orientation\": \"v\", \"showlegend\": true, \"textposition\": \"auto\", \"x\": [2012, 2011], \"xaxis\": \"x\", \"y\": [733, 608], \"yaxis\": \"y\", \"type\": \"bar\", \"uid\": \"f026cdd2-d461-4d76-8acc-e70954b56711\"}, {\"alignmentgroup\": \"True\", \"hovertemplate\": \"batsman=DA Warner<br>season=%{x}<br>batsman_runs=%{y}<extra></extra>\", \"legendgroup\": \"batsman=DA Warner\", \"marker\": {\"color\": \"#EF553B\"}, \"name\": \"batsman=DA Warner\", \"offsetgroup\": \"batsman=DA Warner\", \"orientation\": \"v\", \"showlegend\": true, \"textposition\": \"auto\", \"x\": [2017, 2015], \"xaxis\": \"x\", \"y\": [641, 562], \"yaxis\": \"y\", \"type\": \"bar\", \"uid\": \"2dff126f-ab4b-48c5-bed1-2b475aac4f80\"}, {\"alignmentgroup\": \"True\", \"hovertemplate\": \"batsman=MEK Hussey<br>season=%{x}<br>batsman_runs=%{y}<extra></extra>\", \"legendgroup\": \"batsman=MEK Hussey\", \"marker\": {\"color\": \"#00cc96\"}, \"name\": \"batsman=MEK Hussey\", \"offsetgroup\": \"batsman=MEK Hussey\", \"orientation\": \"v\", \"showlegend\": true, \"textposition\": \"auto\", \"x\": [2013], \"xaxis\": \"x\", \"y\": [733], \"yaxis\": \"y\", \"type\": \"bar\", \"uid\": \"a920f4f2-e534-46f3-aa49-712095958790\"}, {\"alignmentgroup\": \"True\", \"hovertemplate\": \"batsman=ML Hayden<br>season=%{x}<br>batsman_runs=%{y}<extra></extra>\", \"legendgroup\": \"batsman=ML Hayden\", \"marker\": {\"color\": \"#ab63fa\"}, \"name\": \"batsman=ML Hayden\", \"offsetgroup\": \"batsman=ML Hayden\", \"orientation\": \"v\", \"showlegend\": true, \"textposition\": \"auto\", \"x\": [2009], \"xaxis\": \"x\", \"y\": [572], \"yaxis\": \"y\", \"type\": \"bar\", \"uid\": \"81f06b32-4b0b-4e2e-8d24-a1bfe5cfd310\"}, {\"alignmentgroup\": \"True\", \"hovertemplate\": \"batsman=RV Uthappa<br>season=%{x}<br>batsman_runs=%{y}<extra></extra>\", \"legendgroup\": \"batsman=RV Uthappa\", \"marker\": {\"color\": \"#19d3f3\"}, \"name\": \"batsman=RV Uthappa\", \"offsetgroup\": \"batsman=RV Uthappa\", \"orientation\": \"v\", \"showlegend\": true, \"textposition\": \"auto\", \"x\": [2014], \"xaxis\": \"x\", \"y\": [660], \"yaxis\": \"y\", \"type\": \"bar\", \"uid\": \"a3caba8f-1ea6-46ff-bc5e-855424658b2c\"}, {\"alignmentgroup\": \"True\", \"hovertemplate\": \"batsman=SE Marsh<br>season=%{x}<br>batsman_runs=%{y}<extra></extra>\", \"legendgroup\": \"batsman=SE Marsh\", \"marker\": {\"color\": \"#e763fa\"}, \"name\": \"batsman=SE Marsh\", \"offsetgroup\": \"batsman=SE Marsh\", \"orientation\": \"v\", \"showlegend\": true, \"textposition\": \"auto\", \"x\": [2008], \"xaxis\": \"x\", \"y\": [616], \"yaxis\": \"y\", \"type\": \"bar\", \"uid\": \"77039733-9ab8-41e2-a39a-3cd345133bff\"}, {\"alignmentgroup\": \"True\", \"hovertemplate\": \"batsman=SR Tendulkar<br>season=%{x}<br>batsman_runs=%{y}<extra></extra>\", \"legendgroup\": \"batsman=SR Tendulkar\", \"marker\": {\"color\": \"#fecb52\"}, \"name\": \"batsman=SR Tendulkar\", \"offsetgroup\": \"batsman=SR Tendulkar\", \"orientation\": \"v\", \"showlegend\": true, \"textposition\": \"auto\", \"x\": [2010], \"xaxis\": \"x\", \"y\": [618], \"yaxis\": \"y\", \"type\": \"bar\", \"uid\": \"f23fa886-bce2-4ccd-a3bc-636bf1ae0e98\"}, {\"alignmentgroup\": \"True\", \"hovertemplate\": \"batsman=V Kohli<br>season=%{x}<br>batsman_runs=%{y}<extra></extra>\", \"legendgroup\": \"batsman=V Kohli\", \"marker\": {\"color\": \"#ffa15a\"}, \"name\": \"batsman=V Kohli\", \"offsetgroup\": \"batsman=V Kohli\", \"orientation\": \"v\", \"showlegend\": true, \"textposition\": \"auto\", \"x\": [2016], \"xaxis\": \"x\", \"y\": [973], \"yaxis\": \"y\", \"type\": \"bar\", \"uid\": \"dca49445-370d-45aa-83e0-2e20c1ec895b\"}], {\"barmode\": \"relative\", \"height\": 600, \"legend\": {\"tracegroupgap\": 0}, \"template\": {\"data\": {\"barpolar\": [{\"marker\": {\"line\": {\"color\": \"#E5ECF6\", \"width\": 0.5}}, \"type\": \"barpolar\"}], \"bar\": [{\"marker\": {\"line\": {\"color\": \"#E5ECF6\", \"width\": 0.5}}, \"type\": \"bar\"}], \"carpet\": [{\"aaxis\": {\"endlinecolor\": \"#2a3f5f\", \"gridcolor\": \"white\", \"linecolor\": \"white\", \"minorgridcolor\": \"white\", \"startlinecolor\": \"#2a3f5f\"}, \"baxis\": {\"endlinecolor\": \"#2a3f5f\", \"gridcolor\": \"white\", \"linecolor\": \"white\", \"minorgridcolor\": \"white\", \"startlinecolor\": \"#2a3f5f\"}, \"type\": \"carpet\"}], \"choropleth\": [{\"colorbar\": {\"outlinewidth\": 0, \"ticks\": \"\"}, \"type\": \"choropleth\"}], \"contourcarpet\": [{\"colorbar\": {\"outlinewidth\": 0, \"ticks\": \"\"}, \"type\": \"contourcarpet\"}], \"contour\": [{\"autocolorscale\": true, \"colorbar\": {\"outlinewidth\": 0, \"ticks\": \"\"}, \"type\": \"contour\"}], \"heatmapgl\": [{\"colorbar\": {\"outlinewidth\": 0, \"ticks\": \"\"}, \"type\": \"heatmapgl\"}], \"heatmap\": [{\"autocolorscale\": true, \"colorbar\": {\"outlinewidth\": 0, \"ticks\": \"\"}, \"type\": \"heatmap\"}], \"histogram2dcontour\": [{\"autocolorscale\": true, \"colorbar\": {\"outlinewidth\": 0, \"ticks\": \"\"}, \"type\": \"histogram2dcontour\"}], \"histogram2d\": [{\"autocolorscale\": true, \"colorbar\": {\"outlinewidth\": 0, \"ticks\": \"\"}, \"type\": \"histogram2d\"}], \"histogram\": [{\"marker\": {\"colorbar\": {\"outlinewidth\": 0, \"ticks\": \"\"}}, \"type\": \"histogram\"}], \"mesh3d\": [{\"colorbar\": {\"outlinewidth\": 0, \"ticks\": \"\"}, \"type\": \"mesh3d\"}], \"parcoords\": [{\"line\": {\"colorbar\": {\"outlinewidth\": 0, \"ticks\": \"\"}}, \"type\": \"parcoords\"}], \"scatter3d\": [{\"marker\": {\"colorbar\": {\"outlinewidth\": 0, \"ticks\": \"\"}}, \"type\": \"scatter3d\"}], \"scattercarpet\": [{\"marker\": {\"colorbar\": {\"outlinewidth\": 0, \"ticks\": \"\"}}, \"type\": \"scattercarpet\"}], \"scattergeo\": [{\"marker\": {\"colorbar\": {\"outlinewidth\": 0, \"ticks\": \"\"}}, \"type\": \"scattergeo\"}], \"scattergl\": [{\"marker\": {\"colorbar\": {\"outlinewidth\": 0, \"ticks\": \"\"}}, \"type\": \"scattergl\"}], \"scattermapbox\": [{\"marker\": {\"colorbar\": {\"outlinewidth\": 0, \"ticks\": \"\"}}, \"type\": \"scattermapbox\"}], \"scatterpolargl\": [{\"marker\": {\"colorbar\": {\"outlinewidth\": 0, \"ticks\": \"\"}}, \"type\": \"scatterpolargl\"}], \"scatterpolar\": [{\"marker\": {\"colorbar\": {\"outlinewidth\": 0, \"ticks\": \"\"}}, \"type\": \"scatterpolar\"}], \"scatter\": [{\"marker\": {\"colorbar\": {\"outlinewidth\": 0, \"ticks\": \"\"}}, \"type\": \"scatter\"}], \"scatterternary\": [{\"marker\": {\"colorbar\": {\"outlinewidth\": 0, \"ticks\": \"\"}}, \"type\": \"scatterternary\"}], \"surface\": [{\"colorbar\": {\"outlinewidth\": 0, \"ticks\": \"\"}, \"type\": \"surface\"}], \"table\": [{\"cells\": {\"fill\": {\"color\": \"#EBF0F8\"}, \"line\": {\"color\": \"white\"}}, \"header\": {\"fill\": {\"color\": \"#C8D4E3\"}, \"line\": {\"color\": \"white\"}}, \"type\": \"table\"}]}, \"layout\": {\"annotationdefaults\": {\"arrowcolor\": \"#506784\", \"arrowhead\": 0, \"arrowwidth\": 1}, \"colorscale\": {\"diverging\": [[0, \"#8e0152\"], [0.1, \"#c51b7d\"], [0.2, \"#de77ae\"], [0.3, \"#f1b6da\"], [0.4, \"#fde0ef\"], [0.5, \"#f7f7f7\"], [0.6, \"#e6f5d0\"], [0.7, \"#b8e186\"], [0.8, \"#7fbc41\"], [0.9, \"#4d9221\"], [1, \"#276419\"]], \"sequential\": [[0.0, \"#0508b8\"], [0.0893854748603352, \"#1910d8\"], [0.1787709497206704, \"#3c19f0\"], [0.2681564245810056, \"#6b1cfb\"], [0.3575418994413408, \"#981cfd\"], [0.44692737430167595, \"#bf1cfd\"], [0.5363128491620112, \"#dd2bfd\"], [0.6256983240223464, \"#f246fe\"], [0.7150837988826816, \"#fc67fd\"], [0.8044692737430168, \"#fe88fc\"], [0.8938547486033519, \"#fea5fd\"], [0.9832402234636871, \"#febefe\"], [1.0, \"#fec3fe\"]], \"sequentialminus\": [[0.0, \"#0508b8\"], [0.0893854748603352, \"#1910d8\"], [0.1787709497206704, \"#3c19f0\"], [0.2681564245810056, \"#6b1cfb\"], [0.3575418994413408, \"#981cfd\"], [0.44692737430167595, \"#bf1cfd\"], [0.5363128491620112, \"#dd2bfd\"], [0.6256983240223464, \"#f246fe\"], [0.7150837988826816, \"#fc67fd\"], [0.8044692737430168, \"#fe88fc\"], [0.8938547486033519, \"#fea5fd\"], [0.9832402234636871, \"#febefe\"], [1.0, \"#fec3fe\"]]}, \"colorway\": [\"#636efa\", \"#EF553B\", \"#00cc96\", \"#ab63fa\", \"#19d3f3\", \"#e763fa\", \"#FECB52\", \"#FFA15A\", \"#FF6692\", \"#B6E880\"], \"font\": {\"color\": \"#2a3f5f\"}, \"geo\": {\"bgcolor\": \"white\", \"lakecolor\": \"white\", \"landcolor\": \"#E5ECF6\", \"showlakes\": true, \"showland\": true, \"subunitcolor\": \"white\"}, \"hovermode\": \"closest\", \"mapbox\": {\"style\": \"light\"}, \"paper_bgcolor\": \"white\", \"plot_bgcolor\": \"#E5ECF6\", \"polar\": {\"angularaxis\": {\"gridcolor\": \"white\", \"linecolor\": \"white\", \"ticks\": \"\"}, \"bgcolor\": \"#E5ECF6\", \"radialaxis\": {\"gridcolor\": \"white\", \"linecolor\": \"white\", \"ticks\": \"\"}}, \"scene\": {\"xaxis\": {\"backgroundcolor\": \"#E5ECF6\", \"gridcolor\": \"white\", \"gridwidth\": 2, \"linecolor\": \"white\", \"showbackground\": true, \"ticks\": \"\", \"zerolinecolor\": \"white\"}, \"yaxis\": {\"backgroundcolor\": \"#E5ECF6\", \"gridcolor\": \"white\", \"gridwidth\": 2, \"linecolor\": \"white\", \"showbackground\": true, \"ticks\": \"\", \"zerolinecolor\": \"white\"}, \"zaxis\": {\"backgroundcolor\": \"#E5ECF6\", \"gridcolor\": \"white\", \"gridwidth\": 2, \"linecolor\": \"white\", \"showbackground\": true, \"ticks\": \"\", \"zerolinecolor\": \"white\"}}, \"shapedefaults\": {\"fillcolor\": \"#506784\", \"line\": {\"width\": 0}, \"opacity\": 0.4}, \"ternary\": {\"aaxis\": {\"gridcolor\": \"white\", \"linecolor\": \"white\", \"ticks\": \"\"}, \"baxis\": {\"gridcolor\": \"white\", \"linecolor\": \"white\", \"ticks\": \"\"}, \"bgcolor\": \"#E5ECF6\", \"caxis\": {\"gridcolor\": \"white\", \"linecolor\": \"white\", \"ticks\": \"\"}}, \"title\": {\"x\": 0.05}, \"xaxis\": {\"automargin\": true, \"gridcolor\": \"white\", \"linecolor\": \"white\", \"ticks\": \"\", \"zerolinecolor\": \"white\", \"zerolinewidth\": 2}, \"yaxis\": {\"automargin\": true, \"gridcolor\": \"white\", \"linecolor\": \"white\", \"ticks\": \"\", \"zerolinecolor\": \"white\", \"zerolinewidth\": 2}}}, \"title\": {\"text\": \"Highest Run Getter per Season\"}, \"grid\": {\"xaxes\": [\"x\"], \"yaxes\": [\"y\"], \"xgap\": 0.1, \"ygap\": 0.1, \"xside\": \"bottom\", \"yside\": \"left\"}, \"xaxis\": {\"title\": {\"text\": \"season\"}}, \"yaxis\": {\"title\": {\"text\": \"batsman_runs\"}}}, {\"showLink\": false, \"linkText\": \"Export to plot.ly\", \"plotlyServerURL\": \"https://plot.ly\"}); \n",
       "}\n",
       "});</script><script type=\"text/javascript\">window.addEventListener(\"resize\", function(){if (document.getElementById(\"473c2f23-dff1-4f58-87c0-9f1a9633f7b2\")) {window._Plotly.Plots.resize(document.getElementById(\"473c2f23-dff1-4f58-87c0-9f1a9633f7b2\"));};})</script>"
      ],
      "text/vnd.plotly.v1+html": [
       "<div id=\"473c2f23-dff1-4f58-87c0-9f1a9633f7b2\" style=\"height: 600px; width: 100%;\" class=\"plotly-graph-div\"></div><script type=\"text/javascript\">require([\"plotly\"], function(Plotly) { window.PLOTLYENV=window.PLOTLYENV || {};window.PLOTLYENV.BASE_URL=\"https://plot.ly\";\n",
       "if (document.getElementById(\"473c2f23-dff1-4f58-87c0-9f1a9633f7b2\")) {\n",
       "    Plotly.newPlot(\"473c2f23-dff1-4f58-87c0-9f1a9633f7b2\", [{\"alignmentgroup\": \"True\", \"hovertemplate\": \"batsman=CH Gayle<br>season=%{x}<br>batsman_runs=%{y}<extra></extra>\", \"legendgroup\": \"batsman=CH Gayle\", \"marker\": {\"color\": \"#636efa\"}, \"name\": \"batsman=CH Gayle\", \"offsetgroup\": \"batsman=CH Gayle\", \"orientation\": \"v\", \"showlegend\": true, \"textposition\": \"auto\", \"x\": [2012, 2011], \"xaxis\": \"x\", \"y\": [733, 608], \"yaxis\": \"y\", \"type\": \"bar\", \"uid\": \"f026cdd2-d461-4d76-8acc-e70954b56711\"}, {\"alignmentgroup\": \"True\", \"hovertemplate\": \"batsman=DA Warner<br>season=%{x}<br>batsman_runs=%{y}<extra></extra>\", \"legendgroup\": \"batsman=DA Warner\", \"marker\": {\"color\": \"#EF553B\"}, \"name\": \"batsman=DA Warner\", \"offsetgroup\": \"batsman=DA Warner\", \"orientation\": \"v\", \"showlegend\": true, \"textposition\": \"auto\", \"x\": [2017, 2015], \"xaxis\": \"x\", \"y\": [641, 562], \"yaxis\": \"y\", \"type\": \"bar\", \"uid\": \"2dff126f-ab4b-48c5-bed1-2b475aac4f80\"}, {\"alignmentgroup\": \"True\", \"hovertemplate\": \"batsman=MEK Hussey<br>season=%{x}<br>batsman_runs=%{y}<extra></extra>\", \"legendgroup\": \"batsman=MEK Hussey\", \"marker\": {\"color\": \"#00cc96\"}, \"name\": \"batsman=MEK Hussey\", \"offsetgroup\": \"batsman=MEK Hussey\", \"orientation\": \"v\", \"showlegend\": true, \"textposition\": \"auto\", \"x\": [2013], \"xaxis\": \"x\", \"y\": [733], \"yaxis\": \"y\", \"type\": \"bar\", \"uid\": \"a920f4f2-e534-46f3-aa49-712095958790\"}, {\"alignmentgroup\": \"True\", \"hovertemplate\": \"batsman=ML Hayden<br>season=%{x}<br>batsman_runs=%{y}<extra></extra>\", \"legendgroup\": \"batsman=ML Hayden\", \"marker\": {\"color\": \"#ab63fa\"}, \"name\": \"batsman=ML Hayden\", \"offsetgroup\": \"batsman=ML Hayden\", \"orientation\": \"v\", \"showlegend\": true, \"textposition\": \"auto\", \"x\": [2009], \"xaxis\": \"x\", \"y\": [572], \"yaxis\": \"y\", \"type\": \"bar\", \"uid\": \"81f06b32-4b0b-4e2e-8d24-a1bfe5cfd310\"}, {\"alignmentgroup\": \"True\", \"hovertemplate\": \"batsman=RV Uthappa<br>season=%{x}<br>batsman_runs=%{y}<extra></extra>\", \"legendgroup\": \"batsman=RV Uthappa\", \"marker\": {\"color\": \"#19d3f3\"}, \"name\": \"batsman=RV Uthappa\", \"offsetgroup\": \"batsman=RV Uthappa\", \"orientation\": \"v\", \"showlegend\": true, \"textposition\": \"auto\", \"x\": [2014], \"xaxis\": \"x\", \"y\": [660], \"yaxis\": \"y\", \"type\": \"bar\", \"uid\": \"a3caba8f-1ea6-46ff-bc5e-855424658b2c\"}, {\"alignmentgroup\": \"True\", \"hovertemplate\": \"batsman=SE Marsh<br>season=%{x}<br>batsman_runs=%{y}<extra></extra>\", \"legendgroup\": \"batsman=SE Marsh\", \"marker\": {\"color\": \"#e763fa\"}, \"name\": \"batsman=SE Marsh\", \"offsetgroup\": \"batsman=SE Marsh\", \"orientation\": \"v\", \"showlegend\": true, \"textposition\": \"auto\", \"x\": [2008], \"xaxis\": \"x\", \"y\": [616], \"yaxis\": \"y\", \"type\": \"bar\", \"uid\": \"77039733-9ab8-41e2-a39a-3cd345133bff\"}, {\"alignmentgroup\": \"True\", \"hovertemplate\": \"batsman=SR Tendulkar<br>season=%{x}<br>batsman_runs=%{y}<extra></extra>\", \"legendgroup\": \"batsman=SR Tendulkar\", \"marker\": {\"color\": \"#fecb52\"}, \"name\": \"batsman=SR Tendulkar\", \"offsetgroup\": \"batsman=SR Tendulkar\", \"orientation\": \"v\", \"showlegend\": true, \"textposition\": \"auto\", \"x\": [2010], \"xaxis\": \"x\", \"y\": [618], \"yaxis\": \"y\", \"type\": \"bar\", \"uid\": \"f23fa886-bce2-4ccd-a3bc-636bf1ae0e98\"}, {\"alignmentgroup\": \"True\", \"hovertemplate\": \"batsman=V Kohli<br>season=%{x}<br>batsman_runs=%{y}<extra></extra>\", \"legendgroup\": \"batsman=V Kohli\", \"marker\": {\"color\": \"#ffa15a\"}, \"name\": \"batsman=V Kohli\", \"offsetgroup\": \"batsman=V Kohli\", \"orientation\": \"v\", \"showlegend\": true, \"textposition\": \"auto\", \"x\": [2016], \"xaxis\": \"x\", \"y\": [973], \"yaxis\": \"y\", \"type\": \"bar\", \"uid\": \"dca49445-370d-45aa-83e0-2e20c1ec895b\"}], {\"barmode\": \"relative\", \"height\": 600, \"legend\": {\"tracegroupgap\": 0}, \"template\": {\"data\": {\"barpolar\": [{\"marker\": {\"line\": {\"color\": \"#E5ECF6\", \"width\": 0.5}}, \"type\": \"barpolar\"}], \"bar\": [{\"marker\": {\"line\": {\"color\": \"#E5ECF6\", \"width\": 0.5}}, \"type\": \"bar\"}], \"carpet\": [{\"aaxis\": {\"endlinecolor\": \"#2a3f5f\", \"gridcolor\": \"white\", \"linecolor\": \"white\", \"minorgridcolor\": \"white\", \"startlinecolor\": \"#2a3f5f\"}, \"baxis\": {\"endlinecolor\": \"#2a3f5f\", \"gridcolor\": \"white\", \"linecolor\": \"white\", \"minorgridcolor\": \"white\", \"startlinecolor\": \"#2a3f5f\"}, \"type\": \"carpet\"}], \"choropleth\": [{\"colorbar\": {\"outlinewidth\": 0, \"ticks\": \"\"}, \"type\": \"choropleth\"}], \"contourcarpet\": [{\"colorbar\": {\"outlinewidth\": 0, \"ticks\": \"\"}, \"type\": \"contourcarpet\"}], \"contour\": [{\"autocolorscale\": true, \"colorbar\": {\"outlinewidth\": 0, \"ticks\": \"\"}, \"type\": \"contour\"}], \"heatmapgl\": [{\"colorbar\": {\"outlinewidth\": 0, \"ticks\": \"\"}, \"type\": \"heatmapgl\"}], \"heatmap\": [{\"autocolorscale\": true, \"colorbar\": {\"outlinewidth\": 0, \"ticks\": \"\"}, \"type\": \"heatmap\"}], \"histogram2dcontour\": [{\"autocolorscale\": true, \"colorbar\": {\"outlinewidth\": 0, \"ticks\": \"\"}, \"type\": \"histogram2dcontour\"}], \"histogram2d\": [{\"autocolorscale\": true, \"colorbar\": {\"outlinewidth\": 0, \"ticks\": \"\"}, \"type\": \"histogram2d\"}], \"histogram\": [{\"marker\": {\"colorbar\": {\"outlinewidth\": 0, \"ticks\": \"\"}}, \"type\": \"histogram\"}], \"mesh3d\": [{\"colorbar\": {\"outlinewidth\": 0, \"ticks\": \"\"}, \"type\": \"mesh3d\"}], \"parcoords\": [{\"line\": {\"colorbar\": {\"outlinewidth\": 0, \"ticks\": \"\"}}, \"type\": \"parcoords\"}], \"scatter3d\": [{\"marker\": {\"colorbar\": {\"outlinewidth\": 0, \"ticks\": \"\"}}, \"type\": \"scatter3d\"}], \"scattercarpet\": [{\"marker\": {\"colorbar\": {\"outlinewidth\": 0, \"ticks\": \"\"}}, \"type\": \"scattercarpet\"}], \"scattergeo\": [{\"marker\": {\"colorbar\": {\"outlinewidth\": 0, \"ticks\": \"\"}}, \"type\": \"scattergeo\"}], \"scattergl\": [{\"marker\": {\"colorbar\": {\"outlinewidth\": 0, \"ticks\": \"\"}}, \"type\": \"scattergl\"}], \"scattermapbox\": [{\"marker\": {\"colorbar\": {\"outlinewidth\": 0, \"ticks\": \"\"}}, \"type\": \"scattermapbox\"}], \"scatterpolargl\": [{\"marker\": {\"colorbar\": {\"outlinewidth\": 0, \"ticks\": \"\"}}, \"type\": \"scatterpolargl\"}], \"scatterpolar\": [{\"marker\": {\"colorbar\": {\"outlinewidth\": 0, \"ticks\": \"\"}}, \"type\": \"scatterpolar\"}], \"scatter\": [{\"marker\": {\"colorbar\": {\"outlinewidth\": 0, \"ticks\": \"\"}}, \"type\": \"scatter\"}], \"scatterternary\": [{\"marker\": {\"colorbar\": {\"outlinewidth\": 0, \"ticks\": \"\"}}, \"type\": \"scatterternary\"}], \"surface\": [{\"colorbar\": {\"outlinewidth\": 0, \"ticks\": \"\"}, \"type\": \"surface\"}], \"table\": [{\"cells\": {\"fill\": {\"color\": \"#EBF0F8\"}, \"line\": {\"color\": \"white\"}}, \"header\": {\"fill\": {\"color\": \"#C8D4E3\"}, \"line\": {\"color\": \"white\"}}, \"type\": \"table\"}]}, \"layout\": {\"annotationdefaults\": {\"arrowcolor\": \"#506784\", \"arrowhead\": 0, \"arrowwidth\": 1}, \"colorscale\": {\"diverging\": [[0, \"#8e0152\"], [0.1, \"#c51b7d\"], [0.2, \"#de77ae\"], [0.3, \"#f1b6da\"], [0.4, \"#fde0ef\"], [0.5, \"#f7f7f7\"], [0.6, \"#e6f5d0\"], [0.7, \"#b8e186\"], [0.8, \"#7fbc41\"], [0.9, \"#4d9221\"], [1, \"#276419\"]], \"sequential\": [[0.0, \"#0508b8\"], [0.0893854748603352, \"#1910d8\"], [0.1787709497206704, \"#3c19f0\"], [0.2681564245810056, \"#6b1cfb\"], [0.3575418994413408, \"#981cfd\"], [0.44692737430167595, \"#bf1cfd\"], [0.5363128491620112, \"#dd2bfd\"], [0.6256983240223464, \"#f246fe\"], [0.7150837988826816, \"#fc67fd\"], [0.8044692737430168, \"#fe88fc\"], [0.8938547486033519, \"#fea5fd\"], [0.9832402234636871, \"#febefe\"], [1.0, \"#fec3fe\"]], \"sequentialminus\": [[0.0, \"#0508b8\"], [0.0893854748603352, \"#1910d8\"], [0.1787709497206704, \"#3c19f0\"], [0.2681564245810056, \"#6b1cfb\"], [0.3575418994413408, \"#981cfd\"], [0.44692737430167595, \"#bf1cfd\"], [0.5363128491620112, \"#dd2bfd\"], [0.6256983240223464, \"#f246fe\"], [0.7150837988826816, \"#fc67fd\"], [0.8044692737430168, \"#fe88fc\"], [0.8938547486033519, \"#fea5fd\"], [0.9832402234636871, \"#febefe\"], [1.0, \"#fec3fe\"]]}, \"colorway\": [\"#636efa\", \"#EF553B\", \"#00cc96\", \"#ab63fa\", \"#19d3f3\", \"#e763fa\", \"#FECB52\", \"#FFA15A\", \"#FF6692\", \"#B6E880\"], \"font\": {\"color\": \"#2a3f5f\"}, \"geo\": {\"bgcolor\": \"white\", \"lakecolor\": \"white\", \"landcolor\": \"#E5ECF6\", \"showlakes\": true, \"showland\": true, \"subunitcolor\": \"white\"}, \"hovermode\": \"closest\", \"mapbox\": {\"style\": \"light\"}, \"paper_bgcolor\": \"white\", \"plot_bgcolor\": \"#E5ECF6\", \"polar\": {\"angularaxis\": {\"gridcolor\": \"white\", \"linecolor\": \"white\", \"ticks\": \"\"}, \"bgcolor\": \"#E5ECF6\", \"radialaxis\": {\"gridcolor\": \"white\", \"linecolor\": \"white\", \"ticks\": \"\"}}, \"scene\": {\"xaxis\": {\"backgroundcolor\": \"#E5ECF6\", \"gridcolor\": \"white\", \"gridwidth\": 2, \"linecolor\": \"white\", \"showbackground\": true, \"ticks\": \"\", \"zerolinecolor\": \"white\"}, \"yaxis\": {\"backgroundcolor\": \"#E5ECF6\", \"gridcolor\": \"white\", \"gridwidth\": 2, \"linecolor\": \"white\", \"showbackground\": true, \"ticks\": \"\", \"zerolinecolor\": \"white\"}, \"zaxis\": {\"backgroundcolor\": \"#E5ECF6\", \"gridcolor\": \"white\", \"gridwidth\": 2, \"linecolor\": \"white\", \"showbackground\": true, \"ticks\": \"\", \"zerolinecolor\": \"white\"}}, \"shapedefaults\": {\"fillcolor\": \"#506784\", \"line\": {\"width\": 0}, \"opacity\": 0.4}, \"ternary\": {\"aaxis\": {\"gridcolor\": \"white\", \"linecolor\": \"white\", \"ticks\": \"\"}, \"baxis\": {\"gridcolor\": \"white\", \"linecolor\": \"white\", \"ticks\": \"\"}, \"bgcolor\": \"#E5ECF6\", \"caxis\": {\"gridcolor\": \"white\", \"linecolor\": \"white\", \"ticks\": \"\"}}, \"title\": {\"x\": 0.05}, \"xaxis\": {\"automargin\": true, \"gridcolor\": \"white\", \"linecolor\": \"white\", \"ticks\": \"\", \"zerolinecolor\": \"white\", \"zerolinewidth\": 2}, \"yaxis\": {\"automargin\": true, \"gridcolor\": \"white\", \"linecolor\": \"white\", \"ticks\": \"\", \"zerolinecolor\": \"white\", \"zerolinewidth\": 2}}}, \"title\": {\"text\": \"Highest Run Getter per Season\"}, \"grid\": {\"xaxes\": [\"x\"], \"yaxes\": [\"y\"], \"xgap\": 0.1, \"ygap\": 0.1, \"xside\": \"bottom\", \"yside\": \"left\"}, \"xaxis\": {\"title\": {\"text\": \"season\"}}, \"yaxis\": {\"title\": {\"text\": \"batsman_runs\"}}}, {\"showLink\": false, \"linkText\": \"Export to plot.ly\", \"plotlyServerURL\": \"https://plot.ly\"}); \n",
       "}\n",
       "});</script><script type=\"text/javascript\">window.addEventListener(\"resize\", function(){if (document.getElementById(\"473c2f23-dff1-4f58-87c0-9f1a9633f7b2\")) {window._Plotly.Plots.resize(document.getElementById(\"473c2f23-dff1-4f58-87c0-9f1a9633f7b2\"));};})</script>"
      ]
     },
     "metadata": {},
     "output_type": "display_data"
    }
   ],
   "source": [
    "orange=matches[['id','season']]\n",
    "orange=orange.merge(delivery,left_on='id',right_on='match_id',how='left')\n",
    "orange=orange.groupby(['season','batsman'])['batsman_runs'].sum().reset_index()\n",
    "orange=orange.sort_values('batsman_runs',ascending=0)\n",
    "orange=orange.drop_duplicates(subset=[\"season\"],keep=\"first\")\n",
    "orange.sort_values(by='season')\n",
    "\n",
    "px.bar(orange, x=\"season\", y = \"batsman_runs\", color=\"batsman\", title=\"Highest Run Getter per Season\")"
   ]
  }
 ],
 "metadata": {
  "kernelspec": {
   "display_name": "Python 3",
   "language": "python",
   "name": "python3"
  },
  "language_info": {
   "codemirror_mode": {
    "name": "ipython",
    "version": 3
   },
   "file_extension": ".py",
   "mimetype": "text/x-python",
   "name": "python",
   "nbconvert_exporter": "python",
   "pygments_lexer": "ipython3",
   "version": "3.6.3"
  }
 },
 "nbformat": 4,
 "nbformat_minor": 2
}
