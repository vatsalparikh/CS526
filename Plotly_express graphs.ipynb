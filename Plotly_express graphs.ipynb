{
 "cells": [
  {
   "cell_type": "code",
   "execution_count": 2,
   "metadata": {},
   "outputs": [
    {
     "data": {
      "text/html": [
       "<script type=\"text/javascript\">window.PlotlyConfig = {MathJaxConfig: 'local'};</script><script type=\"text/javascript\">if (window.MathJax) {MathJax.Hub.Config({SVG: {font: \"STIX-Web\"}});}</script><script>requirejs.config({paths: { 'plotly': ['https://cdn.plot.ly/plotly-latest.min']},});if(!window._Plotly) {require(['plotly'],function(plotly) {window._Plotly=plotly;});}</script>"
      ],
      "text/vnd.plotly.v1+html": [
       "<script type=\"text/javascript\">window.PlotlyConfig = {MathJaxConfig: 'local'};</script><script type=\"text/javascript\">if (window.MathJax) {MathJax.Hub.Config({SVG: {font: \"STIX-Web\"}});}</script><script>requirejs.config({paths: { 'plotly': ['https://cdn.plot.ly/plotly-latest.min']},});if(!window._Plotly) {require(['plotly'],function(plotly) {window._Plotly=plotly;});}</script>"
      ]
     },
     "metadata": {},
     "output_type": "display_data"
    }
   ],
   "source": [
    "import numpy as np # linear algebra\n",
    "import pandas as pd # data processing, CSV file I/O (e.g. pd.read_csv)\n",
    "import matplotlib.pyplot as mlt\n",
    "import seaborn as sns\n",
    "mlt.style.use('fivethirtyeight')\n",
    "import plotly.offline as py\n",
    "py.init_notebook_mode(connected=True)\n",
    "import plotly.graph_objs as go\n",
    "import plotly.tools as tls\n",
    "import plotly_express as px"
   ]
  },
  {
   "cell_type": "code",
   "execution_count": 4,
   "metadata": {},
   "outputs": [
    {
     "data": {
      "text/html": [
       "<div>\n",
       "<style scoped>\n",
       "    .dataframe tbody tr th:only-of-type {\n",
       "        vertical-align: middle;\n",
       "    }\n",
       "\n",
       "    .dataframe tbody tr th {\n",
       "        vertical-align: top;\n",
       "    }\n",
       "\n",
       "    .dataframe thead th {\n",
       "        text-align: right;\n",
       "    }\n",
       "</style>\n",
       "<table border=\"1\" class=\"dataframe\">\n",
       "  <thead>\n",
       "    <tr style=\"text-align: right;\">\n",
       "      <th></th>\n",
       "      <th>match_id</th>\n",
       "      <th>inning</th>\n",
       "      <th>batting_team</th>\n",
       "      <th>bowling_team</th>\n",
       "      <th>over</th>\n",
       "      <th>ball</th>\n",
       "      <th>batsman</th>\n",
       "      <th>non_striker</th>\n",
       "      <th>bowler</th>\n",
       "      <th>is_super_over</th>\n",
       "      <th>...</th>\n",
       "      <th>bye_runs</th>\n",
       "      <th>legbye_runs</th>\n",
       "      <th>noball_runs</th>\n",
       "      <th>penalty_runs</th>\n",
       "      <th>batsman_runs</th>\n",
       "      <th>extra_runs</th>\n",
       "      <th>total_runs</th>\n",
       "      <th>player_dismissed</th>\n",
       "      <th>dismissal_kind</th>\n",
       "      <th>fielder</th>\n",
       "    </tr>\n",
       "  </thead>\n",
       "  <tbody>\n",
       "    <tr>\n",
       "      <th>0</th>\n",
       "      <td>1</td>\n",
       "      <td>1</td>\n",
       "      <td>Sunrisers Hyderabad</td>\n",
       "      <td>Royal Challengers Bangalore</td>\n",
       "      <td>1</td>\n",
       "      <td>1</td>\n",
       "      <td>DA Warner</td>\n",
       "      <td>S Dhawan</td>\n",
       "      <td>TS Mills</td>\n",
       "      <td>0</td>\n",
       "      <td>...</td>\n",
       "      <td>0</td>\n",
       "      <td>0</td>\n",
       "      <td>0</td>\n",
       "      <td>0</td>\n",
       "      <td>0</td>\n",
       "      <td>0</td>\n",
       "      <td>0</td>\n",
       "      <td>NaN</td>\n",
       "      <td>NaN</td>\n",
       "      <td>NaN</td>\n",
       "    </tr>\n",
       "    <tr>\n",
       "      <th>1</th>\n",
       "      <td>1</td>\n",
       "      <td>1</td>\n",
       "      <td>Sunrisers Hyderabad</td>\n",
       "      <td>Royal Challengers Bangalore</td>\n",
       "      <td>1</td>\n",
       "      <td>2</td>\n",
       "      <td>DA Warner</td>\n",
       "      <td>S Dhawan</td>\n",
       "      <td>TS Mills</td>\n",
       "      <td>0</td>\n",
       "      <td>...</td>\n",
       "      <td>0</td>\n",
       "      <td>0</td>\n",
       "      <td>0</td>\n",
       "      <td>0</td>\n",
       "      <td>0</td>\n",
       "      <td>0</td>\n",
       "      <td>0</td>\n",
       "      <td>NaN</td>\n",
       "      <td>NaN</td>\n",
       "      <td>NaN</td>\n",
       "    </tr>\n",
       "  </tbody>\n",
       "</table>\n",
       "<p>2 rows × 21 columns</p>\n",
       "</div>"
      ],
      "text/plain": [
       "   match_id  inning         batting_team                 bowling_team  over  \\\n",
       "0         1       1  Sunrisers Hyderabad  Royal Challengers Bangalore     1   \n",
       "1         1       1  Sunrisers Hyderabad  Royal Challengers Bangalore     1   \n",
       "\n",
       "   ball    batsman non_striker    bowler  is_super_over  ...  bye_runs  \\\n",
       "0     1  DA Warner    S Dhawan  TS Mills              0  ...         0   \n",
       "1     2  DA Warner    S Dhawan  TS Mills              0  ...         0   \n",
       "\n",
       "   legbye_runs  noball_runs  penalty_runs  batsman_runs  extra_runs  \\\n",
       "0            0            0             0             0           0   \n",
       "1            0            0             0             0           0   \n",
       "\n",
       "   total_runs  player_dismissed dismissal_kind fielder  \n",
       "0           0               NaN            NaN     NaN  \n",
       "1           0               NaN            NaN     NaN  \n",
       "\n",
       "[2 rows x 21 columns]"
      ]
     },
     "execution_count": 4,
     "metadata": {},
     "output_type": "execute_result"
    }
   ],
   "source": [
    "matches=pd.read_csv('Datacric/data/matches.csv')   \n",
    "delivery=pd.read_csv('Datacric/data/deliveries.csv')\n",
    "matches.head(2)\n",
    "delivery.head(2)"
   ]
  },
  {
   "cell_type": "code",
   "execution_count": 5,
   "metadata": {
    "collapsed": true
   },
   "outputs": [],
   "source": [
    "matches.drop(['umpire3'],axis=1,inplace=True)  #since all the values are NaN\n",
    "delivery.fillna(0,inplace=True)     #filling all the NaN values with 0\n",
    "matches['team1'].unique()\n",
    "#Replacing the Team Names with their abbreviations\n",
    "\n",
    "matches.replace(['Mumbai Indians','Kolkata Knight Riders','Royal Challengers Bangalore','Deccan Chargers','Chennai Super Kings',\n",
    "                 'Rajasthan Royals','Delhi Daredevils','Gujarat Lions','Kings XI Punjab',\n",
    "                 'Sunrisers Hyderabad','Rising Pune Supergiants','Kochi Tuskers Kerala','Pune Warriors','Rising Pune Supergiant']\n",
    "                ,['MI','KKR','RCB','DC','CSK','RR','DD','GL','KXIP','SRH','RPS','KTK','PW','RPS'],inplace=True)\n",
    "\n",
    "delivery.replace(['Mumbai Indians','Kolkata Knight Riders','Royal Challengers Bangalore','Deccan Chargers','Chennai Super Kings',\n",
    "                 'Rajasthan Royals','Delhi Daredevils','Gujarat Lions','Kings XI Punjab',\n",
    "                 'Sunrisers Hyderabad','Rising Pune Supergiants','Kochi Tuskers Kerala','Pune Warriors','Rising Pune Supergiant']\n",
    "                ,['MI','KKR','RCB','DC','CSK','RR','DD','GL','KXIP','SRH','RPS','KTK','PW','RPS'],inplace=True)"
   ]
  },
  {
   "cell_type": "code",
   "execution_count": 6,
   "metadata": {},
   "outputs": [
    {
     "data": {
      "text/html": [
       "<div>\n",
       "<style scoped>\n",
       "    .dataframe tbody tr th:only-of-type {\n",
       "        vertical-align: middle;\n",
       "    }\n",
       "\n",
       "    .dataframe tbody tr th {\n",
       "        vertical-align: top;\n",
       "    }\n",
       "\n",
       "    .dataframe thead th {\n",
       "        text-align: right;\n",
       "    }\n",
       "</style>\n",
       "<table border=\"1\" class=\"dataframe\">\n",
       "  <thead>\n",
       "    <tr style=\"text-align: right;\">\n",
       "      <th></th>\n",
       "      <th>bowler</th>\n",
       "      <th>runs_given</th>\n",
       "      <th>overs</th>\n",
       "      <th>wickets</th>\n",
       "      <th>economy</th>\n",
       "    </tr>\n",
       "  </thead>\n",
       "  <tbody>\n",
       "    <tr>\n",
       "      <th>5</th>\n",
       "      <td>A Mishra</td>\n",
       "      <td>3305</td>\n",
       "      <td>450</td>\n",
       "      <td>134.0</td>\n",
       "      <td>7.344444</td>\n",
       "    </tr>\n",
       "    <tr>\n",
       "      <th>7</th>\n",
       "      <td>A Nehra</td>\n",
       "      <td>2537</td>\n",
       "      <td>329</td>\n",
       "      <td>106.0</td>\n",
       "      <td>7.711246</td>\n",
       "    </tr>\n",
       "    <tr>\n",
       "      <th>50</th>\n",
       "      <td>B Kumar</td>\n",
       "      <td>2410</td>\n",
       "      <td>342</td>\n",
       "      <td>111.0</td>\n",
       "      <td>7.046784</td>\n",
       "    </tr>\n",
       "    <tr>\n",
       "      <th>88</th>\n",
       "      <td>DJ Bravo</td>\n",
       "      <td>2815</td>\n",
       "      <td>351</td>\n",
       "      <td>122.0</td>\n",
       "      <td>8.019943</td>\n",
       "    </tr>\n",
       "    <tr>\n",
       "      <th>103</th>\n",
       "      <td>DW Steyn</td>\n",
       "      <td>2375</td>\n",
       "      <td>359</td>\n",
       "      <td>92.0</td>\n",
       "      <td>6.615599</td>\n",
       "    </tr>\n",
       "  </tbody>\n",
       "</table>\n",
       "</div>"
      ],
      "text/plain": [
       "       bowler  runs_given  overs  wickets   economy\n",
       "5    A Mishra        3305    450    134.0  7.344444\n",
       "7     A Nehra        2537    329    106.0  7.711246\n",
       "50    B Kumar        2410    342    111.0  7.046784\n",
       "88   DJ Bravo        2815    351    122.0  8.019943\n",
       "103  DW Steyn        2375    359     92.0  6.615599"
      ]
     },
     "execution_count": 6,
     "metadata": {},
     "output_type": "execute_result"
    }
   ],
   "source": [
    "bowlers=delivery.groupby('bowler').sum().reset_index()\n",
    "bowl=delivery['bowler'].value_counts().reset_index()\n",
    "bowlers=bowlers.merge(bowl,left_on='bowler',right_on='index',how='left')\n",
    "bowlers=bowlers[['bowler_x','total_runs','bowler_y']]\n",
    "bowlers.rename({'bowler_x':'bowler','total_runs':'runs_given','bowler_y':'balls'},axis=1,inplace=True)\n",
    "bowlers['overs']=(bowlers['balls']//6)\n",
    "dismissal_kinds = [\"bowled\", \"caught\", \"lbw\", \"stumped\", \"caught and bowled\", \"hit wicket\"]  \n",
    "ct=delivery[delivery[\"dismissal_kind\"].isin(dismissal_kinds)]\n",
    "ct=ct['bowler'].value_counts()[:20].reset_index()\n",
    "bowlers=bowlers.merge(ct,left_on='bowler',right_on='index',how='left').dropna()\n",
    "bowlers=bowlers[['bowler_x','runs_given','overs','bowler_y']]\n",
    "bowlers.rename({'bowler_x':'bowler','bowler_y':'wickets'},axis=1,inplace=True)\n",
    "bowlers['economy']=(bowlers['runs_given']/bowlers['overs'])\n",
    "bowlers.head()"
   ]
  },
  {
   "cell_type": "code",
   "execution_count": 14,
   "metadata": {},
   "outputs": [
    {
     "data": {
      "application/vnd.plotly.v1+json": {
       "config": {
        "linkText": "Export to plot.ly",
        "plotlyServerURL": "https://plot.ly",
        "showLink": false
       },
       "data": [
        {
         "hovertemplate": "bowler=%{x}<br>wickets=%{y}<br>overs=%{marker.size}<br>economy=%{marker.color}<extra></extra>",
         "legendgroup": "",
         "marker": {
          "cmax": 8.289940828402367,
          "cmin": 6.395705521472393,
          "color": [
           7.344444444444444,
           7.711246200607903,
           7.046783625730995,
           8.01994301994302,
           6.6155988857938715,
           6.933734939759036,
           8.003322259136212,
           8,
           7.612756264236902,
           7.673611111111111,
           7.404320987654321,
           6.493638676844784,
           8.266666666666667,
           7.767584097859327,
           7.746794871794871,
           6.757238307349666,
           6.395705521472393,
           7.638036809815951,
           8.289940828402367,
           7.546174142480211
          ],
          "colorbar": {
           "title": {
            "text": "economy"
           }
          },
          "colorscale": [
           [
            0,
            "#0508b8"
           ],
           [
            0.08333333333333333,
            "#1910d8"
           ],
           [
            0.16666666666666666,
            "#3c19f0"
           ],
           [
            0.25,
            "#6b1cfb"
           ],
           [
            0.3333333333333333,
            "#981cfd"
           ],
           [
            0.4166666666666667,
            "#bf1cfd"
           ],
           [
            0.5,
            "#dd2bfd"
           ],
           [
            0.5833333333333334,
            "#f246fe"
           ],
           [
            0.6666666666666666,
            "#fc67fd"
           ],
           [
            0.75,
            "#fe88fc"
           ],
           [
            0.8333333333333334,
            "#fea5fd"
           ],
           [
            0.9166666666666666,
            "#febefe"
           ],
           [
            1,
            "#fec3fe"
           ]
          ],
          "showscale": true,
          "size": [
           450,
           329,
           342,
           351,
           359,
           498,
           301,
           261,
           439,
           432,
           324,
           393,
           360,
           327,
           312,
           449,
           326,
           326,
           338,
           379
          ],
          "sizemode": "area",
          "sizeref": 1.245,
          "symbol": "circle"
         },
         "mode": "markers",
         "name": "",
         "showlegend": false,
         "type": "scatter",
         "uid": "6948b80a-89e8-4f7d-87e8-849dbc47f005",
         "x": [
          "A Mishra",
          "A Nehra",
          "B Kumar",
          "DJ Bravo",
          "DW Steyn",
          "Harbhajan Singh",
          "JA Morkel",
          "MM Sharma",
          "P Kumar",
          "PP Chawla",
          "PP Ojha",
          "R Ashwin",
          "R Vinay Kumar",
          "RA Jadeja",
          "RP Singh",
          "SL Malinga",
          "SP Narine",
          "SR Watson",
          "UT Yadav",
          "Z Khan"
         ],
         "xaxis": "x",
         "y": [
          134,
          106,
          111,
          122,
          92,
          127,
          85,
          83,
          90,
          126,
          89,
          100,
          103,
          82,
          90,
          154,
          95,
          86,
          91,
          102
         ],
         "yaxis": "y"
        }
       ],
       "layout": {
        "grid": {
         "xaxes": [
          "x"
         ],
         "xgap": 0.1,
         "xside": "bottom",
         "yaxes": [
          "y"
         ],
         "ygap": 0.1,
         "yside": "left"
        },
        "height": 600,
        "legend": {
         "tracegroupgap": 0
        },
        "margin": {
         "t": 60
        },
        "template": {
         "data": {
          "bar": [
           {
            "marker": {
             "line": {
              "color": "#E5ECF6",
              "width": 0.5
             }
            },
            "type": "bar"
           }
          ],
          "barpolar": [
           {
            "marker": {
             "line": {
              "color": "#E5ECF6",
              "width": 0.5
             }
            },
            "type": "barpolar"
           }
          ],
          "carpet": [
           {
            "aaxis": {
             "endlinecolor": "#2a3f5f",
             "gridcolor": "white",
             "linecolor": "white",
             "minorgridcolor": "white",
             "startlinecolor": "#2a3f5f"
            },
            "baxis": {
             "endlinecolor": "#2a3f5f",
             "gridcolor": "white",
             "linecolor": "white",
             "minorgridcolor": "white",
             "startlinecolor": "#2a3f5f"
            },
            "type": "carpet"
           }
          ],
          "choropleth": [
           {
            "colorbar": {
             "outlinewidth": 0,
             "ticks": ""
            },
            "type": "choropleth"
           }
          ],
          "contour": [
           {
            "autocolorscale": true,
            "colorbar": {
             "outlinewidth": 0,
             "ticks": ""
            },
            "type": "contour"
           }
          ],
          "contourcarpet": [
           {
            "colorbar": {
             "outlinewidth": 0,
             "ticks": ""
            },
            "type": "contourcarpet"
           }
          ],
          "heatmap": [
           {
            "autocolorscale": true,
            "colorbar": {
             "outlinewidth": 0,
             "ticks": ""
            },
            "type": "heatmap"
           }
          ],
          "heatmapgl": [
           {
            "colorbar": {
             "outlinewidth": 0,
             "ticks": ""
            },
            "type": "heatmapgl"
           }
          ],
          "histogram": [
           {
            "marker": {
             "colorbar": {
              "outlinewidth": 0,
              "ticks": ""
             }
            },
            "type": "histogram"
           }
          ],
          "histogram2d": [
           {
            "autocolorscale": true,
            "colorbar": {
             "outlinewidth": 0,
             "ticks": ""
            },
            "type": "histogram2d"
           }
          ],
          "histogram2dcontour": [
           {
            "autocolorscale": true,
            "colorbar": {
             "outlinewidth": 0,
             "ticks": ""
            },
            "type": "histogram2dcontour"
           }
          ],
          "mesh3d": [
           {
            "colorbar": {
             "outlinewidth": 0,
             "ticks": ""
            },
            "type": "mesh3d"
           }
          ],
          "parcoords": [
           {
            "line": {
             "colorbar": {
              "outlinewidth": 0,
              "ticks": ""
             }
            },
            "type": "parcoords"
           }
          ],
          "scatter": [
           {
            "marker": {
             "colorbar": {
              "outlinewidth": 0,
              "ticks": ""
             }
            },
            "type": "scatter"
           }
          ],
          "scatter3d": [
           {
            "marker": {
             "colorbar": {
              "outlinewidth": 0,
              "ticks": ""
             }
            },
            "type": "scatter3d"
           }
          ],
          "scattercarpet": [
           {
            "marker": {
             "colorbar": {
              "outlinewidth": 0,
              "ticks": ""
             }
            },
            "type": "scattercarpet"
           }
          ],
          "scattergeo": [
           {
            "marker": {
             "colorbar": {
              "outlinewidth": 0,
              "ticks": ""
             }
            },
            "type": "scattergeo"
           }
          ],
          "scattergl": [
           {
            "marker": {
             "colorbar": {
              "outlinewidth": 0,
              "ticks": ""
             }
            },
            "type": "scattergl"
           }
          ],
          "scattermapbox": [
           {
            "marker": {
             "colorbar": {
              "outlinewidth": 0,
              "ticks": ""
             }
            },
            "type": "scattermapbox"
           }
          ],
          "scatterpolar": [
           {
            "marker": {
             "colorbar": {
              "outlinewidth": 0,
              "ticks": ""
             }
            },
            "type": "scatterpolar"
           }
          ],
          "scatterpolargl": [
           {
            "marker": {
             "colorbar": {
              "outlinewidth": 0,
              "ticks": ""
             }
            },
            "type": "scatterpolargl"
           }
          ],
          "scatterternary": [
           {
            "marker": {
             "colorbar": {
              "outlinewidth": 0,
              "ticks": ""
             }
            },
            "type": "scatterternary"
           }
          ],
          "surface": [
           {
            "colorbar": {
             "outlinewidth": 0,
             "ticks": ""
            },
            "type": "surface"
           }
          ],
          "table": [
           {
            "cells": {
             "fill": {
              "color": "#EBF0F8"
             },
             "line": {
              "color": "white"
             }
            },
            "header": {
             "fill": {
              "color": "#C8D4E3"
             },
             "line": {
              "color": "white"
             }
            },
            "type": "table"
           }
          ]
         },
         "layout": {
          "annotationdefaults": {
           "arrowcolor": "#506784",
           "arrowhead": 0,
           "arrowwidth": 1
          },
          "colorscale": {
           "diverging": [
            [
             0,
             "#8e0152"
            ],
            [
             0.1,
             "#c51b7d"
            ],
            [
             0.2,
             "#de77ae"
            ],
            [
             0.3,
             "#f1b6da"
            ],
            [
             0.4,
             "#fde0ef"
            ],
            [
             0.5,
             "#f7f7f7"
            ],
            [
             0.6,
             "#e6f5d0"
            ],
            [
             0.7,
             "#b8e186"
            ],
            [
             0.8,
             "#7fbc41"
            ],
            [
             0.9,
             "#4d9221"
            ],
            [
             1,
             "#276419"
            ]
           ],
           "sequential": [
            [
             0,
             "#0508b8"
            ],
            [
             0.0893854748603352,
             "#1910d8"
            ],
            [
             0.1787709497206704,
             "#3c19f0"
            ],
            [
             0.2681564245810056,
             "#6b1cfb"
            ],
            [
             0.3575418994413408,
             "#981cfd"
            ],
            [
             0.44692737430167595,
             "#bf1cfd"
            ],
            [
             0.5363128491620112,
             "#dd2bfd"
            ],
            [
             0.6256983240223464,
             "#f246fe"
            ],
            [
             0.7150837988826816,
             "#fc67fd"
            ],
            [
             0.8044692737430168,
             "#fe88fc"
            ],
            [
             0.8938547486033519,
             "#fea5fd"
            ],
            [
             0.9832402234636871,
             "#febefe"
            ],
            [
             1,
             "#fec3fe"
            ]
           ],
           "sequentialminus": [
            [
             0,
             "#0508b8"
            ],
            [
             0.0893854748603352,
             "#1910d8"
            ],
            [
             0.1787709497206704,
             "#3c19f0"
            ],
            [
             0.2681564245810056,
             "#6b1cfb"
            ],
            [
             0.3575418994413408,
             "#981cfd"
            ],
            [
             0.44692737430167595,
             "#bf1cfd"
            ],
            [
             0.5363128491620112,
             "#dd2bfd"
            ],
            [
             0.6256983240223464,
             "#f246fe"
            ],
            [
             0.7150837988826816,
             "#fc67fd"
            ],
            [
             0.8044692737430168,
             "#fe88fc"
            ],
            [
             0.8938547486033519,
             "#fea5fd"
            ],
            [
             0.9832402234636871,
             "#febefe"
            ],
            [
             1,
             "#fec3fe"
            ]
           ]
          },
          "colorway": [
           "#636efa",
           "#EF553B",
           "#00cc96",
           "#ab63fa",
           "#19d3f3",
           "#e763fa",
           "#FECB52",
           "#FFA15A",
           "#FF6692",
           "#B6E880"
          ],
          "font": {
           "color": "#2a3f5f"
          },
          "geo": {
           "bgcolor": "white",
           "lakecolor": "white",
           "landcolor": "#E5ECF6",
           "showlakes": true,
           "showland": true,
           "subunitcolor": "white"
          },
          "hovermode": "closest",
          "mapbox": {
           "style": "light"
          },
          "paper_bgcolor": "white",
          "plot_bgcolor": "#E5ECF6",
          "polar": {
           "angularaxis": {
            "gridcolor": "white",
            "linecolor": "white",
            "ticks": ""
           },
           "bgcolor": "#E5ECF6",
           "radialaxis": {
            "gridcolor": "white",
            "linecolor": "white",
            "ticks": ""
           }
          },
          "scene": {
           "xaxis": {
            "backgroundcolor": "#E5ECF6",
            "gridcolor": "white",
            "gridwidth": 2,
            "linecolor": "white",
            "showbackground": true,
            "ticks": "",
            "zerolinecolor": "white"
           },
           "yaxis": {
            "backgroundcolor": "#E5ECF6",
            "gridcolor": "white",
            "gridwidth": 2,
            "linecolor": "white",
            "showbackground": true,
            "ticks": "",
            "zerolinecolor": "white"
           },
           "zaxis": {
            "backgroundcolor": "#E5ECF6",
            "gridcolor": "white",
            "gridwidth": 2,
            "linecolor": "white",
            "showbackground": true,
            "ticks": "",
            "zerolinecolor": "white"
           }
          },
          "shapedefaults": {
           "fillcolor": "#506784",
           "line": {
            "width": 0
           },
           "opacity": 0.4
          },
          "ternary": {
           "aaxis": {
            "gridcolor": "white",
            "linecolor": "white",
            "ticks": ""
           },
           "baxis": {
            "gridcolor": "white",
            "linecolor": "white",
            "ticks": ""
           },
           "bgcolor": "#E5ECF6",
           "caxis": {
            "gridcolor": "white",
            "linecolor": "white",
            "ticks": ""
           }
          },
          "title": {
           "x": 0.05
          },
          "xaxis": {
           "automargin": true,
           "gridcolor": "white",
           "linecolor": "white",
           "ticks": "",
           "zerolinecolor": "white",
           "zerolinewidth": 2
          },
          "yaxis": {
           "automargin": true,
           "gridcolor": "white",
           "linecolor": "white",
           "ticks": "",
           "zerolinecolor": "white",
           "zerolinewidth": 2
          }
         }
        },
        "xaxis": {
         "title": {
          "text": "bowler"
         }
        },
        "yaxis": {
         "title": {
          "text": "wickets"
         }
        }
       }
      },
      "text/html": [
       "<div id=\"9e126d26-44bb-47d5-b644-f360abf1a7b3\" style=\"height: 600px; width: 100%;\" class=\"plotly-graph-div\"></div><script type=\"text/javascript\">require([\"plotly\"], function(Plotly) { window.PLOTLYENV=window.PLOTLYENV || {};window.PLOTLYENV.BASE_URL=\"https://plot.ly\";\n",
       "if (document.getElementById(\"9e126d26-44bb-47d5-b644-f360abf1a7b3\")) {\n",
       "    Plotly.newPlot(\"9e126d26-44bb-47d5-b644-f360abf1a7b3\", [{\"hovertemplate\": \"bowler=%{x}<br>wickets=%{y}<br>overs=%{marker.size}<br>economy=%{marker.color}<extra></extra>\", \"legendgroup\": \"\", \"marker\": {\"cmax\": 8.289940828402367, \"cmin\": 6.395705521472393, \"color\": [7.344444444444444, 7.711246200607903, 7.046783625730995, 8.01994301994302, 6.6155988857938715, 6.933734939759036, 8.003322259136212, 8.0, 7.612756264236902, 7.673611111111111, 7.404320987654321, 6.493638676844784, 8.266666666666667, 7.767584097859327, 7.746794871794871, 6.757238307349666, 6.395705521472393, 7.638036809815951, 8.289940828402367, 7.546174142480211], \"colorbar\": {\"title\": {\"text\": \"economy\"}}, \"colorscale\": [[0.0, \"#0508b8\"], [0.08333333333333333, \"#1910d8\"], [0.16666666666666666, \"#3c19f0\"], [0.25, \"#6b1cfb\"], [0.3333333333333333, \"#981cfd\"], [0.4166666666666667, \"#bf1cfd\"], [0.5, \"#dd2bfd\"], [0.5833333333333334, \"#f246fe\"], [0.6666666666666666, \"#fc67fd\"], [0.75, \"#fe88fc\"], [0.8333333333333334, \"#fea5fd\"], [0.9166666666666666, \"#febefe\"], [1.0, \"#fec3fe\"]], \"showscale\": true, \"size\": [450, 329, 342, 351, 359, 498, 301, 261, 439, 432, 324, 393, 360, 327, 312, 449, 326, 326, 338, 379], \"sizemode\": \"area\", \"sizeref\": 1.245, \"symbol\": \"circle\"}, \"mode\": \"markers\", \"name\": \"\", \"showlegend\": false, \"x\": [\"A Mishra\", \"A Nehra\", \"B Kumar\", \"DJ Bravo\", \"DW Steyn\", \"Harbhajan Singh\", \"JA Morkel\", \"MM Sharma\", \"P Kumar\", \"PP Chawla\", \"PP Ojha\", \"R Ashwin\", \"R Vinay Kumar\", \"RA Jadeja\", \"RP Singh\", \"SL Malinga\", \"SP Narine\", \"SR Watson\", \"UT Yadav\", \"Z Khan\"], \"xaxis\": \"x\", \"y\": [134.0, 106.0, 111.0, 122.0, 92.0, 127.0, 85.0, 83.0, 90.0, 126.0, 89.0, 100.0, 103.0, 82.0, 90.0, 154.0, 95.0, 86.0, 91.0, 102.0], \"yaxis\": \"y\", \"type\": \"scatter\", \"uid\": \"6948b80a-89e8-4f7d-87e8-849dbc47f005\"}], {\"height\": 600, \"legend\": {\"tracegroupgap\": 0}, \"margin\": {\"t\": 60}, \"template\": {\"data\": {\"barpolar\": [{\"marker\": {\"line\": {\"color\": \"#E5ECF6\", \"width\": 0.5}}, \"type\": \"barpolar\"}], \"bar\": [{\"marker\": {\"line\": {\"color\": \"#E5ECF6\", \"width\": 0.5}}, \"type\": \"bar\"}], \"carpet\": [{\"aaxis\": {\"endlinecolor\": \"#2a3f5f\", \"gridcolor\": \"white\", \"linecolor\": \"white\", \"minorgridcolor\": \"white\", \"startlinecolor\": \"#2a3f5f\"}, \"baxis\": {\"endlinecolor\": \"#2a3f5f\", \"gridcolor\": \"white\", \"linecolor\": \"white\", \"minorgridcolor\": \"white\", \"startlinecolor\": \"#2a3f5f\"}, \"type\": \"carpet\"}], \"choropleth\": [{\"colorbar\": {\"outlinewidth\": 0, \"ticks\": \"\"}, \"type\": \"choropleth\"}], \"contourcarpet\": [{\"colorbar\": {\"outlinewidth\": 0, \"ticks\": \"\"}, \"type\": \"contourcarpet\"}], \"contour\": [{\"autocolorscale\": true, \"colorbar\": {\"outlinewidth\": 0, \"ticks\": \"\"}, \"type\": \"contour\"}], \"heatmapgl\": [{\"colorbar\": {\"outlinewidth\": 0, \"ticks\": \"\"}, \"type\": \"heatmapgl\"}], \"heatmap\": [{\"autocolorscale\": true, \"colorbar\": {\"outlinewidth\": 0, \"ticks\": \"\"}, \"type\": \"heatmap\"}], \"histogram2dcontour\": [{\"autocolorscale\": true, \"colorbar\": {\"outlinewidth\": 0, \"ticks\": \"\"}, \"type\": \"histogram2dcontour\"}], \"histogram2d\": [{\"autocolorscale\": true, \"colorbar\": {\"outlinewidth\": 0, \"ticks\": \"\"}, \"type\": \"histogram2d\"}], \"histogram\": [{\"marker\": {\"colorbar\": {\"outlinewidth\": 0, \"ticks\": \"\"}}, \"type\": \"histogram\"}], \"mesh3d\": [{\"colorbar\": {\"outlinewidth\": 0, \"ticks\": \"\"}, \"type\": \"mesh3d\"}], \"parcoords\": [{\"line\": {\"colorbar\": {\"outlinewidth\": 0, \"ticks\": \"\"}}, \"type\": \"parcoords\"}], \"scatter3d\": [{\"marker\": {\"colorbar\": {\"outlinewidth\": 0, \"ticks\": \"\"}}, \"type\": \"scatter3d\"}], \"scattercarpet\": [{\"marker\": {\"colorbar\": {\"outlinewidth\": 0, \"ticks\": \"\"}}, \"type\": \"scattercarpet\"}], \"scattergeo\": [{\"marker\": {\"colorbar\": {\"outlinewidth\": 0, \"ticks\": \"\"}}, \"type\": \"scattergeo\"}], \"scattergl\": [{\"marker\": {\"colorbar\": {\"outlinewidth\": 0, \"ticks\": \"\"}}, \"type\": \"scattergl\"}], \"scattermapbox\": [{\"marker\": {\"colorbar\": {\"outlinewidth\": 0, \"ticks\": \"\"}}, \"type\": \"scattermapbox\"}], \"scatterpolargl\": [{\"marker\": {\"colorbar\": {\"outlinewidth\": 0, \"ticks\": \"\"}}, \"type\": \"scatterpolargl\"}], \"scatterpolar\": [{\"marker\": {\"colorbar\": {\"outlinewidth\": 0, \"ticks\": \"\"}}, \"type\": \"scatterpolar\"}], \"scatter\": [{\"marker\": {\"colorbar\": {\"outlinewidth\": 0, \"ticks\": \"\"}}, \"type\": \"scatter\"}], \"scatterternary\": [{\"marker\": {\"colorbar\": {\"outlinewidth\": 0, \"ticks\": \"\"}}, \"type\": \"scatterternary\"}], \"surface\": [{\"colorbar\": {\"outlinewidth\": 0, \"ticks\": \"\"}, \"type\": \"surface\"}], \"table\": [{\"cells\": {\"fill\": {\"color\": \"#EBF0F8\"}, \"line\": {\"color\": \"white\"}}, \"header\": {\"fill\": {\"color\": \"#C8D4E3\"}, \"line\": {\"color\": \"white\"}}, \"type\": \"table\"}]}, \"layout\": {\"annotationdefaults\": {\"arrowcolor\": \"#506784\", \"arrowhead\": 0, \"arrowwidth\": 1}, \"colorscale\": {\"diverging\": [[0, \"#8e0152\"], [0.1, \"#c51b7d\"], [0.2, \"#de77ae\"], [0.3, \"#f1b6da\"], [0.4, \"#fde0ef\"], [0.5, \"#f7f7f7\"], [0.6, \"#e6f5d0\"], [0.7, \"#b8e186\"], [0.8, \"#7fbc41\"], [0.9, \"#4d9221\"], [1, \"#276419\"]], \"sequential\": [[0.0, \"#0508b8\"], [0.0893854748603352, \"#1910d8\"], [0.1787709497206704, \"#3c19f0\"], [0.2681564245810056, \"#6b1cfb\"], [0.3575418994413408, \"#981cfd\"], [0.44692737430167595, \"#bf1cfd\"], [0.5363128491620112, \"#dd2bfd\"], [0.6256983240223464, \"#f246fe\"], [0.7150837988826816, \"#fc67fd\"], [0.8044692737430168, \"#fe88fc\"], [0.8938547486033519, \"#fea5fd\"], [0.9832402234636871, \"#febefe\"], [1.0, \"#fec3fe\"]], \"sequentialminus\": [[0.0, \"#0508b8\"], [0.0893854748603352, \"#1910d8\"], [0.1787709497206704, \"#3c19f0\"], [0.2681564245810056, \"#6b1cfb\"], [0.3575418994413408, \"#981cfd\"], [0.44692737430167595, \"#bf1cfd\"], [0.5363128491620112, \"#dd2bfd\"], [0.6256983240223464, \"#f246fe\"], [0.7150837988826816, \"#fc67fd\"], [0.8044692737430168, \"#fe88fc\"], [0.8938547486033519, \"#fea5fd\"], [0.9832402234636871, \"#febefe\"], [1.0, \"#fec3fe\"]]}, \"colorway\": [\"#636efa\", \"#EF553B\", \"#00cc96\", \"#ab63fa\", \"#19d3f3\", \"#e763fa\", \"#FECB52\", \"#FFA15A\", \"#FF6692\", \"#B6E880\"], \"font\": {\"color\": \"#2a3f5f\"}, \"geo\": {\"bgcolor\": \"white\", \"lakecolor\": \"white\", \"landcolor\": \"#E5ECF6\", \"showlakes\": true, \"showland\": true, \"subunitcolor\": \"white\"}, \"hovermode\": \"closest\", \"mapbox\": {\"style\": \"light\"}, \"paper_bgcolor\": \"white\", \"plot_bgcolor\": \"#E5ECF6\", \"polar\": {\"angularaxis\": {\"gridcolor\": \"white\", \"linecolor\": \"white\", \"ticks\": \"\"}, \"bgcolor\": \"#E5ECF6\", \"radialaxis\": {\"gridcolor\": \"white\", \"linecolor\": \"white\", \"ticks\": \"\"}}, \"scene\": {\"xaxis\": {\"backgroundcolor\": \"#E5ECF6\", \"gridcolor\": \"white\", \"gridwidth\": 2, \"linecolor\": \"white\", \"showbackground\": true, \"ticks\": \"\", \"zerolinecolor\": \"white\"}, \"yaxis\": {\"backgroundcolor\": \"#E5ECF6\", \"gridcolor\": \"white\", \"gridwidth\": 2, \"linecolor\": \"white\", \"showbackground\": true, \"ticks\": \"\", \"zerolinecolor\": \"white\"}, \"zaxis\": {\"backgroundcolor\": \"#E5ECF6\", \"gridcolor\": \"white\", \"gridwidth\": 2, \"linecolor\": \"white\", \"showbackground\": true, \"ticks\": \"\", \"zerolinecolor\": \"white\"}}, \"shapedefaults\": {\"fillcolor\": \"#506784\", \"line\": {\"width\": 0}, \"opacity\": 0.4}, \"ternary\": {\"aaxis\": {\"gridcolor\": \"white\", \"linecolor\": \"white\", \"ticks\": \"\"}, \"baxis\": {\"gridcolor\": \"white\", \"linecolor\": \"white\", \"ticks\": \"\"}, \"bgcolor\": \"#E5ECF6\", \"caxis\": {\"gridcolor\": \"white\", \"linecolor\": \"white\", \"ticks\": \"\"}}, \"title\": {\"x\": 0.05}, \"xaxis\": {\"automargin\": true, \"gridcolor\": \"white\", \"linecolor\": \"white\", \"ticks\": \"\", \"zerolinecolor\": \"white\", \"zerolinewidth\": 2}, \"yaxis\": {\"automargin\": true, \"gridcolor\": \"white\", \"linecolor\": \"white\", \"ticks\": \"\", \"zerolinecolor\": \"white\", \"zerolinewidth\": 2}}}, \"grid\": {\"xaxes\": [\"x\"], \"yaxes\": [\"y\"], \"xgap\": 0.1, \"ygap\": 0.1, \"xside\": \"bottom\", \"yside\": \"left\"}, \"xaxis\": {\"title\": {\"text\": \"bowler\"}}, \"yaxis\": {\"title\": {\"text\": \"wickets\"}}}, {\"showLink\": false, \"linkText\": \"Export to plot.ly\", \"plotlyServerURL\": \"https://plot.ly\"}); \n",
       "}\n",
       "});</script><script type=\"text/javascript\">window.addEventListener(\"resize\", function(){if (document.getElementById(\"9e126d26-44bb-47d5-b644-f360abf1a7b3\")) {window._Plotly.Plots.resize(document.getElementById(\"9e126d26-44bb-47d5-b644-f360abf1a7b3\"));};})</script>"
      ],
      "text/vnd.plotly.v1+html": [
       "<div id=\"9e126d26-44bb-47d5-b644-f360abf1a7b3\" style=\"height: 600px; width: 100%;\" class=\"plotly-graph-div\"></div><script type=\"text/javascript\">require([\"plotly\"], function(Plotly) { window.PLOTLYENV=window.PLOTLYENV || {};window.PLOTLYENV.BASE_URL=\"https://plot.ly\";\n",
       "if (document.getElementById(\"9e126d26-44bb-47d5-b644-f360abf1a7b3\")) {\n",
       "    Plotly.newPlot(\"9e126d26-44bb-47d5-b644-f360abf1a7b3\", [{\"hovertemplate\": \"bowler=%{x}<br>wickets=%{y}<br>overs=%{marker.size}<br>economy=%{marker.color}<extra></extra>\", \"legendgroup\": \"\", \"marker\": {\"cmax\": 8.289940828402367, \"cmin\": 6.395705521472393, \"color\": [7.344444444444444, 7.711246200607903, 7.046783625730995, 8.01994301994302, 6.6155988857938715, 6.933734939759036, 8.003322259136212, 8.0, 7.612756264236902, 7.673611111111111, 7.404320987654321, 6.493638676844784, 8.266666666666667, 7.767584097859327, 7.746794871794871, 6.757238307349666, 6.395705521472393, 7.638036809815951, 8.289940828402367, 7.546174142480211], \"colorbar\": {\"title\": {\"text\": \"economy\"}}, \"colorscale\": [[0.0, \"#0508b8\"], [0.08333333333333333, \"#1910d8\"], [0.16666666666666666, \"#3c19f0\"], [0.25, \"#6b1cfb\"], [0.3333333333333333, \"#981cfd\"], [0.4166666666666667, \"#bf1cfd\"], [0.5, \"#dd2bfd\"], [0.5833333333333334, \"#f246fe\"], [0.6666666666666666, \"#fc67fd\"], [0.75, \"#fe88fc\"], [0.8333333333333334, \"#fea5fd\"], [0.9166666666666666, \"#febefe\"], [1.0, \"#fec3fe\"]], \"showscale\": true, \"size\": [450, 329, 342, 351, 359, 498, 301, 261, 439, 432, 324, 393, 360, 327, 312, 449, 326, 326, 338, 379], \"sizemode\": \"area\", \"sizeref\": 1.245, \"symbol\": \"circle\"}, \"mode\": \"markers\", \"name\": \"\", \"showlegend\": false, \"x\": [\"A Mishra\", \"A Nehra\", \"B Kumar\", \"DJ Bravo\", \"DW Steyn\", \"Harbhajan Singh\", \"JA Morkel\", \"MM Sharma\", \"P Kumar\", \"PP Chawla\", \"PP Ojha\", \"R Ashwin\", \"R Vinay Kumar\", \"RA Jadeja\", \"RP Singh\", \"SL Malinga\", \"SP Narine\", \"SR Watson\", \"UT Yadav\", \"Z Khan\"], \"xaxis\": \"x\", \"y\": [134.0, 106.0, 111.0, 122.0, 92.0, 127.0, 85.0, 83.0, 90.0, 126.0, 89.0, 100.0, 103.0, 82.0, 90.0, 154.0, 95.0, 86.0, 91.0, 102.0], \"yaxis\": \"y\", \"type\": \"scatter\", \"uid\": \"6948b80a-89e8-4f7d-87e8-849dbc47f005\"}], {\"height\": 600, \"legend\": {\"tracegroupgap\": 0}, \"margin\": {\"t\": 60}, \"template\": {\"data\": {\"barpolar\": [{\"marker\": {\"line\": {\"color\": \"#E5ECF6\", \"width\": 0.5}}, \"type\": \"barpolar\"}], \"bar\": [{\"marker\": {\"line\": {\"color\": \"#E5ECF6\", \"width\": 0.5}}, \"type\": \"bar\"}], \"carpet\": [{\"aaxis\": {\"endlinecolor\": \"#2a3f5f\", \"gridcolor\": \"white\", \"linecolor\": \"white\", \"minorgridcolor\": \"white\", \"startlinecolor\": \"#2a3f5f\"}, \"baxis\": {\"endlinecolor\": \"#2a3f5f\", \"gridcolor\": \"white\", \"linecolor\": \"white\", \"minorgridcolor\": \"white\", \"startlinecolor\": \"#2a3f5f\"}, \"type\": \"carpet\"}], \"choropleth\": [{\"colorbar\": {\"outlinewidth\": 0, \"ticks\": \"\"}, \"type\": \"choropleth\"}], \"contourcarpet\": [{\"colorbar\": {\"outlinewidth\": 0, \"ticks\": \"\"}, \"type\": \"contourcarpet\"}], \"contour\": [{\"autocolorscale\": true, \"colorbar\": {\"outlinewidth\": 0, \"ticks\": \"\"}, \"type\": \"contour\"}], \"heatmapgl\": [{\"colorbar\": {\"outlinewidth\": 0, \"ticks\": \"\"}, \"type\": \"heatmapgl\"}], \"heatmap\": [{\"autocolorscale\": true, \"colorbar\": {\"outlinewidth\": 0, \"ticks\": \"\"}, \"type\": \"heatmap\"}], \"histogram2dcontour\": [{\"autocolorscale\": true, \"colorbar\": {\"outlinewidth\": 0, \"ticks\": \"\"}, \"type\": \"histogram2dcontour\"}], \"histogram2d\": [{\"autocolorscale\": true, \"colorbar\": {\"outlinewidth\": 0, \"ticks\": \"\"}, \"type\": \"histogram2d\"}], \"histogram\": [{\"marker\": {\"colorbar\": {\"outlinewidth\": 0, \"ticks\": \"\"}}, \"type\": \"histogram\"}], \"mesh3d\": [{\"colorbar\": {\"outlinewidth\": 0, \"ticks\": \"\"}, \"type\": \"mesh3d\"}], \"parcoords\": [{\"line\": {\"colorbar\": {\"outlinewidth\": 0, \"ticks\": \"\"}}, \"type\": \"parcoords\"}], \"scatter3d\": [{\"marker\": {\"colorbar\": {\"outlinewidth\": 0, \"ticks\": \"\"}}, \"type\": \"scatter3d\"}], \"scattercarpet\": [{\"marker\": {\"colorbar\": {\"outlinewidth\": 0, \"ticks\": \"\"}}, \"type\": \"scattercarpet\"}], \"scattergeo\": [{\"marker\": {\"colorbar\": {\"outlinewidth\": 0, \"ticks\": \"\"}}, \"type\": \"scattergeo\"}], \"scattergl\": [{\"marker\": {\"colorbar\": {\"outlinewidth\": 0, \"ticks\": \"\"}}, \"type\": \"scattergl\"}], \"scattermapbox\": [{\"marker\": {\"colorbar\": {\"outlinewidth\": 0, \"ticks\": \"\"}}, \"type\": \"scattermapbox\"}], \"scatterpolargl\": [{\"marker\": {\"colorbar\": {\"outlinewidth\": 0, \"ticks\": \"\"}}, \"type\": \"scatterpolargl\"}], \"scatterpolar\": [{\"marker\": {\"colorbar\": {\"outlinewidth\": 0, \"ticks\": \"\"}}, \"type\": \"scatterpolar\"}], \"scatter\": [{\"marker\": {\"colorbar\": {\"outlinewidth\": 0, \"ticks\": \"\"}}, \"type\": \"scatter\"}], \"scatterternary\": [{\"marker\": {\"colorbar\": {\"outlinewidth\": 0, \"ticks\": \"\"}}, \"type\": \"scatterternary\"}], \"surface\": [{\"colorbar\": {\"outlinewidth\": 0, \"ticks\": \"\"}, \"type\": \"surface\"}], \"table\": [{\"cells\": {\"fill\": {\"color\": \"#EBF0F8\"}, \"line\": {\"color\": \"white\"}}, \"header\": {\"fill\": {\"color\": \"#C8D4E3\"}, \"line\": {\"color\": \"white\"}}, \"type\": \"table\"}]}, \"layout\": {\"annotationdefaults\": {\"arrowcolor\": \"#506784\", \"arrowhead\": 0, \"arrowwidth\": 1}, \"colorscale\": {\"diverging\": [[0, \"#8e0152\"], [0.1, \"#c51b7d\"], [0.2, \"#de77ae\"], [0.3, \"#f1b6da\"], [0.4, \"#fde0ef\"], [0.5, \"#f7f7f7\"], [0.6, \"#e6f5d0\"], [0.7, \"#b8e186\"], [0.8, \"#7fbc41\"], [0.9, \"#4d9221\"], [1, \"#276419\"]], \"sequential\": [[0.0, \"#0508b8\"], [0.0893854748603352, \"#1910d8\"], [0.1787709497206704, \"#3c19f0\"], [0.2681564245810056, \"#6b1cfb\"], [0.3575418994413408, \"#981cfd\"], [0.44692737430167595, \"#bf1cfd\"], [0.5363128491620112, \"#dd2bfd\"], [0.6256983240223464, \"#f246fe\"], [0.7150837988826816, \"#fc67fd\"], [0.8044692737430168, \"#fe88fc\"], [0.8938547486033519, \"#fea5fd\"], [0.9832402234636871, \"#febefe\"], [1.0, \"#fec3fe\"]], \"sequentialminus\": [[0.0, \"#0508b8\"], [0.0893854748603352, \"#1910d8\"], [0.1787709497206704, \"#3c19f0\"], [0.2681564245810056, \"#6b1cfb\"], [0.3575418994413408, \"#981cfd\"], [0.44692737430167595, \"#bf1cfd\"], [0.5363128491620112, \"#dd2bfd\"], [0.6256983240223464, \"#f246fe\"], [0.7150837988826816, \"#fc67fd\"], [0.8044692737430168, \"#fe88fc\"], [0.8938547486033519, \"#fea5fd\"], [0.9832402234636871, \"#febefe\"], [1.0, \"#fec3fe\"]]}, \"colorway\": [\"#636efa\", \"#EF553B\", \"#00cc96\", \"#ab63fa\", \"#19d3f3\", \"#e763fa\", \"#FECB52\", \"#FFA15A\", \"#FF6692\", \"#B6E880\"], \"font\": {\"color\": \"#2a3f5f\"}, \"geo\": {\"bgcolor\": \"white\", \"lakecolor\": \"white\", \"landcolor\": \"#E5ECF6\", \"showlakes\": true, \"showland\": true, \"subunitcolor\": \"white\"}, \"hovermode\": \"closest\", \"mapbox\": {\"style\": \"light\"}, \"paper_bgcolor\": \"white\", \"plot_bgcolor\": \"#E5ECF6\", \"polar\": {\"angularaxis\": {\"gridcolor\": \"white\", \"linecolor\": \"white\", \"ticks\": \"\"}, \"bgcolor\": \"#E5ECF6\", \"radialaxis\": {\"gridcolor\": \"white\", \"linecolor\": \"white\", \"ticks\": \"\"}}, \"scene\": {\"xaxis\": {\"backgroundcolor\": \"#E5ECF6\", \"gridcolor\": \"white\", \"gridwidth\": 2, \"linecolor\": \"white\", \"showbackground\": true, \"ticks\": \"\", \"zerolinecolor\": \"white\"}, \"yaxis\": {\"backgroundcolor\": \"#E5ECF6\", \"gridcolor\": \"white\", \"gridwidth\": 2, \"linecolor\": \"white\", \"showbackground\": true, \"ticks\": \"\", \"zerolinecolor\": \"white\"}, \"zaxis\": {\"backgroundcolor\": \"#E5ECF6\", \"gridcolor\": \"white\", \"gridwidth\": 2, \"linecolor\": \"white\", \"showbackground\": true, \"ticks\": \"\", \"zerolinecolor\": \"white\"}}, \"shapedefaults\": {\"fillcolor\": \"#506784\", \"line\": {\"width\": 0}, \"opacity\": 0.4}, \"ternary\": {\"aaxis\": {\"gridcolor\": \"white\", \"linecolor\": \"white\", \"ticks\": \"\"}, \"baxis\": {\"gridcolor\": \"white\", \"linecolor\": \"white\", \"ticks\": \"\"}, \"bgcolor\": \"#E5ECF6\", \"caxis\": {\"gridcolor\": \"white\", \"linecolor\": \"white\", \"ticks\": \"\"}}, \"title\": {\"x\": 0.05}, \"xaxis\": {\"automargin\": true, \"gridcolor\": \"white\", \"linecolor\": \"white\", \"ticks\": \"\", \"zerolinecolor\": \"white\", \"zerolinewidth\": 2}, \"yaxis\": {\"automargin\": true, \"gridcolor\": \"white\", \"linecolor\": \"white\", \"ticks\": \"\", \"zerolinecolor\": \"white\", \"zerolinewidth\": 2}}}, \"grid\": {\"xaxes\": [\"x\"], \"yaxes\": [\"y\"], \"xgap\": 0.1, \"ygap\": 0.1, \"xside\": \"bottom\", \"yside\": \"left\"}, \"xaxis\": {\"title\": {\"text\": \"bowler\"}}, \"yaxis\": {\"title\": {\"text\": \"wickets\"}}}, {\"showLink\": false, \"linkText\": \"Export to plot.ly\", \"plotlyServerURL\": \"https://plot.ly\"}); \n",
       "}\n",
       "});</script><script type=\"text/javascript\">window.addEventListener(\"resize\", function(){if (document.getElementById(\"9e126d26-44bb-47d5-b644-f360abf1a7b3\")) {window._Plotly.Plots.resize(document.getElementById(\"9e126d26-44bb-47d5-b644-f360abf1a7b3\"));};})</script>"
      ]
     },
     "metadata": {},
     "output_type": "display_data"
    }
   ],
   "source": [
    "px.scatter(bowlers, x=\"bowler\", y=\"wickets\", color=\"economy\", size=\"overs\")"
   ]
  },
  {
   "cell_type": "code",
   "execution_count": 9,
   "metadata": {},
   "outputs": [
    {
     "data": {
      "text/html": [
       "<div>\n",
       "<style scoped>\n",
       "    .dataframe tbody tr th:only-of-type {\n",
       "        vertical-align: middle;\n",
       "    }\n",
       "\n",
       "    .dataframe tbody tr th {\n",
       "        vertical-align: top;\n",
       "    }\n",
       "\n",
       "    .dataframe thead th {\n",
       "        text-align: right;\n",
       "    }\n",
       "</style>\n",
       "<table border=\"1\" class=\"dataframe\">\n",
       "  <thead>\n",
       "    <tr style=\"text-align: right;\">\n",
       "      <th></th>\n",
       "      <th>inning</th>\n",
       "      <th>batting_team</th>\n",
       "      <th>total_runs</th>\n",
       "    </tr>\n",
       "  </thead>\n",
       "  <tbody>\n",
       "    <tr>\n",
       "      <th>384</th>\n",
       "      <td>3</td>\n",
       "      <td>CSK</td>\n",
       "      <td>9</td>\n",
       "    </tr>\n",
       "    <tr>\n",
       "      <th>207</th>\n",
       "      <td>2</td>\n",
       "      <td>CSK</td>\n",
       "      <td>55</td>\n",
       "    </tr>\n",
       "    <tr>\n",
       "      <th>868</th>\n",
       "      <td>2</td>\n",
       "      <td>CSK</td>\n",
       "      <td>79</td>\n",
       "    </tr>\n",
       "    <tr>\n",
       "      <th>912</th>\n",
       "      <td>2</td>\n",
       "      <td>CSK</td>\n",
       "      <td>82</td>\n",
       "    </tr>\n",
       "    <tr>\n",
       "      <th>166</th>\n",
       "      <td>1</td>\n",
       "      <td>CSK</td>\n",
       "      <td>109</td>\n",
       "    </tr>\n",
       "  </tbody>\n",
       "</table>\n",
       "</div>"
      ],
      "text/plain": [
       "     inning batting_team  total_runs\n",
       "384       3          CSK           9\n",
       "207       2          CSK          55\n",
       "868       2          CSK          79\n",
       "912       2          CSK          82\n",
       "166       1          CSK         109"
      ]
     },
     "execution_count": 9,
     "metadata": {},
     "output_type": "execute_result"
    }
   ],
   "source": [
    "scores=delivery.groupby(['match_id','inning','batting_team'])['total_runs'].sum().reset_index()\n",
    "scores.drop('match_id',axis=1,inplace=True)\n",
    "scores=scores.sort_values(by=['batting_team','total_runs'],ascending=True)\n",
    "score_1_inning=scores[scores['inning']==1]\n",
    "score_2_inning=scores[scores['inning']==2]"
   ]
  },
  {
   "cell_type": "code",
   "execution_count": 12,
   "metadata": {},
   "outputs": [
    {
     "data": {
      "application/vnd.plotly.v1+json": {
       "config": {
        "linkText": "Export to plot.ly",
        "plotlyServerURL": "https://plot.ly",
        "showLink": false
       },
       "data": [
        {
         "alignmentgroup": "True",
         "legendgroup": "batting_team=CSK",
         "marker": {
          "color": "#636efa"
         },
         "name": "batting_team=CSK",
         "notched": false,
         "offsetgroup": "batting_team=CSK",
         "orientation": "v",
         "showlegend": true,
         "type": "box",
         "uid": "53d04760-c230-4997-9a87-4987b1424743",
         "x": [
          "CSK",
          "CSK",
          "CSK",
          "CSK",
          "CSK",
          "CSK",
          "CSK",
          "CSK",
          "CSK",
          "CSK",
          "CSK",
          "CSK",
          "CSK",
          "CSK",
          "CSK",
          "CSK",
          "CSK",
          "CSK",
          "CSK",
          "CSK",
          "CSK",
          "CSK",
          "CSK",
          "CSK",
          "CSK",
          "CSK",
          "CSK",
          "CSK",
          "CSK",
          "CSK",
          "CSK",
          "CSK",
          "CSK",
          "CSK",
          "CSK",
          "CSK",
          "CSK",
          "CSK",
          "CSK",
          "CSK",
          "CSK",
          "CSK",
          "CSK",
          "CSK",
          "CSK",
          "CSK",
          "CSK",
          "CSK",
          "CSK",
          "CSK",
          "CSK",
          "CSK",
          "CSK",
          "CSK",
          "CSK",
          "CSK",
          "CSK",
          "CSK",
          "CSK",
          "CSK",
          "CSK",
          "CSK",
          "CSK",
          "CSK",
          "CSK",
          "CSK",
          "CSK",
          "CSK",
          "CSK",
          "CSK",
          "CSK",
          "CSK",
          "CSK",
          "CSK",
          "CSK",
          "CSK",
          "CSK"
         ],
         "xaxis": "x",
         "y": [
          109,
          110,
          112,
          112,
          114,
          116,
          119,
          120,
          128,
          129,
          131,
          134,
          138,
          138,
          139,
          140,
          141,
          142,
          142,
          144,
          146,
          148,
          148,
          150,
          152,
          153,
          154,
          155,
          156,
          156,
          157,
          158,
          160,
          163,
          163,
          164,
          164,
          164,
          164,
          165,
          165,
          165,
          165,
          168,
          168,
          169,
          169,
          173,
          176,
          177,
          178,
          178,
          179,
          180,
          181,
          181,
          183,
          185,
          185,
          186,
          187,
          188,
          188,
          190,
          192,
          192,
          193,
          196,
          200,
          205,
          205,
          208,
          209,
          222,
          223,
          240,
          246
         ],
         "yaxis": "y"
        },
        {
         "alignmentgroup": "True",
         "legendgroup": "batting_team=DC",
         "marker": {
          "color": "#EF553B"
         },
         "name": "batting_team=DC",
         "notched": false,
         "offsetgroup": "batting_team=DC",
         "orientation": "v",
         "showlegend": true,
         "type": "box",
         "uid": "6aa512b9-4215-4922-8412-00ed6d227844",
         "x": [
          "DC",
          "DC",
          "DC",
          "DC",
          "DC",
          "DC",
          "DC",
          "DC",
          "DC",
          "DC",
          "DC",
          "DC",
          "DC",
          "DC",
          "DC",
          "DC",
          "DC",
          "DC",
          "DC",
          "DC",
          "DC",
          "DC",
          "DC",
          "DC",
          "DC",
          "DC",
          "DC",
          "DC",
          "DC",
          "DC",
          "DC",
          "DC",
          "DC",
          "DC",
          "DC",
          "DC",
          "DC",
          "DC",
          "DC",
          "DC",
          "DC",
          "DC",
          "DC"
         ],
         "xaxis": "x",
         "y": [
          82,
          100,
          110,
          126,
          129,
          132,
          135,
          136,
          137,
          138,
          140,
          141,
          142,
          143,
          145,
          145,
          147,
          148,
          148,
          151,
          157,
          164,
          165,
          165,
          166,
          168,
          168,
          168,
          170,
          171,
          175,
          175,
          175,
          177,
          181,
          184,
          186,
          187,
          190,
          190,
          196,
          198,
          214
         ],
         "yaxis": "y"
        },
        {
         "alignmentgroup": "True",
         "legendgroup": "batting_team=DD",
         "marker": {
          "color": "#00cc96"
         },
         "name": "batting_team=DD",
         "notched": false,
         "offsetgroup": "batting_team=DD",
         "orientation": "v",
         "showlegend": true,
         "type": "box",
         "uid": "4379f75f-d149-48a4-9e87-8716c9980d0d",
         "x": [
          "DD",
          "DD",
          "DD",
          "DD",
          "DD",
          "DD",
          "DD",
          "DD",
          "DD",
          "DD",
          "DD",
          "DD",
          "DD",
          "DD",
          "DD",
          "DD",
          "DD",
          "DD",
          "DD",
          "DD",
          "DD",
          "DD",
          "DD",
          "DD",
          "DD",
          "DD",
          "DD",
          "DD",
          "DD",
          "DD",
          "DD",
          "DD",
          "DD",
          "DD",
          "DD",
          "DD",
          "DD",
          "DD",
          "DD",
          "DD",
          "DD",
          "DD",
          "DD",
          "DD",
          "DD",
          "DD",
          "DD",
          "DD",
          "DD",
          "DD",
          "DD",
          "DD",
          "DD",
          "DD",
          "DD",
          "DD",
          "DD",
          "DD",
          "DD",
          "DD",
          "DD",
          "DD",
          "DD"
         ],
         "xaxis": "x",
         "y": [
          56,
          67,
          80,
          95,
          95,
          98,
          111,
          114,
          114,
          115,
          118,
          120,
          120,
          121,
          128,
          134,
          138,
          140,
          143,
          143,
          145,
          146,
          150,
          151,
          152,
          152,
          152,
          152,
          153,
          153,
          154,
          156,
          157,
          158,
          160,
          160,
          160,
          162,
          164,
          164,
          164,
          167,
          168,
          168,
          173,
          177,
          178,
          183,
          184,
          184,
          185,
          186,
          187,
          187,
          188,
          188,
          189,
          190,
          191,
          194,
          205,
          207,
          231
         ],
         "yaxis": "y"
        },
        {
         "alignmentgroup": "True",
         "legendgroup": "batting_team=GL",
         "marker": {
          "color": "#ab63fa"
         },
         "name": "batting_team=GL",
         "notched": false,
         "offsetgroup": "batting_team=GL",
         "orientation": "v",
         "showlegend": true,
         "type": "box",
         "uid": "9750ba3e-c936-424a-86ab-2a2a11f80482",
         "x": [
          "GL",
          "GL",
          "GL",
          "GL",
          "GL",
          "GL",
          "GL",
          "GL",
          "GL",
          "GL",
          "GL",
          "GL",
          "GL",
          "GL"
         ],
         "xaxis": "x",
         "y": [
          126,
          135,
          135,
          149,
          153,
          154,
          158,
          161,
          162,
          172,
          176,
          183,
          195,
          208
         ],
         "yaxis": "y"
        },
        {
         "alignmentgroup": "True",
         "legendgroup": "batting_team=KKR",
         "marker": {
          "color": "#19d3f3"
         },
         "name": "batting_team=KKR",
         "notched": false,
         "offsetgroup": "batting_team=KKR",
         "orientation": "v",
         "showlegend": true,
         "type": "box",
         "uid": "17fe741a-5fc9-4946-82c9-8a056d7f3d98",
         "x": [
          "KKR",
          "KKR",
          "KKR",
          "KKR",
          "KKR",
          "KKR",
          "KKR",
          "KKR",
          "KKR",
          "KKR",
          "KKR",
          "KKR",
          "KKR",
          "KKR",
          "KKR",
          "KKR",
          "KKR",
          "KKR",
          "KKR",
          "KKR",
          "KKR",
          "KKR",
          "KKR",
          "KKR",
          "KKR",
          "KKR",
          "KKR",
          "KKR",
          "KKR",
          "KKR",
          "KKR",
          "KKR",
          "KKR",
          "KKR",
          "KKR",
          "KKR",
          "KKR",
          "KKR",
          "KKR",
          "KKR",
          "KKR",
          "KKR",
          "KKR",
          "KKR",
          "KKR",
          "KKR",
          "KKR",
          "KKR",
          "KKR",
          "KKR",
          "KKR",
          "KKR",
          "KKR",
          "KKR",
          "KKR",
          "KKR",
          "KKR",
          "KKR",
          "KKR",
          "KKR",
          "KKR",
          "KKR",
          "KKR",
          "KKR",
          "KKR",
          "KKR",
          "KKR",
          "KKR"
         ],
         "xaxis": "x",
         "y": [
          67,
          89,
          97,
          101,
          107,
          111,
          119,
          123,
          124,
          129,
          130,
          131,
          133,
          136,
          136,
          137,
          139,
          139,
          140,
          147,
          147,
          147,
          148,
          149,
          150,
          150,
          152,
          153,
          154,
          154,
          155,
          155,
          158,
          158,
          159,
          160,
          160,
          161,
          162,
          163,
          163,
          163,
          164,
          165,
          166,
          167,
          169,
          171,
          171,
          171,
          172,
          173,
          174,
          175,
          177,
          178,
          180,
          181,
          181,
          183,
          183,
          187,
          187,
          190,
          195,
          200,
          204,
          222
         ],
         "yaxis": "y"
        },
        {
         "alignmentgroup": "True",
         "legendgroup": "batting_team=KTK",
         "marker": {
          "color": "#e763fa"
         },
         "name": "batting_team=KTK",
         "notched": false,
         "offsetgroup": "batting_team=KTK",
         "orientation": "v",
         "showlegend": true,
         "type": "box",
         "uid": "03d111c4-d994-4e70-a868-2e85b1298048",
         "x": [
          "KTK",
          "KTK",
          "KTK",
          "KTK",
          "KTK",
          "KTK",
          "KTK"
         ],
         "xaxis": "x",
         "y": [
          109,
          125,
          132,
          148,
          156,
          161,
          178
         ],
         "yaxis": "y"
        },
        {
         "alignmentgroup": "True",
         "legendgroup": "batting_team=KXIP",
         "marker": {
          "color": "#fecb52"
         },
         "name": "batting_team=KXIP",
         "notched": false,
         "offsetgroup": "batting_team=KXIP",
         "orientation": "v",
         "showlegend": true,
         "type": "box",
         "uid": "3b1c9109-6db4-4eda-b15b-bbc678c708d8",
         "x": [
          "KXIP",
          "KXIP",
          "KXIP",
          "KXIP",
          "KXIP",
          "KXIP",
          "KXIP",
          "KXIP",
          "KXIP",
          "KXIP",
          "KXIP",
          "KXIP",
          "KXIP",
          "KXIP",
          "KXIP",
          "KXIP",
          "KXIP",
          "KXIP",
          "KXIP",
          "KXIP",
          "KXIP",
          "KXIP",
          "KXIP",
          "KXIP",
          "KXIP",
          "KXIP",
          "KXIP",
          "KXIP",
          "KXIP",
          "KXIP",
          "KXIP",
          "KXIP",
          "KXIP",
          "KXIP",
          "KXIP",
          "KXIP",
          "KXIP",
          "KXIP",
          "KXIP",
          "KXIP",
          "KXIP",
          "KXIP",
          "KXIP",
          "KXIP",
          "KXIP",
          "KXIP",
          "KXIP",
          "KXIP",
          "KXIP",
          "KXIP",
          "KXIP",
          "KXIP",
          "KXIP",
          "KXIP",
          "KXIP",
          "KXIP",
          "KXIP",
          "KXIP",
          "KXIP",
          "KXIP",
          "KXIP",
          "KXIP",
          "KXIP",
          "KXIP",
          "KXIP",
          "KXIP",
          "KXIP",
          "KXIP",
          "KXIP",
          "KXIP",
          "KXIP",
          "KXIP",
          "KXIP",
          "KXIP",
          "KXIP",
          "KXIP",
          "KXIP"
         ],
         "xaxis": "x",
         "y": [
          73,
          104,
          106,
          111,
          112,
          112,
          118,
          119,
          119,
          119,
          119,
          123,
          124,
          124,
          130,
          132,
          134,
          134,
          136,
          136,
          138,
          138,
          138,
          139,
          141,
          142,
          143,
          145,
          149,
          149,
          153,
          154,
          155,
          156,
          156,
          157,
          158,
          161,
          163,
          163,
          163,
          165,
          166,
          167,
          168,
          168,
          170,
          170,
          170,
          171,
          172,
          174,
          174,
          177,
          178,
          179,
          179,
          181,
          181,
          182,
          183,
          183,
          188,
          189,
          189,
          192,
          193,
          195,
          198,
          198,
          199,
          203,
          221,
          226,
          230,
          231,
          232
         ],
         "yaxis": "y"
        },
        {
         "alignmentgroup": "True",
         "legendgroup": "batting_team=MI",
         "marker": {
          "color": "#ffa15a"
         },
         "name": "batting_team=MI",
         "notched": false,
         "offsetgroup": "batting_team=MI",
         "orientation": "v",
         "showlegend": true,
         "type": "box",
         "uid": "4cae71f2-0a1e-4547-bb26-5e1ed3301671",
         "x": [
          "MI",
          "MI",
          "MI",
          "MI",
          "MI",
          "MI",
          "MI",
          "MI",
          "MI",
          "MI",
          "MI",
          "MI",
          "MI",
          "MI",
          "MI",
          "MI",
          "MI",
          "MI",
          "MI",
          "MI",
          "MI",
          "MI",
          "MI",
          "MI",
          "MI",
          "MI",
          "MI",
          "MI",
          "MI",
          "MI",
          "MI",
          "MI",
          "MI",
          "MI",
          "MI",
          "MI",
          "MI",
          "MI",
          "MI",
          "MI",
          "MI",
          "MI",
          "MI",
          "MI",
          "MI",
          "MI",
          "MI",
          "MI",
          "MI",
          "MI",
          "MI",
          "MI",
          "MI",
          "MI",
          "MI",
          "MI",
          "MI",
          "MI",
          "MI",
          "MI",
          "MI",
          "MI",
          "MI",
          "MI",
          "MI",
          "MI",
          "MI",
          "MI",
          "MI",
          "MI",
          "MI",
          "MI",
          "MI",
          "MI",
          "MI",
          "MI",
          "MI",
          "MI",
          "MI",
          "MI",
          "MI",
          "MI"
         ],
         "xaxis": "x",
         "y": [
          92,
          94,
          115,
          116,
          120,
          121,
          124,
          125,
          129,
          129,
          133,
          133,
          138,
          139,
          141,
          141,
          141,
          142,
          142,
          143,
          145,
          147,
          148,
          148,
          148,
          149,
          151,
          154,
          154,
          157,
          157,
          157,
          159,
          160,
          161,
          162,
          163,
          164,
          164,
          165,
          165,
          165,
          166,
          168,
          170,
          171,
          172,
          172,
          172,
          172,
          173,
          173,
          173,
          174,
          174,
          176,
          178,
          178,
          178,
          178,
          182,
          182,
          183,
          183,
          183,
          184,
          184,
          187,
          187,
          187,
          187,
          189,
          191,
          194,
          197,
          202,
          206,
          209,
          209,
          212,
          212,
          218
         ],
         "yaxis": "y"
        },
        {
         "alignmentgroup": "True",
         "legendgroup": "batting_team=PW",
         "marker": {
          "color": "#ff6692"
         },
         "name": "batting_team=PW",
         "notched": false,
         "offsetgroup": "batting_team=PW",
         "orientation": "v",
         "showlegend": true,
         "type": "box",
         "uid": "0b0b3481-e5b0-4906-b130-7ecb166fb7d8",
         "x": [
          "PW",
          "PW",
          "PW",
          "PW",
          "PW",
          "PW",
          "PW",
          "PW",
          "PW",
          "PW",
          "PW",
          "PW",
          "PW",
          "PW",
          "PW",
          "PW",
          "PW",
          "PW",
          "PW",
          "PW"
         ],
         "xaxis": "x",
         "y": [
          99,
          112,
          115,
          118,
          118,
          125,
          129,
          136,
          141,
          143,
          146,
          159,
          166,
          170,
          172,
          178,
          182,
          185,
          187,
          192
         ],
         "yaxis": "y"
        },
        {
         "alignmentgroup": "True",
         "legendgroup": "batting_team=RCB",
         "marker": {
          "color": "#b6e880"
         },
         "name": "batting_team=RCB",
         "notched": false,
         "offsetgroup": "batting_team=RCB",
         "orientation": "v",
         "showlegend": true,
         "type": "box",
         "uid": "0545178b-5e78-4049-b5ec-78b646cb93c7",
         "x": [
          "RCB",
          "RCB",
          "RCB",
          "RCB",
          "RCB",
          "RCB",
          "RCB",
          "RCB",
          "RCB",
          "RCB",
          "RCB",
          "RCB",
          "RCB",
          "RCB",
          "RCB",
          "RCB",
          "RCB",
          "RCB",
          "RCB",
          "RCB",
          "RCB",
          "RCB",
          "RCB",
          "RCB",
          "RCB",
          "RCB",
          "RCB",
          "RCB",
          "RCB",
          "RCB",
          "RCB",
          "RCB",
          "RCB",
          "RCB",
          "RCB",
          "RCB",
          "RCB",
          "RCB",
          "RCB",
          "RCB",
          "RCB",
          "RCB",
          "RCB",
          "RCB",
          "RCB",
          "RCB",
          "RCB",
          "RCB",
          "RCB",
          "RCB",
          "RCB",
          "RCB",
          "RCB",
          "RCB",
          "RCB",
          "RCB",
          "RCB",
          "RCB",
          "RCB",
          "RCB",
          "RCB",
          "RCB",
          "RCB",
          "RCB",
          "RCB",
          "RCB",
          "RCB",
          "RCB",
          "RCB",
          "RCB"
         ],
         "xaxis": "x",
         "y": [
          70,
          105,
          106,
          115,
          122,
          124,
          126,
          126,
          130,
          133,
          134,
          135,
          135,
          139,
          140,
          142,
          143,
          145,
          148,
          149,
          151,
          154,
          154,
          156,
          156,
          157,
          157,
          158,
          158,
          160,
          161,
          161,
          162,
          165,
          166,
          168,
          170,
          170,
          171,
          171,
          171,
          173,
          174,
          175,
          175,
          180,
          180,
          181,
          183,
          184,
          185,
          185,
          185,
          186,
          187,
          189,
          190,
          190,
          191,
          200,
          205,
          205,
          211,
          213,
          215,
          226,
          227,
          235,
          248,
          263
         ],
         "yaxis": "y"
        },
        {
         "alignmentgroup": "True",
         "legendgroup": "batting_team=RPS",
         "marker": {
          "color": "#636efa"
         },
         "name": "batting_team=RPS",
         "notched": false,
         "offsetgroup": "batting_team=RPS",
         "orientation": "v",
         "showlegend": true,
         "type": "box",
         "uid": "492e491c-7415-4b1a-a0ff-c8bbc728b733",
         "x": [
          "RPS",
          "RPS",
          "RPS",
          "RPS",
          "RPS",
          "RPS",
          "RPS",
          "RPS",
          "RPS",
          "RPS",
          "RPS",
          "RPS",
          "RPS",
          "RPS",
          "RPS"
         ],
         "xaxis": "x",
         "y": [
          103,
          148,
          152,
          157,
          159,
          160,
          160,
          161,
          162,
          163,
          163,
          171,
          182,
          191,
          195
         ],
         "yaxis": "y"
        },
        {
         "alignmentgroup": "True",
         "legendgroup": "batting_team=RR",
         "marker": {
          "color": "#EF553B"
         },
         "name": "batting_team=RR",
         "notched": false,
         "offsetgroup": "batting_team=RR",
         "orientation": "v",
         "showlegend": true,
         "type": "box",
         "uid": "76627120-a01a-4d87-9f86-c3049bb1ab65",
         "x": [
          "RR",
          "RR",
          "RR",
          "RR",
          "RR",
          "RR",
          "RR",
          "RR",
          "RR",
          "RR",
          "RR",
          "RR",
          "RR",
          "RR",
          "RR",
          "RR",
          "RR",
          "RR",
          "RR",
          "RR",
          "RR",
          "RR",
          "RR",
          "RR",
          "RR",
          "RR",
          "RR",
          "RR",
          "RR",
          "RR",
          "RR",
          "RR",
          "RR",
          "RR",
          "RR",
          "RR",
          "RR",
          "RR",
          "RR",
          "RR",
          "RR",
          "RR",
          "RR",
          "RR",
          "RR",
          "RR",
          "RR",
          "RR",
          "RR",
          "RR",
          "RR",
          "RR",
          "RR",
          "RR"
         ],
         "xaxis": "x",
         "y": [
          81,
          92,
          97,
          101,
          103,
          117,
          126,
          126,
          129,
          130,
          130,
          131,
          132,
          132,
          140,
          141,
          141,
          144,
          145,
          145,
          146,
          146,
          147,
          148,
          150,
          152,
          159,
          159,
          162,
          162,
          164,
          165,
          165,
          168,
          170,
          170,
          177,
          177,
          179,
          183,
          185,
          189,
          189,
          191,
          191,
          191,
          192,
          195,
          196,
          197,
          199,
          201,
          211,
          211
         ],
         "yaxis": "y"
        },
        {
         "alignmentgroup": "True",
         "legendgroup": "batting_team=SRH",
         "marker": {
          "color": "#00cc96"
         },
         "name": "batting_team=SRH",
         "notched": false,
         "offsetgroup": "batting_team=SRH",
         "orientation": "v",
         "showlegend": true,
         "type": "box",
         "uid": "389faee1-ebfc-4374-989f-3c4d91b3b97c",
         "x": [
          "SRH",
          "SRH",
          "SRH",
          "SRH",
          "SRH",
          "SRH",
          "SRH",
          "SRH",
          "SRH",
          "SRH",
          "SRH",
          "SRH",
          "SRH",
          "SRH",
          "SRH",
          "SRH",
          "SRH",
          "SRH",
          "SRH",
          "SRH",
          "SRH",
          "SRH",
          "SRH",
          "SRH",
          "SRH",
          "SRH",
          "SRH",
          "SRH",
          "SRH",
          "SRH",
          "SRH",
          "SRH",
          "SRH",
          "SRH",
          "SRH",
          "SRH",
          "SRH",
          "SRH",
          "SRH",
          "SRH",
          "SRH",
          "SRH",
          "SRH",
          "SRH",
          "SRH",
          "SRH"
         ],
         "xaxis": "x",
         "y": [
          113,
          118,
          119,
          126,
          127,
          128,
          132,
          133,
          134,
          135,
          136,
          137,
          142,
          142,
          144,
          145,
          146,
          150,
          150,
          155,
          157,
          158,
          158,
          159,
          159,
          160,
          161,
          162,
          163,
          172,
          176,
          176,
          177,
          178,
          184,
          185,
          185,
          191,
          192,
          194,
          201,
          205,
          207,
          207,
          208,
          209
         ],
         "yaxis": "y"
        }
       ],
       "layout": {
        "boxmode": "group",
        "grid": {
         "xaxes": [
          "x"
         ],
         "xgap": 0.1,
         "xside": "bottom",
         "yaxes": [
          "y"
         ],
         "ygap": 0.1,
         "yside": "left"
        },
        "height": 600,
        "legend": {
         "tracegroupgap": 0
        },
        "margin": {
         "t": 60
        },
        "template": {
         "data": {
          "bar": [
           {
            "marker": {
             "line": {
              "color": "#E5ECF6",
              "width": 0.5
             }
            },
            "type": "bar"
           }
          ],
          "barpolar": [
           {
            "marker": {
             "line": {
              "color": "#E5ECF6",
              "width": 0.5
             }
            },
            "type": "barpolar"
           }
          ],
          "carpet": [
           {
            "aaxis": {
             "endlinecolor": "#2a3f5f",
             "gridcolor": "white",
             "linecolor": "white",
             "minorgridcolor": "white",
             "startlinecolor": "#2a3f5f"
            },
            "baxis": {
             "endlinecolor": "#2a3f5f",
             "gridcolor": "white",
             "linecolor": "white",
             "minorgridcolor": "white",
             "startlinecolor": "#2a3f5f"
            },
            "type": "carpet"
           }
          ],
          "choropleth": [
           {
            "colorbar": {
             "outlinewidth": 0,
             "ticks": ""
            },
            "type": "choropleth"
           }
          ],
          "contour": [
           {
            "autocolorscale": true,
            "colorbar": {
             "outlinewidth": 0,
             "ticks": ""
            },
            "type": "contour"
           }
          ],
          "contourcarpet": [
           {
            "colorbar": {
             "outlinewidth": 0,
             "ticks": ""
            },
            "type": "contourcarpet"
           }
          ],
          "heatmap": [
           {
            "autocolorscale": true,
            "colorbar": {
             "outlinewidth": 0,
             "ticks": ""
            },
            "type": "heatmap"
           }
          ],
          "heatmapgl": [
           {
            "colorbar": {
             "outlinewidth": 0,
             "ticks": ""
            },
            "type": "heatmapgl"
           }
          ],
          "histogram": [
           {
            "marker": {
             "colorbar": {
              "outlinewidth": 0,
              "ticks": ""
             }
            },
            "type": "histogram"
           }
          ],
          "histogram2d": [
           {
            "autocolorscale": true,
            "colorbar": {
             "outlinewidth": 0,
             "ticks": ""
            },
            "type": "histogram2d"
           }
          ],
          "histogram2dcontour": [
           {
            "autocolorscale": true,
            "colorbar": {
             "outlinewidth": 0,
             "ticks": ""
            },
            "type": "histogram2dcontour"
           }
          ],
          "mesh3d": [
           {
            "colorbar": {
             "outlinewidth": 0,
             "ticks": ""
            },
            "type": "mesh3d"
           }
          ],
          "parcoords": [
           {
            "line": {
             "colorbar": {
              "outlinewidth": 0,
              "ticks": ""
             }
            },
            "type": "parcoords"
           }
          ],
          "scatter": [
           {
            "marker": {
             "colorbar": {
              "outlinewidth": 0,
              "ticks": ""
             }
            },
            "type": "scatter"
           }
          ],
          "scatter3d": [
           {
            "marker": {
             "colorbar": {
              "outlinewidth": 0,
              "ticks": ""
             }
            },
            "type": "scatter3d"
           }
          ],
          "scattercarpet": [
           {
            "marker": {
             "colorbar": {
              "outlinewidth": 0,
              "ticks": ""
             }
            },
            "type": "scattercarpet"
           }
          ],
          "scattergeo": [
           {
            "marker": {
             "colorbar": {
              "outlinewidth": 0,
              "ticks": ""
             }
            },
            "type": "scattergeo"
           }
          ],
          "scattergl": [
           {
            "marker": {
             "colorbar": {
              "outlinewidth": 0,
              "ticks": ""
             }
            },
            "type": "scattergl"
           }
          ],
          "scattermapbox": [
           {
            "marker": {
             "colorbar": {
              "outlinewidth": 0,
              "ticks": ""
             }
            },
            "type": "scattermapbox"
           }
          ],
          "scatterpolar": [
           {
            "marker": {
             "colorbar": {
              "outlinewidth": 0,
              "ticks": ""
             }
            },
            "type": "scatterpolar"
           }
          ],
          "scatterpolargl": [
           {
            "marker": {
             "colorbar": {
              "outlinewidth": 0,
              "ticks": ""
             }
            },
            "type": "scatterpolargl"
           }
          ],
          "scatterternary": [
           {
            "marker": {
             "colorbar": {
              "outlinewidth": 0,
              "ticks": ""
             }
            },
            "type": "scatterternary"
           }
          ],
          "surface": [
           {
            "colorbar": {
             "outlinewidth": 0,
             "ticks": ""
            },
            "type": "surface"
           }
          ],
          "table": [
           {
            "cells": {
             "fill": {
              "color": "#EBF0F8"
             },
             "line": {
              "color": "white"
             }
            },
            "header": {
             "fill": {
              "color": "#C8D4E3"
             },
             "line": {
              "color": "white"
             }
            },
            "type": "table"
           }
          ]
         },
         "layout": {
          "annotationdefaults": {
           "arrowcolor": "#506784",
           "arrowhead": 0,
           "arrowwidth": 1
          },
          "colorscale": {
           "diverging": [
            [
             0,
             "#8e0152"
            ],
            [
             0.1,
             "#c51b7d"
            ],
            [
             0.2,
             "#de77ae"
            ],
            [
             0.3,
             "#f1b6da"
            ],
            [
             0.4,
             "#fde0ef"
            ],
            [
             0.5,
             "#f7f7f7"
            ],
            [
             0.6,
             "#e6f5d0"
            ],
            [
             0.7,
             "#b8e186"
            ],
            [
             0.8,
             "#7fbc41"
            ],
            [
             0.9,
             "#4d9221"
            ],
            [
             1,
             "#276419"
            ]
           ],
           "sequential": [
            [
             0,
             "#0508b8"
            ],
            [
             0.0893854748603352,
             "#1910d8"
            ],
            [
             0.1787709497206704,
             "#3c19f0"
            ],
            [
             0.2681564245810056,
             "#6b1cfb"
            ],
            [
             0.3575418994413408,
             "#981cfd"
            ],
            [
             0.44692737430167595,
             "#bf1cfd"
            ],
            [
             0.5363128491620112,
             "#dd2bfd"
            ],
            [
             0.6256983240223464,
             "#f246fe"
            ],
            [
             0.7150837988826816,
             "#fc67fd"
            ],
            [
             0.8044692737430168,
             "#fe88fc"
            ],
            [
             0.8938547486033519,
             "#fea5fd"
            ],
            [
             0.9832402234636871,
             "#febefe"
            ],
            [
             1,
             "#fec3fe"
            ]
           ],
           "sequentialminus": [
            [
             0,
             "#0508b8"
            ],
            [
             0.0893854748603352,
             "#1910d8"
            ],
            [
             0.1787709497206704,
             "#3c19f0"
            ],
            [
             0.2681564245810056,
             "#6b1cfb"
            ],
            [
             0.3575418994413408,
             "#981cfd"
            ],
            [
             0.44692737430167595,
             "#bf1cfd"
            ],
            [
             0.5363128491620112,
             "#dd2bfd"
            ],
            [
             0.6256983240223464,
             "#f246fe"
            ],
            [
             0.7150837988826816,
             "#fc67fd"
            ],
            [
             0.8044692737430168,
             "#fe88fc"
            ],
            [
             0.8938547486033519,
             "#fea5fd"
            ],
            [
             0.9832402234636871,
             "#febefe"
            ],
            [
             1,
             "#fec3fe"
            ]
           ]
          },
          "colorway": [
           "#636efa",
           "#EF553B",
           "#00cc96",
           "#ab63fa",
           "#19d3f3",
           "#e763fa",
           "#FECB52",
           "#FFA15A",
           "#FF6692",
           "#B6E880"
          ],
          "font": {
           "color": "#2a3f5f"
          },
          "geo": {
           "bgcolor": "white",
           "lakecolor": "white",
           "landcolor": "#E5ECF6",
           "showlakes": true,
           "showland": true,
           "subunitcolor": "white"
          },
          "hovermode": "closest",
          "mapbox": {
           "style": "light"
          },
          "paper_bgcolor": "white",
          "plot_bgcolor": "#E5ECF6",
          "polar": {
           "angularaxis": {
            "gridcolor": "white",
            "linecolor": "white",
            "ticks": ""
           },
           "bgcolor": "#E5ECF6",
           "radialaxis": {
            "gridcolor": "white",
            "linecolor": "white",
            "ticks": ""
           }
          },
          "scene": {
           "xaxis": {
            "backgroundcolor": "#E5ECF6",
            "gridcolor": "white",
            "gridwidth": 2,
            "linecolor": "white",
            "showbackground": true,
            "ticks": "",
            "zerolinecolor": "white"
           },
           "yaxis": {
            "backgroundcolor": "#E5ECF6",
            "gridcolor": "white",
            "gridwidth": 2,
            "linecolor": "white",
            "showbackground": true,
            "ticks": "",
            "zerolinecolor": "white"
           },
           "zaxis": {
            "backgroundcolor": "#E5ECF6",
            "gridcolor": "white",
            "gridwidth": 2,
            "linecolor": "white",
            "showbackground": true,
            "ticks": "",
            "zerolinecolor": "white"
           }
          },
          "shapedefaults": {
           "fillcolor": "#506784",
           "line": {
            "width": 0
           },
           "opacity": 0.4
          },
          "ternary": {
           "aaxis": {
            "gridcolor": "white",
            "linecolor": "white",
            "ticks": ""
           },
           "baxis": {
            "gridcolor": "white",
            "linecolor": "white",
            "ticks": ""
           },
           "bgcolor": "#E5ECF6",
           "caxis": {
            "gridcolor": "white",
            "linecolor": "white",
            "ticks": ""
           }
          },
          "title": {
           "x": 0.05
          },
          "xaxis": {
           "automargin": true,
           "gridcolor": "white",
           "linecolor": "white",
           "ticks": "",
           "zerolinecolor": "white",
           "zerolinewidth": 2
          },
          "yaxis": {
           "automargin": true,
           "gridcolor": "white",
           "linecolor": "white",
           "ticks": "",
           "zerolinecolor": "white",
           "zerolinewidth": 2
          }
         }
        },
        "xaxis": {
         "categoryarray": [
          "CSK",
          "DC",
          "DD",
          "GL",
          "KKR",
          "KTK",
          "KXIP",
          "MI",
          "PW",
          "RCB",
          "RPS",
          "RR",
          "SRH"
         ],
         "categoryorder": "array",
         "title": {
          "text": "batting_team"
         }
        },
        "yaxis": {
         "title": {
          "text": "total_runs"
         }
        }
       }
      },
      "text/html": [
       "<div id=\"330cb412-18bd-4b64-9bd8-ebc9f84e148d\" style=\"height: 600px; width: 100%;\" class=\"plotly-graph-div\"></div><script type=\"text/javascript\">require([\"plotly\"], function(Plotly) { window.PLOTLYENV=window.PLOTLYENV || {};window.PLOTLYENV.BASE_URL=\"https://plot.ly\";\n",
       "if (document.getElementById(\"330cb412-18bd-4b64-9bd8-ebc9f84e148d\")) {\n",
       "    Plotly.newPlot(\"330cb412-18bd-4b64-9bd8-ebc9f84e148d\", [{\"alignmentgroup\": \"True\", \"legendgroup\": \"batting_team=CSK\", \"marker\": {\"color\": \"#636efa\"}, \"name\": \"batting_team=CSK\", \"notched\": false, \"offsetgroup\": \"batting_team=CSK\", \"orientation\": \"v\", \"showlegend\": true, \"x\": [\"CSK\", \"CSK\", \"CSK\", \"CSK\", \"CSK\", \"CSK\", \"CSK\", \"CSK\", \"CSK\", \"CSK\", \"CSK\", \"CSK\", \"CSK\", \"CSK\", \"CSK\", \"CSK\", \"CSK\", \"CSK\", \"CSK\", \"CSK\", \"CSK\", \"CSK\", \"CSK\", \"CSK\", \"CSK\", \"CSK\", \"CSK\", \"CSK\", \"CSK\", \"CSK\", \"CSK\", \"CSK\", \"CSK\", \"CSK\", \"CSK\", \"CSK\", \"CSK\", \"CSK\", \"CSK\", \"CSK\", \"CSK\", \"CSK\", \"CSK\", \"CSK\", \"CSK\", \"CSK\", \"CSK\", \"CSK\", \"CSK\", \"CSK\", \"CSK\", \"CSK\", \"CSK\", \"CSK\", \"CSK\", \"CSK\", \"CSK\", \"CSK\", \"CSK\", \"CSK\", \"CSK\", \"CSK\", \"CSK\", \"CSK\", \"CSK\", \"CSK\", \"CSK\", \"CSK\", \"CSK\", \"CSK\", \"CSK\", \"CSK\", \"CSK\", \"CSK\", \"CSK\", \"CSK\", \"CSK\"], \"xaxis\": \"x\", \"y\": [109, 110, 112, 112, 114, 116, 119, 120, 128, 129, 131, 134, 138, 138, 139, 140, 141, 142, 142, 144, 146, 148, 148, 150, 152, 153, 154, 155, 156, 156, 157, 158, 160, 163, 163, 164, 164, 164, 164, 165, 165, 165, 165, 168, 168, 169, 169, 173, 176, 177, 178, 178, 179, 180, 181, 181, 183, 185, 185, 186, 187, 188, 188, 190, 192, 192, 193, 196, 200, 205, 205, 208, 209, 222, 223, 240, 246], \"yaxis\": \"y\", \"type\": \"box\", \"uid\": \"53d04760-c230-4997-9a87-4987b1424743\"}, {\"alignmentgroup\": \"True\", \"legendgroup\": \"batting_team=DC\", \"marker\": {\"color\": \"#EF553B\"}, \"name\": \"batting_team=DC\", \"notched\": false, \"offsetgroup\": \"batting_team=DC\", \"orientation\": \"v\", \"showlegend\": true, \"x\": [\"DC\", \"DC\", \"DC\", \"DC\", \"DC\", \"DC\", \"DC\", \"DC\", \"DC\", \"DC\", \"DC\", \"DC\", \"DC\", \"DC\", \"DC\", \"DC\", \"DC\", \"DC\", \"DC\", \"DC\", \"DC\", \"DC\", \"DC\", \"DC\", \"DC\", \"DC\", \"DC\", \"DC\", \"DC\", \"DC\", \"DC\", \"DC\", \"DC\", \"DC\", \"DC\", \"DC\", \"DC\", \"DC\", \"DC\", \"DC\", \"DC\", \"DC\", \"DC\"], \"xaxis\": \"x\", \"y\": [82, 100, 110, 126, 129, 132, 135, 136, 137, 138, 140, 141, 142, 143, 145, 145, 147, 148, 148, 151, 157, 164, 165, 165, 166, 168, 168, 168, 170, 171, 175, 175, 175, 177, 181, 184, 186, 187, 190, 190, 196, 198, 214], \"yaxis\": \"y\", \"type\": \"box\", \"uid\": \"6aa512b9-4215-4922-8412-00ed6d227844\"}, {\"alignmentgroup\": \"True\", \"legendgroup\": \"batting_team=DD\", \"marker\": {\"color\": \"#00cc96\"}, \"name\": \"batting_team=DD\", \"notched\": false, \"offsetgroup\": \"batting_team=DD\", \"orientation\": \"v\", \"showlegend\": true, \"x\": [\"DD\", \"DD\", \"DD\", \"DD\", \"DD\", \"DD\", \"DD\", \"DD\", \"DD\", \"DD\", \"DD\", \"DD\", \"DD\", \"DD\", \"DD\", \"DD\", \"DD\", \"DD\", \"DD\", \"DD\", \"DD\", \"DD\", \"DD\", \"DD\", \"DD\", \"DD\", \"DD\", \"DD\", \"DD\", \"DD\", \"DD\", \"DD\", \"DD\", \"DD\", \"DD\", \"DD\", \"DD\", \"DD\", \"DD\", \"DD\", \"DD\", \"DD\", \"DD\", \"DD\", \"DD\", \"DD\", \"DD\", \"DD\", \"DD\", \"DD\", \"DD\", \"DD\", \"DD\", \"DD\", \"DD\", \"DD\", \"DD\", \"DD\", \"DD\", \"DD\", \"DD\", \"DD\", \"DD\"], \"xaxis\": \"x\", \"y\": [56, 67, 80, 95, 95, 98, 111, 114, 114, 115, 118, 120, 120, 121, 128, 134, 138, 140, 143, 143, 145, 146, 150, 151, 152, 152, 152, 152, 153, 153, 154, 156, 157, 158, 160, 160, 160, 162, 164, 164, 164, 167, 168, 168, 173, 177, 178, 183, 184, 184, 185, 186, 187, 187, 188, 188, 189, 190, 191, 194, 205, 207, 231], \"yaxis\": \"y\", \"type\": \"box\", \"uid\": \"4379f75f-d149-48a4-9e87-8716c9980d0d\"}, {\"alignmentgroup\": \"True\", \"legendgroup\": \"batting_team=GL\", \"marker\": {\"color\": \"#ab63fa\"}, \"name\": \"batting_team=GL\", \"notched\": false, \"offsetgroup\": \"batting_team=GL\", \"orientation\": \"v\", \"showlegend\": true, \"x\": [\"GL\", \"GL\", \"GL\", \"GL\", \"GL\", \"GL\", \"GL\", \"GL\", \"GL\", \"GL\", \"GL\", \"GL\", \"GL\", \"GL\"], \"xaxis\": \"x\", \"y\": [126, 135, 135, 149, 153, 154, 158, 161, 162, 172, 176, 183, 195, 208], \"yaxis\": \"y\", \"type\": \"box\", \"uid\": \"9750ba3e-c936-424a-86ab-2a2a11f80482\"}, {\"alignmentgroup\": \"True\", \"legendgroup\": \"batting_team=KKR\", \"marker\": {\"color\": \"#19d3f3\"}, \"name\": \"batting_team=KKR\", \"notched\": false, \"offsetgroup\": \"batting_team=KKR\", \"orientation\": \"v\", \"showlegend\": true, \"x\": [\"KKR\", \"KKR\", \"KKR\", \"KKR\", \"KKR\", \"KKR\", \"KKR\", \"KKR\", \"KKR\", \"KKR\", \"KKR\", \"KKR\", \"KKR\", \"KKR\", \"KKR\", \"KKR\", \"KKR\", \"KKR\", \"KKR\", \"KKR\", \"KKR\", \"KKR\", \"KKR\", \"KKR\", \"KKR\", \"KKR\", \"KKR\", \"KKR\", \"KKR\", \"KKR\", \"KKR\", \"KKR\", \"KKR\", \"KKR\", \"KKR\", \"KKR\", \"KKR\", \"KKR\", \"KKR\", \"KKR\", \"KKR\", \"KKR\", \"KKR\", \"KKR\", \"KKR\", \"KKR\", \"KKR\", \"KKR\", \"KKR\", \"KKR\", \"KKR\", \"KKR\", \"KKR\", \"KKR\", \"KKR\", \"KKR\", \"KKR\", \"KKR\", \"KKR\", \"KKR\", \"KKR\", \"KKR\", \"KKR\", \"KKR\", \"KKR\", \"KKR\", \"KKR\", \"KKR\"], \"xaxis\": \"x\", \"y\": [67, 89, 97, 101, 107, 111, 119, 123, 124, 129, 130, 131, 133, 136, 136, 137, 139, 139, 140, 147, 147, 147, 148, 149, 150, 150, 152, 153, 154, 154, 155, 155, 158, 158, 159, 160, 160, 161, 162, 163, 163, 163, 164, 165, 166, 167, 169, 171, 171, 171, 172, 173, 174, 175, 177, 178, 180, 181, 181, 183, 183, 187, 187, 190, 195, 200, 204, 222], \"yaxis\": \"y\", \"type\": \"box\", \"uid\": \"17fe741a-5fc9-4946-82c9-8a056d7f3d98\"}, {\"alignmentgroup\": \"True\", \"legendgroup\": \"batting_team=KTK\", \"marker\": {\"color\": \"#e763fa\"}, \"name\": \"batting_team=KTK\", \"notched\": false, \"offsetgroup\": \"batting_team=KTK\", \"orientation\": \"v\", \"showlegend\": true, \"x\": [\"KTK\", \"KTK\", \"KTK\", \"KTK\", \"KTK\", \"KTK\", \"KTK\"], \"xaxis\": \"x\", \"y\": [109, 125, 132, 148, 156, 161, 178], \"yaxis\": \"y\", \"type\": \"box\", \"uid\": \"03d111c4-d994-4e70-a868-2e85b1298048\"}, {\"alignmentgroup\": \"True\", \"legendgroup\": \"batting_team=KXIP\", \"marker\": {\"color\": \"#fecb52\"}, \"name\": \"batting_team=KXIP\", \"notched\": false, \"offsetgroup\": \"batting_team=KXIP\", \"orientation\": \"v\", \"showlegend\": true, \"x\": [\"KXIP\", \"KXIP\", \"KXIP\", \"KXIP\", \"KXIP\", \"KXIP\", \"KXIP\", \"KXIP\", \"KXIP\", \"KXIP\", \"KXIP\", \"KXIP\", \"KXIP\", \"KXIP\", \"KXIP\", \"KXIP\", \"KXIP\", \"KXIP\", \"KXIP\", \"KXIP\", \"KXIP\", \"KXIP\", \"KXIP\", \"KXIP\", \"KXIP\", \"KXIP\", \"KXIP\", \"KXIP\", \"KXIP\", \"KXIP\", \"KXIP\", \"KXIP\", \"KXIP\", \"KXIP\", \"KXIP\", \"KXIP\", \"KXIP\", \"KXIP\", \"KXIP\", \"KXIP\", \"KXIP\", \"KXIP\", \"KXIP\", \"KXIP\", \"KXIP\", \"KXIP\", \"KXIP\", \"KXIP\", \"KXIP\", \"KXIP\", \"KXIP\", \"KXIP\", \"KXIP\", \"KXIP\", \"KXIP\", \"KXIP\", \"KXIP\", \"KXIP\", \"KXIP\", \"KXIP\", \"KXIP\", \"KXIP\", \"KXIP\", \"KXIP\", \"KXIP\", \"KXIP\", \"KXIP\", \"KXIP\", \"KXIP\", \"KXIP\", \"KXIP\", \"KXIP\", \"KXIP\", \"KXIP\", \"KXIP\", \"KXIP\", \"KXIP\"], \"xaxis\": \"x\", \"y\": [73, 104, 106, 111, 112, 112, 118, 119, 119, 119, 119, 123, 124, 124, 130, 132, 134, 134, 136, 136, 138, 138, 138, 139, 141, 142, 143, 145, 149, 149, 153, 154, 155, 156, 156, 157, 158, 161, 163, 163, 163, 165, 166, 167, 168, 168, 170, 170, 170, 171, 172, 174, 174, 177, 178, 179, 179, 181, 181, 182, 183, 183, 188, 189, 189, 192, 193, 195, 198, 198, 199, 203, 221, 226, 230, 231, 232], \"yaxis\": \"y\", \"type\": \"box\", \"uid\": \"3b1c9109-6db4-4eda-b15b-bbc678c708d8\"}, {\"alignmentgroup\": \"True\", \"legendgroup\": \"batting_team=MI\", \"marker\": {\"color\": \"#ffa15a\"}, \"name\": \"batting_team=MI\", \"notched\": false, \"offsetgroup\": \"batting_team=MI\", \"orientation\": \"v\", \"showlegend\": true, \"x\": [\"MI\", \"MI\", \"MI\", \"MI\", \"MI\", \"MI\", \"MI\", \"MI\", \"MI\", \"MI\", \"MI\", \"MI\", \"MI\", \"MI\", \"MI\", \"MI\", \"MI\", \"MI\", \"MI\", \"MI\", \"MI\", \"MI\", \"MI\", \"MI\", \"MI\", \"MI\", \"MI\", \"MI\", \"MI\", \"MI\", \"MI\", \"MI\", \"MI\", \"MI\", \"MI\", \"MI\", \"MI\", \"MI\", \"MI\", \"MI\", \"MI\", \"MI\", \"MI\", \"MI\", \"MI\", \"MI\", \"MI\", \"MI\", \"MI\", \"MI\", \"MI\", \"MI\", \"MI\", \"MI\", \"MI\", \"MI\", \"MI\", \"MI\", \"MI\", \"MI\", \"MI\", \"MI\", \"MI\", \"MI\", \"MI\", \"MI\", \"MI\", \"MI\", \"MI\", \"MI\", \"MI\", \"MI\", \"MI\", \"MI\", \"MI\", \"MI\", \"MI\", \"MI\", \"MI\", \"MI\", \"MI\", \"MI\"], \"xaxis\": \"x\", \"y\": [92, 94, 115, 116, 120, 121, 124, 125, 129, 129, 133, 133, 138, 139, 141, 141, 141, 142, 142, 143, 145, 147, 148, 148, 148, 149, 151, 154, 154, 157, 157, 157, 159, 160, 161, 162, 163, 164, 164, 165, 165, 165, 166, 168, 170, 171, 172, 172, 172, 172, 173, 173, 173, 174, 174, 176, 178, 178, 178, 178, 182, 182, 183, 183, 183, 184, 184, 187, 187, 187, 187, 189, 191, 194, 197, 202, 206, 209, 209, 212, 212, 218], \"yaxis\": \"y\", \"type\": \"box\", \"uid\": \"4cae71f2-0a1e-4547-bb26-5e1ed3301671\"}, {\"alignmentgroup\": \"True\", \"legendgroup\": \"batting_team=PW\", \"marker\": {\"color\": \"#ff6692\"}, \"name\": \"batting_team=PW\", \"notched\": false, \"offsetgroup\": \"batting_team=PW\", \"orientation\": \"v\", \"showlegend\": true, \"x\": [\"PW\", \"PW\", \"PW\", \"PW\", \"PW\", \"PW\", \"PW\", \"PW\", \"PW\", \"PW\", \"PW\", \"PW\", \"PW\", \"PW\", \"PW\", \"PW\", \"PW\", \"PW\", \"PW\", \"PW\"], \"xaxis\": \"x\", \"y\": [99, 112, 115, 118, 118, 125, 129, 136, 141, 143, 146, 159, 166, 170, 172, 178, 182, 185, 187, 192], \"yaxis\": \"y\", \"type\": \"box\", \"uid\": \"0b0b3481-e5b0-4906-b130-7ecb166fb7d8\"}, {\"alignmentgroup\": \"True\", \"legendgroup\": \"batting_team=RCB\", \"marker\": {\"color\": \"#b6e880\"}, \"name\": \"batting_team=RCB\", \"notched\": false, \"offsetgroup\": \"batting_team=RCB\", \"orientation\": \"v\", \"showlegend\": true, \"x\": [\"RCB\", \"RCB\", \"RCB\", \"RCB\", \"RCB\", \"RCB\", \"RCB\", \"RCB\", \"RCB\", \"RCB\", \"RCB\", \"RCB\", \"RCB\", \"RCB\", \"RCB\", \"RCB\", \"RCB\", \"RCB\", \"RCB\", \"RCB\", \"RCB\", \"RCB\", \"RCB\", \"RCB\", \"RCB\", \"RCB\", \"RCB\", \"RCB\", \"RCB\", \"RCB\", \"RCB\", \"RCB\", \"RCB\", \"RCB\", \"RCB\", \"RCB\", \"RCB\", \"RCB\", \"RCB\", \"RCB\", \"RCB\", \"RCB\", \"RCB\", \"RCB\", \"RCB\", \"RCB\", \"RCB\", \"RCB\", \"RCB\", \"RCB\", \"RCB\", \"RCB\", \"RCB\", \"RCB\", \"RCB\", \"RCB\", \"RCB\", \"RCB\", \"RCB\", \"RCB\", \"RCB\", \"RCB\", \"RCB\", \"RCB\", \"RCB\", \"RCB\", \"RCB\", \"RCB\", \"RCB\", \"RCB\"], \"xaxis\": \"x\", \"y\": [70, 105, 106, 115, 122, 124, 126, 126, 130, 133, 134, 135, 135, 139, 140, 142, 143, 145, 148, 149, 151, 154, 154, 156, 156, 157, 157, 158, 158, 160, 161, 161, 162, 165, 166, 168, 170, 170, 171, 171, 171, 173, 174, 175, 175, 180, 180, 181, 183, 184, 185, 185, 185, 186, 187, 189, 190, 190, 191, 200, 205, 205, 211, 213, 215, 226, 227, 235, 248, 263], \"yaxis\": \"y\", \"type\": \"box\", \"uid\": \"0545178b-5e78-4049-b5ec-78b646cb93c7\"}, {\"alignmentgroup\": \"True\", \"legendgroup\": \"batting_team=RPS\", \"marker\": {\"color\": \"#636efa\"}, \"name\": \"batting_team=RPS\", \"notched\": false, \"offsetgroup\": \"batting_team=RPS\", \"orientation\": \"v\", \"showlegend\": true, \"x\": [\"RPS\", \"RPS\", \"RPS\", \"RPS\", \"RPS\", \"RPS\", \"RPS\", \"RPS\", \"RPS\", \"RPS\", \"RPS\", \"RPS\", \"RPS\", \"RPS\", \"RPS\"], \"xaxis\": \"x\", \"y\": [103, 148, 152, 157, 159, 160, 160, 161, 162, 163, 163, 171, 182, 191, 195], \"yaxis\": \"y\", \"type\": \"box\", \"uid\": \"492e491c-7415-4b1a-a0ff-c8bbc728b733\"}, {\"alignmentgroup\": \"True\", \"legendgroup\": \"batting_team=RR\", \"marker\": {\"color\": \"#EF553B\"}, \"name\": \"batting_team=RR\", \"notched\": false, \"offsetgroup\": \"batting_team=RR\", \"orientation\": \"v\", \"showlegend\": true, \"x\": [\"RR\", \"RR\", \"RR\", \"RR\", \"RR\", \"RR\", \"RR\", \"RR\", \"RR\", \"RR\", \"RR\", \"RR\", \"RR\", \"RR\", \"RR\", \"RR\", \"RR\", \"RR\", \"RR\", \"RR\", \"RR\", \"RR\", \"RR\", \"RR\", \"RR\", \"RR\", \"RR\", \"RR\", \"RR\", \"RR\", \"RR\", \"RR\", \"RR\", \"RR\", \"RR\", \"RR\", \"RR\", \"RR\", \"RR\", \"RR\", \"RR\", \"RR\", \"RR\", \"RR\", \"RR\", \"RR\", \"RR\", \"RR\", \"RR\", \"RR\", \"RR\", \"RR\", \"RR\", \"RR\"], \"xaxis\": \"x\", \"y\": [81, 92, 97, 101, 103, 117, 126, 126, 129, 130, 130, 131, 132, 132, 140, 141, 141, 144, 145, 145, 146, 146, 147, 148, 150, 152, 159, 159, 162, 162, 164, 165, 165, 168, 170, 170, 177, 177, 179, 183, 185, 189, 189, 191, 191, 191, 192, 195, 196, 197, 199, 201, 211, 211], \"yaxis\": \"y\", \"type\": \"box\", \"uid\": \"76627120-a01a-4d87-9f86-c3049bb1ab65\"}, {\"alignmentgroup\": \"True\", \"legendgroup\": \"batting_team=SRH\", \"marker\": {\"color\": \"#00cc96\"}, \"name\": \"batting_team=SRH\", \"notched\": false, \"offsetgroup\": \"batting_team=SRH\", \"orientation\": \"v\", \"showlegend\": true, \"x\": [\"SRH\", \"SRH\", \"SRH\", \"SRH\", \"SRH\", \"SRH\", \"SRH\", \"SRH\", \"SRH\", \"SRH\", \"SRH\", \"SRH\", \"SRH\", \"SRH\", \"SRH\", \"SRH\", \"SRH\", \"SRH\", \"SRH\", \"SRH\", \"SRH\", \"SRH\", \"SRH\", \"SRH\", \"SRH\", \"SRH\", \"SRH\", \"SRH\", \"SRH\", \"SRH\", \"SRH\", \"SRH\", \"SRH\", \"SRH\", \"SRH\", \"SRH\", \"SRH\", \"SRH\", \"SRH\", \"SRH\", \"SRH\", \"SRH\", \"SRH\", \"SRH\", \"SRH\", \"SRH\"], \"xaxis\": \"x\", \"y\": [113, 118, 119, 126, 127, 128, 132, 133, 134, 135, 136, 137, 142, 142, 144, 145, 146, 150, 150, 155, 157, 158, 158, 159, 159, 160, 161, 162, 163, 172, 176, 176, 177, 178, 184, 185, 185, 191, 192, 194, 201, 205, 207, 207, 208, 209], \"yaxis\": \"y\", \"type\": \"box\", \"uid\": \"389faee1-ebfc-4374-989f-3c4d91b3b97c\"}], {\"boxmode\": \"group\", \"height\": 600, \"legend\": {\"tracegroupgap\": 0}, \"margin\": {\"t\": 60}, \"template\": {\"data\": {\"barpolar\": [{\"marker\": {\"line\": {\"color\": \"#E5ECF6\", \"width\": 0.5}}, \"type\": \"barpolar\"}], \"bar\": [{\"marker\": {\"line\": {\"color\": \"#E5ECF6\", \"width\": 0.5}}, \"type\": \"bar\"}], \"carpet\": [{\"aaxis\": {\"endlinecolor\": \"#2a3f5f\", \"gridcolor\": \"white\", \"linecolor\": \"white\", \"minorgridcolor\": \"white\", \"startlinecolor\": \"#2a3f5f\"}, \"baxis\": {\"endlinecolor\": \"#2a3f5f\", \"gridcolor\": \"white\", \"linecolor\": \"white\", \"minorgridcolor\": \"white\", \"startlinecolor\": \"#2a3f5f\"}, \"type\": \"carpet\"}], \"choropleth\": [{\"colorbar\": {\"outlinewidth\": 0, \"ticks\": \"\"}, \"type\": \"choropleth\"}], \"contourcarpet\": [{\"colorbar\": {\"outlinewidth\": 0, \"ticks\": \"\"}, \"type\": \"contourcarpet\"}], \"contour\": [{\"autocolorscale\": true, \"colorbar\": {\"outlinewidth\": 0, \"ticks\": \"\"}, \"type\": \"contour\"}], \"heatmapgl\": [{\"colorbar\": {\"outlinewidth\": 0, \"ticks\": \"\"}, \"type\": \"heatmapgl\"}], \"heatmap\": [{\"autocolorscale\": true, \"colorbar\": {\"outlinewidth\": 0, \"ticks\": \"\"}, \"type\": \"heatmap\"}], \"histogram2dcontour\": [{\"autocolorscale\": true, \"colorbar\": {\"outlinewidth\": 0, \"ticks\": \"\"}, \"type\": \"histogram2dcontour\"}], \"histogram2d\": [{\"autocolorscale\": true, \"colorbar\": {\"outlinewidth\": 0, \"ticks\": \"\"}, \"type\": \"histogram2d\"}], \"histogram\": [{\"marker\": {\"colorbar\": {\"outlinewidth\": 0, \"ticks\": \"\"}}, \"type\": \"histogram\"}], \"mesh3d\": [{\"colorbar\": {\"outlinewidth\": 0, \"ticks\": \"\"}, \"type\": \"mesh3d\"}], \"parcoords\": [{\"line\": {\"colorbar\": {\"outlinewidth\": 0, \"ticks\": \"\"}}, \"type\": \"parcoords\"}], \"scatter3d\": [{\"marker\": {\"colorbar\": {\"outlinewidth\": 0, \"ticks\": \"\"}}, \"type\": \"scatter3d\"}], \"scattercarpet\": [{\"marker\": {\"colorbar\": {\"outlinewidth\": 0, \"ticks\": \"\"}}, \"type\": \"scattercarpet\"}], \"scattergeo\": [{\"marker\": {\"colorbar\": {\"outlinewidth\": 0, \"ticks\": \"\"}}, \"type\": \"scattergeo\"}], \"scattergl\": [{\"marker\": {\"colorbar\": {\"outlinewidth\": 0, \"ticks\": \"\"}}, \"type\": \"scattergl\"}], \"scattermapbox\": [{\"marker\": {\"colorbar\": {\"outlinewidth\": 0, \"ticks\": \"\"}}, \"type\": \"scattermapbox\"}], \"scatterpolargl\": [{\"marker\": {\"colorbar\": {\"outlinewidth\": 0, \"ticks\": \"\"}}, \"type\": \"scatterpolargl\"}], \"scatterpolar\": [{\"marker\": {\"colorbar\": {\"outlinewidth\": 0, \"ticks\": \"\"}}, \"type\": \"scatterpolar\"}], \"scatter\": [{\"marker\": {\"colorbar\": {\"outlinewidth\": 0, \"ticks\": \"\"}}, \"type\": \"scatter\"}], \"scatterternary\": [{\"marker\": {\"colorbar\": {\"outlinewidth\": 0, \"ticks\": \"\"}}, \"type\": \"scatterternary\"}], \"surface\": [{\"colorbar\": {\"outlinewidth\": 0, \"ticks\": \"\"}, \"type\": \"surface\"}], \"table\": [{\"cells\": {\"fill\": {\"color\": \"#EBF0F8\"}, \"line\": {\"color\": \"white\"}}, \"header\": {\"fill\": {\"color\": \"#C8D4E3\"}, \"line\": {\"color\": \"white\"}}, \"type\": \"table\"}]}, \"layout\": {\"annotationdefaults\": {\"arrowcolor\": \"#506784\", \"arrowhead\": 0, \"arrowwidth\": 1}, \"colorscale\": {\"diverging\": [[0, \"#8e0152\"], [0.1, \"#c51b7d\"], [0.2, \"#de77ae\"], [0.3, \"#f1b6da\"], [0.4, \"#fde0ef\"], [0.5, \"#f7f7f7\"], [0.6, \"#e6f5d0\"], [0.7, \"#b8e186\"], [0.8, \"#7fbc41\"], [0.9, \"#4d9221\"], [1, \"#276419\"]], \"sequential\": [[0.0, \"#0508b8\"], [0.0893854748603352, \"#1910d8\"], [0.1787709497206704, \"#3c19f0\"], [0.2681564245810056, \"#6b1cfb\"], [0.3575418994413408, \"#981cfd\"], [0.44692737430167595, \"#bf1cfd\"], [0.5363128491620112, \"#dd2bfd\"], [0.6256983240223464, \"#f246fe\"], [0.7150837988826816, \"#fc67fd\"], [0.8044692737430168, \"#fe88fc\"], [0.8938547486033519, \"#fea5fd\"], [0.9832402234636871, \"#febefe\"], [1.0, \"#fec3fe\"]], \"sequentialminus\": [[0.0, \"#0508b8\"], [0.0893854748603352, \"#1910d8\"], [0.1787709497206704, \"#3c19f0\"], [0.2681564245810056, \"#6b1cfb\"], [0.3575418994413408, \"#981cfd\"], [0.44692737430167595, \"#bf1cfd\"], [0.5363128491620112, \"#dd2bfd\"], [0.6256983240223464, \"#f246fe\"], [0.7150837988826816, \"#fc67fd\"], [0.8044692737430168, \"#fe88fc\"], [0.8938547486033519, \"#fea5fd\"], [0.9832402234636871, \"#febefe\"], [1.0, \"#fec3fe\"]]}, \"colorway\": [\"#636efa\", \"#EF553B\", \"#00cc96\", \"#ab63fa\", \"#19d3f3\", \"#e763fa\", \"#FECB52\", \"#FFA15A\", \"#FF6692\", \"#B6E880\"], \"font\": {\"color\": \"#2a3f5f\"}, \"geo\": {\"bgcolor\": \"white\", \"lakecolor\": \"white\", \"landcolor\": \"#E5ECF6\", \"showlakes\": true, \"showland\": true, \"subunitcolor\": \"white\"}, \"hovermode\": \"closest\", \"mapbox\": {\"style\": \"light\"}, \"paper_bgcolor\": \"white\", \"plot_bgcolor\": \"#E5ECF6\", \"polar\": {\"angularaxis\": {\"gridcolor\": \"white\", \"linecolor\": \"white\", \"ticks\": \"\"}, \"bgcolor\": \"#E5ECF6\", \"radialaxis\": {\"gridcolor\": \"white\", \"linecolor\": \"white\", \"ticks\": \"\"}}, \"scene\": {\"xaxis\": {\"backgroundcolor\": \"#E5ECF6\", \"gridcolor\": \"white\", \"gridwidth\": 2, \"linecolor\": \"white\", \"showbackground\": true, \"ticks\": \"\", \"zerolinecolor\": \"white\"}, \"yaxis\": {\"backgroundcolor\": \"#E5ECF6\", \"gridcolor\": \"white\", \"gridwidth\": 2, \"linecolor\": \"white\", \"showbackground\": true, \"ticks\": \"\", \"zerolinecolor\": \"white\"}, \"zaxis\": {\"backgroundcolor\": \"#E5ECF6\", \"gridcolor\": \"white\", \"gridwidth\": 2, \"linecolor\": \"white\", \"showbackground\": true, \"ticks\": \"\", \"zerolinecolor\": \"white\"}}, \"shapedefaults\": {\"fillcolor\": \"#506784\", \"line\": {\"width\": 0}, \"opacity\": 0.4}, \"ternary\": {\"aaxis\": {\"gridcolor\": \"white\", \"linecolor\": \"white\", \"ticks\": \"\"}, \"baxis\": {\"gridcolor\": \"white\", \"linecolor\": \"white\", \"ticks\": \"\"}, \"bgcolor\": \"#E5ECF6\", \"caxis\": {\"gridcolor\": \"white\", \"linecolor\": \"white\", \"ticks\": \"\"}}, \"title\": {\"x\": 0.05}, \"xaxis\": {\"automargin\": true, \"gridcolor\": \"white\", \"linecolor\": \"white\", \"ticks\": \"\", \"zerolinecolor\": \"white\", \"zerolinewidth\": 2}, \"yaxis\": {\"automargin\": true, \"gridcolor\": \"white\", \"linecolor\": \"white\", \"ticks\": \"\", \"zerolinecolor\": \"white\", \"zerolinewidth\": 2}}}, \"grid\": {\"xaxes\": [\"x\"], \"yaxes\": [\"y\"], \"xgap\": 0.1, \"ygap\": 0.1, \"xside\": \"bottom\", \"yside\": \"left\"}, \"xaxis\": {\"title\": {\"text\": \"batting_team\"}, \"categoryorder\": \"array\", \"categoryarray\": [\"CSK\", \"DC\", \"DD\", \"GL\", \"KKR\", \"KTK\", \"KXIP\", \"MI\", \"PW\", \"RCB\", \"RPS\", \"RR\", \"SRH\"]}, \"yaxis\": {\"title\": {\"text\": \"total_runs\"}}}, {\"showLink\": false, \"linkText\": \"Export to plot.ly\", \"plotlyServerURL\": \"https://plot.ly\"}); \n",
       "}\n",
       "});</script><script type=\"text/javascript\">window.addEventListener(\"resize\", function(){if (document.getElementById(\"330cb412-18bd-4b64-9bd8-ebc9f84e148d\")) {window._Plotly.Plots.resize(document.getElementById(\"330cb412-18bd-4b64-9bd8-ebc9f84e148d\"));};})</script>"
      ],
      "text/vnd.plotly.v1+html": [
       "<div id=\"330cb412-18bd-4b64-9bd8-ebc9f84e148d\" style=\"height: 600px; width: 100%;\" class=\"plotly-graph-div\"></div><script type=\"text/javascript\">require([\"plotly\"], function(Plotly) { window.PLOTLYENV=window.PLOTLYENV || {};window.PLOTLYENV.BASE_URL=\"https://plot.ly\";\n",
       "if (document.getElementById(\"330cb412-18bd-4b64-9bd8-ebc9f84e148d\")) {\n",
       "    Plotly.newPlot(\"330cb412-18bd-4b64-9bd8-ebc9f84e148d\", [{\"alignmentgroup\": \"True\", \"legendgroup\": \"batting_team=CSK\", \"marker\": {\"color\": \"#636efa\"}, \"name\": \"batting_team=CSK\", \"notched\": false, \"offsetgroup\": \"batting_team=CSK\", \"orientation\": \"v\", \"showlegend\": true, \"x\": [\"CSK\", \"CSK\", \"CSK\", \"CSK\", \"CSK\", \"CSK\", \"CSK\", \"CSK\", \"CSK\", \"CSK\", \"CSK\", \"CSK\", \"CSK\", \"CSK\", \"CSK\", \"CSK\", \"CSK\", \"CSK\", \"CSK\", \"CSK\", \"CSK\", \"CSK\", \"CSK\", \"CSK\", \"CSK\", \"CSK\", \"CSK\", \"CSK\", \"CSK\", \"CSK\", \"CSK\", \"CSK\", \"CSK\", \"CSK\", \"CSK\", \"CSK\", \"CSK\", \"CSK\", \"CSK\", \"CSK\", \"CSK\", \"CSK\", \"CSK\", \"CSK\", \"CSK\", \"CSK\", \"CSK\", \"CSK\", \"CSK\", \"CSK\", \"CSK\", \"CSK\", \"CSK\", \"CSK\", \"CSK\", \"CSK\", \"CSK\", \"CSK\", \"CSK\", \"CSK\", \"CSK\", \"CSK\", \"CSK\", \"CSK\", \"CSK\", \"CSK\", \"CSK\", \"CSK\", \"CSK\", \"CSK\", \"CSK\", \"CSK\", \"CSK\", \"CSK\", \"CSK\", \"CSK\", \"CSK\"], \"xaxis\": \"x\", \"y\": [109, 110, 112, 112, 114, 116, 119, 120, 128, 129, 131, 134, 138, 138, 139, 140, 141, 142, 142, 144, 146, 148, 148, 150, 152, 153, 154, 155, 156, 156, 157, 158, 160, 163, 163, 164, 164, 164, 164, 165, 165, 165, 165, 168, 168, 169, 169, 173, 176, 177, 178, 178, 179, 180, 181, 181, 183, 185, 185, 186, 187, 188, 188, 190, 192, 192, 193, 196, 200, 205, 205, 208, 209, 222, 223, 240, 246], \"yaxis\": \"y\", \"type\": \"box\", \"uid\": \"53d04760-c230-4997-9a87-4987b1424743\"}, {\"alignmentgroup\": \"True\", \"legendgroup\": \"batting_team=DC\", \"marker\": {\"color\": \"#EF553B\"}, \"name\": \"batting_team=DC\", \"notched\": false, \"offsetgroup\": \"batting_team=DC\", \"orientation\": \"v\", \"showlegend\": true, \"x\": [\"DC\", \"DC\", \"DC\", \"DC\", \"DC\", \"DC\", \"DC\", \"DC\", \"DC\", \"DC\", \"DC\", \"DC\", \"DC\", \"DC\", \"DC\", \"DC\", \"DC\", \"DC\", \"DC\", \"DC\", \"DC\", \"DC\", \"DC\", \"DC\", \"DC\", \"DC\", \"DC\", \"DC\", \"DC\", \"DC\", \"DC\", \"DC\", \"DC\", \"DC\", \"DC\", \"DC\", \"DC\", \"DC\", \"DC\", \"DC\", \"DC\", \"DC\", \"DC\"], \"xaxis\": \"x\", \"y\": [82, 100, 110, 126, 129, 132, 135, 136, 137, 138, 140, 141, 142, 143, 145, 145, 147, 148, 148, 151, 157, 164, 165, 165, 166, 168, 168, 168, 170, 171, 175, 175, 175, 177, 181, 184, 186, 187, 190, 190, 196, 198, 214], \"yaxis\": \"y\", \"type\": \"box\", \"uid\": \"6aa512b9-4215-4922-8412-00ed6d227844\"}, {\"alignmentgroup\": \"True\", \"legendgroup\": \"batting_team=DD\", \"marker\": {\"color\": \"#00cc96\"}, \"name\": \"batting_team=DD\", \"notched\": false, \"offsetgroup\": \"batting_team=DD\", \"orientation\": \"v\", \"showlegend\": true, \"x\": [\"DD\", \"DD\", \"DD\", \"DD\", \"DD\", \"DD\", \"DD\", \"DD\", \"DD\", \"DD\", \"DD\", \"DD\", \"DD\", \"DD\", \"DD\", \"DD\", \"DD\", \"DD\", \"DD\", \"DD\", \"DD\", \"DD\", \"DD\", \"DD\", \"DD\", \"DD\", \"DD\", \"DD\", \"DD\", \"DD\", \"DD\", \"DD\", \"DD\", \"DD\", \"DD\", \"DD\", \"DD\", \"DD\", \"DD\", \"DD\", \"DD\", \"DD\", \"DD\", \"DD\", \"DD\", \"DD\", \"DD\", \"DD\", \"DD\", \"DD\", \"DD\", \"DD\", \"DD\", \"DD\", \"DD\", \"DD\", \"DD\", \"DD\", \"DD\", \"DD\", \"DD\", \"DD\", \"DD\"], \"xaxis\": \"x\", \"y\": [56, 67, 80, 95, 95, 98, 111, 114, 114, 115, 118, 120, 120, 121, 128, 134, 138, 140, 143, 143, 145, 146, 150, 151, 152, 152, 152, 152, 153, 153, 154, 156, 157, 158, 160, 160, 160, 162, 164, 164, 164, 167, 168, 168, 173, 177, 178, 183, 184, 184, 185, 186, 187, 187, 188, 188, 189, 190, 191, 194, 205, 207, 231], \"yaxis\": \"y\", \"type\": \"box\", \"uid\": \"4379f75f-d149-48a4-9e87-8716c9980d0d\"}, {\"alignmentgroup\": \"True\", \"legendgroup\": \"batting_team=GL\", \"marker\": {\"color\": \"#ab63fa\"}, \"name\": \"batting_team=GL\", \"notched\": false, \"offsetgroup\": \"batting_team=GL\", \"orientation\": \"v\", \"showlegend\": true, \"x\": [\"GL\", \"GL\", \"GL\", \"GL\", \"GL\", \"GL\", \"GL\", \"GL\", \"GL\", \"GL\", \"GL\", \"GL\", \"GL\", \"GL\"], \"xaxis\": \"x\", \"y\": [126, 135, 135, 149, 153, 154, 158, 161, 162, 172, 176, 183, 195, 208], \"yaxis\": \"y\", \"type\": \"box\", \"uid\": \"9750ba3e-c936-424a-86ab-2a2a11f80482\"}, {\"alignmentgroup\": \"True\", \"legendgroup\": \"batting_team=KKR\", \"marker\": {\"color\": \"#19d3f3\"}, \"name\": \"batting_team=KKR\", \"notched\": false, \"offsetgroup\": \"batting_team=KKR\", \"orientation\": \"v\", \"showlegend\": true, \"x\": [\"KKR\", \"KKR\", \"KKR\", \"KKR\", \"KKR\", \"KKR\", \"KKR\", \"KKR\", \"KKR\", \"KKR\", \"KKR\", \"KKR\", \"KKR\", \"KKR\", \"KKR\", \"KKR\", \"KKR\", \"KKR\", \"KKR\", \"KKR\", \"KKR\", \"KKR\", \"KKR\", \"KKR\", \"KKR\", \"KKR\", \"KKR\", \"KKR\", \"KKR\", \"KKR\", \"KKR\", \"KKR\", \"KKR\", \"KKR\", \"KKR\", \"KKR\", \"KKR\", \"KKR\", \"KKR\", \"KKR\", \"KKR\", \"KKR\", \"KKR\", \"KKR\", \"KKR\", \"KKR\", \"KKR\", \"KKR\", \"KKR\", \"KKR\", \"KKR\", \"KKR\", \"KKR\", \"KKR\", \"KKR\", \"KKR\", \"KKR\", \"KKR\", \"KKR\", \"KKR\", \"KKR\", \"KKR\", \"KKR\", \"KKR\", \"KKR\", \"KKR\", \"KKR\", \"KKR\"], \"xaxis\": \"x\", \"y\": [67, 89, 97, 101, 107, 111, 119, 123, 124, 129, 130, 131, 133, 136, 136, 137, 139, 139, 140, 147, 147, 147, 148, 149, 150, 150, 152, 153, 154, 154, 155, 155, 158, 158, 159, 160, 160, 161, 162, 163, 163, 163, 164, 165, 166, 167, 169, 171, 171, 171, 172, 173, 174, 175, 177, 178, 180, 181, 181, 183, 183, 187, 187, 190, 195, 200, 204, 222], \"yaxis\": \"y\", \"type\": \"box\", \"uid\": \"17fe741a-5fc9-4946-82c9-8a056d7f3d98\"}, {\"alignmentgroup\": \"True\", \"legendgroup\": \"batting_team=KTK\", \"marker\": {\"color\": \"#e763fa\"}, \"name\": \"batting_team=KTK\", \"notched\": false, \"offsetgroup\": \"batting_team=KTK\", \"orientation\": \"v\", \"showlegend\": true, \"x\": [\"KTK\", \"KTK\", \"KTK\", \"KTK\", \"KTK\", \"KTK\", \"KTK\"], \"xaxis\": \"x\", \"y\": [109, 125, 132, 148, 156, 161, 178], \"yaxis\": \"y\", \"type\": \"box\", \"uid\": \"03d111c4-d994-4e70-a868-2e85b1298048\"}, {\"alignmentgroup\": \"True\", \"legendgroup\": \"batting_team=KXIP\", \"marker\": {\"color\": \"#fecb52\"}, \"name\": \"batting_team=KXIP\", \"notched\": false, \"offsetgroup\": \"batting_team=KXIP\", \"orientation\": \"v\", \"showlegend\": true, \"x\": [\"KXIP\", \"KXIP\", \"KXIP\", \"KXIP\", \"KXIP\", \"KXIP\", \"KXIP\", \"KXIP\", \"KXIP\", \"KXIP\", \"KXIP\", \"KXIP\", \"KXIP\", \"KXIP\", \"KXIP\", \"KXIP\", \"KXIP\", \"KXIP\", \"KXIP\", \"KXIP\", \"KXIP\", \"KXIP\", \"KXIP\", \"KXIP\", \"KXIP\", \"KXIP\", \"KXIP\", \"KXIP\", \"KXIP\", \"KXIP\", \"KXIP\", \"KXIP\", \"KXIP\", \"KXIP\", \"KXIP\", \"KXIP\", \"KXIP\", \"KXIP\", \"KXIP\", \"KXIP\", \"KXIP\", \"KXIP\", \"KXIP\", \"KXIP\", \"KXIP\", \"KXIP\", \"KXIP\", \"KXIP\", \"KXIP\", \"KXIP\", \"KXIP\", \"KXIP\", \"KXIP\", \"KXIP\", \"KXIP\", \"KXIP\", \"KXIP\", \"KXIP\", \"KXIP\", \"KXIP\", \"KXIP\", \"KXIP\", \"KXIP\", \"KXIP\", \"KXIP\", \"KXIP\", \"KXIP\", \"KXIP\", \"KXIP\", \"KXIP\", \"KXIP\", \"KXIP\", \"KXIP\", \"KXIP\", \"KXIP\", \"KXIP\", \"KXIP\"], \"xaxis\": \"x\", \"y\": [73, 104, 106, 111, 112, 112, 118, 119, 119, 119, 119, 123, 124, 124, 130, 132, 134, 134, 136, 136, 138, 138, 138, 139, 141, 142, 143, 145, 149, 149, 153, 154, 155, 156, 156, 157, 158, 161, 163, 163, 163, 165, 166, 167, 168, 168, 170, 170, 170, 171, 172, 174, 174, 177, 178, 179, 179, 181, 181, 182, 183, 183, 188, 189, 189, 192, 193, 195, 198, 198, 199, 203, 221, 226, 230, 231, 232], \"yaxis\": \"y\", \"type\": \"box\", \"uid\": \"3b1c9109-6db4-4eda-b15b-bbc678c708d8\"}, {\"alignmentgroup\": \"True\", \"legendgroup\": \"batting_team=MI\", \"marker\": {\"color\": \"#ffa15a\"}, \"name\": \"batting_team=MI\", \"notched\": false, \"offsetgroup\": \"batting_team=MI\", \"orientation\": \"v\", \"showlegend\": true, \"x\": [\"MI\", \"MI\", \"MI\", \"MI\", \"MI\", \"MI\", \"MI\", \"MI\", \"MI\", \"MI\", \"MI\", \"MI\", \"MI\", \"MI\", \"MI\", \"MI\", \"MI\", \"MI\", \"MI\", \"MI\", \"MI\", \"MI\", \"MI\", \"MI\", \"MI\", \"MI\", \"MI\", \"MI\", \"MI\", \"MI\", \"MI\", \"MI\", \"MI\", \"MI\", \"MI\", \"MI\", \"MI\", \"MI\", \"MI\", \"MI\", \"MI\", \"MI\", \"MI\", \"MI\", \"MI\", \"MI\", \"MI\", \"MI\", \"MI\", \"MI\", \"MI\", \"MI\", \"MI\", \"MI\", \"MI\", \"MI\", \"MI\", \"MI\", \"MI\", \"MI\", \"MI\", \"MI\", \"MI\", \"MI\", \"MI\", \"MI\", \"MI\", \"MI\", \"MI\", \"MI\", \"MI\", \"MI\", \"MI\", \"MI\", \"MI\", \"MI\", \"MI\", \"MI\", \"MI\", \"MI\", \"MI\", \"MI\"], \"xaxis\": \"x\", \"y\": [92, 94, 115, 116, 120, 121, 124, 125, 129, 129, 133, 133, 138, 139, 141, 141, 141, 142, 142, 143, 145, 147, 148, 148, 148, 149, 151, 154, 154, 157, 157, 157, 159, 160, 161, 162, 163, 164, 164, 165, 165, 165, 166, 168, 170, 171, 172, 172, 172, 172, 173, 173, 173, 174, 174, 176, 178, 178, 178, 178, 182, 182, 183, 183, 183, 184, 184, 187, 187, 187, 187, 189, 191, 194, 197, 202, 206, 209, 209, 212, 212, 218], \"yaxis\": \"y\", \"type\": \"box\", \"uid\": \"4cae71f2-0a1e-4547-bb26-5e1ed3301671\"}, {\"alignmentgroup\": \"True\", \"legendgroup\": \"batting_team=PW\", \"marker\": {\"color\": \"#ff6692\"}, \"name\": \"batting_team=PW\", \"notched\": false, \"offsetgroup\": \"batting_team=PW\", \"orientation\": \"v\", \"showlegend\": true, \"x\": [\"PW\", \"PW\", \"PW\", \"PW\", \"PW\", \"PW\", \"PW\", \"PW\", \"PW\", \"PW\", \"PW\", \"PW\", \"PW\", \"PW\", \"PW\", \"PW\", \"PW\", \"PW\", \"PW\", \"PW\"], \"xaxis\": \"x\", \"y\": [99, 112, 115, 118, 118, 125, 129, 136, 141, 143, 146, 159, 166, 170, 172, 178, 182, 185, 187, 192], \"yaxis\": \"y\", \"type\": \"box\", \"uid\": \"0b0b3481-e5b0-4906-b130-7ecb166fb7d8\"}, {\"alignmentgroup\": \"True\", \"legendgroup\": \"batting_team=RCB\", \"marker\": {\"color\": \"#b6e880\"}, \"name\": \"batting_team=RCB\", \"notched\": false, \"offsetgroup\": \"batting_team=RCB\", \"orientation\": \"v\", \"showlegend\": true, \"x\": [\"RCB\", \"RCB\", \"RCB\", \"RCB\", \"RCB\", \"RCB\", \"RCB\", \"RCB\", \"RCB\", \"RCB\", \"RCB\", \"RCB\", \"RCB\", \"RCB\", \"RCB\", \"RCB\", \"RCB\", \"RCB\", \"RCB\", \"RCB\", \"RCB\", \"RCB\", \"RCB\", \"RCB\", \"RCB\", \"RCB\", \"RCB\", \"RCB\", \"RCB\", \"RCB\", \"RCB\", \"RCB\", \"RCB\", \"RCB\", \"RCB\", \"RCB\", \"RCB\", \"RCB\", \"RCB\", \"RCB\", \"RCB\", \"RCB\", \"RCB\", \"RCB\", \"RCB\", \"RCB\", \"RCB\", \"RCB\", \"RCB\", \"RCB\", \"RCB\", \"RCB\", \"RCB\", \"RCB\", \"RCB\", \"RCB\", \"RCB\", \"RCB\", \"RCB\", \"RCB\", \"RCB\", \"RCB\", \"RCB\", \"RCB\", \"RCB\", \"RCB\", \"RCB\", \"RCB\", \"RCB\", \"RCB\"], \"xaxis\": \"x\", \"y\": [70, 105, 106, 115, 122, 124, 126, 126, 130, 133, 134, 135, 135, 139, 140, 142, 143, 145, 148, 149, 151, 154, 154, 156, 156, 157, 157, 158, 158, 160, 161, 161, 162, 165, 166, 168, 170, 170, 171, 171, 171, 173, 174, 175, 175, 180, 180, 181, 183, 184, 185, 185, 185, 186, 187, 189, 190, 190, 191, 200, 205, 205, 211, 213, 215, 226, 227, 235, 248, 263], \"yaxis\": \"y\", \"type\": \"box\", \"uid\": \"0545178b-5e78-4049-b5ec-78b646cb93c7\"}, {\"alignmentgroup\": \"True\", \"legendgroup\": \"batting_team=RPS\", \"marker\": {\"color\": \"#636efa\"}, \"name\": \"batting_team=RPS\", \"notched\": false, \"offsetgroup\": \"batting_team=RPS\", \"orientation\": \"v\", \"showlegend\": true, \"x\": [\"RPS\", \"RPS\", \"RPS\", \"RPS\", \"RPS\", \"RPS\", \"RPS\", \"RPS\", \"RPS\", \"RPS\", \"RPS\", \"RPS\", \"RPS\", \"RPS\", \"RPS\"], \"xaxis\": \"x\", \"y\": [103, 148, 152, 157, 159, 160, 160, 161, 162, 163, 163, 171, 182, 191, 195], \"yaxis\": \"y\", \"type\": \"box\", \"uid\": \"492e491c-7415-4b1a-a0ff-c8bbc728b733\"}, {\"alignmentgroup\": \"True\", \"legendgroup\": \"batting_team=RR\", \"marker\": {\"color\": \"#EF553B\"}, \"name\": \"batting_team=RR\", \"notched\": false, \"offsetgroup\": \"batting_team=RR\", \"orientation\": \"v\", \"showlegend\": true, \"x\": [\"RR\", \"RR\", \"RR\", \"RR\", \"RR\", \"RR\", \"RR\", \"RR\", \"RR\", \"RR\", \"RR\", \"RR\", \"RR\", \"RR\", \"RR\", \"RR\", \"RR\", \"RR\", \"RR\", \"RR\", \"RR\", \"RR\", \"RR\", \"RR\", \"RR\", \"RR\", \"RR\", \"RR\", \"RR\", \"RR\", \"RR\", \"RR\", \"RR\", \"RR\", \"RR\", \"RR\", \"RR\", \"RR\", \"RR\", \"RR\", \"RR\", \"RR\", \"RR\", \"RR\", \"RR\", \"RR\", \"RR\", \"RR\", \"RR\", \"RR\", \"RR\", \"RR\", \"RR\", \"RR\"], \"xaxis\": \"x\", \"y\": [81, 92, 97, 101, 103, 117, 126, 126, 129, 130, 130, 131, 132, 132, 140, 141, 141, 144, 145, 145, 146, 146, 147, 148, 150, 152, 159, 159, 162, 162, 164, 165, 165, 168, 170, 170, 177, 177, 179, 183, 185, 189, 189, 191, 191, 191, 192, 195, 196, 197, 199, 201, 211, 211], \"yaxis\": \"y\", \"type\": \"box\", \"uid\": \"76627120-a01a-4d87-9f86-c3049bb1ab65\"}, {\"alignmentgroup\": \"True\", \"legendgroup\": \"batting_team=SRH\", \"marker\": {\"color\": \"#00cc96\"}, \"name\": \"batting_team=SRH\", \"notched\": false, \"offsetgroup\": \"batting_team=SRH\", \"orientation\": \"v\", \"showlegend\": true, \"x\": [\"SRH\", \"SRH\", \"SRH\", \"SRH\", \"SRH\", \"SRH\", \"SRH\", \"SRH\", \"SRH\", \"SRH\", \"SRH\", \"SRH\", \"SRH\", \"SRH\", \"SRH\", \"SRH\", \"SRH\", \"SRH\", \"SRH\", \"SRH\", \"SRH\", \"SRH\", \"SRH\", \"SRH\", \"SRH\", \"SRH\", \"SRH\", \"SRH\", \"SRH\", \"SRH\", \"SRH\", \"SRH\", \"SRH\", \"SRH\", \"SRH\", \"SRH\", \"SRH\", \"SRH\", \"SRH\", \"SRH\", \"SRH\", \"SRH\", \"SRH\", \"SRH\", \"SRH\", \"SRH\"], \"xaxis\": \"x\", \"y\": [113, 118, 119, 126, 127, 128, 132, 133, 134, 135, 136, 137, 142, 142, 144, 145, 146, 150, 150, 155, 157, 158, 158, 159, 159, 160, 161, 162, 163, 172, 176, 176, 177, 178, 184, 185, 185, 191, 192, 194, 201, 205, 207, 207, 208, 209], \"yaxis\": \"y\", \"type\": \"box\", \"uid\": \"389faee1-ebfc-4374-989f-3c4d91b3b97c\"}], {\"boxmode\": \"group\", \"height\": 600, \"legend\": {\"tracegroupgap\": 0}, \"margin\": {\"t\": 60}, \"template\": {\"data\": {\"barpolar\": [{\"marker\": {\"line\": {\"color\": \"#E5ECF6\", \"width\": 0.5}}, \"type\": \"barpolar\"}], \"bar\": [{\"marker\": {\"line\": {\"color\": \"#E5ECF6\", \"width\": 0.5}}, \"type\": \"bar\"}], \"carpet\": [{\"aaxis\": {\"endlinecolor\": \"#2a3f5f\", \"gridcolor\": \"white\", \"linecolor\": \"white\", \"minorgridcolor\": \"white\", \"startlinecolor\": \"#2a3f5f\"}, \"baxis\": {\"endlinecolor\": \"#2a3f5f\", \"gridcolor\": \"white\", \"linecolor\": \"white\", \"minorgridcolor\": \"white\", \"startlinecolor\": \"#2a3f5f\"}, \"type\": \"carpet\"}], \"choropleth\": [{\"colorbar\": {\"outlinewidth\": 0, \"ticks\": \"\"}, \"type\": \"choropleth\"}], \"contourcarpet\": [{\"colorbar\": {\"outlinewidth\": 0, \"ticks\": \"\"}, \"type\": \"contourcarpet\"}], \"contour\": [{\"autocolorscale\": true, \"colorbar\": {\"outlinewidth\": 0, \"ticks\": \"\"}, \"type\": \"contour\"}], \"heatmapgl\": [{\"colorbar\": {\"outlinewidth\": 0, \"ticks\": \"\"}, \"type\": \"heatmapgl\"}], \"heatmap\": [{\"autocolorscale\": true, \"colorbar\": {\"outlinewidth\": 0, \"ticks\": \"\"}, \"type\": \"heatmap\"}], \"histogram2dcontour\": [{\"autocolorscale\": true, \"colorbar\": {\"outlinewidth\": 0, \"ticks\": \"\"}, \"type\": \"histogram2dcontour\"}], \"histogram2d\": [{\"autocolorscale\": true, \"colorbar\": {\"outlinewidth\": 0, \"ticks\": \"\"}, \"type\": \"histogram2d\"}], \"histogram\": [{\"marker\": {\"colorbar\": {\"outlinewidth\": 0, \"ticks\": \"\"}}, \"type\": \"histogram\"}], \"mesh3d\": [{\"colorbar\": {\"outlinewidth\": 0, \"ticks\": \"\"}, \"type\": \"mesh3d\"}], \"parcoords\": [{\"line\": {\"colorbar\": {\"outlinewidth\": 0, \"ticks\": \"\"}}, \"type\": \"parcoords\"}], \"scatter3d\": [{\"marker\": {\"colorbar\": {\"outlinewidth\": 0, \"ticks\": \"\"}}, \"type\": \"scatter3d\"}], \"scattercarpet\": [{\"marker\": {\"colorbar\": {\"outlinewidth\": 0, \"ticks\": \"\"}}, \"type\": \"scattercarpet\"}], \"scattergeo\": [{\"marker\": {\"colorbar\": {\"outlinewidth\": 0, \"ticks\": \"\"}}, \"type\": \"scattergeo\"}], \"scattergl\": [{\"marker\": {\"colorbar\": {\"outlinewidth\": 0, \"ticks\": \"\"}}, \"type\": \"scattergl\"}], \"scattermapbox\": [{\"marker\": {\"colorbar\": {\"outlinewidth\": 0, \"ticks\": \"\"}}, \"type\": \"scattermapbox\"}], \"scatterpolargl\": [{\"marker\": {\"colorbar\": {\"outlinewidth\": 0, \"ticks\": \"\"}}, \"type\": \"scatterpolargl\"}], \"scatterpolar\": [{\"marker\": {\"colorbar\": {\"outlinewidth\": 0, \"ticks\": \"\"}}, \"type\": \"scatterpolar\"}], \"scatter\": [{\"marker\": {\"colorbar\": {\"outlinewidth\": 0, \"ticks\": \"\"}}, \"type\": \"scatter\"}], \"scatterternary\": [{\"marker\": {\"colorbar\": {\"outlinewidth\": 0, \"ticks\": \"\"}}, \"type\": \"scatterternary\"}], \"surface\": [{\"colorbar\": {\"outlinewidth\": 0, \"ticks\": \"\"}, \"type\": \"surface\"}], \"table\": [{\"cells\": {\"fill\": {\"color\": \"#EBF0F8\"}, \"line\": {\"color\": \"white\"}}, \"header\": {\"fill\": {\"color\": \"#C8D4E3\"}, \"line\": {\"color\": \"white\"}}, \"type\": \"table\"}]}, \"layout\": {\"annotationdefaults\": {\"arrowcolor\": \"#506784\", \"arrowhead\": 0, \"arrowwidth\": 1}, \"colorscale\": {\"diverging\": [[0, \"#8e0152\"], [0.1, \"#c51b7d\"], [0.2, \"#de77ae\"], [0.3, \"#f1b6da\"], [0.4, \"#fde0ef\"], [0.5, \"#f7f7f7\"], [0.6, \"#e6f5d0\"], [0.7, \"#b8e186\"], [0.8, \"#7fbc41\"], [0.9, \"#4d9221\"], [1, \"#276419\"]], \"sequential\": [[0.0, \"#0508b8\"], [0.0893854748603352, \"#1910d8\"], [0.1787709497206704, \"#3c19f0\"], [0.2681564245810056, \"#6b1cfb\"], [0.3575418994413408, \"#981cfd\"], [0.44692737430167595, \"#bf1cfd\"], [0.5363128491620112, \"#dd2bfd\"], [0.6256983240223464, \"#f246fe\"], [0.7150837988826816, \"#fc67fd\"], [0.8044692737430168, \"#fe88fc\"], [0.8938547486033519, \"#fea5fd\"], [0.9832402234636871, \"#febefe\"], [1.0, \"#fec3fe\"]], \"sequentialminus\": [[0.0, \"#0508b8\"], [0.0893854748603352, \"#1910d8\"], [0.1787709497206704, \"#3c19f0\"], [0.2681564245810056, \"#6b1cfb\"], [0.3575418994413408, \"#981cfd\"], [0.44692737430167595, \"#bf1cfd\"], [0.5363128491620112, \"#dd2bfd\"], [0.6256983240223464, \"#f246fe\"], [0.7150837988826816, \"#fc67fd\"], [0.8044692737430168, \"#fe88fc\"], [0.8938547486033519, \"#fea5fd\"], [0.9832402234636871, \"#febefe\"], [1.0, \"#fec3fe\"]]}, \"colorway\": [\"#636efa\", \"#EF553B\", \"#00cc96\", \"#ab63fa\", \"#19d3f3\", \"#e763fa\", \"#FECB52\", \"#FFA15A\", \"#FF6692\", \"#B6E880\"], \"font\": {\"color\": \"#2a3f5f\"}, \"geo\": {\"bgcolor\": \"white\", \"lakecolor\": \"white\", \"landcolor\": \"#E5ECF6\", \"showlakes\": true, \"showland\": true, \"subunitcolor\": \"white\"}, \"hovermode\": \"closest\", \"mapbox\": {\"style\": \"light\"}, \"paper_bgcolor\": \"white\", \"plot_bgcolor\": \"#E5ECF6\", \"polar\": {\"angularaxis\": {\"gridcolor\": \"white\", \"linecolor\": \"white\", \"ticks\": \"\"}, \"bgcolor\": \"#E5ECF6\", \"radialaxis\": {\"gridcolor\": \"white\", \"linecolor\": \"white\", \"ticks\": \"\"}}, \"scene\": {\"xaxis\": {\"backgroundcolor\": \"#E5ECF6\", \"gridcolor\": \"white\", \"gridwidth\": 2, \"linecolor\": \"white\", \"showbackground\": true, \"ticks\": \"\", \"zerolinecolor\": \"white\"}, \"yaxis\": {\"backgroundcolor\": \"#E5ECF6\", \"gridcolor\": \"white\", \"gridwidth\": 2, \"linecolor\": \"white\", \"showbackground\": true, \"ticks\": \"\", \"zerolinecolor\": \"white\"}, \"zaxis\": {\"backgroundcolor\": \"#E5ECF6\", \"gridcolor\": \"white\", \"gridwidth\": 2, \"linecolor\": \"white\", \"showbackground\": true, \"ticks\": \"\", \"zerolinecolor\": \"white\"}}, \"shapedefaults\": {\"fillcolor\": \"#506784\", \"line\": {\"width\": 0}, \"opacity\": 0.4}, \"ternary\": {\"aaxis\": {\"gridcolor\": \"white\", \"linecolor\": \"white\", \"ticks\": \"\"}, \"baxis\": {\"gridcolor\": \"white\", \"linecolor\": \"white\", \"ticks\": \"\"}, \"bgcolor\": \"#E5ECF6\", \"caxis\": {\"gridcolor\": \"white\", \"linecolor\": \"white\", \"ticks\": \"\"}}, \"title\": {\"x\": 0.05}, \"xaxis\": {\"automargin\": true, \"gridcolor\": \"white\", \"linecolor\": \"white\", \"ticks\": \"\", \"zerolinecolor\": \"white\", \"zerolinewidth\": 2}, \"yaxis\": {\"automargin\": true, \"gridcolor\": \"white\", \"linecolor\": \"white\", \"ticks\": \"\", \"zerolinecolor\": \"white\", \"zerolinewidth\": 2}}}, \"grid\": {\"xaxes\": [\"x\"], \"yaxes\": [\"y\"], \"xgap\": 0.1, \"ygap\": 0.1, \"xside\": \"bottom\", \"yside\": \"left\"}, \"xaxis\": {\"title\": {\"text\": \"batting_team\"}, \"categoryorder\": \"array\", \"categoryarray\": [\"CSK\", \"DC\", \"DD\", \"GL\", \"KKR\", \"KTK\", \"KXIP\", \"MI\", \"PW\", \"RCB\", \"RPS\", \"RR\", \"SRH\"]}, \"yaxis\": {\"title\": {\"text\": \"total_runs\"}}}, {\"showLink\": false, \"linkText\": \"Export to plot.ly\", \"plotlyServerURL\": \"https://plot.ly\"}); \n",
       "}\n",
       "});</script><script type=\"text/javascript\">window.addEventListener(\"resize\", function(){if (document.getElementById(\"330cb412-18bd-4b64-9bd8-ebc9f84e148d\")) {window._Plotly.Plots.resize(document.getElementById(\"330cb412-18bd-4b64-9bd8-ebc9f84e148d\"));};})</script>"
      ]
     },
     "metadata": {},
     "output_type": "display_data"
    }
   ],
   "source": [
    "px.box(score_1_inning, x=\"batting_team\", y=\"total_runs\", color=\"batting_team\")"
   ]
  },
  {
   "cell_type": "code",
   "execution_count": 27,
   "metadata": {},
   "outputs": [
    {
     "data": {
      "text/html": [
       "<div>\n",
       "<style scoped>\n",
       "    .dataframe tbody tr th:only-of-type {\n",
       "        vertical-align: middle;\n",
       "    }\n",
       "\n",
       "    .dataframe tbody tr th {\n",
       "        vertical-align: top;\n",
       "    }\n",
       "\n",
       "    .dataframe thead th {\n",
       "        text-align: right;\n",
       "    }\n",
       "</style>\n",
       "<table border=\"1\" class=\"dataframe\">\n",
       "  <thead>\n",
       "    <tr style=\"text-align: right;\">\n",
       "      <th>season</th>\n",
       "      <th>2008</th>\n",
       "      <th>2009</th>\n",
       "      <th>2010</th>\n",
       "      <th>2011</th>\n",
       "      <th>2012</th>\n",
       "      <th>2013</th>\n",
       "      <th>2014</th>\n",
       "      <th>2015</th>\n",
       "      <th>2016</th>\n",
       "      <th>2017</th>\n",
       "    </tr>\n",
       "    <tr>\n",
       "      <th>batsman</th>\n",
       "      <th></th>\n",
       "      <th></th>\n",
       "      <th></th>\n",
       "      <th></th>\n",
       "      <th></th>\n",
       "      <th></th>\n",
       "      <th></th>\n",
       "      <th></th>\n",
       "      <th></th>\n",
       "      <th></th>\n",
       "    </tr>\n",
       "  </thead>\n",
       "  <tbody>\n",
       "    <tr>\n",
       "      <th>SK Raina</th>\n",
       "      <td>421.0</td>\n",
       "      <td>434.0</td>\n",
       "      <td>528.0</td>\n",
       "      <td>438.0</td>\n",
       "      <td>441.0</td>\n",
       "      <td>548.0</td>\n",
       "      <td>523.0</td>\n",
       "      <td>374.0</td>\n",
       "      <td>399.0</td>\n",
       "      <td>442.0</td>\n",
       "    </tr>\n",
       "    <tr>\n",
       "      <th>V Kohli</th>\n",
       "      <td>165.0</td>\n",
       "      <td>246.0</td>\n",
       "      <td>307.0</td>\n",
       "      <td>557.0</td>\n",
       "      <td>364.0</td>\n",
       "      <td>639.0</td>\n",
       "      <td>359.0</td>\n",
       "      <td>505.0</td>\n",
       "      <td>973.0</td>\n",
       "      <td>308.0</td>\n",
       "    </tr>\n",
       "  </tbody>\n",
       "</table>\n",
       "</div>"
      ],
      "text/plain": [
       "season     2008   2009   2010   2011   2012   2013   2014   2015   2016   2017\n",
       "batsman                                                                       \n",
       "SK Raina  421.0  434.0  528.0  438.0  441.0  548.0  523.0  374.0  399.0  442.0\n",
       "V Kohli   165.0  246.0  307.0  557.0  364.0  639.0  359.0  505.0  973.0  308.0"
      ]
     },
     "execution_count": 27,
     "metadata": {},
     "output_type": "execute_result"
    }
   ],
   "source": [
    "batsmen = matches[['id','season']].merge(delivery, left_on = 'id', right_on = 'match_id', how = 'left').drop('id', axis = 1)\n",
    "a=batsmen.groupby(['season','batsman'])['batsman_runs'].sum().reset_index()\n",
    "a=a.groupby(['season','batsman'])['batsman_runs'].sum().unstack().T\n",
    "a['Total']=a.sum(axis=1)\n",
    "a=a.sort_values(by='Total',ascending=0)[:5]\n",
    "a.drop('Total',axis=1,inplace=True)\n",
    "\n",
    "a.head(2)\n",
    "# px.scatter_3d(a, x=\"Joly\", y=\"Coderre\", z=\"Bergeron\", color=\"winner\", size=\"total\", hover_name=\"district\",\n",
    "#                   symbol=\"result\", color_discrete_map = {\"Joly\": \"blue\", \"Bergeron\": \"green\", \"Coderre\":\"red\"})\n",
    "# px.line(a, x=\"season\", y=\"batsman\", color=\"batsman\", line_shape=\"spline\")"
   ]
  }
 ],
 "metadata": {
  "kernelspec": {
   "display_name": "Python 3",
   "language": "python",
   "name": "python3"
  },
  "language_info": {
   "codemirror_mode": {
    "name": "ipython",
    "version": 3
   },
   "file_extension": ".py",
   "mimetype": "text/x-python",
   "name": "python",
   "nbconvert_exporter": "python",
   "pygments_lexer": "ipython3",
   "version": "3.6.3"
  }
 },
 "nbformat": 4,
 "nbformat_minor": 2
}
