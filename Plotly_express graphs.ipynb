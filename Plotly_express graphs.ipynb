{
 "cells": [
  {
   "cell_type": "code",
   "execution_count": 1,
   "metadata": {},
   "outputs": [
    {
     "data": {
      "text/html": [
       "<script type=\"text/javascript\">window.PlotlyConfig = {MathJaxConfig: 'local'};</script><script type=\"text/javascript\">if (window.MathJax) {MathJax.Hub.Config({SVG: {font: \"STIX-Web\"}});}</script><script>requirejs.config({paths: { 'plotly': ['https://cdn.plot.ly/plotly-latest.min']},});if(!window._Plotly) {require(['plotly'],function(plotly) {window._Plotly=plotly;});}</script>"
      ],
      "text/vnd.plotly.v1+html": [
       "<script type=\"text/javascript\">window.PlotlyConfig = {MathJaxConfig: 'local'};</script><script type=\"text/javascript\">if (window.MathJax) {MathJax.Hub.Config({SVG: {font: \"STIX-Web\"}});}</script><script>requirejs.config({paths: { 'plotly': ['https://cdn.plot.ly/plotly-latest.min']},});if(!window._Plotly) {require(['plotly'],function(plotly) {window._Plotly=plotly;});}</script>"
      ]
     },
     "metadata": {},
     "output_type": "display_data"
    }
   ],
   "source": [
    "import numpy as np # linear algebra\n",
    "import pandas as pd # data processing, CSV file I/O (e.g. pd.read_csv)\n",
    "import matplotlib.pyplot as mlt\n",
    "import seaborn as sns\n",
    "mlt.style.use('fivethirtyeight')\n",
    "import plotly.offline as py\n",
    "py.init_notebook_mode(connected=True)\n",
    "import plotly.graph_objs as go\n",
    "import plotly.tools as tls\n",
    "import plotly_express as px"
   ]
  },
  {
   "cell_type": "code",
   "execution_count": 2,
   "metadata": {},
   "outputs": [],
   "source": [
    "matches=pd.read_csv('Datacric/data/matches.csv')   \n",
    "delivery=pd.read_csv('Datacric/data/deliveries.csv')"
   ]
  },
  {
   "cell_type": "code",
   "execution_count": 3,
   "metadata": {
    "collapsed": true
   },
   "outputs": [],
   "source": [
    "matches.drop(['umpire3'],axis=1,inplace=True)  #since all the values are NaN\n",
    "delivery.fillna(0,inplace=True)     #filling all the NaN values with 0\n",
    "matches['team1'].unique()\n",
    "#Replacing the Team Names with their abbreviations\n",
    "\n",
    "matches.replace(['Mumbai Indians','Kolkata Knight Riders','Royal Challengers Bangalore','Deccan Chargers','Chennai Super Kings',\n",
    "                 'Rajasthan Royals','Delhi Daredevils','Gujarat Lions','Kings XI Punjab',\n",
    "                 'Sunrisers Hyderabad','Rising Pune Supergiants','Kochi Tuskers Kerala','Pune Warriors','Rising Pune Supergiant']\n",
    "                ,['MI','KKR','RCB','DC','CSK','RR','DD','GL','KXIP','SRH','RPS','KTK','PW','RPS'],inplace=True)\n",
    "\n",
    "delivery.replace(['Mumbai Indians','Kolkata Knight Riders','Royal Challengers Bangalore','Deccan Chargers','Chennai Super Kings',\n",
    "                 'Rajasthan Royals','Delhi Daredevils','Gujarat Lions','Kings XI Punjab',\n",
    "                 'Sunrisers Hyderabad','Rising Pune Supergiants','Kochi Tuskers Kerala','Pune Warriors','Rising Pune Supergiant']\n",
    "                ,['MI','KKR','RCB','DC','CSK','RR','DD','GL','KXIP','SRH','RPS','KTK','PW','RPS'],inplace=True)"
   ]
  },
  {
   "cell_type": "code",
   "execution_count": 4,
   "metadata": {},
   "outputs": [],
   "source": [
    "bowlers=delivery.groupby('bowler').sum().reset_index()\n",
    "bowl=delivery['bowler'].value_counts().reset_index()\n",
    "bowlers=bowlers.merge(bowl,left_on='bowler',right_on='index',how='left')\n",
    "bowlers=bowlers[['bowler_x','total_runs','bowler_y']]\n",
    "bowlers.rename({'bowler_x':'bowler','total_runs':'runs_given','bowler_y':'balls'},axis=1,inplace=True)\n",
    "bowlers['overs']=(bowlers['balls']//6)\n",
    "dismissal_kinds = [\"bowled\", \"caught\", \"lbw\", \"stumped\", \"caught and bowled\", \"hit wicket\"]  \n",
    "ct=delivery[delivery[\"dismissal_kind\"].isin(dismissal_kinds)]\n",
    "ct=ct['bowler'].value_counts()[:20].reset_index()\n",
    "bowlers=bowlers.merge(ct,left_on='bowler',right_on='index',how='left').dropna()\n",
    "bowlers=bowlers[['bowler_x','runs_given','overs','bowler_y']]\n",
    "bowlers.rename({'bowler_x':'bowler','bowler_y':'wickets'},axis=1,inplace=True)\n",
    "bowlers['economy']=(bowlers['runs_given']/bowlers['overs'])"
   ]
  },
  {
   "cell_type": "code",
   "execution_count": 5,
   "metadata": {},
   "outputs": [
    {
     "name": "stderr",
     "output_type": "stream",
     "text": [
      "IOPub data rate exceeded.\n",
      "The notebook server will temporarily stop sending output\n",
      "to the client in order to avoid crashing it.\n",
      "To change this limit, set the config variable\n",
      "`--NotebookApp.iopub_data_rate_limit`.\n"
     ]
    },
    {
     "data": {
      "application/vnd.plotly.v1+json": {
       "config": {
        "linkText": "Export to plot.ly",
        "plotlyServerURL": "https://plot.ly",
        "showLink": false
       },
       "data": [
        {
         "hovertemplate": "bowler=%{x}<br>wickets=%{y}<br>overs=%{marker.size}<br>economy=%{marker.color}<extra></extra>",
         "legendgroup": "",
         "marker": {
          "cmax": 8.289940828402367,
          "cmin": 6.395705521472393,
          "color": [
           7.344444444444444,
           7.711246200607903,
           7.046783625730995,
           8.01994301994302,
           6.6155988857938715,
           6.933734939759036,
           8.003322259136212,
           8,
           7.612756264236902,
           7.673611111111111,
           7.404320987654321,
           6.493638676844784,
           8.266666666666667,
           7.767584097859327,
           7.746794871794871,
           6.757238307349666,
           6.395705521472393,
           7.638036809815951,
           8.289940828402367,
           7.546174142480211
          ],
          "colorbar": {
           "title": {
            "text": "economy"
           }
          },
          "colorscale": [
           [
            0,
            "#0508b8"
           ],
           [
            0.08333333333333333,
            "#1910d8"
           ],
           [
            0.16666666666666666,
            "#3c19f0"
           ],
           [
            0.25,
            "#6b1cfb"
           ],
           [
            0.3333333333333333,
            "#981cfd"
           ],
           [
            0.4166666666666667,
            "#bf1cfd"
           ],
           [
            0.5,
            "#dd2bfd"
           ],
           [
            0.5833333333333334,
            "#f246fe"
           ],
           [
            0.6666666666666666,
            "#fc67fd"
           ],
           [
            0.75,
            "#fe88fc"
           ],
           [
            0.8333333333333334,
            "#fea5fd"
           ],
           [
            0.9166666666666666,
            "#febefe"
           ],
           [
            1,
            "#fec3fe"
           ]
          ],
          "showscale": true,
          "size": [
           450,
           329,
           342,
           351,
           359,
           498,
           301,
           261,
           439,
           432,
           324,
           393,
           360,
           327,
           312,
           449,
           326,
           326,
           338,
           379
          ],
          "sizemode": "area",
          "sizeref": 1.245,
          "symbol": "circle"
         },
         "mode": "markers",
         "name": "",
         "showlegend": false,
         "type": "scatter",
         "uid": "5303f96c-5783-421e-aa3f-a49d17e8d5c3",
         "x": [
          "A Mishra",
          "A Nehra",
          "B Kumar",
          "DJ Bravo",
          "DW Steyn",
          "Harbhajan Singh",
          "JA Morkel",
          "MM Sharma",
          "P Kumar",
          "PP Chawla",
          "PP Ojha",
          "R Ashwin",
          "R Vinay Kumar",
          "RA Jadeja",
          "RP Singh",
          "SL Malinga",
          "SP Narine",
          "SR Watson",
          "UT Yadav",
          "Z Khan"
         ],
         "xaxis": "x",
         "y": [
          134,
          106,
          111,
          122,
          92,
          127,
          85,
          83,
          90,
          126,
          89,
          100,
          103,
          82,
          90,
          154,
          95,
          86,
          91,
          102
         ],
         "yaxis": "y"
        }
       ],
       "layout": {
        "grid": {
         "xaxes": [
          "x"
         ],
         "xgap": 0.1,
         "xside": "bottom",
         "yaxes": [
          "y"
         ],
         "ygap": 0.1,
         "yside": "left"
        },
        "height": 600,
        "legend": {
         "tracegroupgap": 0
        },
        "margin": {
         "t": 60
        },
        "template": {
         "data": {
          "bar": [
           {
            "marker": {
             "line": {
              "color": "#E5ECF6",
              "width": 0.5
             }
            },
            "type": "bar"
           }
          ],
          "barpolar": [
           {
            "marker": {
             "line": {
              "color": "#E5ECF6",
              "width": 0.5
             }
            },
            "type": "barpolar"
           }
          ],
          "carpet": [
           {
            "aaxis": {
             "endlinecolor": "#2a3f5f",
             "gridcolor": "white",
             "linecolor": "white",
             "minorgridcolor": "white",
             "startlinecolor": "#2a3f5f"
            },
            "baxis": {
             "endlinecolor": "#2a3f5f",
             "gridcolor": "white",
             "linecolor": "white",
             "minorgridcolor": "white",
             "startlinecolor": "#2a3f5f"
            },
            "type": "carpet"
           }
          ],
          "choropleth": [
           {
            "colorbar": {
             "outlinewidth": 0,
             "ticks": ""
            },
            "type": "choropleth"
           }
          ],
          "contour": [
           {
            "autocolorscale": true,
            "colorbar": {
             "outlinewidth": 0,
             "ticks": ""
            },
            "type": "contour"
           }
          ],
          "contourcarpet": [
           {
            "colorbar": {
             "outlinewidth": 0,
             "ticks": ""
            },
            "type": "contourcarpet"
           }
          ],
          "heatmap": [
           {
            "autocolorscale": true,
            "colorbar": {
             "outlinewidth": 0,
             "ticks": ""
            },
            "type": "heatmap"
           }
          ],
          "heatmapgl": [
           {
            "colorbar": {
             "outlinewidth": 0,
             "ticks": ""
            },
            "type": "heatmapgl"
           }
          ],
          "histogram": [
           {
            "marker": {
             "colorbar": {
              "outlinewidth": 0,
              "ticks": ""
             }
            },
            "type": "histogram"
           }
          ],
          "histogram2d": [
           {
            "autocolorscale": true,
            "colorbar": {
             "outlinewidth": 0,
             "ticks": ""
            },
            "type": "histogram2d"
           }
          ],
          "histogram2dcontour": [
           {
            "autocolorscale": true,
            "colorbar": {
             "outlinewidth": 0,
             "ticks": ""
            },
            "type": "histogram2dcontour"
           }
          ],
          "mesh3d": [
           {
            "colorbar": {
             "outlinewidth": 0,
             "ticks": ""
            },
            "type": "mesh3d"
           }
          ],
          "parcoords": [
           {
            "line": {
             "colorbar": {
              "outlinewidth": 0,
              "ticks": ""
             }
            },
            "type": "parcoords"
           }
          ],
          "scatter": [
           {
            "marker": {
             "colorbar": {
              "outlinewidth": 0,
              "ticks": ""
             }
            },
            "type": "scatter"
           }
          ],
          "scatter3d": [
           {
            "marker": {
             "colorbar": {
              "outlinewidth": 0,
              "ticks": ""
             }
            },
            "type": "scatter3d"
           }
          ],
          "scattercarpet": [
           {
            "marker": {
             "colorbar": {
              "outlinewidth": 0,
              "ticks": ""
             }
            },
            "type": "scattercarpet"
           }
          ],
          "scattergeo": [
           {
            "marker": {
             "colorbar": {
              "outlinewidth": 0,
              "ticks": ""
             }
            },
            "type": "scattergeo"
           }
          ],
          "scattergl": [
           {
            "marker": {
             "colorbar": {
              "outlinewidth": 0,
              "ticks": ""
             }
            },
            "type": "scattergl"
           }
          ],
          "scattermapbox": [
           {
            "marker": {
             "colorbar": {
              "outlinewidth": 0,
              "ticks": ""
             }
            },
            "type": "scattermapbox"
           }
          ],
          "scatterpolar": [
           {
            "marker": {
             "colorbar": {
              "outlinewidth": 0,
              "ticks": ""
             }
            },
            "type": "scatterpolar"
           }
          ],
          "scatterpolargl": [
           {
            "marker": {
             "colorbar": {
              "outlinewidth": 0,
              "ticks": ""
             }
            },
            "type": "scatterpolargl"
           }
          ],
          "scatterternary": [
           {
            "marker": {
             "colorbar": {
              "outlinewidth": 0,
              "ticks": ""
             }
            },
            "type": "scatterternary"
           }
          ],
          "surface": [
           {
            "colorbar": {
             "outlinewidth": 0,
             "ticks": ""
            },
            "type": "surface"
           }
          ],
          "table": [
           {
            "cells": {
             "fill": {
              "color": "#EBF0F8"
             },
             "line": {
              "color": "white"
             }
            },
            "header": {
             "fill": {
              "color": "#C8D4E3"
             },
             "line": {
              "color": "white"
             }
            },
            "type": "table"
           }
          ]
         },
         "layout": {
          "annotationdefaults": {
           "arrowcolor": "#506784",
           "arrowhead": 0,
           "arrowwidth": 1
          },
          "colorscale": {
           "diverging": [
            [
             0,
             "#8e0152"
            ],
            [
             0.1,
             "#c51b7d"
            ],
            [
             0.2,
             "#de77ae"
            ],
            [
             0.3,
             "#f1b6da"
            ],
            [
             0.4,
             "#fde0ef"
            ],
            [
             0.5,
             "#f7f7f7"
            ],
            [
             0.6,
             "#e6f5d0"
            ],
            [
             0.7,
             "#b8e186"
            ],
            [
             0.8,
             "#7fbc41"
            ],
            [
             0.9,
             "#4d9221"
            ],
            [
             1,
             "#276419"
            ]
           ],
           "sequential": [
            [
             0,
             "#0508b8"
            ],
            [
             0.0893854748603352,
             "#1910d8"
            ],
            [
             0.1787709497206704,
             "#3c19f0"
            ],
            [
             0.2681564245810056,
             "#6b1cfb"
            ],
            [
             0.3575418994413408,
             "#981cfd"
            ],
            [
             0.44692737430167595,
             "#bf1cfd"
            ],
            [
             0.5363128491620112,
             "#dd2bfd"
            ],
            [
             0.6256983240223464,
             "#f246fe"
            ],
            [
             0.7150837988826816,
             "#fc67fd"
            ],
            [
             0.8044692737430168,
             "#fe88fc"
            ],
            [
             0.8938547486033519,
             "#fea5fd"
            ],
            [
             0.9832402234636871,
             "#febefe"
            ],
            [
             1,
             "#fec3fe"
            ]
           ],
           "sequentialminus": [
            [
             0,
             "#0508b8"
            ],
            [
             0.0893854748603352,
             "#1910d8"
            ],
            [
             0.1787709497206704,
             "#3c19f0"
            ],
            [
             0.2681564245810056,
             "#6b1cfb"
            ],
            [
             0.3575418994413408,
             "#981cfd"
            ],
            [
             0.44692737430167595,
             "#bf1cfd"
            ],
            [
             0.5363128491620112,
             "#dd2bfd"
            ],
            [
             0.6256983240223464,
             "#f246fe"
            ],
            [
             0.7150837988826816,
             "#fc67fd"
            ],
            [
             0.8044692737430168,
             "#fe88fc"
            ],
            [
             0.8938547486033519,
             "#fea5fd"
            ],
            [
             0.9832402234636871,
             "#febefe"
            ],
            [
             1,
             "#fec3fe"
            ]
           ]
          },
          "colorway": [
           "#636efa",
           "#EF553B",
           "#00cc96",
           "#ab63fa",
           "#19d3f3",
           "#e763fa",
           "#FECB52",
           "#FFA15A",
           "#FF6692",
           "#B6E880"
          ],
          "font": {
           "color": "#2a3f5f"
          },
          "geo": {
           "bgcolor": "white",
           "lakecolor": "white",
           "landcolor": "#E5ECF6",
           "showlakes": true,
           "showland": true,
           "subunitcolor": "white"
          },
          "hovermode": "closest",
          "mapbox": {
           "style": "light"
          },
          "paper_bgcolor": "white",
          "plot_bgcolor": "#E5ECF6",
          "polar": {
           "angularaxis": {
            "gridcolor": "white",
            "linecolor": "white",
            "ticks": ""
           },
           "bgcolor": "#E5ECF6",
           "radialaxis": {
            "gridcolor": "white",
            "linecolor": "white",
            "ticks": ""
           }
          },
          "scene": {
           "xaxis": {
            "backgroundcolor": "#E5ECF6",
            "gridcolor": "white",
            "gridwidth": 2,
            "linecolor": "white",
            "showbackground": true,
            "ticks": "",
            "zerolinecolor": "white"
           },
           "yaxis": {
            "backgroundcolor": "#E5ECF6",
            "gridcolor": "white",
            "gridwidth": 2,
            "linecolor": "white",
            "showbackground": true,
            "ticks": "",
            "zerolinecolor": "white"
           },
           "zaxis": {
            "backgroundcolor": "#E5ECF6",
            "gridcolor": "white",
            "gridwidth": 2,
            "linecolor": "white",
            "showbackground": true,
            "ticks": "",
            "zerolinecolor": "white"
           }
          },
          "shapedefaults": {
           "fillcolor": "#506784",
           "line": {
            "width": 0
           },
           "opacity": 0.4
          },
          "ternary": {
           "aaxis": {
            "gridcolor": "white",
            "linecolor": "white",
            "ticks": ""
           },
           "baxis": {
            "gridcolor": "white",
            "linecolor": "white",
            "ticks": ""
           },
           "bgcolor": "#E5ECF6",
           "caxis": {
            "gridcolor": "white",
            "linecolor": "white",
            "ticks": ""
           }
          },
          "title": {
           "x": 0.05
          },
          "xaxis": {
           "automargin": true,
           "gridcolor": "white",
           "linecolor": "white",
           "ticks": "",
           "zerolinecolor": "white",
           "zerolinewidth": 2
          },
          "yaxis": {
           "automargin": true,
           "gridcolor": "white",
           "linecolor": "white",
           "ticks": "",
           "zerolinecolor": "white",
           "zerolinewidth": 2
          }
         }
        },
        "xaxis": {
         "title": {
          "text": "bowler"
         }
        },
        "yaxis": {
         "title": {
          "text": "wickets"
         }
        }
       }
      },
      "text/html": [
       "<div id=\"68d05021-1164-4aba-a466-6f31493f125f\" style=\"height: 600px; width: 100%;\" class=\"plotly-graph-div\"></div><script type=\"text/javascript\">require([\"plotly\"], function(Plotly) { window.PLOTLYENV=window.PLOTLYENV || {};window.PLOTLYENV.BASE_URL=\"https://plot.ly\";\n",
       "if (document.getElementById(\"68d05021-1164-4aba-a466-6f31493f125f\")) {\n",
       "    Plotly.newPlot(\"68d05021-1164-4aba-a466-6f31493f125f\", [{\"hovertemplate\": \"bowler=%{x}<br>wickets=%{y}<br>overs=%{marker.size}<br>economy=%{marker.color}<extra></extra>\", \"legendgroup\": \"\", \"marker\": {\"cmax\": 8.289940828402367, \"cmin\": 6.395705521472393, \"color\": [7.344444444444444, 7.711246200607903, 7.046783625730995, 8.01994301994302, 6.6155988857938715, 6.933734939759036, 8.003322259136212, 8.0, 7.612756264236902, 7.673611111111111, 7.404320987654321, 6.493638676844784, 8.266666666666667, 7.767584097859327, 7.746794871794871, 6.757238307349666, 6.395705521472393, 7.638036809815951, 8.289940828402367, 7.546174142480211], \"colorbar\": {\"title\": {\"text\": \"economy\"}}, \"colorscale\": [[0.0, \"#0508b8\"], [0.08333333333333333, \"#1910d8\"], [0.16666666666666666, \"#3c19f0\"], [0.25, \"#6b1cfb\"], [0.3333333333333333, \"#981cfd\"], [0.4166666666666667, \"#bf1cfd\"], [0.5, \"#dd2bfd\"], [0.5833333333333334, \"#f246fe\"], [0.6666666666666666, \"#fc67fd\"], [0.75, \"#fe88fc\"], [0.8333333333333334, \"#fea5fd\"], [0.9166666666666666, \"#febefe\"], [1.0, \"#fec3fe\"]], \"showscale\": true, \"size\": [450, 329, 342, 351, 359, 498, 301, 261, 439, 432, 324, 393, 360, 327, 312, 449, 326, 326, 338, 379], \"sizemode\": \"area\", \"sizeref\": 1.245, \"symbol\": \"circle\"}, \"mode\": \"markers\", \"name\": \"\", \"showlegend\": false, \"x\": [\"A Mishra\", \"A Nehra\", \"B Kumar\", \"DJ Bravo\", \"DW Steyn\", \"Harbhajan Singh\", \"JA Morkel\", \"MM Sharma\", \"P Kumar\", \"PP Chawla\", \"PP Ojha\", \"R Ashwin\", \"R Vinay Kumar\", \"RA Jadeja\", \"RP Singh\", \"SL Malinga\", \"SP Narine\", \"SR Watson\", \"UT Yadav\", \"Z Khan\"], \"xaxis\": \"x\", \"y\": [134.0, 106.0, 111.0, 122.0, 92.0, 127.0, 85.0, 83.0, 90.0, 126.0, 89.0, 100.0, 103.0, 82.0, 90.0, 154.0, 95.0, 86.0, 91.0, 102.0], \"yaxis\": \"y\", \"type\": \"scatter\", \"uid\": \"5303f96c-5783-421e-aa3f-a49d17e8d5c3\"}], {\"height\": 600, \"legend\": {\"tracegroupgap\": 0}, \"margin\": {\"t\": 60}, \"template\": {\"data\": {\"barpolar\": [{\"marker\": {\"line\": {\"color\": \"#E5ECF6\", \"width\": 0.5}}, \"type\": \"barpolar\"}], \"bar\": [{\"marker\": {\"line\": {\"color\": \"#E5ECF6\", \"width\": 0.5}}, \"type\": \"bar\"}], \"carpet\": [{\"aaxis\": {\"endlinecolor\": \"#2a3f5f\", \"gridcolor\": \"white\", \"linecolor\": \"white\", \"minorgridcolor\": \"white\", \"startlinecolor\": \"#2a3f5f\"}, \"baxis\": {\"endlinecolor\": \"#2a3f5f\", \"gridcolor\": \"white\", \"linecolor\": \"white\", \"minorgridcolor\": \"white\", \"startlinecolor\": \"#2a3f5f\"}, \"type\": \"carpet\"}], \"choropleth\": [{\"colorbar\": {\"outlinewidth\": 0, \"ticks\": \"\"}, \"type\": \"choropleth\"}], \"contourcarpet\": [{\"colorbar\": {\"outlinewidth\": 0, \"ticks\": \"\"}, \"type\": \"contourcarpet\"}], \"contour\": [{\"autocolorscale\": true, \"colorbar\": {\"outlinewidth\": 0, \"ticks\": \"\"}, \"type\": \"contour\"}], \"heatmapgl\": [{\"colorbar\": {\"outlinewidth\": 0, \"ticks\": \"\"}, \"type\": \"heatmapgl\"}], \"heatmap\": [{\"autocolorscale\": true, \"colorbar\": {\"outlinewidth\": 0, \"ticks\": \"\"}, \"type\": \"heatmap\"}], \"histogram2dcontour\": [{\"autocolorscale\": true, \"colorbar\": {\"outlinewidth\": 0, \"ticks\": \"\"}, \"type\": \"histogram2dcontour\"}], \"histogram2d\": [{\"autocolorscale\": true, \"colorbar\": {\"outlinewidth\": 0, \"ticks\": \"\"}, \"type\": \"histogram2d\"}], \"histogram\": [{\"marker\": {\"colorbar\": {\"outlinewidth\": 0, \"ticks\": \"\"}}, \"type\": \"histogram\"}], \"mesh3d\": [{\"colorbar\": {\"outlinewidth\": 0, \"ticks\": \"\"}, \"type\": \"mesh3d\"}], \"parcoords\": [{\"line\": {\"colorbar\": {\"outlinewidth\": 0, \"ticks\": \"\"}}, \"type\": \"parcoords\"}], \"scatter3d\": [{\"marker\": {\"colorbar\": {\"outlinewidth\": 0, \"ticks\": \"\"}}, \"type\": \"scatter3d\"}], \"scattercarpet\": [{\"marker\": {\"colorbar\": {\"outlinewidth\": 0, \"ticks\": \"\"}}, \"type\": \"scattercarpet\"}], \"scattergeo\": [{\"marker\": {\"colorbar\": {\"outlinewidth\": 0, \"ticks\": \"\"}}, \"type\": \"scattergeo\"}], \"scattergl\": [{\"marker\": {\"colorbar\": {\"outlinewidth\": 0, \"ticks\": \"\"}}, \"type\": \"scattergl\"}], \"scattermapbox\": [{\"marker\": {\"colorbar\": {\"outlinewidth\": 0, \"ticks\": \"\"}}, \"type\": \"scattermapbox\"}], \"scatterpolargl\": [{\"marker\": {\"colorbar\": {\"outlinewidth\": 0, \"ticks\": \"\"}}, \"type\": \"scatterpolargl\"}], \"scatterpolar\": [{\"marker\": {\"colorbar\": {\"outlinewidth\": 0, \"ticks\": \"\"}}, \"type\": \"scatterpolar\"}], \"scatter\": [{\"marker\": {\"colorbar\": {\"outlinewidth\": 0, \"ticks\": \"\"}}, \"type\": \"scatter\"}], \"scatterternary\": [{\"marker\": {\"colorbar\": {\"outlinewidth\": 0, \"ticks\": \"\"}}, \"type\": \"scatterternary\"}], \"surface\": [{\"colorbar\": {\"outlinewidth\": 0, \"ticks\": \"\"}, \"type\": \"surface\"}], \"table\": [{\"cells\": {\"fill\": {\"color\": \"#EBF0F8\"}, \"line\": {\"color\": \"white\"}}, \"header\": {\"fill\": {\"color\": \"#C8D4E3\"}, \"line\": {\"color\": \"white\"}}, \"type\": \"table\"}]}, \"layout\": {\"annotationdefaults\": {\"arrowcolor\": \"#506784\", \"arrowhead\": 0, \"arrowwidth\": 1}, \"colorscale\": {\"diverging\": [[0, \"#8e0152\"], [0.1, \"#c51b7d\"], [0.2, \"#de77ae\"], [0.3, \"#f1b6da\"], [0.4, \"#fde0ef\"], [0.5, \"#f7f7f7\"], [0.6, \"#e6f5d0\"], [0.7, \"#b8e186\"], [0.8, \"#7fbc41\"], [0.9, \"#4d9221\"], [1, \"#276419\"]], \"sequential\": [[0.0, \"#0508b8\"], [0.0893854748603352, \"#1910d8\"], [0.1787709497206704, \"#3c19f0\"], [0.2681564245810056, \"#6b1cfb\"], [0.3575418994413408, \"#981cfd\"], [0.44692737430167595, \"#bf1cfd\"], [0.5363128491620112, \"#dd2bfd\"], [0.6256983240223464, \"#f246fe\"], [0.7150837988826816, \"#fc67fd\"], [0.8044692737430168, \"#fe88fc\"], [0.8938547486033519, \"#fea5fd\"], [0.9832402234636871, \"#febefe\"], [1.0, \"#fec3fe\"]], \"sequentialminus\": [[0.0, \"#0508b8\"], [0.0893854748603352, \"#1910d8\"], [0.1787709497206704, \"#3c19f0\"], [0.2681564245810056, \"#6b1cfb\"], [0.3575418994413408, \"#981cfd\"], [0.44692737430167595, \"#bf1cfd\"], [0.5363128491620112, \"#dd2bfd\"], [0.6256983240223464, \"#f246fe\"], [0.7150837988826816, \"#fc67fd\"], [0.8044692737430168, \"#fe88fc\"], [0.8938547486033519, \"#fea5fd\"], [0.9832402234636871, \"#febefe\"], [1.0, \"#fec3fe\"]]}, \"colorway\": [\"#636efa\", \"#EF553B\", \"#00cc96\", \"#ab63fa\", \"#19d3f3\", \"#e763fa\", \"#FECB52\", \"#FFA15A\", \"#FF6692\", \"#B6E880\"], \"font\": {\"color\": \"#2a3f5f\"}, \"geo\": {\"bgcolor\": \"white\", \"lakecolor\": \"white\", \"landcolor\": \"#E5ECF6\", \"showlakes\": true, \"showland\": true, \"subunitcolor\": \"white\"}, \"hovermode\": \"closest\", \"mapbox\": {\"style\": \"light\"}, \"paper_bgcolor\": \"white\", \"plot_bgcolor\": \"#E5ECF6\", \"polar\": {\"angularaxis\": {\"gridcolor\": \"white\", \"linecolor\": \"white\", \"ticks\": \"\"}, \"bgcolor\": \"#E5ECF6\", \"radialaxis\": {\"gridcolor\": \"white\", \"linecolor\": \"white\", \"ticks\": \"\"}}, \"scene\": {\"xaxis\": {\"backgroundcolor\": \"#E5ECF6\", \"gridcolor\": \"white\", \"gridwidth\": 2, \"linecolor\": \"white\", \"showbackground\": true, \"ticks\": \"\", \"zerolinecolor\": \"white\"}, \"yaxis\": {\"backgroundcolor\": \"#E5ECF6\", \"gridcolor\": \"white\", \"gridwidth\": 2, \"linecolor\": \"white\", \"showbackground\": true, \"ticks\": \"\", \"zerolinecolor\": \"white\"}, \"zaxis\": {\"backgroundcolor\": \"#E5ECF6\", \"gridcolor\": \"white\", \"gridwidth\": 2, \"linecolor\": \"white\", \"showbackground\": true, \"ticks\": \"\", \"zerolinecolor\": \"white\"}}, \"shapedefaults\": {\"fillcolor\": \"#506784\", \"line\": {\"width\": 0}, \"opacity\": 0.4}, \"ternary\": {\"aaxis\": {\"gridcolor\": \"white\", \"linecolor\": \"white\", \"ticks\": \"\"}, \"baxis\": {\"gridcolor\": \"white\", \"linecolor\": \"white\", \"ticks\": \"\"}, \"bgcolor\": \"#E5ECF6\", \"caxis\": {\"gridcolor\": \"white\", \"linecolor\": \"white\", \"ticks\": \"\"}}, \"title\": {\"x\": 0.05}, \"xaxis\": {\"automargin\": true, \"gridcolor\": \"white\", \"linecolor\": \"white\", \"ticks\": \"\", \"zerolinecolor\": \"white\", \"zerolinewidth\": 2}, \"yaxis\": {\"automargin\": true, \"gridcolor\": \"white\", \"linecolor\": \"white\", \"ticks\": \"\", \"zerolinecolor\": \"white\", \"zerolinewidth\": 2}}}, \"grid\": {\"xaxes\": [\"x\"], \"yaxes\": [\"y\"], \"xgap\": 0.1, \"ygap\": 0.1, \"xside\": \"bottom\", \"yside\": \"left\"}, \"xaxis\": {\"title\": {\"text\": \"bowler\"}}, \"yaxis\": {\"title\": {\"text\": \"wickets\"}}}, {\"showLink\": false, \"linkText\": \"Export to plot.ly\", \"plotlyServerURL\": \"https://plot.ly\"}); \n",
       "}\n",
       "});</script><script type=\"text/javascript\">window.addEventListener(\"resize\", function(){if (document.getElementById(\"68d05021-1164-4aba-a466-6f31493f125f\")) {window._Plotly.Plots.resize(document.getElementById(\"68d05021-1164-4aba-a466-6f31493f125f\"));};})</script>"
      ],
      "text/vnd.plotly.v1+html": [
       "<div id=\"68d05021-1164-4aba-a466-6f31493f125f\" style=\"height: 600px; width: 100%;\" class=\"plotly-graph-div\"></div><script type=\"text/javascript\">require([\"plotly\"], function(Plotly) { window.PLOTLYENV=window.PLOTLYENV || {};window.PLOTLYENV.BASE_URL=\"https://plot.ly\";\n",
       "if (document.getElementById(\"68d05021-1164-4aba-a466-6f31493f125f\")) {\n",
       "    Plotly.newPlot(\"68d05021-1164-4aba-a466-6f31493f125f\", [{\"hovertemplate\": \"bowler=%{x}<br>wickets=%{y}<br>overs=%{marker.size}<br>economy=%{marker.color}<extra></extra>\", \"legendgroup\": \"\", \"marker\": {\"cmax\": 8.289940828402367, \"cmin\": 6.395705521472393, \"color\": [7.344444444444444, 7.711246200607903, 7.046783625730995, 8.01994301994302, 6.6155988857938715, 6.933734939759036, 8.003322259136212, 8.0, 7.612756264236902, 7.673611111111111, 7.404320987654321, 6.493638676844784, 8.266666666666667, 7.767584097859327, 7.746794871794871, 6.757238307349666, 6.395705521472393, 7.638036809815951, 8.289940828402367, 7.546174142480211], \"colorbar\": {\"title\": {\"text\": \"economy\"}}, \"colorscale\": [[0.0, \"#0508b8\"], [0.08333333333333333, \"#1910d8\"], [0.16666666666666666, \"#3c19f0\"], [0.25, \"#6b1cfb\"], [0.3333333333333333, \"#981cfd\"], [0.4166666666666667, \"#bf1cfd\"], [0.5, \"#dd2bfd\"], [0.5833333333333334, \"#f246fe\"], [0.6666666666666666, \"#fc67fd\"], [0.75, \"#fe88fc\"], [0.8333333333333334, \"#fea5fd\"], [0.9166666666666666, \"#febefe\"], [1.0, \"#fec3fe\"]], \"showscale\": true, \"size\": [450, 329, 342, 351, 359, 498, 301, 261, 439, 432, 324, 393, 360, 327, 312, 449, 326, 326, 338, 379], \"sizemode\": \"area\", \"sizeref\": 1.245, \"symbol\": \"circle\"}, \"mode\": \"markers\", \"name\": \"\", \"showlegend\": false, \"x\": [\"A Mishra\", \"A Nehra\", \"B Kumar\", \"DJ Bravo\", \"DW Steyn\", \"Harbhajan Singh\", \"JA Morkel\", \"MM Sharma\", \"P Kumar\", \"PP Chawla\", \"PP Ojha\", \"R Ashwin\", \"R Vinay Kumar\", \"RA Jadeja\", \"RP Singh\", \"SL Malinga\", \"SP Narine\", \"SR Watson\", \"UT Yadav\", \"Z Khan\"], \"xaxis\": \"x\", \"y\": [134.0, 106.0, 111.0, 122.0, 92.0, 127.0, 85.0, 83.0, 90.0, 126.0, 89.0, 100.0, 103.0, 82.0, 90.0, 154.0, 95.0, 86.0, 91.0, 102.0], \"yaxis\": \"y\", \"type\": \"scatter\", \"uid\": \"5303f96c-5783-421e-aa3f-a49d17e8d5c3\"}], {\"height\": 600, \"legend\": {\"tracegroupgap\": 0}, \"margin\": {\"t\": 60}, \"template\": {\"data\": {\"barpolar\": [{\"marker\": {\"line\": {\"color\": \"#E5ECF6\", \"width\": 0.5}}, \"type\": \"barpolar\"}], \"bar\": [{\"marker\": {\"line\": {\"color\": \"#E5ECF6\", \"width\": 0.5}}, \"type\": \"bar\"}], \"carpet\": [{\"aaxis\": {\"endlinecolor\": \"#2a3f5f\", \"gridcolor\": \"white\", \"linecolor\": \"white\", \"minorgridcolor\": \"white\", \"startlinecolor\": \"#2a3f5f\"}, \"baxis\": {\"endlinecolor\": \"#2a3f5f\", \"gridcolor\": \"white\", \"linecolor\": \"white\", \"minorgridcolor\": \"white\", \"startlinecolor\": \"#2a3f5f\"}, \"type\": \"carpet\"}], \"choropleth\": [{\"colorbar\": {\"outlinewidth\": 0, \"ticks\": \"\"}, \"type\": \"choropleth\"}], \"contourcarpet\": [{\"colorbar\": {\"outlinewidth\": 0, \"ticks\": \"\"}, \"type\": \"contourcarpet\"}], \"contour\": [{\"autocolorscale\": true, \"colorbar\": {\"outlinewidth\": 0, \"ticks\": \"\"}, \"type\": \"contour\"}], \"heatmapgl\": [{\"colorbar\": {\"outlinewidth\": 0, \"ticks\": \"\"}, \"type\": \"heatmapgl\"}], \"heatmap\": [{\"autocolorscale\": true, \"colorbar\": {\"outlinewidth\": 0, \"ticks\": \"\"}, \"type\": \"heatmap\"}], \"histogram2dcontour\": [{\"autocolorscale\": true, \"colorbar\": {\"outlinewidth\": 0, \"ticks\": \"\"}, \"type\": \"histogram2dcontour\"}], \"histogram2d\": [{\"autocolorscale\": true, \"colorbar\": {\"outlinewidth\": 0, \"ticks\": \"\"}, \"type\": \"histogram2d\"}], \"histogram\": [{\"marker\": {\"colorbar\": {\"outlinewidth\": 0, \"ticks\": \"\"}}, \"type\": \"histogram\"}], \"mesh3d\": [{\"colorbar\": {\"outlinewidth\": 0, \"ticks\": \"\"}, \"type\": \"mesh3d\"}], \"parcoords\": [{\"line\": {\"colorbar\": {\"outlinewidth\": 0, \"ticks\": \"\"}}, \"type\": \"parcoords\"}], \"scatter3d\": [{\"marker\": {\"colorbar\": {\"outlinewidth\": 0, \"ticks\": \"\"}}, \"type\": \"scatter3d\"}], \"scattercarpet\": [{\"marker\": {\"colorbar\": {\"outlinewidth\": 0, \"ticks\": \"\"}}, \"type\": \"scattercarpet\"}], \"scattergeo\": [{\"marker\": {\"colorbar\": {\"outlinewidth\": 0, \"ticks\": \"\"}}, \"type\": \"scattergeo\"}], \"scattergl\": [{\"marker\": {\"colorbar\": {\"outlinewidth\": 0, \"ticks\": \"\"}}, \"type\": \"scattergl\"}], \"scattermapbox\": [{\"marker\": {\"colorbar\": {\"outlinewidth\": 0, \"ticks\": \"\"}}, \"type\": \"scattermapbox\"}], \"scatterpolargl\": [{\"marker\": {\"colorbar\": {\"outlinewidth\": 0, \"ticks\": \"\"}}, \"type\": \"scatterpolargl\"}], \"scatterpolar\": [{\"marker\": {\"colorbar\": {\"outlinewidth\": 0, \"ticks\": \"\"}}, \"type\": \"scatterpolar\"}], \"scatter\": [{\"marker\": {\"colorbar\": {\"outlinewidth\": 0, \"ticks\": \"\"}}, \"type\": \"scatter\"}], \"scatterternary\": [{\"marker\": {\"colorbar\": {\"outlinewidth\": 0, \"ticks\": \"\"}}, \"type\": \"scatterternary\"}], \"surface\": [{\"colorbar\": {\"outlinewidth\": 0, \"ticks\": \"\"}, \"type\": \"surface\"}], \"table\": [{\"cells\": {\"fill\": {\"color\": \"#EBF0F8\"}, \"line\": {\"color\": \"white\"}}, \"header\": {\"fill\": {\"color\": \"#C8D4E3\"}, \"line\": {\"color\": \"white\"}}, \"type\": \"table\"}]}, \"layout\": {\"annotationdefaults\": {\"arrowcolor\": \"#506784\", \"arrowhead\": 0, \"arrowwidth\": 1}, \"colorscale\": {\"diverging\": [[0, \"#8e0152\"], [0.1, \"#c51b7d\"], [0.2, \"#de77ae\"], [0.3, \"#f1b6da\"], [0.4, \"#fde0ef\"], [0.5, \"#f7f7f7\"], [0.6, \"#e6f5d0\"], [0.7, \"#b8e186\"], [0.8, \"#7fbc41\"], [0.9, \"#4d9221\"], [1, \"#276419\"]], \"sequential\": [[0.0, \"#0508b8\"], [0.0893854748603352, \"#1910d8\"], [0.1787709497206704, \"#3c19f0\"], [0.2681564245810056, \"#6b1cfb\"], [0.3575418994413408, \"#981cfd\"], [0.44692737430167595, \"#bf1cfd\"], [0.5363128491620112, \"#dd2bfd\"], [0.6256983240223464, \"#f246fe\"], [0.7150837988826816, \"#fc67fd\"], [0.8044692737430168, \"#fe88fc\"], [0.8938547486033519, \"#fea5fd\"], [0.9832402234636871, \"#febefe\"], [1.0, \"#fec3fe\"]], \"sequentialminus\": [[0.0, \"#0508b8\"], [0.0893854748603352, \"#1910d8\"], [0.1787709497206704, \"#3c19f0\"], [0.2681564245810056, \"#6b1cfb\"], [0.3575418994413408, \"#981cfd\"], [0.44692737430167595, \"#bf1cfd\"], [0.5363128491620112, \"#dd2bfd\"], [0.6256983240223464, \"#f246fe\"], [0.7150837988826816, \"#fc67fd\"], [0.8044692737430168, \"#fe88fc\"], [0.8938547486033519, \"#fea5fd\"], [0.9832402234636871, \"#febefe\"], [1.0, \"#fec3fe\"]]}, \"colorway\": [\"#636efa\", \"#EF553B\", \"#00cc96\", \"#ab63fa\", \"#19d3f3\", \"#e763fa\", \"#FECB52\", \"#FFA15A\", \"#FF6692\", \"#B6E880\"], \"font\": {\"color\": \"#2a3f5f\"}, \"geo\": {\"bgcolor\": \"white\", \"lakecolor\": \"white\", \"landcolor\": \"#E5ECF6\", \"showlakes\": true, \"showland\": true, \"subunitcolor\": \"white\"}, \"hovermode\": \"closest\", \"mapbox\": {\"style\": \"light\"}, \"paper_bgcolor\": \"white\", \"plot_bgcolor\": \"#E5ECF6\", \"polar\": {\"angularaxis\": {\"gridcolor\": \"white\", \"linecolor\": \"white\", \"ticks\": \"\"}, \"bgcolor\": \"#E5ECF6\", \"radialaxis\": {\"gridcolor\": \"white\", \"linecolor\": \"white\", \"ticks\": \"\"}}, \"scene\": {\"xaxis\": {\"backgroundcolor\": \"#E5ECF6\", \"gridcolor\": \"white\", \"gridwidth\": 2, \"linecolor\": \"white\", \"showbackground\": true, \"ticks\": \"\", \"zerolinecolor\": \"white\"}, \"yaxis\": {\"backgroundcolor\": \"#E5ECF6\", \"gridcolor\": \"white\", \"gridwidth\": 2, \"linecolor\": \"white\", \"showbackground\": true, \"ticks\": \"\", \"zerolinecolor\": \"white\"}, \"zaxis\": {\"backgroundcolor\": \"#E5ECF6\", \"gridcolor\": \"white\", \"gridwidth\": 2, \"linecolor\": \"white\", \"showbackground\": true, \"ticks\": \"\", \"zerolinecolor\": \"white\"}}, \"shapedefaults\": {\"fillcolor\": \"#506784\", \"line\": {\"width\": 0}, \"opacity\": 0.4}, \"ternary\": {\"aaxis\": {\"gridcolor\": \"white\", \"linecolor\": \"white\", \"ticks\": \"\"}, \"baxis\": {\"gridcolor\": \"white\", \"linecolor\": \"white\", \"ticks\": \"\"}, \"bgcolor\": \"#E5ECF6\", \"caxis\": {\"gridcolor\": \"white\", \"linecolor\": \"white\", \"ticks\": \"\"}}, \"title\": {\"x\": 0.05}, \"xaxis\": {\"automargin\": true, \"gridcolor\": \"white\", \"linecolor\": \"white\", \"ticks\": \"\", \"zerolinecolor\": \"white\", \"zerolinewidth\": 2}, \"yaxis\": {\"automargin\": true, \"gridcolor\": \"white\", \"linecolor\": \"white\", \"ticks\": \"\", \"zerolinecolor\": \"white\", \"zerolinewidth\": 2}}}, \"grid\": {\"xaxes\": [\"x\"], \"yaxes\": [\"y\"], \"xgap\": 0.1, \"ygap\": 0.1, \"xside\": \"bottom\", \"yside\": \"left\"}, \"xaxis\": {\"title\": {\"text\": \"bowler\"}}, \"yaxis\": {\"title\": {\"text\": \"wickets\"}}}, {\"showLink\": false, \"linkText\": \"Export to plot.ly\", \"plotlyServerURL\": \"https://plot.ly\"}); \n",
       "}\n",
       "});</script><script type=\"text/javascript\">window.addEventListener(\"resize\", function(){if (document.getElementById(\"68d05021-1164-4aba-a466-6f31493f125f\")) {window._Plotly.Plots.resize(document.getElementById(\"68d05021-1164-4aba-a466-6f31493f125f\"));};})</script>"
      ]
     },
     "metadata": {},
     "output_type": "display_data"
    }
   ],
   "source": [
    "px.scatter(bowlers, x=\"bowler\", y=\"wickets\", color=\"economy\", size=\"overs\")"
   ]
  },
  {
   "cell_type": "code",
   "execution_count": 6,
   "metadata": {},
   "outputs": [],
   "source": [
    "scores=delivery.groupby(['match_id','inning','batting_team'])['total_runs'].sum().reset_index()\n",
    "scores.drop('match_id',axis=1,inplace=True)\n",
    "scores=scores.sort_values(by=['batting_team','total_runs'],ascending=True)\n",
    "score_1_inning=scores[scores['inning']==1]\n",
    "score_2_inning=scores[scores['inning']==2]"
   ]
  },
  {
   "cell_type": "code",
   "execution_count": 7,
   "metadata": {},
   "outputs": [
    {
     "data": {
      "application/vnd.plotly.v1+json": {
       "config": {
        "linkText": "Export to plot.ly",
        "plotlyServerURL": "https://plot.ly",
        "showLink": false
       },
       "data": [
        {
         "alignmentgroup": "True",
         "legendgroup": "batting_team=CSK",
         "marker": {
          "color": "#636efa"
         },
         "name": "batting_team=CSK",
         "notched": false,
         "offsetgroup": "batting_team=CSK",
         "orientation": "v",
         "showlegend": true,
         "type": "box",
         "uid": "ce451c43-43e2-4803-826e-8256215a79c6",
         "x": [
          "CSK",
          "CSK",
          "CSK",
          "CSK",
          "CSK",
          "CSK",
          "CSK",
          "CSK",
          "CSK",
          "CSK",
          "CSK",
          "CSK",
          "CSK",
          "CSK",
          "CSK",
          "CSK",
          "CSK",
          "CSK",
          "CSK",
          "CSK",
          "CSK",
          "CSK",
          "CSK",
          "CSK",
          "CSK",
          "CSK",
          "CSK",
          "CSK",
          "CSK",
          "CSK",
          "CSK",
          "CSK",
          "CSK",
          "CSK",
          "CSK",
          "CSK",
          "CSK",
          "CSK",
          "CSK",
          "CSK",
          "CSK",
          "CSK",
          "CSK",
          "CSK",
          "CSK",
          "CSK",
          "CSK",
          "CSK",
          "CSK",
          "CSK",
          "CSK",
          "CSK",
          "CSK",
          "CSK",
          "CSK",
          "CSK",
          "CSK",
          "CSK",
          "CSK",
          "CSK",
          "CSK",
          "CSK",
          "CSK",
          "CSK",
          "CSK",
          "CSK",
          "CSK",
          "CSK",
          "CSK",
          "CSK",
          "CSK",
          "CSK",
          "CSK",
          "CSK",
          "CSK",
          "CSK",
          "CSK"
         ],
         "xaxis": "x",
         "y": [
          109,
          110,
          112,
          112,
          114,
          116,
          119,
          120,
          128,
          129,
          131,
          134,
          138,
          138,
          139,
          140,
          141,
          142,
          142,
          144,
          146,
          148,
          148,
          150,
          152,
          153,
          154,
          155,
          156,
          156,
          157,
          158,
          160,
          163,
          163,
          164,
          164,
          164,
          164,
          165,
          165,
          165,
          165,
          168,
          168,
          169,
          169,
          173,
          176,
          177,
          178,
          178,
          179,
          180,
          181,
          181,
          183,
          185,
          185,
          186,
          187,
          188,
          188,
          190,
          192,
          192,
          193,
          196,
          200,
          205,
          205,
          208,
          209,
          222,
          223,
          240,
          246
         ],
         "yaxis": "y"
        },
        {
         "alignmentgroup": "True",
         "legendgroup": "batting_team=DC",
         "marker": {
          "color": "#EF553B"
         },
         "name": "batting_team=DC",
         "notched": false,
         "offsetgroup": "batting_team=DC",
         "orientation": "v",
         "showlegend": true,
         "type": "box",
         "uid": "e8f1062c-e459-4a9d-918d-8b1240e584d5",
         "x": [
          "DC",
          "DC",
          "DC",
          "DC",
          "DC",
          "DC",
          "DC",
          "DC",
          "DC",
          "DC",
          "DC",
          "DC",
          "DC",
          "DC",
          "DC",
          "DC",
          "DC",
          "DC",
          "DC",
          "DC",
          "DC",
          "DC",
          "DC",
          "DC",
          "DC",
          "DC",
          "DC",
          "DC",
          "DC",
          "DC",
          "DC",
          "DC",
          "DC",
          "DC",
          "DC",
          "DC",
          "DC",
          "DC",
          "DC",
          "DC",
          "DC",
          "DC",
          "DC"
         ],
         "xaxis": "x",
         "y": [
          82,
          100,
          110,
          126,
          129,
          132,
          135,
          136,
          137,
          138,
          140,
          141,
          142,
          143,
          145,
          145,
          147,
          148,
          148,
          151,
          157,
          164,
          165,
          165,
          166,
          168,
          168,
          168,
          170,
          171,
          175,
          175,
          175,
          177,
          181,
          184,
          186,
          187,
          190,
          190,
          196,
          198,
          214
         ],
         "yaxis": "y"
        },
        {
         "alignmentgroup": "True",
         "legendgroup": "batting_team=DD",
         "marker": {
          "color": "#00cc96"
         },
         "name": "batting_team=DD",
         "notched": false,
         "offsetgroup": "batting_team=DD",
         "orientation": "v",
         "showlegend": true,
         "type": "box",
         "uid": "ed416065-9be2-4e76-be07-f8426042582a",
         "x": [
          "DD",
          "DD",
          "DD",
          "DD",
          "DD",
          "DD",
          "DD",
          "DD",
          "DD",
          "DD",
          "DD",
          "DD",
          "DD",
          "DD",
          "DD",
          "DD",
          "DD",
          "DD",
          "DD",
          "DD",
          "DD",
          "DD",
          "DD",
          "DD",
          "DD",
          "DD",
          "DD",
          "DD",
          "DD",
          "DD",
          "DD",
          "DD",
          "DD",
          "DD",
          "DD",
          "DD",
          "DD",
          "DD",
          "DD",
          "DD",
          "DD",
          "DD",
          "DD",
          "DD",
          "DD",
          "DD",
          "DD",
          "DD",
          "DD",
          "DD",
          "DD",
          "DD",
          "DD",
          "DD",
          "DD",
          "DD",
          "DD",
          "DD",
          "DD",
          "DD",
          "DD",
          "DD",
          "DD"
         ],
         "xaxis": "x",
         "y": [
          56,
          67,
          80,
          95,
          95,
          98,
          111,
          114,
          114,
          115,
          118,
          120,
          120,
          121,
          128,
          134,
          138,
          140,
          143,
          143,
          145,
          146,
          150,
          151,
          152,
          152,
          152,
          152,
          153,
          153,
          154,
          156,
          157,
          158,
          160,
          160,
          160,
          162,
          164,
          164,
          164,
          167,
          168,
          168,
          173,
          177,
          178,
          183,
          184,
          184,
          185,
          186,
          187,
          187,
          188,
          188,
          189,
          190,
          191,
          194,
          205,
          207,
          231
         ],
         "yaxis": "y"
        },
        {
         "alignmentgroup": "True",
         "legendgroup": "batting_team=GL",
         "marker": {
          "color": "#ab63fa"
         },
         "name": "batting_team=GL",
         "notched": false,
         "offsetgroup": "batting_team=GL",
         "orientation": "v",
         "showlegend": true,
         "type": "box",
         "uid": "6c11bd1f-3bf5-4623-ab7a-a9824ef45d4f",
         "x": [
          "GL",
          "GL",
          "GL",
          "GL",
          "GL",
          "GL",
          "GL",
          "GL",
          "GL",
          "GL",
          "GL",
          "GL",
          "GL",
          "GL"
         ],
         "xaxis": "x",
         "y": [
          126,
          135,
          135,
          149,
          153,
          154,
          158,
          161,
          162,
          172,
          176,
          183,
          195,
          208
         ],
         "yaxis": "y"
        },
        {
         "alignmentgroup": "True",
         "legendgroup": "batting_team=KKR",
         "marker": {
          "color": "#19d3f3"
         },
         "name": "batting_team=KKR",
         "notched": false,
         "offsetgroup": "batting_team=KKR",
         "orientation": "v",
         "showlegend": true,
         "type": "box",
         "uid": "60cddf32-730c-4b67-ba5b-9cd38367714b",
         "x": [
          "KKR",
          "KKR",
          "KKR",
          "KKR",
          "KKR",
          "KKR",
          "KKR",
          "KKR",
          "KKR",
          "KKR",
          "KKR",
          "KKR",
          "KKR",
          "KKR",
          "KKR",
          "KKR",
          "KKR",
          "KKR",
          "KKR",
          "KKR",
          "KKR",
          "KKR",
          "KKR",
          "KKR",
          "KKR",
          "KKR",
          "KKR",
          "KKR",
          "KKR",
          "KKR",
          "KKR",
          "KKR",
          "KKR",
          "KKR",
          "KKR",
          "KKR",
          "KKR",
          "KKR",
          "KKR",
          "KKR",
          "KKR",
          "KKR",
          "KKR",
          "KKR",
          "KKR",
          "KKR",
          "KKR",
          "KKR",
          "KKR",
          "KKR",
          "KKR",
          "KKR",
          "KKR",
          "KKR",
          "KKR",
          "KKR",
          "KKR",
          "KKR",
          "KKR",
          "KKR",
          "KKR",
          "KKR",
          "KKR",
          "KKR",
          "KKR",
          "KKR",
          "KKR",
          "KKR"
         ],
         "xaxis": "x",
         "y": [
          67,
          89,
          97,
          101,
          107,
          111,
          119,
          123,
          124,
          129,
          130,
          131,
          133,
          136,
          136,
          137,
          139,
          139,
          140,
          147,
          147,
          147,
          148,
          149,
          150,
          150,
          152,
          153,
          154,
          154,
          155,
          155,
          158,
          158,
          159,
          160,
          160,
          161,
          162,
          163,
          163,
          163,
          164,
          165,
          166,
          167,
          169,
          171,
          171,
          171,
          172,
          173,
          174,
          175,
          177,
          178,
          180,
          181,
          181,
          183,
          183,
          187,
          187,
          190,
          195,
          200,
          204,
          222
         ],
         "yaxis": "y"
        },
        {
         "alignmentgroup": "True",
         "legendgroup": "batting_team=KTK",
         "marker": {
          "color": "#e763fa"
         },
         "name": "batting_team=KTK",
         "notched": false,
         "offsetgroup": "batting_team=KTK",
         "orientation": "v",
         "showlegend": true,
         "type": "box",
         "uid": "a821ce21-a9f5-4ff8-926e-e4ae57d810ad",
         "x": [
          "KTK",
          "KTK",
          "KTK",
          "KTK",
          "KTK",
          "KTK",
          "KTK"
         ],
         "xaxis": "x",
         "y": [
          109,
          125,
          132,
          148,
          156,
          161,
          178
         ],
         "yaxis": "y"
        },
        {
         "alignmentgroup": "True",
         "legendgroup": "batting_team=KXIP",
         "marker": {
          "color": "#fecb52"
         },
         "name": "batting_team=KXIP",
         "notched": false,
         "offsetgroup": "batting_team=KXIP",
         "orientation": "v",
         "showlegend": true,
         "type": "box",
         "uid": "e20345a7-9a45-4da2-a5ee-cb67d90e1ae1",
         "x": [
          "KXIP",
          "KXIP",
          "KXIP",
          "KXIP",
          "KXIP",
          "KXIP",
          "KXIP",
          "KXIP",
          "KXIP",
          "KXIP",
          "KXIP",
          "KXIP",
          "KXIP",
          "KXIP",
          "KXIP",
          "KXIP",
          "KXIP",
          "KXIP",
          "KXIP",
          "KXIP",
          "KXIP",
          "KXIP",
          "KXIP",
          "KXIP",
          "KXIP",
          "KXIP",
          "KXIP",
          "KXIP",
          "KXIP",
          "KXIP",
          "KXIP",
          "KXIP",
          "KXIP",
          "KXIP",
          "KXIP",
          "KXIP",
          "KXIP",
          "KXIP",
          "KXIP",
          "KXIP",
          "KXIP",
          "KXIP",
          "KXIP",
          "KXIP",
          "KXIP",
          "KXIP",
          "KXIP",
          "KXIP",
          "KXIP",
          "KXIP",
          "KXIP",
          "KXIP",
          "KXIP",
          "KXIP",
          "KXIP",
          "KXIP",
          "KXIP",
          "KXIP",
          "KXIP",
          "KXIP",
          "KXIP",
          "KXIP",
          "KXIP",
          "KXIP",
          "KXIP",
          "KXIP",
          "KXIP",
          "KXIP",
          "KXIP",
          "KXIP",
          "KXIP",
          "KXIP",
          "KXIP",
          "KXIP",
          "KXIP",
          "KXIP",
          "KXIP"
         ],
         "xaxis": "x",
         "y": [
          73,
          104,
          106,
          111,
          112,
          112,
          118,
          119,
          119,
          119,
          119,
          123,
          124,
          124,
          130,
          132,
          134,
          134,
          136,
          136,
          138,
          138,
          138,
          139,
          141,
          142,
          143,
          145,
          149,
          149,
          153,
          154,
          155,
          156,
          156,
          157,
          158,
          161,
          163,
          163,
          163,
          165,
          166,
          167,
          168,
          168,
          170,
          170,
          170,
          171,
          172,
          174,
          174,
          177,
          178,
          179,
          179,
          181,
          181,
          182,
          183,
          183,
          188,
          189,
          189,
          192,
          193,
          195,
          198,
          198,
          199,
          203,
          221,
          226,
          230,
          231,
          232
         ],
         "yaxis": "y"
        },
        {
         "alignmentgroup": "True",
         "legendgroup": "batting_team=MI",
         "marker": {
          "color": "#ffa15a"
         },
         "name": "batting_team=MI",
         "notched": false,
         "offsetgroup": "batting_team=MI",
         "orientation": "v",
         "showlegend": true,
         "type": "box",
         "uid": "6ef8ee87-f4a7-406e-a692-9205a77256e5",
         "x": [
          "MI",
          "MI",
          "MI",
          "MI",
          "MI",
          "MI",
          "MI",
          "MI",
          "MI",
          "MI",
          "MI",
          "MI",
          "MI",
          "MI",
          "MI",
          "MI",
          "MI",
          "MI",
          "MI",
          "MI",
          "MI",
          "MI",
          "MI",
          "MI",
          "MI",
          "MI",
          "MI",
          "MI",
          "MI",
          "MI",
          "MI",
          "MI",
          "MI",
          "MI",
          "MI",
          "MI",
          "MI",
          "MI",
          "MI",
          "MI",
          "MI",
          "MI",
          "MI",
          "MI",
          "MI",
          "MI",
          "MI",
          "MI",
          "MI",
          "MI",
          "MI",
          "MI",
          "MI",
          "MI",
          "MI",
          "MI",
          "MI",
          "MI",
          "MI",
          "MI",
          "MI",
          "MI",
          "MI",
          "MI",
          "MI",
          "MI",
          "MI",
          "MI",
          "MI",
          "MI",
          "MI",
          "MI",
          "MI",
          "MI",
          "MI",
          "MI",
          "MI",
          "MI",
          "MI",
          "MI",
          "MI",
          "MI"
         ],
         "xaxis": "x",
         "y": [
          92,
          94,
          115,
          116,
          120,
          121,
          124,
          125,
          129,
          129,
          133,
          133,
          138,
          139,
          141,
          141,
          141,
          142,
          142,
          143,
          145,
          147,
          148,
          148,
          148,
          149,
          151,
          154,
          154,
          157,
          157,
          157,
          159,
          160,
          161,
          162,
          163,
          164,
          164,
          165,
          165,
          165,
          166,
          168,
          170,
          171,
          172,
          172,
          172,
          172,
          173,
          173,
          173,
          174,
          174,
          176,
          178,
          178,
          178,
          178,
          182,
          182,
          183,
          183,
          183,
          184,
          184,
          187,
          187,
          187,
          187,
          189,
          191,
          194,
          197,
          202,
          206,
          209,
          209,
          212,
          212,
          218
         ],
         "yaxis": "y"
        },
        {
         "alignmentgroup": "True",
         "legendgroup": "batting_team=PW",
         "marker": {
          "color": "#ff6692"
         },
         "name": "batting_team=PW",
         "notched": false,
         "offsetgroup": "batting_team=PW",
         "orientation": "v",
         "showlegend": true,
         "type": "box",
         "uid": "28dfd4f3-e85a-4fb8-ade3-da34303b6e3e",
         "x": [
          "PW",
          "PW",
          "PW",
          "PW",
          "PW",
          "PW",
          "PW",
          "PW",
          "PW",
          "PW",
          "PW",
          "PW",
          "PW",
          "PW",
          "PW",
          "PW",
          "PW",
          "PW",
          "PW",
          "PW"
         ],
         "xaxis": "x",
         "y": [
          99,
          112,
          115,
          118,
          118,
          125,
          129,
          136,
          141,
          143,
          146,
          159,
          166,
          170,
          172,
          178,
          182,
          185,
          187,
          192
         ],
         "yaxis": "y"
        },
        {
         "alignmentgroup": "True",
         "legendgroup": "batting_team=RCB",
         "marker": {
          "color": "#b6e880"
         },
         "name": "batting_team=RCB",
         "notched": false,
         "offsetgroup": "batting_team=RCB",
         "orientation": "v",
         "showlegend": true,
         "type": "box",
         "uid": "462e52d9-3719-437b-9bdf-7d6d344984be",
         "x": [
          "RCB",
          "RCB",
          "RCB",
          "RCB",
          "RCB",
          "RCB",
          "RCB",
          "RCB",
          "RCB",
          "RCB",
          "RCB",
          "RCB",
          "RCB",
          "RCB",
          "RCB",
          "RCB",
          "RCB",
          "RCB",
          "RCB",
          "RCB",
          "RCB",
          "RCB",
          "RCB",
          "RCB",
          "RCB",
          "RCB",
          "RCB",
          "RCB",
          "RCB",
          "RCB",
          "RCB",
          "RCB",
          "RCB",
          "RCB",
          "RCB",
          "RCB",
          "RCB",
          "RCB",
          "RCB",
          "RCB",
          "RCB",
          "RCB",
          "RCB",
          "RCB",
          "RCB",
          "RCB",
          "RCB",
          "RCB",
          "RCB",
          "RCB",
          "RCB",
          "RCB",
          "RCB",
          "RCB",
          "RCB",
          "RCB",
          "RCB",
          "RCB",
          "RCB",
          "RCB",
          "RCB",
          "RCB",
          "RCB",
          "RCB",
          "RCB",
          "RCB",
          "RCB",
          "RCB",
          "RCB",
          "RCB"
         ],
         "xaxis": "x",
         "y": [
          70,
          105,
          106,
          115,
          122,
          124,
          126,
          126,
          130,
          133,
          134,
          135,
          135,
          139,
          140,
          142,
          143,
          145,
          148,
          149,
          151,
          154,
          154,
          156,
          156,
          157,
          157,
          158,
          158,
          160,
          161,
          161,
          162,
          165,
          166,
          168,
          170,
          170,
          171,
          171,
          171,
          173,
          174,
          175,
          175,
          180,
          180,
          181,
          183,
          184,
          185,
          185,
          185,
          186,
          187,
          189,
          190,
          190,
          191,
          200,
          205,
          205,
          211,
          213,
          215,
          226,
          227,
          235,
          248,
          263
         ],
         "yaxis": "y"
        },
        {
         "alignmentgroup": "True",
         "legendgroup": "batting_team=RPS",
         "marker": {
          "color": "#636efa"
         },
         "name": "batting_team=RPS",
         "notched": false,
         "offsetgroup": "batting_team=RPS",
         "orientation": "v",
         "showlegend": true,
         "type": "box",
         "uid": "8e9607e6-a0e8-4397-8a7f-a3244767ca3e",
         "x": [
          "RPS",
          "RPS",
          "RPS",
          "RPS",
          "RPS",
          "RPS",
          "RPS",
          "RPS",
          "RPS",
          "RPS",
          "RPS",
          "RPS",
          "RPS",
          "RPS",
          "RPS"
         ],
         "xaxis": "x",
         "y": [
          103,
          148,
          152,
          157,
          159,
          160,
          160,
          161,
          162,
          163,
          163,
          171,
          182,
          191,
          195
         ],
         "yaxis": "y"
        },
        {
         "alignmentgroup": "True",
         "legendgroup": "batting_team=RR",
         "marker": {
          "color": "#EF553B"
         },
         "name": "batting_team=RR",
         "notched": false,
         "offsetgroup": "batting_team=RR",
         "orientation": "v",
         "showlegend": true,
         "type": "box",
         "uid": "38fc6a79-9e43-4cc8-99b1-49fd2daaea3f",
         "x": [
          "RR",
          "RR",
          "RR",
          "RR",
          "RR",
          "RR",
          "RR",
          "RR",
          "RR",
          "RR",
          "RR",
          "RR",
          "RR",
          "RR",
          "RR",
          "RR",
          "RR",
          "RR",
          "RR",
          "RR",
          "RR",
          "RR",
          "RR",
          "RR",
          "RR",
          "RR",
          "RR",
          "RR",
          "RR",
          "RR",
          "RR",
          "RR",
          "RR",
          "RR",
          "RR",
          "RR",
          "RR",
          "RR",
          "RR",
          "RR",
          "RR",
          "RR",
          "RR",
          "RR",
          "RR",
          "RR",
          "RR",
          "RR",
          "RR",
          "RR",
          "RR",
          "RR",
          "RR",
          "RR"
         ],
         "xaxis": "x",
         "y": [
          81,
          92,
          97,
          101,
          103,
          117,
          126,
          126,
          129,
          130,
          130,
          131,
          132,
          132,
          140,
          141,
          141,
          144,
          145,
          145,
          146,
          146,
          147,
          148,
          150,
          152,
          159,
          159,
          162,
          162,
          164,
          165,
          165,
          168,
          170,
          170,
          177,
          177,
          179,
          183,
          185,
          189,
          189,
          191,
          191,
          191,
          192,
          195,
          196,
          197,
          199,
          201,
          211,
          211
         ],
         "yaxis": "y"
        },
        {
         "alignmentgroup": "True",
         "legendgroup": "batting_team=SRH",
         "marker": {
          "color": "#00cc96"
         },
         "name": "batting_team=SRH",
         "notched": false,
         "offsetgroup": "batting_team=SRH",
         "orientation": "v",
         "showlegend": true,
         "type": "box",
         "uid": "5089a000-7212-46c8-bd9f-e90d7df4ecf2",
         "x": [
          "SRH",
          "SRH",
          "SRH",
          "SRH",
          "SRH",
          "SRH",
          "SRH",
          "SRH",
          "SRH",
          "SRH",
          "SRH",
          "SRH",
          "SRH",
          "SRH",
          "SRH",
          "SRH",
          "SRH",
          "SRH",
          "SRH",
          "SRH",
          "SRH",
          "SRH",
          "SRH",
          "SRH",
          "SRH",
          "SRH",
          "SRH",
          "SRH",
          "SRH",
          "SRH",
          "SRH",
          "SRH",
          "SRH",
          "SRH",
          "SRH",
          "SRH",
          "SRH",
          "SRH",
          "SRH",
          "SRH",
          "SRH",
          "SRH",
          "SRH",
          "SRH",
          "SRH",
          "SRH"
         ],
         "xaxis": "x",
         "y": [
          113,
          118,
          119,
          126,
          127,
          128,
          132,
          133,
          134,
          135,
          136,
          137,
          142,
          142,
          144,
          145,
          146,
          150,
          150,
          155,
          157,
          158,
          158,
          159,
          159,
          160,
          161,
          162,
          163,
          172,
          176,
          176,
          177,
          178,
          184,
          185,
          185,
          191,
          192,
          194,
          201,
          205,
          207,
          207,
          208,
          209
         ],
         "yaxis": "y"
        }
       ],
       "layout": {
        "boxmode": "group",
        "grid": {
         "xaxes": [
          "x"
         ],
         "xgap": 0.1,
         "xside": "bottom",
         "yaxes": [
          "y"
         ],
         "ygap": 0.1,
         "yside": "left"
        },
        "height": 600,
        "legend": {
         "tracegroupgap": 0
        },
        "margin": {
         "t": 60
        },
        "template": {
         "data": {
          "bar": [
           {
            "marker": {
             "line": {
              "color": "#E5ECF6",
              "width": 0.5
             }
            },
            "type": "bar"
           }
          ],
          "barpolar": [
           {
            "marker": {
             "line": {
              "color": "#E5ECF6",
              "width": 0.5
             }
            },
            "type": "barpolar"
           }
          ],
          "carpet": [
           {
            "aaxis": {
             "endlinecolor": "#2a3f5f",
             "gridcolor": "white",
             "linecolor": "white",
             "minorgridcolor": "white",
             "startlinecolor": "#2a3f5f"
            },
            "baxis": {
             "endlinecolor": "#2a3f5f",
             "gridcolor": "white",
             "linecolor": "white",
             "minorgridcolor": "white",
             "startlinecolor": "#2a3f5f"
            },
            "type": "carpet"
           }
          ],
          "choropleth": [
           {
            "colorbar": {
             "outlinewidth": 0,
             "ticks": ""
            },
            "type": "choropleth"
           }
          ],
          "contour": [
           {
            "autocolorscale": true,
            "colorbar": {
             "outlinewidth": 0,
             "ticks": ""
            },
            "type": "contour"
           }
          ],
          "contourcarpet": [
           {
            "colorbar": {
             "outlinewidth": 0,
             "ticks": ""
            },
            "type": "contourcarpet"
           }
          ],
          "heatmap": [
           {
            "autocolorscale": true,
            "colorbar": {
             "outlinewidth": 0,
             "ticks": ""
            },
            "type": "heatmap"
           }
          ],
          "heatmapgl": [
           {
            "colorbar": {
             "outlinewidth": 0,
             "ticks": ""
            },
            "type": "heatmapgl"
           }
          ],
          "histogram": [
           {
            "marker": {
             "colorbar": {
              "outlinewidth": 0,
              "ticks": ""
             }
            },
            "type": "histogram"
           }
          ],
          "histogram2d": [
           {
            "autocolorscale": true,
            "colorbar": {
             "outlinewidth": 0,
             "ticks": ""
            },
            "type": "histogram2d"
           }
          ],
          "histogram2dcontour": [
           {
            "autocolorscale": true,
            "colorbar": {
             "outlinewidth": 0,
             "ticks": ""
            },
            "type": "histogram2dcontour"
           }
          ],
          "mesh3d": [
           {
            "colorbar": {
             "outlinewidth": 0,
             "ticks": ""
            },
            "type": "mesh3d"
           }
          ],
          "parcoords": [
           {
            "line": {
             "colorbar": {
              "outlinewidth": 0,
              "ticks": ""
             }
            },
            "type": "parcoords"
           }
          ],
          "scatter": [
           {
            "marker": {
             "colorbar": {
              "outlinewidth": 0,
              "ticks": ""
             }
            },
            "type": "scatter"
           }
          ],
          "scatter3d": [
           {
            "marker": {
             "colorbar": {
              "outlinewidth": 0,
              "ticks": ""
             }
            },
            "type": "scatter3d"
           }
          ],
          "scattercarpet": [
           {
            "marker": {
             "colorbar": {
              "outlinewidth": 0,
              "ticks": ""
             }
            },
            "type": "scattercarpet"
           }
          ],
          "scattergeo": [
           {
            "marker": {
             "colorbar": {
              "outlinewidth": 0,
              "ticks": ""
             }
            },
            "type": "scattergeo"
           }
          ],
          "scattergl": [
           {
            "marker": {
             "colorbar": {
              "outlinewidth": 0,
              "ticks": ""
             }
            },
            "type": "scattergl"
           }
          ],
          "scattermapbox": [
           {
            "marker": {
             "colorbar": {
              "outlinewidth": 0,
              "ticks": ""
             }
            },
            "type": "scattermapbox"
           }
          ],
          "scatterpolar": [
           {
            "marker": {
             "colorbar": {
              "outlinewidth": 0,
              "ticks": ""
             }
            },
            "type": "scatterpolar"
           }
          ],
          "scatterpolargl": [
           {
            "marker": {
             "colorbar": {
              "outlinewidth": 0,
              "ticks": ""
             }
            },
            "type": "scatterpolargl"
           }
          ],
          "scatterternary": [
           {
            "marker": {
             "colorbar": {
              "outlinewidth": 0,
              "ticks": ""
             }
            },
            "type": "scatterternary"
           }
          ],
          "surface": [
           {
            "colorbar": {
             "outlinewidth": 0,
             "ticks": ""
            },
            "type": "surface"
           }
          ],
          "table": [
           {
            "cells": {
             "fill": {
              "color": "#EBF0F8"
             },
             "line": {
              "color": "white"
             }
            },
            "header": {
             "fill": {
              "color": "#C8D4E3"
             },
             "line": {
              "color": "white"
             }
            },
            "type": "table"
           }
          ]
         },
         "layout": {
          "annotationdefaults": {
           "arrowcolor": "#506784",
           "arrowhead": 0,
           "arrowwidth": 1
          },
          "colorscale": {
           "diverging": [
            [
             0,
             "#8e0152"
            ],
            [
             0.1,
             "#c51b7d"
            ],
            [
             0.2,
             "#de77ae"
            ],
            [
             0.3,
             "#f1b6da"
            ],
            [
             0.4,
             "#fde0ef"
            ],
            [
             0.5,
             "#f7f7f7"
            ],
            [
             0.6,
             "#e6f5d0"
            ],
            [
             0.7,
             "#b8e186"
            ],
            [
             0.8,
             "#7fbc41"
            ],
            [
             0.9,
             "#4d9221"
            ],
            [
             1,
             "#276419"
            ]
           ],
           "sequential": [
            [
             0,
             "#0508b8"
            ],
            [
             0.0893854748603352,
             "#1910d8"
            ],
            [
             0.1787709497206704,
             "#3c19f0"
            ],
            [
             0.2681564245810056,
             "#6b1cfb"
            ],
            [
             0.3575418994413408,
             "#981cfd"
            ],
            [
             0.44692737430167595,
             "#bf1cfd"
            ],
            [
             0.5363128491620112,
             "#dd2bfd"
            ],
            [
             0.6256983240223464,
             "#f246fe"
            ],
            [
             0.7150837988826816,
             "#fc67fd"
            ],
            [
             0.8044692737430168,
             "#fe88fc"
            ],
            [
             0.8938547486033519,
             "#fea5fd"
            ],
            [
             0.9832402234636871,
             "#febefe"
            ],
            [
             1,
             "#fec3fe"
            ]
           ],
           "sequentialminus": [
            [
             0,
             "#0508b8"
            ],
            [
             0.0893854748603352,
             "#1910d8"
            ],
            [
             0.1787709497206704,
             "#3c19f0"
            ],
            [
             0.2681564245810056,
             "#6b1cfb"
            ],
            [
             0.3575418994413408,
             "#981cfd"
            ],
            [
             0.44692737430167595,
             "#bf1cfd"
            ],
            [
             0.5363128491620112,
             "#dd2bfd"
            ],
            [
             0.6256983240223464,
             "#f246fe"
            ],
            [
             0.7150837988826816,
             "#fc67fd"
            ],
            [
             0.8044692737430168,
             "#fe88fc"
            ],
            [
             0.8938547486033519,
             "#fea5fd"
            ],
            [
             0.9832402234636871,
             "#febefe"
            ],
            [
             1,
             "#fec3fe"
            ]
           ]
          },
          "colorway": [
           "#636efa",
           "#EF553B",
           "#00cc96",
           "#ab63fa",
           "#19d3f3",
           "#e763fa",
           "#FECB52",
           "#FFA15A",
           "#FF6692",
           "#B6E880"
          ],
          "font": {
           "color": "#2a3f5f"
          },
          "geo": {
           "bgcolor": "white",
           "lakecolor": "white",
           "landcolor": "#E5ECF6",
           "showlakes": true,
           "showland": true,
           "subunitcolor": "white"
          },
          "hovermode": "closest",
          "mapbox": {
           "style": "light"
          },
          "paper_bgcolor": "white",
          "plot_bgcolor": "#E5ECF6",
          "polar": {
           "angularaxis": {
            "gridcolor": "white",
            "linecolor": "white",
            "ticks": ""
           },
           "bgcolor": "#E5ECF6",
           "radialaxis": {
            "gridcolor": "white",
            "linecolor": "white",
            "ticks": ""
           }
          },
          "scene": {
           "xaxis": {
            "backgroundcolor": "#E5ECF6",
            "gridcolor": "white",
            "gridwidth": 2,
            "linecolor": "white",
            "showbackground": true,
            "ticks": "",
            "zerolinecolor": "white"
           },
           "yaxis": {
            "backgroundcolor": "#E5ECF6",
            "gridcolor": "white",
            "gridwidth": 2,
            "linecolor": "white",
            "showbackground": true,
            "ticks": "",
            "zerolinecolor": "white"
           },
           "zaxis": {
            "backgroundcolor": "#E5ECF6",
            "gridcolor": "white",
            "gridwidth": 2,
            "linecolor": "white",
            "showbackground": true,
            "ticks": "",
            "zerolinecolor": "white"
           }
          },
          "shapedefaults": {
           "fillcolor": "#506784",
           "line": {
            "width": 0
           },
           "opacity": 0.4
          },
          "ternary": {
           "aaxis": {
            "gridcolor": "white",
            "linecolor": "white",
            "ticks": ""
           },
           "baxis": {
            "gridcolor": "white",
            "linecolor": "white",
            "ticks": ""
           },
           "bgcolor": "#E5ECF6",
           "caxis": {
            "gridcolor": "white",
            "linecolor": "white",
            "ticks": ""
           }
          },
          "title": {
           "x": 0.05
          },
          "xaxis": {
           "automargin": true,
           "gridcolor": "white",
           "linecolor": "white",
           "ticks": "",
           "zerolinecolor": "white",
           "zerolinewidth": 2
          },
          "yaxis": {
           "automargin": true,
           "gridcolor": "white",
           "linecolor": "white",
           "ticks": "",
           "zerolinecolor": "white",
           "zerolinewidth": 2
          }
         }
        },
        "xaxis": {
         "categoryarray": [
          "CSK",
          "DC",
          "DD",
          "GL",
          "KKR",
          "KTK",
          "KXIP",
          "MI",
          "PW",
          "RCB",
          "RPS",
          "RR",
          "SRH"
         ],
         "categoryorder": "array",
         "title": {
          "text": "batting_team"
         }
        },
        "yaxis": {
         "title": {
          "text": "total_runs"
         }
        }
       }
      },
      "text/html": [
       "<div id=\"b7bb2bec-0a67-4354-8d50-fa3d0c09b59f\" style=\"height: 600px; width: 100%;\" class=\"plotly-graph-div\"></div><script type=\"text/javascript\">require([\"plotly\"], function(Plotly) { window.PLOTLYENV=window.PLOTLYENV || {};window.PLOTLYENV.BASE_URL=\"https://plot.ly\";\n",
       "if (document.getElementById(\"b7bb2bec-0a67-4354-8d50-fa3d0c09b59f\")) {\n",
       "    Plotly.newPlot(\"b7bb2bec-0a67-4354-8d50-fa3d0c09b59f\", [{\"alignmentgroup\": \"True\", \"legendgroup\": \"batting_team=CSK\", \"marker\": {\"color\": \"#636efa\"}, \"name\": \"batting_team=CSK\", \"notched\": false, \"offsetgroup\": \"batting_team=CSK\", \"orientation\": \"v\", \"showlegend\": true, \"x\": [\"CSK\", \"CSK\", \"CSK\", \"CSK\", \"CSK\", \"CSK\", \"CSK\", \"CSK\", \"CSK\", \"CSK\", \"CSK\", \"CSK\", \"CSK\", \"CSK\", \"CSK\", \"CSK\", \"CSK\", \"CSK\", \"CSK\", \"CSK\", \"CSK\", \"CSK\", \"CSK\", \"CSK\", \"CSK\", \"CSK\", \"CSK\", \"CSK\", \"CSK\", \"CSK\", \"CSK\", \"CSK\", \"CSK\", \"CSK\", \"CSK\", \"CSK\", \"CSK\", \"CSK\", \"CSK\", \"CSK\", \"CSK\", \"CSK\", \"CSK\", \"CSK\", \"CSK\", \"CSK\", \"CSK\", \"CSK\", \"CSK\", \"CSK\", \"CSK\", \"CSK\", \"CSK\", \"CSK\", \"CSK\", \"CSK\", \"CSK\", \"CSK\", \"CSK\", \"CSK\", \"CSK\", \"CSK\", \"CSK\", \"CSK\", \"CSK\", \"CSK\", \"CSK\", \"CSK\", \"CSK\", \"CSK\", \"CSK\", \"CSK\", \"CSK\", \"CSK\", \"CSK\", \"CSK\", \"CSK\"], \"xaxis\": \"x\", \"y\": [109, 110, 112, 112, 114, 116, 119, 120, 128, 129, 131, 134, 138, 138, 139, 140, 141, 142, 142, 144, 146, 148, 148, 150, 152, 153, 154, 155, 156, 156, 157, 158, 160, 163, 163, 164, 164, 164, 164, 165, 165, 165, 165, 168, 168, 169, 169, 173, 176, 177, 178, 178, 179, 180, 181, 181, 183, 185, 185, 186, 187, 188, 188, 190, 192, 192, 193, 196, 200, 205, 205, 208, 209, 222, 223, 240, 246], \"yaxis\": \"y\", \"type\": \"box\", \"uid\": \"ce451c43-43e2-4803-826e-8256215a79c6\"}, {\"alignmentgroup\": \"True\", \"legendgroup\": \"batting_team=DC\", \"marker\": {\"color\": \"#EF553B\"}, \"name\": \"batting_team=DC\", \"notched\": false, \"offsetgroup\": \"batting_team=DC\", \"orientation\": \"v\", \"showlegend\": true, \"x\": [\"DC\", \"DC\", \"DC\", \"DC\", \"DC\", \"DC\", \"DC\", \"DC\", \"DC\", \"DC\", \"DC\", \"DC\", \"DC\", \"DC\", \"DC\", \"DC\", \"DC\", \"DC\", \"DC\", \"DC\", \"DC\", \"DC\", \"DC\", \"DC\", \"DC\", \"DC\", \"DC\", \"DC\", \"DC\", \"DC\", \"DC\", \"DC\", \"DC\", \"DC\", \"DC\", \"DC\", \"DC\", \"DC\", \"DC\", \"DC\", \"DC\", \"DC\", \"DC\"], \"xaxis\": \"x\", \"y\": [82, 100, 110, 126, 129, 132, 135, 136, 137, 138, 140, 141, 142, 143, 145, 145, 147, 148, 148, 151, 157, 164, 165, 165, 166, 168, 168, 168, 170, 171, 175, 175, 175, 177, 181, 184, 186, 187, 190, 190, 196, 198, 214], \"yaxis\": \"y\", \"type\": \"box\", \"uid\": \"e8f1062c-e459-4a9d-918d-8b1240e584d5\"}, {\"alignmentgroup\": \"True\", \"legendgroup\": \"batting_team=DD\", \"marker\": {\"color\": \"#00cc96\"}, \"name\": \"batting_team=DD\", \"notched\": false, \"offsetgroup\": \"batting_team=DD\", \"orientation\": \"v\", \"showlegend\": true, \"x\": [\"DD\", \"DD\", \"DD\", \"DD\", \"DD\", \"DD\", \"DD\", \"DD\", \"DD\", \"DD\", \"DD\", \"DD\", \"DD\", \"DD\", \"DD\", \"DD\", \"DD\", \"DD\", \"DD\", \"DD\", \"DD\", \"DD\", \"DD\", \"DD\", \"DD\", \"DD\", \"DD\", \"DD\", \"DD\", \"DD\", \"DD\", \"DD\", \"DD\", \"DD\", \"DD\", \"DD\", \"DD\", \"DD\", \"DD\", \"DD\", \"DD\", \"DD\", \"DD\", \"DD\", \"DD\", \"DD\", \"DD\", \"DD\", \"DD\", \"DD\", \"DD\", \"DD\", \"DD\", \"DD\", \"DD\", \"DD\", \"DD\", \"DD\", \"DD\", \"DD\", \"DD\", \"DD\", \"DD\"], \"xaxis\": \"x\", \"y\": [56, 67, 80, 95, 95, 98, 111, 114, 114, 115, 118, 120, 120, 121, 128, 134, 138, 140, 143, 143, 145, 146, 150, 151, 152, 152, 152, 152, 153, 153, 154, 156, 157, 158, 160, 160, 160, 162, 164, 164, 164, 167, 168, 168, 173, 177, 178, 183, 184, 184, 185, 186, 187, 187, 188, 188, 189, 190, 191, 194, 205, 207, 231], \"yaxis\": \"y\", \"type\": \"box\", \"uid\": \"ed416065-9be2-4e76-be07-f8426042582a\"}, {\"alignmentgroup\": \"True\", \"legendgroup\": \"batting_team=GL\", \"marker\": {\"color\": \"#ab63fa\"}, \"name\": \"batting_team=GL\", \"notched\": false, \"offsetgroup\": \"batting_team=GL\", \"orientation\": \"v\", \"showlegend\": true, \"x\": [\"GL\", \"GL\", \"GL\", \"GL\", \"GL\", \"GL\", \"GL\", \"GL\", \"GL\", \"GL\", \"GL\", \"GL\", \"GL\", \"GL\"], \"xaxis\": \"x\", \"y\": [126, 135, 135, 149, 153, 154, 158, 161, 162, 172, 176, 183, 195, 208], \"yaxis\": \"y\", \"type\": \"box\", \"uid\": \"6c11bd1f-3bf5-4623-ab7a-a9824ef45d4f\"}, {\"alignmentgroup\": \"True\", \"legendgroup\": \"batting_team=KKR\", \"marker\": {\"color\": \"#19d3f3\"}, \"name\": \"batting_team=KKR\", \"notched\": false, \"offsetgroup\": \"batting_team=KKR\", \"orientation\": \"v\", \"showlegend\": true, \"x\": [\"KKR\", \"KKR\", \"KKR\", \"KKR\", \"KKR\", \"KKR\", \"KKR\", \"KKR\", \"KKR\", \"KKR\", \"KKR\", \"KKR\", \"KKR\", \"KKR\", \"KKR\", \"KKR\", \"KKR\", \"KKR\", \"KKR\", \"KKR\", \"KKR\", \"KKR\", \"KKR\", \"KKR\", \"KKR\", \"KKR\", \"KKR\", \"KKR\", \"KKR\", \"KKR\", \"KKR\", \"KKR\", \"KKR\", \"KKR\", \"KKR\", \"KKR\", \"KKR\", \"KKR\", \"KKR\", \"KKR\", \"KKR\", \"KKR\", \"KKR\", \"KKR\", \"KKR\", \"KKR\", \"KKR\", \"KKR\", \"KKR\", \"KKR\", \"KKR\", \"KKR\", \"KKR\", \"KKR\", \"KKR\", \"KKR\", \"KKR\", \"KKR\", \"KKR\", \"KKR\", \"KKR\", \"KKR\", \"KKR\", \"KKR\", \"KKR\", \"KKR\", \"KKR\", \"KKR\"], \"xaxis\": \"x\", \"y\": [67, 89, 97, 101, 107, 111, 119, 123, 124, 129, 130, 131, 133, 136, 136, 137, 139, 139, 140, 147, 147, 147, 148, 149, 150, 150, 152, 153, 154, 154, 155, 155, 158, 158, 159, 160, 160, 161, 162, 163, 163, 163, 164, 165, 166, 167, 169, 171, 171, 171, 172, 173, 174, 175, 177, 178, 180, 181, 181, 183, 183, 187, 187, 190, 195, 200, 204, 222], \"yaxis\": \"y\", \"type\": \"box\", \"uid\": \"60cddf32-730c-4b67-ba5b-9cd38367714b\"}, {\"alignmentgroup\": \"True\", \"legendgroup\": \"batting_team=KTK\", \"marker\": {\"color\": \"#e763fa\"}, \"name\": \"batting_team=KTK\", \"notched\": false, \"offsetgroup\": \"batting_team=KTK\", \"orientation\": \"v\", \"showlegend\": true, \"x\": [\"KTK\", \"KTK\", \"KTK\", \"KTK\", \"KTK\", \"KTK\", \"KTK\"], \"xaxis\": \"x\", \"y\": [109, 125, 132, 148, 156, 161, 178], \"yaxis\": \"y\", \"type\": \"box\", \"uid\": \"a821ce21-a9f5-4ff8-926e-e4ae57d810ad\"}, {\"alignmentgroup\": \"True\", \"legendgroup\": \"batting_team=KXIP\", \"marker\": {\"color\": \"#fecb52\"}, \"name\": \"batting_team=KXIP\", \"notched\": false, \"offsetgroup\": \"batting_team=KXIP\", \"orientation\": \"v\", \"showlegend\": true, \"x\": [\"KXIP\", \"KXIP\", \"KXIP\", \"KXIP\", \"KXIP\", \"KXIP\", \"KXIP\", \"KXIP\", \"KXIP\", \"KXIP\", \"KXIP\", \"KXIP\", \"KXIP\", \"KXIP\", \"KXIP\", \"KXIP\", \"KXIP\", \"KXIP\", \"KXIP\", \"KXIP\", \"KXIP\", \"KXIP\", \"KXIP\", \"KXIP\", \"KXIP\", \"KXIP\", \"KXIP\", \"KXIP\", \"KXIP\", \"KXIP\", \"KXIP\", \"KXIP\", \"KXIP\", \"KXIP\", \"KXIP\", \"KXIP\", \"KXIP\", \"KXIP\", \"KXIP\", \"KXIP\", \"KXIP\", \"KXIP\", \"KXIP\", \"KXIP\", \"KXIP\", \"KXIP\", \"KXIP\", \"KXIP\", \"KXIP\", \"KXIP\", \"KXIP\", \"KXIP\", \"KXIP\", \"KXIP\", \"KXIP\", \"KXIP\", \"KXIP\", \"KXIP\", \"KXIP\", \"KXIP\", \"KXIP\", \"KXIP\", \"KXIP\", \"KXIP\", \"KXIP\", \"KXIP\", \"KXIP\", \"KXIP\", \"KXIP\", \"KXIP\", \"KXIP\", \"KXIP\", \"KXIP\", \"KXIP\", \"KXIP\", \"KXIP\", \"KXIP\"], \"xaxis\": \"x\", \"y\": [73, 104, 106, 111, 112, 112, 118, 119, 119, 119, 119, 123, 124, 124, 130, 132, 134, 134, 136, 136, 138, 138, 138, 139, 141, 142, 143, 145, 149, 149, 153, 154, 155, 156, 156, 157, 158, 161, 163, 163, 163, 165, 166, 167, 168, 168, 170, 170, 170, 171, 172, 174, 174, 177, 178, 179, 179, 181, 181, 182, 183, 183, 188, 189, 189, 192, 193, 195, 198, 198, 199, 203, 221, 226, 230, 231, 232], \"yaxis\": \"y\", \"type\": \"box\", \"uid\": \"e20345a7-9a45-4da2-a5ee-cb67d90e1ae1\"}, {\"alignmentgroup\": \"True\", \"legendgroup\": \"batting_team=MI\", \"marker\": {\"color\": \"#ffa15a\"}, \"name\": \"batting_team=MI\", \"notched\": false, \"offsetgroup\": \"batting_team=MI\", \"orientation\": \"v\", \"showlegend\": true, \"x\": [\"MI\", \"MI\", \"MI\", \"MI\", \"MI\", \"MI\", \"MI\", \"MI\", \"MI\", \"MI\", \"MI\", \"MI\", \"MI\", \"MI\", \"MI\", \"MI\", \"MI\", \"MI\", \"MI\", \"MI\", \"MI\", \"MI\", \"MI\", \"MI\", \"MI\", \"MI\", \"MI\", \"MI\", \"MI\", \"MI\", \"MI\", \"MI\", \"MI\", \"MI\", \"MI\", \"MI\", \"MI\", \"MI\", \"MI\", \"MI\", \"MI\", \"MI\", \"MI\", \"MI\", \"MI\", \"MI\", \"MI\", \"MI\", \"MI\", \"MI\", \"MI\", \"MI\", \"MI\", \"MI\", \"MI\", \"MI\", \"MI\", \"MI\", \"MI\", \"MI\", \"MI\", \"MI\", \"MI\", \"MI\", \"MI\", \"MI\", \"MI\", \"MI\", \"MI\", \"MI\", \"MI\", \"MI\", \"MI\", \"MI\", \"MI\", \"MI\", \"MI\", \"MI\", \"MI\", \"MI\", \"MI\", \"MI\"], \"xaxis\": \"x\", \"y\": [92, 94, 115, 116, 120, 121, 124, 125, 129, 129, 133, 133, 138, 139, 141, 141, 141, 142, 142, 143, 145, 147, 148, 148, 148, 149, 151, 154, 154, 157, 157, 157, 159, 160, 161, 162, 163, 164, 164, 165, 165, 165, 166, 168, 170, 171, 172, 172, 172, 172, 173, 173, 173, 174, 174, 176, 178, 178, 178, 178, 182, 182, 183, 183, 183, 184, 184, 187, 187, 187, 187, 189, 191, 194, 197, 202, 206, 209, 209, 212, 212, 218], \"yaxis\": \"y\", \"type\": \"box\", \"uid\": \"6ef8ee87-f4a7-406e-a692-9205a77256e5\"}, {\"alignmentgroup\": \"True\", \"legendgroup\": \"batting_team=PW\", \"marker\": {\"color\": \"#ff6692\"}, \"name\": \"batting_team=PW\", \"notched\": false, \"offsetgroup\": \"batting_team=PW\", \"orientation\": \"v\", \"showlegend\": true, \"x\": [\"PW\", \"PW\", \"PW\", \"PW\", \"PW\", \"PW\", \"PW\", \"PW\", \"PW\", \"PW\", \"PW\", \"PW\", \"PW\", \"PW\", \"PW\", \"PW\", \"PW\", \"PW\", \"PW\", \"PW\"], \"xaxis\": \"x\", \"y\": [99, 112, 115, 118, 118, 125, 129, 136, 141, 143, 146, 159, 166, 170, 172, 178, 182, 185, 187, 192], \"yaxis\": \"y\", \"type\": \"box\", \"uid\": \"28dfd4f3-e85a-4fb8-ade3-da34303b6e3e\"}, {\"alignmentgroup\": \"True\", \"legendgroup\": \"batting_team=RCB\", \"marker\": {\"color\": \"#b6e880\"}, \"name\": \"batting_team=RCB\", \"notched\": false, \"offsetgroup\": \"batting_team=RCB\", \"orientation\": \"v\", \"showlegend\": true, \"x\": [\"RCB\", \"RCB\", \"RCB\", \"RCB\", \"RCB\", \"RCB\", \"RCB\", \"RCB\", \"RCB\", \"RCB\", \"RCB\", \"RCB\", \"RCB\", \"RCB\", \"RCB\", \"RCB\", \"RCB\", \"RCB\", \"RCB\", \"RCB\", \"RCB\", \"RCB\", \"RCB\", \"RCB\", \"RCB\", \"RCB\", \"RCB\", \"RCB\", \"RCB\", \"RCB\", \"RCB\", \"RCB\", \"RCB\", \"RCB\", \"RCB\", \"RCB\", \"RCB\", \"RCB\", \"RCB\", \"RCB\", \"RCB\", \"RCB\", \"RCB\", \"RCB\", \"RCB\", \"RCB\", \"RCB\", \"RCB\", \"RCB\", \"RCB\", \"RCB\", \"RCB\", \"RCB\", \"RCB\", \"RCB\", \"RCB\", \"RCB\", \"RCB\", \"RCB\", \"RCB\", \"RCB\", \"RCB\", \"RCB\", \"RCB\", \"RCB\", \"RCB\", \"RCB\", \"RCB\", \"RCB\", \"RCB\"], \"xaxis\": \"x\", \"y\": [70, 105, 106, 115, 122, 124, 126, 126, 130, 133, 134, 135, 135, 139, 140, 142, 143, 145, 148, 149, 151, 154, 154, 156, 156, 157, 157, 158, 158, 160, 161, 161, 162, 165, 166, 168, 170, 170, 171, 171, 171, 173, 174, 175, 175, 180, 180, 181, 183, 184, 185, 185, 185, 186, 187, 189, 190, 190, 191, 200, 205, 205, 211, 213, 215, 226, 227, 235, 248, 263], \"yaxis\": \"y\", \"type\": \"box\", \"uid\": \"462e52d9-3719-437b-9bdf-7d6d344984be\"}, {\"alignmentgroup\": \"True\", \"legendgroup\": \"batting_team=RPS\", \"marker\": {\"color\": \"#636efa\"}, \"name\": \"batting_team=RPS\", \"notched\": false, \"offsetgroup\": \"batting_team=RPS\", \"orientation\": \"v\", \"showlegend\": true, \"x\": [\"RPS\", \"RPS\", \"RPS\", \"RPS\", \"RPS\", \"RPS\", \"RPS\", \"RPS\", \"RPS\", \"RPS\", \"RPS\", \"RPS\", \"RPS\", \"RPS\", \"RPS\"], \"xaxis\": \"x\", \"y\": [103, 148, 152, 157, 159, 160, 160, 161, 162, 163, 163, 171, 182, 191, 195], \"yaxis\": \"y\", \"type\": \"box\", \"uid\": \"8e9607e6-a0e8-4397-8a7f-a3244767ca3e\"}, {\"alignmentgroup\": \"True\", \"legendgroup\": \"batting_team=RR\", \"marker\": {\"color\": \"#EF553B\"}, \"name\": \"batting_team=RR\", \"notched\": false, \"offsetgroup\": \"batting_team=RR\", \"orientation\": \"v\", \"showlegend\": true, \"x\": [\"RR\", \"RR\", \"RR\", \"RR\", \"RR\", \"RR\", \"RR\", \"RR\", \"RR\", \"RR\", \"RR\", \"RR\", \"RR\", \"RR\", \"RR\", \"RR\", \"RR\", \"RR\", \"RR\", \"RR\", \"RR\", \"RR\", \"RR\", \"RR\", \"RR\", \"RR\", \"RR\", \"RR\", \"RR\", \"RR\", \"RR\", \"RR\", \"RR\", \"RR\", \"RR\", \"RR\", \"RR\", \"RR\", \"RR\", \"RR\", \"RR\", \"RR\", \"RR\", \"RR\", \"RR\", \"RR\", \"RR\", \"RR\", \"RR\", \"RR\", \"RR\", \"RR\", \"RR\", \"RR\"], \"xaxis\": \"x\", \"y\": [81, 92, 97, 101, 103, 117, 126, 126, 129, 130, 130, 131, 132, 132, 140, 141, 141, 144, 145, 145, 146, 146, 147, 148, 150, 152, 159, 159, 162, 162, 164, 165, 165, 168, 170, 170, 177, 177, 179, 183, 185, 189, 189, 191, 191, 191, 192, 195, 196, 197, 199, 201, 211, 211], \"yaxis\": \"y\", \"type\": \"box\", \"uid\": \"38fc6a79-9e43-4cc8-99b1-49fd2daaea3f\"}, {\"alignmentgroup\": \"True\", \"legendgroup\": \"batting_team=SRH\", \"marker\": {\"color\": \"#00cc96\"}, \"name\": \"batting_team=SRH\", \"notched\": false, \"offsetgroup\": \"batting_team=SRH\", \"orientation\": \"v\", \"showlegend\": true, \"x\": [\"SRH\", \"SRH\", \"SRH\", \"SRH\", \"SRH\", \"SRH\", \"SRH\", \"SRH\", \"SRH\", \"SRH\", \"SRH\", \"SRH\", \"SRH\", \"SRH\", \"SRH\", \"SRH\", \"SRH\", \"SRH\", \"SRH\", \"SRH\", \"SRH\", \"SRH\", \"SRH\", \"SRH\", \"SRH\", \"SRH\", \"SRH\", \"SRH\", \"SRH\", \"SRH\", \"SRH\", \"SRH\", \"SRH\", \"SRH\", \"SRH\", \"SRH\", \"SRH\", \"SRH\", \"SRH\", \"SRH\", \"SRH\", \"SRH\", \"SRH\", \"SRH\", \"SRH\", \"SRH\"], \"xaxis\": \"x\", \"y\": [113, 118, 119, 126, 127, 128, 132, 133, 134, 135, 136, 137, 142, 142, 144, 145, 146, 150, 150, 155, 157, 158, 158, 159, 159, 160, 161, 162, 163, 172, 176, 176, 177, 178, 184, 185, 185, 191, 192, 194, 201, 205, 207, 207, 208, 209], \"yaxis\": \"y\", \"type\": \"box\", \"uid\": \"5089a000-7212-46c8-bd9f-e90d7df4ecf2\"}], {\"boxmode\": \"group\", \"height\": 600, \"legend\": {\"tracegroupgap\": 0}, \"margin\": {\"t\": 60}, \"template\": {\"data\": {\"barpolar\": [{\"marker\": {\"line\": {\"color\": \"#E5ECF6\", \"width\": 0.5}}, \"type\": \"barpolar\"}], \"bar\": [{\"marker\": {\"line\": {\"color\": \"#E5ECF6\", \"width\": 0.5}}, \"type\": \"bar\"}], \"carpet\": [{\"aaxis\": {\"endlinecolor\": \"#2a3f5f\", \"gridcolor\": \"white\", \"linecolor\": \"white\", \"minorgridcolor\": \"white\", \"startlinecolor\": \"#2a3f5f\"}, \"baxis\": {\"endlinecolor\": \"#2a3f5f\", \"gridcolor\": \"white\", \"linecolor\": \"white\", \"minorgridcolor\": \"white\", \"startlinecolor\": \"#2a3f5f\"}, \"type\": \"carpet\"}], \"choropleth\": [{\"colorbar\": {\"outlinewidth\": 0, \"ticks\": \"\"}, \"type\": \"choropleth\"}], \"contourcarpet\": [{\"colorbar\": {\"outlinewidth\": 0, \"ticks\": \"\"}, \"type\": \"contourcarpet\"}], \"contour\": [{\"autocolorscale\": true, \"colorbar\": {\"outlinewidth\": 0, \"ticks\": \"\"}, \"type\": \"contour\"}], \"heatmapgl\": [{\"colorbar\": {\"outlinewidth\": 0, \"ticks\": \"\"}, \"type\": \"heatmapgl\"}], \"heatmap\": [{\"autocolorscale\": true, \"colorbar\": {\"outlinewidth\": 0, \"ticks\": \"\"}, \"type\": \"heatmap\"}], \"histogram2dcontour\": [{\"autocolorscale\": true, \"colorbar\": {\"outlinewidth\": 0, \"ticks\": \"\"}, \"type\": \"histogram2dcontour\"}], \"histogram2d\": [{\"autocolorscale\": true, \"colorbar\": {\"outlinewidth\": 0, \"ticks\": \"\"}, \"type\": \"histogram2d\"}], \"histogram\": [{\"marker\": {\"colorbar\": {\"outlinewidth\": 0, \"ticks\": \"\"}}, \"type\": \"histogram\"}], \"mesh3d\": [{\"colorbar\": {\"outlinewidth\": 0, \"ticks\": \"\"}, \"type\": \"mesh3d\"}], \"parcoords\": [{\"line\": {\"colorbar\": {\"outlinewidth\": 0, \"ticks\": \"\"}}, \"type\": \"parcoords\"}], \"scatter3d\": [{\"marker\": {\"colorbar\": {\"outlinewidth\": 0, \"ticks\": \"\"}}, \"type\": \"scatter3d\"}], \"scattercarpet\": [{\"marker\": {\"colorbar\": {\"outlinewidth\": 0, \"ticks\": \"\"}}, \"type\": \"scattercarpet\"}], \"scattergeo\": [{\"marker\": {\"colorbar\": {\"outlinewidth\": 0, \"ticks\": \"\"}}, \"type\": \"scattergeo\"}], \"scattergl\": [{\"marker\": {\"colorbar\": {\"outlinewidth\": 0, \"ticks\": \"\"}}, \"type\": \"scattergl\"}], \"scattermapbox\": [{\"marker\": {\"colorbar\": {\"outlinewidth\": 0, \"ticks\": \"\"}}, \"type\": \"scattermapbox\"}], \"scatterpolargl\": [{\"marker\": {\"colorbar\": {\"outlinewidth\": 0, \"ticks\": \"\"}}, \"type\": \"scatterpolargl\"}], \"scatterpolar\": [{\"marker\": {\"colorbar\": {\"outlinewidth\": 0, \"ticks\": \"\"}}, \"type\": \"scatterpolar\"}], \"scatter\": [{\"marker\": {\"colorbar\": {\"outlinewidth\": 0, \"ticks\": \"\"}}, \"type\": \"scatter\"}], \"scatterternary\": [{\"marker\": {\"colorbar\": {\"outlinewidth\": 0, \"ticks\": \"\"}}, \"type\": \"scatterternary\"}], \"surface\": [{\"colorbar\": {\"outlinewidth\": 0, \"ticks\": \"\"}, \"type\": \"surface\"}], \"table\": [{\"cells\": {\"fill\": {\"color\": \"#EBF0F8\"}, \"line\": {\"color\": \"white\"}}, \"header\": {\"fill\": {\"color\": \"#C8D4E3\"}, \"line\": {\"color\": \"white\"}}, \"type\": \"table\"}]}, \"layout\": {\"annotationdefaults\": {\"arrowcolor\": \"#506784\", \"arrowhead\": 0, \"arrowwidth\": 1}, \"colorscale\": {\"diverging\": [[0, \"#8e0152\"], [0.1, \"#c51b7d\"], [0.2, \"#de77ae\"], [0.3, \"#f1b6da\"], [0.4, \"#fde0ef\"], [0.5, \"#f7f7f7\"], [0.6, \"#e6f5d0\"], [0.7, \"#b8e186\"], [0.8, \"#7fbc41\"], [0.9, \"#4d9221\"], [1, \"#276419\"]], \"sequential\": [[0.0, \"#0508b8\"], [0.0893854748603352, \"#1910d8\"], [0.1787709497206704, \"#3c19f0\"], [0.2681564245810056, \"#6b1cfb\"], [0.3575418994413408, \"#981cfd\"], [0.44692737430167595, \"#bf1cfd\"], [0.5363128491620112, \"#dd2bfd\"], [0.6256983240223464, \"#f246fe\"], [0.7150837988826816, \"#fc67fd\"], [0.8044692737430168, \"#fe88fc\"], [0.8938547486033519, \"#fea5fd\"], [0.9832402234636871, \"#febefe\"], [1.0, \"#fec3fe\"]], \"sequentialminus\": [[0.0, \"#0508b8\"], [0.0893854748603352, \"#1910d8\"], [0.1787709497206704, \"#3c19f0\"], [0.2681564245810056, \"#6b1cfb\"], [0.3575418994413408, \"#981cfd\"], [0.44692737430167595, \"#bf1cfd\"], [0.5363128491620112, \"#dd2bfd\"], [0.6256983240223464, \"#f246fe\"], [0.7150837988826816, \"#fc67fd\"], [0.8044692737430168, \"#fe88fc\"], [0.8938547486033519, \"#fea5fd\"], [0.9832402234636871, \"#febefe\"], [1.0, \"#fec3fe\"]]}, \"colorway\": [\"#636efa\", \"#EF553B\", \"#00cc96\", \"#ab63fa\", \"#19d3f3\", \"#e763fa\", \"#FECB52\", \"#FFA15A\", \"#FF6692\", \"#B6E880\"], \"font\": {\"color\": \"#2a3f5f\"}, \"geo\": {\"bgcolor\": \"white\", \"lakecolor\": \"white\", \"landcolor\": \"#E5ECF6\", \"showlakes\": true, \"showland\": true, \"subunitcolor\": \"white\"}, \"hovermode\": \"closest\", \"mapbox\": {\"style\": \"light\"}, \"paper_bgcolor\": \"white\", \"plot_bgcolor\": \"#E5ECF6\", \"polar\": {\"angularaxis\": {\"gridcolor\": \"white\", \"linecolor\": \"white\", \"ticks\": \"\"}, \"bgcolor\": \"#E5ECF6\", \"radialaxis\": {\"gridcolor\": \"white\", \"linecolor\": \"white\", \"ticks\": \"\"}}, \"scene\": {\"xaxis\": {\"backgroundcolor\": \"#E5ECF6\", \"gridcolor\": \"white\", \"gridwidth\": 2, \"linecolor\": \"white\", \"showbackground\": true, \"ticks\": \"\", \"zerolinecolor\": \"white\"}, \"yaxis\": {\"backgroundcolor\": \"#E5ECF6\", \"gridcolor\": \"white\", \"gridwidth\": 2, \"linecolor\": \"white\", \"showbackground\": true, \"ticks\": \"\", \"zerolinecolor\": \"white\"}, \"zaxis\": {\"backgroundcolor\": \"#E5ECF6\", \"gridcolor\": \"white\", \"gridwidth\": 2, \"linecolor\": \"white\", \"showbackground\": true, \"ticks\": \"\", \"zerolinecolor\": \"white\"}}, \"shapedefaults\": {\"fillcolor\": \"#506784\", \"line\": {\"width\": 0}, \"opacity\": 0.4}, \"ternary\": {\"aaxis\": {\"gridcolor\": \"white\", \"linecolor\": \"white\", \"ticks\": \"\"}, \"baxis\": {\"gridcolor\": \"white\", \"linecolor\": \"white\", \"ticks\": \"\"}, \"bgcolor\": \"#E5ECF6\", \"caxis\": {\"gridcolor\": \"white\", \"linecolor\": \"white\", \"ticks\": \"\"}}, \"title\": {\"x\": 0.05}, \"xaxis\": {\"automargin\": true, \"gridcolor\": \"white\", \"linecolor\": \"white\", \"ticks\": \"\", \"zerolinecolor\": \"white\", \"zerolinewidth\": 2}, \"yaxis\": {\"automargin\": true, \"gridcolor\": \"white\", \"linecolor\": \"white\", \"ticks\": \"\", \"zerolinecolor\": \"white\", \"zerolinewidth\": 2}}}, \"grid\": {\"xaxes\": [\"x\"], \"yaxes\": [\"y\"], \"xgap\": 0.1, \"ygap\": 0.1, \"xside\": \"bottom\", \"yside\": \"left\"}, \"xaxis\": {\"title\": {\"text\": \"batting_team\"}, \"categoryorder\": \"array\", \"categoryarray\": [\"CSK\", \"DC\", \"DD\", \"GL\", \"KKR\", \"KTK\", \"KXIP\", \"MI\", \"PW\", \"RCB\", \"RPS\", \"RR\", \"SRH\"]}, \"yaxis\": {\"title\": {\"text\": \"total_runs\"}}}, {\"showLink\": false, \"linkText\": \"Export to plot.ly\", \"plotlyServerURL\": \"https://plot.ly\"}); \n",
       "}\n",
       "});</script><script type=\"text/javascript\">window.addEventListener(\"resize\", function(){if (document.getElementById(\"b7bb2bec-0a67-4354-8d50-fa3d0c09b59f\")) {window._Plotly.Plots.resize(document.getElementById(\"b7bb2bec-0a67-4354-8d50-fa3d0c09b59f\"));};})</script>"
      ],
      "text/vnd.plotly.v1+html": [
       "<div id=\"b7bb2bec-0a67-4354-8d50-fa3d0c09b59f\" style=\"height: 600px; width: 100%;\" class=\"plotly-graph-div\"></div><script type=\"text/javascript\">require([\"plotly\"], function(Plotly) { window.PLOTLYENV=window.PLOTLYENV || {};window.PLOTLYENV.BASE_URL=\"https://plot.ly\";\n",
       "if (document.getElementById(\"b7bb2bec-0a67-4354-8d50-fa3d0c09b59f\")) {\n",
       "    Plotly.newPlot(\"b7bb2bec-0a67-4354-8d50-fa3d0c09b59f\", [{\"alignmentgroup\": \"True\", \"legendgroup\": \"batting_team=CSK\", \"marker\": {\"color\": \"#636efa\"}, \"name\": \"batting_team=CSK\", \"notched\": false, \"offsetgroup\": \"batting_team=CSK\", \"orientation\": \"v\", \"showlegend\": true, \"x\": [\"CSK\", \"CSK\", \"CSK\", \"CSK\", \"CSK\", \"CSK\", \"CSK\", \"CSK\", \"CSK\", \"CSK\", \"CSK\", \"CSK\", \"CSK\", \"CSK\", \"CSK\", \"CSK\", \"CSK\", \"CSK\", \"CSK\", \"CSK\", \"CSK\", \"CSK\", \"CSK\", \"CSK\", \"CSK\", \"CSK\", \"CSK\", \"CSK\", \"CSK\", \"CSK\", \"CSK\", \"CSK\", \"CSK\", \"CSK\", \"CSK\", \"CSK\", \"CSK\", \"CSK\", \"CSK\", \"CSK\", \"CSK\", \"CSK\", \"CSK\", \"CSK\", \"CSK\", \"CSK\", \"CSK\", \"CSK\", \"CSK\", \"CSK\", \"CSK\", \"CSK\", \"CSK\", \"CSK\", \"CSK\", \"CSK\", \"CSK\", \"CSK\", \"CSK\", \"CSK\", \"CSK\", \"CSK\", \"CSK\", \"CSK\", \"CSK\", \"CSK\", \"CSK\", \"CSK\", \"CSK\", \"CSK\", \"CSK\", \"CSK\", \"CSK\", \"CSK\", \"CSK\", \"CSK\", \"CSK\"], \"xaxis\": \"x\", \"y\": [109, 110, 112, 112, 114, 116, 119, 120, 128, 129, 131, 134, 138, 138, 139, 140, 141, 142, 142, 144, 146, 148, 148, 150, 152, 153, 154, 155, 156, 156, 157, 158, 160, 163, 163, 164, 164, 164, 164, 165, 165, 165, 165, 168, 168, 169, 169, 173, 176, 177, 178, 178, 179, 180, 181, 181, 183, 185, 185, 186, 187, 188, 188, 190, 192, 192, 193, 196, 200, 205, 205, 208, 209, 222, 223, 240, 246], \"yaxis\": \"y\", \"type\": \"box\", \"uid\": \"ce451c43-43e2-4803-826e-8256215a79c6\"}, {\"alignmentgroup\": \"True\", \"legendgroup\": \"batting_team=DC\", \"marker\": {\"color\": \"#EF553B\"}, \"name\": \"batting_team=DC\", \"notched\": false, \"offsetgroup\": \"batting_team=DC\", \"orientation\": \"v\", \"showlegend\": true, \"x\": [\"DC\", \"DC\", \"DC\", \"DC\", \"DC\", \"DC\", \"DC\", \"DC\", \"DC\", \"DC\", \"DC\", \"DC\", \"DC\", \"DC\", \"DC\", \"DC\", \"DC\", \"DC\", \"DC\", \"DC\", \"DC\", \"DC\", \"DC\", \"DC\", \"DC\", \"DC\", \"DC\", \"DC\", \"DC\", \"DC\", \"DC\", \"DC\", \"DC\", \"DC\", \"DC\", \"DC\", \"DC\", \"DC\", \"DC\", \"DC\", \"DC\", \"DC\", \"DC\"], \"xaxis\": \"x\", \"y\": [82, 100, 110, 126, 129, 132, 135, 136, 137, 138, 140, 141, 142, 143, 145, 145, 147, 148, 148, 151, 157, 164, 165, 165, 166, 168, 168, 168, 170, 171, 175, 175, 175, 177, 181, 184, 186, 187, 190, 190, 196, 198, 214], \"yaxis\": \"y\", \"type\": \"box\", \"uid\": \"e8f1062c-e459-4a9d-918d-8b1240e584d5\"}, {\"alignmentgroup\": \"True\", \"legendgroup\": \"batting_team=DD\", \"marker\": {\"color\": \"#00cc96\"}, \"name\": \"batting_team=DD\", \"notched\": false, \"offsetgroup\": \"batting_team=DD\", \"orientation\": \"v\", \"showlegend\": true, \"x\": [\"DD\", \"DD\", \"DD\", \"DD\", \"DD\", \"DD\", \"DD\", \"DD\", \"DD\", \"DD\", \"DD\", \"DD\", \"DD\", \"DD\", \"DD\", \"DD\", \"DD\", \"DD\", \"DD\", \"DD\", \"DD\", \"DD\", \"DD\", \"DD\", \"DD\", \"DD\", \"DD\", \"DD\", \"DD\", \"DD\", \"DD\", \"DD\", \"DD\", \"DD\", \"DD\", \"DD\", \"DD\", \"DD\", \"DD\", \"DD\", \"DD\", \"DD\", \"DD\", \"DD\", \"DD\", \"DD\", \"DD\", \"DD\", \"DD\", \"DD\", \"DD\", \"DD\", \"DD\", \"DD\", \"DD\", \"DD\", \"DD\", \"DD\", \"DD\", \"DD\", \"DD\", \"DD\", \"DD\"], \"xaxis\": \"x\", \"y\": [56, 67, 80, 95, 95, 98, 111, 114, 114, 115, 118, 120, 120, 121, 128, 134, 138, 140, 143, 143, 145, 146, 150, 151, 152, 152, 152, 152, 153, 153, 154, 156, 157, 158, 160, 160, 160, 162, 164, 164, 164, 167, 168, 168, 173, 177, 178, 183, 184, 184, 185, 186, 187, 187, 188, 188, 189, 190, 191, 194, 205, 207, 231], \"yaxis\": \"y\", \"type\": \"box\", \"uid\": \"ed416065-9be2-4e76-be07-f8426042582a\"}, {\"alignmentgroup\": \"True\", \"legendgroup\": \"batting_team=GL\", \"marker\": {\"color\": \"#ab63fa\"}, \"name\": \"batting_team=GL\", \"notched\": false, \"offsetgroup\": \"batting_team=GL\", \"orientation\": \"v\", \"showlegend\": true, \"x\": [\"GL\", \"GL\", \"GL\", \"GL\", \"GL\", \"GL\", \"GL\", \"GL\", \"GL\", \"GL\", \"GL\", \"GL\", \"GL\", \"GL\"], \"xaxis\": \"x\", \"y\": [126, 135, 135, 149, 153, 154, 158, 161, 162, 172, 176, 183, 195, 208], \"yaxis\": \"y\", \"type\": \"box\", \"uid\": \"6c11bd1f-3bf5-4623-ab7a-a9824ef45d4f\"}, {\"alignmentgroup\": \"True\", \"legendgroup\": \"batting_team=KKR\", \"marker\": {\"color\": \"#19d3f3\"}, \"name\": \"batting_team=KKR\", \"notched\": false, \"offsetgroup\": \"batting_team=KKR\", \"orientation\": \"v\", \"showlegend\": true, \"x\": [\"KKR\", \"KKR\", \"KKR\", \"KKR\", \"KKR\", \"KKR\", \"KKR\", \"KKR\", \"KKR\", \"KKR\", \"KKR\", \"KKR\", \"KKR\", \"KKR\", \"KKR\", \"KKR\", \"KKR\", \"KKR\", \"KKR\", \"KKR\", \"KKR\", \"KKR\", \"KKR\", \"KKR\", \"KKR\", \"KKR\", \"KKR\", \"KKR\", \"KKR\", \"KKR\", \"KKR\", \"KKR\", \"KKR\", \"KKR\", \"KKR\", \"KKR\", \"KKR\", \"KKR\", \"KKR\", \"KKR\", \"KKR\", \"KKR\", \"KKR\", \"KKR\", \"KKR\", \"KKR\", \"KKR\", \"KKR\", \"KKR\", \"KKR\", \"KKR\", \"KKR\", \"KKR\", \"KKR\", \"KKR\", \"KKR\", \"KKR\", \"KKR\", \"KKR\", \"KKR\", \"KKR\", \"KKR\", \"KKR\", \"KKR\", \"KKR\", \"KKR\", \"KKR\", \"KKR\"], \"xaxis\": \"x\", \"y\": [67, 89, 97, 101, 107, 111, 119, 123, 124, 129, 130, 131, 133, 136, 136, 137, 139, 139, 140, 147, 147, 147, 148, 149, 150, 150, 152, 153, 154, 154, 155, 155, 158, 158, 159, 160, 160, 161, 162, 163, 163, 163, 164, 165, 166, 167, 169, 171, 171, 171, 172, 173, 174, 175, 177, 178, 180, 181, 181, 183, 183, 187, 187, 190, 195, 200, 204, 222], \"yaxis\": \"y\", \"type\": \"box\", \"uid\": \"60cddf32-730c-4b67-ba5b-9cd38367714b\"}, {\"alignmentgroup\": \"True\", \"legendgroup\": \"batting_team=KTK\", \"marker\": {\"color\": \"#e763fa\"}, \"name\": \"batting_team=KTK\", \"notched\": false, \"offsetgroup\": \"batting_team=KTK\", \"orientation\": \"v\", \"showlegend\": true, \"x\": [\"KTK\", \"KTK\", \"KTK\", \"KTK\", \"KTK\", \"KTK\", \"KTK\"], \"xaxis\": \"x\", \"y\": [109, 125, 132, 148, 156, 161, 178], \"yaxis\": \"y\", \"type\": \"box\", \"uid\": \"a821ce21-a9f5-4ff8-926e-e4ae57d810ad\"}, {\"alignmentgroup\": \"True\", \"legendgroup\": \"batting_team=KXIP\", \"marker\": {\"color\": \"#fecb52\"}, \"name\": \"batting_team=KXIP\", \"notched\": false, \"offsetgroup\": \"batting_team=KXIP\", \"orientation\": \"v\", \"showlegend\": true, \"x\": [\"KXIP\", \"KXIP\", \"KXIP\", \"KXIP\", \"KXIP\", \"KXIP\", \"KXIP\", \"KXIP\", \"KXIP\", \"KXIP\", \"KXIP\", \"KXIP\", \"KXIP\", \"KXIP\", \"KXIP\", \"KXIP\", \"KXIP\", \"KXIP\", \"KXIP\", \"KXIP\", \"KXIP\", \"KXIP\", \"KXIP\", \"KXIP\", \"KXIP\", \"KXIP\", \"KXIP\", \"KXIP\", \"KXIP\", \"KXIP\", \"KXIP\", \"KXIP\", \"KXIP\", \"KXIP\", \"KXIP\", \"KXIP\", \"KXIP\", \"KXIP\", \"KXIP\", \"KXIP\", \"KXIP\", \"KXIP\", \"KXIP\", \"KXIP\", \"KXIP\", \"KXIP\", \"KXIP\", \"KXIP\", \"KXIP\", \"KXIP\", \"KXIP\", \"KXIP\", \"KXIP\", \"KXIP\", \"KXIP\", \"KXIP\", \"KXIP\", \"KXIP\", \"KXIP\", \"KXIP\", \"KXIP\", \"KXIP\", \"KXIP\", \"KXIP\", \"KXIP\", \"KXIP\", \"KXIP\", \"KXIP\", \"KXIP\", \"KXIP\", \"KXIP\", \"KXIP\", \"KXIP\", \"KXIP\", \"KXIP\", \"KXIP\", \"KXIP\"], \"xaxis\": \"x\", \"y\": [73, 104, 106, 111, 112, 112, 118, 119, 119, 119, 119, 123, 124, 124, 130, 132, 134, 134, 136, 136, 138, 138, 138, 139, 141, 142, 143, 145, 149, 149, 153, 154, 155, 156, 156, 157, 158, 161, 163, 163, 163, 165, 166, 167, 168, 168, 170, 170, 170, 171, 172, 174, 174, 177, 178, 179, 179, 181, 181, 182, 183, 183, 188, 189, 189, 192, 193, 195, 198, 198, 199, 203, 221, 226, 230, 231, 232], \"yaxis\": \"y\", \"type\": \"box\", \"uid\": \"e20345a7-9a45-4da2-a5ee-cb67d90e1ae1\"}, {\"alignmentgroup\": \"True\", \"legendgroup\": \"batting_team=MI\", \"marker\": {\"color\": \"#ffa15a\"}, \"name\": \"batting_team=MI\", \"notched\": false, \"offsetgroup\": \"batting_team=MI\", \"orientation\": \"v\", \"showlegend\": true, \"x\": [\"MI\", \"MI\", \"MI\", \"MI\", \"MI\", \"MI\", \"MI\", \"MI\", \"MI\", \"MI\", \"MI\", \"MI\", \"MI\", \"MI\", \"MI\", \"MI\", \"MI\", \"MI\", \"MI\", \"MI\", \"MI\", \"MI\", \"MI\", \"MI\", \"MI\", \"MI\", \"MI\", \"MI\", \"MI\", \"MI\", \"MI\", \"MI\", \"MI\", \"MI\", \"MI\", \"MI\", \"MI\", \"MI\", \"MI\", \"MI\", \"MI\", \"MI\", \"MI\", \"MI\", \"MI\", \"MI\", \"MI\", \"MI\", \"MI\", \"MI\", \"MI\", \"MI\", \"MI\", \"MI\", \"MI\", \"MI\", \"MI\", \"MI\", \"MI\", \"MI\", \"MI\", \"MI\", \"MI\", \"MI\", \"MI\", \"MI\", \"MI\", \"MI\", \"MI\", \"MI\", \"MI\", \"MI\", \"MI\", \"MI\", \"MI\", \"MI\", \"MI\", \"MI\", \"MI\", \"MI\", \"MI\", \"MI\"], \"xaxis\": \"x\", \"y\": [92, 94, 115, 116, 120, 121, 124, 125, 129, 129, 133, 133, 138, 139, 141, 141, 141, 142, 142, 143, 145, 147, 148, 148, 148, 149, 151, 154, 154, 157, 157, 157, 159, 160, 161, 162, 163, 164, 164, 165, 165, 165, 166, 168, 170, 171, 172, 172, 172, 172, 173, 173, 173, 174, 174, 176, 178, 178, 178, 178, 182, 182, 183, 183, 183, 184, 184, 187, 187, 187, 187, 189, 191, 194, 197, 202, 206, 209, 209, 212, 212, 218], \"yaxis\": \"y\", \"type\": \"box\", \"uid\": \"6ef8ee87-f4a7-406e-a692-9205a77256e5\"}, {\"alignmentgroup\": \"True\", \"legendgroup\": \"batting_team=PW\", \"marker\": {\"color\": \"#ff6692\"}, \"name\": \"batting_team=PW\", \"notched\": false, \"offsetgroup\": \"batting_team=PW\", \"orientation\": \"v\", \"showlegend\": true, \"x\": [\"PW\", \"PW\", \"PW\", \"PW\", \"PW\", \"PW\", \"PW\", \"PW\", \"PW\", \"PW\", \"PW\", \"PW\", \"PW\", \"PW\", \"PW\", \"PW\", \"PW\", \"PW\", \"PW\", \"PW\"], \"xaxis\": \"x\", \"y\": [99, 112, 115, 118, 118, 125, 129, 136, 141, 143, 146, 159, 166, 170, 172, 178, 182, 185, 187, 192], \"yaxis\": \"y\", \"type\": \"box\", \"uid\": \"28dfd4f3-e85a-4fb8-ade3-da34303b6e3e\"}, {\"alignmentgroup\": \"True\", \"legendgroup\": \"batting_team=RCB\", \"marker\": {\"color\": \"#b6e880\"}, \"name\": \"batting_team=RCB\", \"notched\": false, \"offsetgroup\": \"batting_team=RCB\", \"orientation\": \"v\", \"showlegend\": true, \"x\": [\"RCB\", \"RCB\", \"RCB\", \"RCB\", \"RCB\", \"RCB\", \"RCB\", \"RCB\", \"RCB\", \"RCB\", \"RCB\", \"RCB\", \"RCB\", \"RCB\", \"RCB\", \"RCB\", \"RCB\", \"RCB\", \"RCB\", \"RCB\", \"RCB\", \"RCB\", \"RCB\", \"RCB\", \"RCB\", \"RCB\", \"RCB\", \"RCB\", \"RCB\", \"RCB\", \"RCB\", \"RCB\", \"RCB\", \"RCB\", \"RCB\", \"RCB\", \"RCB\", \"RCB\", \"RCB\", \"RCB\", \"RCB\", \"RCB\", \"RCB\", \"RCB\", \"RCB\", \"RCB\", \"RCB\", \"RCB\", \"RCB\", \"RCB\", \"RCB\", \"RCB\", \"RCB\", \"RCB\", \"RCB\", \"RCB\", \"RCB\", \"RCB\", \"RCB\", \"RCB\", \"RCB\", \"RCB\", \"RCB\", \"RCB\", \"RCB\", \"RCB\", \"RCB\", \"RCB\", \"RCB\", \"RCB\"], \"xaxis\": \"x\", \"y\": [70, 105, 106, 115, 122, 124, 126, 126, 130, 133, 134, 135, 135, 139, 140, 142, 143, 145, 148, 149, 151, 154, 154, 156, 156, 157, 157, 158, 158, 160, 161, 161, 162, 165, 166, 168, 170, 170, 171, 171, 171, 173, 174, 175, 175, 180, 180, 181, 183, 184, 185, 185, 185, 186, 187, 189, 190, 190, 191, 200, 205, 205, 211, 213, 215, 226, 227, 235, 248, 263], \"yaxis\": \"y\", \"type\": \"box\", \"uid\": \"462e52d9-3719-437b-9bdf-7d6d344984be\"}, {\"alignmentgroup\": \"True\", \"legendgroup\": \"batting_team=RPS\", \"marker\": {\"color\": \"#636efa\"}, \"name\": \"batting_team=RPS\", \"notched\": false, \"offsetgroup\": \"batting_team=RPS\", \"orientation\": \"v\", \"showlegend\": true, \"x\": [\"RPS\", \"RPS\", \"RPS\", \"RPS\", \"RPS\", \"RPS\", \"RPS\", \"RPS\", \"RPS\", \"RPS\", \"RPS\", \"RPS\", \"RPS\", \"RPS\", \"RPS\"], \"xaxis\": \"x\", \"y\": [103, 148, 152, 157, 159, 160, 160, 161, 162, 163, 163, 171, 182, 191, 195], \"yaxis\": \"y\", \"type\": \"box\", \"uid\": \"8e9607e6-a0e8-4397-8a7f-a3244767ca3e\"}, {\"alignmentgroup\": \"True\", \"legendgroup\": \"batting_team=RR\", \"marker\": {\"color\": \"#EF553B\"}, \"name\": \"batting_team=RR\", \"notched\": false, \"offsetgroup\": \"batting_team=RR\", \"orientation\": \"v\", \"showlegend\": true, \"x\": [\"RR\", \"RR\", \"RR\", \"RR\", \"RR\", \"RR\", \"RR\", \"RR\", \"RR\", \"RR\", \"RR\", \"RR\", \"RR\", \"RR\", \"RR\", \"RR\", \"RR\", \"RR\", \"RR\", \"RR\", \"RR\", \"RR\", \"RR\", \"RR\", \"RR\", \"RR\", \"RR\", \"RR\", \"RR\", \"RR\", \"RR\", \"RR\", \"RR\", \"RR\", \"RR\", \"RR\", \"RR\", \"RR\", \"RR\", \"RR\", \"RR\", \"RR\", \"RR\", \"RR\", \"RR\", \"RR\", \"RR\", \"RR\", \"RR\", \"RR\", \"RR\", \"RR\", \"RR\", \"RR\"], \"xaxis\": \"x\", \"y\": [81, 92, 97, 101, 103, 117, 126, 126, 129, 130, 130, 131, 132, 132, 140, 141, 141, 144, 145, 145, 146, 146, 147, 148, 150, 152, 159, 159, 162, 162, 164, 165, 165, 168, 170, 170, 177, 177, 179, 183, 185, 189, 189, 191, 191, 191, 192, 195, 196, 197, 199, 201, 211, 211], \"yaxis\": \"y\", \"type\": \"box\", \"uid\": \"38fc6a79-9e43-4cc8-99b1-49fd2daaea3f\"}, {\"alignmentgroup\": \"True\", \"legendgroup\": \"batting_team=SRH\", \"marker\": {\"color\": \"#00cc96\"}, \"name\": \"batting_team=SRH\", \"notched\": false, \"offsetgroup\": \"batting_team=SRH\", \"orientation\": \"v\", \"showlegend\": true, \"x\": [\"SRH\", \"SRH\", \"SRH\", \"SRH\", \"SRH\", \"SRH\", \"SRH\", \"SRH\", \"SRH\", \"SRH\", \"SRH\", \"SRH\", \"SRH\", \"SRH\", \"SRH\", \"SRH\", \"SRH\", \"SRH\", \"SRH\", \"SRH\", \"SRH\", \"SRH\", \"SRH\", \"SRH\", \"SRH\", \"SRH\", \"SRH\", \"SRH\", \"SRH\", \"SRH\", \"SRH\", \"SRH\", \"SRH\", \"SRH\", \"SRH\", \"SRH\", \"SRH\", \"SRH\", \"SRH\", \"SRH\", \"SRH\", \"SRH\", \"SRH\", \"SRH\", \"SRH\", \"SRH\"], \"xaxis\": \"x\", \"y\": [113, 118, 119, 126, 127, 128, 132, 133, 134, 135, 136, 137, 142, 142, 144, 145, 146, 150, 150, 155, 157, 158, 158, 159, 159, 160, 161, 162, 163, 172, 176, 176, 177, 178, 184, 185, 185, 191, 192, 194, 201, 205, 207, 207, 208, 209], \"yaxis\": \"y\", \"type\": \"box\", \"uid\": \"5089a000-7212-46c8-bd9f-e90d7df4ecf2\"}], {\"boxmode\": \"group\", \"height\": 600, \"legend\": {\"tracegroupgap\": 0}, \"margin\": {\"t\": 60}, \"template\": {\"data\": {\"barpolar\": [{\"marker\": {\"line\": {\"color\": \"#E5ECF6\", \"width\": 0.5}}, \"type\": \"barpolar\"}], \"bar\": [{\"marker\": {\"line\": {\"color\": \"#E5ECF6\", \"width\": 0.5}}, \"type\": \"bar\"}], \"carpet\": [{\"aaxis\": {\"endlinecolor\": \"#2a3f5f\", \"gridcolor\": \"white\", \"linecolor\": \"white\", \"minorgridcolor\": \"white\", \"startlinecolor\": \"#2a3f5f\"}, \"baxis\": {\"endlinecolor\": \"#2a3f5f\", \"gridcolor\": \"white\", \"linecolor\": \"white\", \"minorgridcolor\": \"white\", \"startlinecolor\": \"#2a3f5f\"}, \"type\": \"carpet\"}], \"choropleth\": [{\"colorbar\": {\"outlinewidth\": 0, \"ticks\": \"\"}, \"type\": \"choropleth\"}], \"contourcarpet\": [{\"colorbar\": {\"outlinewidth\": 0, \"ticks\": \"\"}, \"type\": \"contourcarpet\"}], \"contour\": [{\"autocolorscale\": true, \"colorbar\": {\"outlinewidth\": 0, \"ticks\": \"\"}, \"type\": \"contour\"}], \"heatmapgl\": [{\"colorbar\": {\"outlinewidth\": 0, \"ticks\": \"\"}, \"type\": \"heatmapgl\"}], \"heatmap\": [{\"autocolorscale\": true, \"colorbar\": {\"outlinewidth\": 0, \"ticks\": \"\"}, \"type\": \"heatmap\"}], \"histogram2dcontour\": [{\"autocolorscale\": true, \"colorbar\": {\"outlinewidth\": 0, \"ticks\": \"\"}, \"type\": \"histogram2dcontour\"}], \"histogram2d\": [{\"autocolorscale\": true, \"colorbar\": {\"outlinewidth\": 0, \"ticks\": \"\"}, \"type\": \"histogram2d\"}], \"histogram\": [{\"marker\": {\"colorbar\": {\"outlinewidth\": 0, \"ticks\": \"\"}}, \"type\": \"histogram\"}], \"mesh3d\": [{\"colorbar\": {\"outlinewidth\": 0, \"ticks\": \"\"}, \"type\": \"mesh3d\"}], \"parcoords\": [{\"line\": {\"colorbar\": {\"outlinewidth\": 0, \"ticks\": \"\"}}, \"type\": \"parcoords\"}], \"scatter3d\": [{\"marker\": {\"colorbar\": {\"outlinewidth\": 0, \"ticks\": \"\"}}, \"type\": \"scatter3d\"}], \"scattercarpet\": [{\"marker\": {\"colorbar\": {\"outlinewidth\": 0, \"ticks\": \"\"}}, \"type\": \"scattercarpet\"}], \"scattergeo\": [{\"marker\": {\"colorbar\": {\"outlinewidth\": 0, \"ticks\": \"\"}}, \"type\": \"scattergeo\"}], \"scattergl\": [{\"marker\": {\"colorbar\": {\"outlinewidth\": 0, \"ticks\": \"\"}}, \"type\": \"scattergl\"}], \"scattermapbox\": [{\"marker\": {\"colorbar\": {\"outlinewidth\": 0, \"ticks\": \"\"}}, \"type\": \"scattermapbox\"}], \"scatterpolargl\": [{\"marker\": {\"colorbar\": {\"outlinewidth\": 0, \"ticks\": \"\"}}, \"type\": \"scatterpolargl\"}], \"scatterpolar\": [{\"marker\": {\"colorbar\": {\"outlinewidth\": 0, \"ticks\": \"\"}}, \"type\": \"scatterpolar\"}], \"scatter\": [{\"marker\": {\"colorbar\": {\"outlinewidth\": 0, \"ticks\": \"\"}}, \"type\": \"scatter\"}], \"scatterternary\": [{\"marker\": {\"colorbar\": {\"outlinewidth\": 0, \"ticks\": \"\"}}, \"type\": \"scatterternary\"}], \"surface\": [{\"colorbar\": {\"outlinewidth\": 0, \"ticks\": \"\"}, \"type\": \"surface\"}], \"table\": [{\"cells\": {\"fill\": {\"color\": \"#EBF0F8\"}, \"line\": {\"color\": \"white\"}}, \"header\": {\"fill\": {\"color\": \"#C8D4E3\"}, \"line\": {\"color\": \"white\"}}, \"type\": \"table\"}]}, \"layout\": {\"annotationdefaults\": {\"arrowcolor\": \"#506784\", \"arrowhead\": 0, \"arrowwidth\": 1}, \"colorscale\": {\"diverging\": [[0, \"#8e0152\"], [0.1, \"#c51b7d\"], [0.2, \"#de77ae\"], [0.3, \"#f1b6da\"], [0.4, \"#fde0ef\"], [0.5, \"#f7f7f7\"], [0.6, \"#e6f5d0\"], [0.7, \"#b8e186\"], [0.8, \"#7fbc41\"], [0.9, \"#4d9221\"], [1, \"#276419\"]], \"sequential\": [[0.0, \"#0508b8\"], [0.0893854748603352, \"#1910d8\"], [0.1787709497206704, \"#3c19f0\"], [0.2681564245810056, \"#6b1cfb\"], [0.3575418994413408, \"#981cfd\"], [0.44692737430167595, \"#bf1cfd\"], [0.5363128491620112, \"#dd2bfd\"], [0.6256983240223464, \"#f246fe\"], [0.7150837988826816, \"#fc67fd\"], [0.8044692737430168, \"#fe88fc\"], [0.8938547486033519, \"#fea5fd\"], [0.9832402234636871, \"#febefe\"], [1.0, \"#fec3fe\"]], \"sequentialminus\": [[0.0, \"#0508b8\"], [0.0893854748603352, \"#1910d8\"], [0.1787709497206704, \"#3c19f0\"], [0.2681564245810056, \"#6b1cfb\"], [0.3575418994413408, \"#981cfd\"], [0.44692737430167595, \"#bf1cfd\"], [0.5363128491620112, \"#dd2bfd\"], [0.6256983240223464, \"#f246fe\"], [0.7150837988826816, \"#fc67fd\"], [0.8044692737430168, \"#fe88fc\"], [0.8938547486033519, \"#fea5fd\"], [0.9832402234636871, \"#febefe\"], [1.0, \"#fec3fe\"]]}, \"colorway\": [\"#636efa\", \"#EF553B\", \"#00cc96\", \"#ab63fa\", \"#19d3f3\", \"#e763fa\", \"#FECB52\", \"#FFA15A\", \"#FF6692\", \"#B6E880\"], \"font\": {\"color\": \"#2a3f5f\"}, \"geo\": {\"bgcolor\": \"white\", \"lakecolor\": \"white\", \"landcolor\": \"#E5ECF6\", \"showlakes\": true, \"showland\": true, \"subunitcolor\": \"white\"}, \"hovermode\": \"closest\", \"mapbox\": {\"style\": \"light\"}, \"paper_bgcolor\": \"white\", \"plot_bgcolor\": \"#E5ECF6\", \"polar\": {\"angularaxis\": {\"gridcolor\": \"white\", \"linecolor\": \"white\", \"ticks\": \"\"}, \"bgcolor\": \"#E5ECF6\", \"radialaxis\": {\"gridcolor\": \"white\", \"linecolor\": \"white\", \"ticks\": \"\"}}, \"scene\": {\"xaxis\": {\"backgroundcolor\": \"#E5ECF6\", \"gridcolor\": \"white\", \"gridwidth\": 2, \"linecolor\": \"white\", \"showbackground\": true, \"ticks\": \"\", \"zerolinecolor\": \"white\"}, \"yaxis\": {\"backgroundcolor\": \"#E5ECF6\", \"gridcolor\": \"white\", \"gridwidth\": 2, \"linecolor\": \"white\", \"showbackground\": true, \"ticks\": \"\", \"zerolinecolor\": \"white\"}, \"zaxis\": {\"backgroundcolor\": \"#E5ECF6\", \"gridcolor\": \"white\", \"gridwidth\": 2, \"linecolor\": \"white\", \"showbackground\": true, \"ticks\": \"\", \"zerolinecolor\": \"white\"}}, \"shapedefaults\": {\"fillcolor\": \"#506784\", \"line\": {\"width\": 0}, \"opacity\": 0.4}, \"ternary\": {\"aaxis\": {\"gridcolor\": \"white\", \"linecolor\": \"white\", \"ticks\": \"\"}, \"baxis\": {\"gridcolor\": \"white\", \"linecolor\": \"white\", \"ticks\": \"\"}, \"bgcolor\": \"#E5ECF6\", \"caxis\": {\"gridcolor\": \"white\", \"linecolor\": \"white\", \"ticks\": \"\"}}, \"title\": {\"x\": 0.05}, \"xaxis\": {\"automargin\": true, \"gridcolor\": \"white\", \"linecolor\": \"white\", \"ticks\": \"\", \"zerolinecolor\": \"white\", \"zerolinewidth\": 2}, \"yaxis\": {\"automargin\": true, \"gridcolor\": \"white\", \"linecolor\": \"white\", \"ticks\": \"\", \"zerolinecolor\": \"white\", \"zerolinewidth\": 2}}}, \"grid\": {\"xaxes\": [\"x\"], \"yaxes\": [\"y\"], \"xgap\": 0.1, \"ygap\": 0.1, \"xside\": \"bottom\", \"yside\": \"left\"}, \"xaxis\": {\"title\": {\"text\": \"batting_team\"}, \"categoryorder\": \"array\", \"categoryarray\": [\"CSK\", \"DC\", \"DD\", \"GL\", \"KKR\", \"KTK\", \"KXIP\", \"MI\", \"PW\", \"RCB\", \"RPS\", \"RR\", \"SRH\"]}, \"yaxis\": {\"title\": {\"text\": \"total_runs\"}}}, {\"showLink\": false, \"linkText\": \"Export to plot.ly\", \"plotlyServerURL\": \"https://plot.ly\"}); \n",
       "}\n",
       "});</script><script type=\"text/javascript\">window.addEventListener(\"resize\", function(){if (document.getElementById(\"b7bb2bec-0a67-4354-8d50-fa3d0c09b59f\")) {window._Plotly.Plots.resize(document.getElementById(\"b7bb2bec-0a67-4354-8d50-fa3d0c09b59f\"));};})</script>"
      ]
     },
     "metadata": {},
     "output_type": "display_data"
    }
   ],
   "source": [
    "px.box(score_1_inning, x=\"batting_team\", y=\"total_runs\", color=\"batting_team\")"
   ]
  },
  {
   "cell_type": "code",
   "execution_count": 8,
   "metadata": {},
   "outputs": [
    {
     "data": {
      "application/vnd.plotly.v1+json": {
       "config": {
        "linkText": "Export to plot.ly",
        "plotlyServerURL": "https://plot.ly",
        "showLink": false
       },
       "data": [
        {
         "alignmentgroup": "True",
         "hovertemplate": "batsman=CH Gayle<br>season=%{x}<br>batsman_runs=%{y}<extra></extra>",
         "legendgroup": "batsman=CH Gayle",
         "marker": {
          "color": "#636efa"
         },
         "name": "batsman=CH Gayle",
         "offsetgroup": "batsman=CH Gayle",
         "orientation": "v",
         "showlegend": true,
         "textposition": "auto",
         "type": "bar",
         "uid": "9635540c-732a-42f8-b6fd-4db3c7329d26",
         "x": [
          2012,
          2011
         ],
         "xaxis": "x",
         "y": [
          733,
          608
         ],
         "yaxis": "y"
        },
        {
         "alignmentgroup": "True",
         "hovertemplate": "batsman=DA Warner<br>season=%{x}<br>batsman_runs=%{y}<extra></extra>",
         "legendgroup": "batsman=DA Warner",
         "marker": {
          "color": "#EF553B"
         },
         "name": "batsman=DA Warner",
         "offsetgroup": "batsman=DA Warner",
         "orientation": "v",
         "showlegend": true,
         "textposition": "auto",
         "type": "bar",
         "uid": "efdf3643-9f14-44e1-b764-f09b941b96f3",
         "x": [
          2017,
          2015
         ],
         "xaxis": "x",
         "y": [
          641,
          562
         ],
         "yaxis": "y"
        },
        {
         "alignmentgroup": "True",
         "hovertemplate": "batsman=MEK Hussey<br>season=%{x}<br>batsman_runs=%{y}<extra></extra>",
         "legendgroup": "batsman=MEK Hussey",
         "marker": {
          "color": "#00cc96"
         },
         "name": "batsman=MEK Hussey",
         "offsetgroup": "batsman=MEK Hussey",
         "orientation": "v",
         "showlegend": true,
         "textposition": "auto",
         "type": "bar",
         "uid": "0272c147-f5a3-4907-aa6d-12fb510b3776",
         "x": [
          2013
         ],
         "xaxis": "x",
         "y": [
          733
         ],
         "yaxis": "y"
        },
        {
         "alignmentgroup": "True",
         "hovertemplate": "batsman=ML Hayden<br>season=%{x}<br>batsman_runs=%{y}<extra></extra>",
         "legendgroup": "batsman=ML Hayden",
         "marker": {
          "color": "#ab63fa"
         },
         "name": "batsman=ML Hayden",
         "offsetgroup": "batsman=ML Hayden",
         "orientation": "v",
         "showlegend": true,
         "textposition": "auto",
         "type": "bar",
         "uid": "d8e377cd-da6a-4f25-b8eb-8562e5ab503d",
         "x": [
          2009
         ],
         "xaxis": "x",
         "y": [
          572
         ],
         "yaxis": "y"
        },
        {
         "alignmentgroup": "True",
         "hovertemplate": "batsman=RV Uthappa<br>season=%{x}<br>batsman_runs=%{y}<extra></extra>",
         "legendgroup": "batsman=RV Uthappa",
         "marker": {
          "color": "#19d3f3"
         },
         "name": "batsman=RV Uthappa",
         "offsetgroup": "batsman=RV Uthappa",
         "orientation": "v",
         "showlegend": true,
         "textposition": "auto",
         "type": "bar",
         "uid": "cc0b171e-9e8b-405d-a337-9a08e384b070",
         "x": [
          2014
         ],
         "xaxis": "x",
         "y": [
          660
         ],
         "yaxis": "y"
        },
        {
         "alignmentgroup": "True",
         "hovertemplate": "batsman=SE Marsh<br>season=%{x}<br>batsman_runs=%{y}<extra></extra>",
         "legendgroup": "batsman=SE Marsh",
         "marker": {
          "color": "#e763fa"
         },
         "name": "batsman=SE Marsh",
         "offsetgroup": "batsman=SE Marsh",
         "orientation": "v",
         "showlegend": true,
         "textposition": "auto",
         "type": "bar",
         "uid": "f52eff25-f163-4a03-bb95-c086a914c5c8",
         "x": [
          2008
         ],
         "xaxis": "x",
         "y": [
          616
         ],
         "yaxis": "y"
        },
        {
         "alignmentgroup": "True",
         "hovertemplate": "batsman=SR Tendulkar<br>season=%{x}<br>batsman_runs=%{y}<extra></extra>",
         "legendgroup": "batsman=SR Tendulkar",
         "marker": {
          "color": "#fecb52"
         },
         "name": "batsman=SR Tendulkar",
         "offsetgroup": "batsman=SR Tendulkar",
         "orientation": "v",
         "showlegend": true,
         "textposition": "auto",
         "type": "bar",
         "uid": "e1692b00-b53a-41a3-af80-cc00ff20aaac",
         "x": [
          2010
         ],
         "xaxis": "x",
         "y": [
          618
         ],
         "yaxis": "y"
        },
        {
         "alignmentgroup": "True",
         "hovertemplate": "batsman=V Kohli<br>season=%{x}<br>batsman_runs=%{y}<extra></extra>",
         "legendgroup": "batsman=V Kohli",
         "marker": {
          "color": "#ffa15a"
         },
         "name": "batsman=V Kohli",
         "offsetgroup": "batsman=V Kohli",
         "orientation": "v",
         "showlegend": true,
         "textposition": "auto",
         "type": "bar",
         "uid": "145645e1-775b-422e-a232-1b6e12e07d50",
         "x": [
          2016
         ],
         "xaxis": "x",
         "y": [
          973
         ],
         "yaxis": "y"
        }
       ],
       "layout": {
        "barmode": "relative",
        "grid": {
         "xaxes": [
          "x"
         ],
         "xgap": 0.1,
         "xside": "bottom",
         "yaxes": [
          "y"
         ],
         "ygap": 0.1,
         "yside": "left"
        },
        "height": 600,
        "legend": {
         "tracegroupgap": 0
        },
        "margin": {
         "t": 60
        },
        "template": {
         "data": {
          "bar": [
           {
            "marker": {
             "line": {
              "color": "#E5ECF6",
              "width": 0.5
             }
            },
            "type": "bar"
           }
          ],
          "barpolar": [
           {
            "marker": {
             "line": {
              "color": "#E5ECF6",
              "width": 0.5
             }
            },
            "type": "barpolar"
           }
          ],
          "carpet": [
           {
            "aaxis": {
             "endlinecolor": "#2a3f5f",
             "gridcolor": "white",
             "linecolor": "white",
             "minorgridcolor": "white",
             "startlinecolor": "#2a3f5f"
            },
            "baxis": {
             "endlinecolor": "#2a3f5f",
             "gridcolor": "white",
             "linecolor": "white",
             "minorgridcolor": "white",
             "startlinecolor": "#2a3f5f"
            },
            "type": "carpet"
           }
          ],
          "choropleth": [
           {
            "colorbar": {
             "outlinewidth": 0,
             "ticks": ""
            },
            "type": "choropleth"
           }
          ],
          "contour": [
           {
            "autocolorscale": true,
            "colorbar": {
             "outlinewidth": 0,
             "ticks": ""
            },
            "type": "contour"
           }
          ],
          "contourcarpet": [
           {
            "colorbar": {
             "outlinewidth": 0,
             "ticks": ""
            },
            "type": "contourcarpet"
           }
          ],
          "heatmap": [
           {
            "autocolorscale": true,
            "colorbar": {
             "outlinewidth": 0,
             "ticks": ""
            },
            "type": "heatmap"
           }
          ],
          "heatmapgl": [
           {
            "colorbar": {
             "outlinewidth": 0,
             "ticks": ""
            },
            "type": "heatmapgl"
           }
          ],
          "histogram": [
           {
            "marker": {
             "colorbar": {
              "outlinewidth": 0,
              "ticks": ""
             }
            },
            "type": "histogram"
           }
          ],
          "histogram2d": [
           {
            "autocolorscale": true,
            "colorbar": {
             "outlinewidth": 0,
             "ticks": ""
            },
            "type": "histogram2d"
           }
          ],
          "histogram2dcontour": [
           {
            "autocolorscale": true,
            "colorbar": {
             "outlinewidth": 0,
             "ticks": ""
            },
            "type": "histogram2dcontour"
           }
          ],
          "mesh3d": [
           {
            "colorbar": {
             "outlinewidth": 0,
             "ticks": ""
            },
            "type": "mesh3d"
           }
          ],
          "parcoords": [
           {
            "line": {
             "colorbar": {
              "outlinewidth": 0,
              "ticks": ""
             }
            },
            "type": "parcoords"
           }
          ],
          "scatter": [
           {
            "marker": {
             "colorbar": {
              "outlinewidth": 0,
              "ticks": ""
             }
            },
            "type": "scatter"
           }
          ],
          "scatter3d": [
           {
            "marker": {
             "colorbar": {
              "outlinewidth": 0,
              "ticks": ""
             }
            },
            "type": "scatter3d"
           }
          ],
          "scattercarpet": [
           {
            "marker": {
             "colorbar": {
              "outlinewidth": 0,
              "ticks": ""
             }
            },
            "type": "scattercarpet"
           }
          ],
          "scattergeo": [
           {
            "marker": {
             "colorbar": {
              "outlinewidth": 0,
              "ticks": ""
             }
            },
            "type": "scattergeo"
           }
          ],
          "scattergl": [
           {
            "marker": {
             "colorbar": {
              "outlinewidth": 0,
              "ticks": ""
             }
            },
            "type": "scattergl"
           }
          ],
          "scattermapbox": [
           {
            "marker": {
             "colorbar": {
              "outlinewidth": 0,
              "ticks": ""
             }
            },
            "type": "scattermapbox"
           }
          ],
          "scatterpolar": [
           {
            "marker": {
             "colorbar": {
              "outlinewidth": 0,
              "ticks": ""
             }
            },
            "type": "scatterpolar"
           }
          ],
          "scatterpolargl": [
           {
            "marker": {
             "colorbar": {
              "outlinewidth": 0,
              "ticks": ""
             }
            },
            "type": "scatterpolargl"
           }
          ],
          "scatterternary": [
           {
            "marker": {
             "colorbar": {
              "outlinewidth": 0,
              "ticks": ""
             }
            },
            "type": "scatterternary"
           }
          ],
          "surface": [
           {
            "colorbar": {
             "outlinewidth": 0,
             "ticks": ""
            },
            "type": "surface"
           }
          ],
          "table": [
           {
            "cells": {
             "fill": {
              "color": "#EBF0F8"
             },
             "line": {
              "color": "white"
             }
            },
            "header": {
             "fill": {
              "color": "#C8D4E3"
             },
             "line": {
              "color": "white"
             }
            },
            "type": "table"
           }
          ]
         },
         "layout": {
          "annotationdefaults": {
           "arrowcolor": "#506784",
           "arrowhead": 0,
           "arrowwidth": 1
          },
          "colorscale": {
           "diverging": [
            [
             0,
             "#8e0152"
            ],
            [
             0.1,
             "#c51b7d"
            ],
            [
             0.2,
             "#de77ae"
            ],
            [
             0.3,
             "#f1b6da"
            ],
            [
             0.4,
             "#fde0ef"
            ],
            [
             0.5,
             "#f7f7f7"
            ],
            [
             0.6,
             "#e6f5d0"
            ],
            [
             0.7,
             "#b8e186"
            ],
            [
             0.8,
             "#7fbc41"
            ],
            [
             0.9,
             "#4d9221"
            ],
            [
             1,
             "#276419"
            ]
           ],
           "sequential": [
            [
             0,
             "#0508b8"
            ],
            [
             0.0893854748603352,
             "#1910d8"
            ],
            [
             0.1787709497206704,
             "#3c19f0"
            ],
            [
             0.2681564245810056,
             "#6b1cfb"
            ],
            [
             0.3575418994413408,
             "#981cfd"
            ],
            [
             0.44692737430167595,
             "#bf1cfd"
            ],
            [
             0.5363128491620112,
             "#dd2bfd"
            ],
            [
             0.6256983240223464,
             "#f246fe"
            ],
            [
             0.7150837988826816,
             "#fc67fd"
            ],
            [
             0.8044692737430168,
             "#fe88fc"
            ],
            [
             0.8938547486033519,
             "#fea5fd"
            ],
            [
             0.9832402234636871,
             "#febefe"
            ],
            [
             1,
             "#fec3fe"
            ]
           ],
           "sequentialminus": [
            [
             0,
             "#0508b8"
            ],
            [
             0.0893854748603352,
             "#1910d8"
            ],
            [
             0.1787709497206704,
             "#3c19f0"
            ],
            [
             0.2681564245810056,
             "#6b1cfb"
            ],
            [
             0.3575418994413408,
             "#981cfd"
            ],
            [
             0.44692737430167595,
             "#bf1cfd"
            ],
            [
             0.5363128491620112,
             "#dd2bfd"
            ],
            [
             0.6256983240223464,
             "#f246fe"
            ],
            [
             0.7150837988826816,
             "#fc67fd"
            ],
            [
             0.8044692737430168,
             "#fe88fc"
            ],
            [
             0.8938547486033519,
             "#fea5fd"
            ],
            [
             0.9832402234636871,
             "#febefe"
            ],
            [
             1,
             "#fec3fe"
            ]
           ]
          },
          "colorway": [
           "#636efa",
           "#EF553B",
           "#00cc96",
           "#ab63fa",
           "#19d3f3",
           "#e763fa",
           "#FECB52",
           "#FFA15A",
           "#FF6692",
           "#B6E880"
          ],
          "font": {
           "color": "#2a3f5f"
          },
          "geo": {
           "bgcolor": "white",
           "lakecolor": "white",
           "landcolor": "#E5ECF6",
           "showlakes": true,
           "showland": true,
           "subunitcolor": "white"
          },
          "hovermode": "closest",
          "mapbox": {
           "style": "light"
          },
          "paper_bgcolor": "white",
          "plot_bgcolor": "#E5ECF6",
          "polar": {
           "angularaxis": {
            "gridcolor": "white",
            "linecolor": "white",
            "ticks": ""
           },
           "bgcolor": "#E5ECF6",
           "radialaxis": {
            "gridcolor": "white",
            "linecolor": "white",
            "ticks": ""
           }
          },
          "scene": {
           "xaxis": {
            "backgroundcolor": "#E5ECF6",
            "gridcolor": "white",
            "gridwidth": 2,
            "linecolor": "white",
            "showbackground": true,
            "ticks": "",
            "zerolinecolor": "white"
           },
           "yaxis": {
            "backgroundcolor": "#E5ECF6",
            "gridcolor": "white",
            "gridwidth": 2,
            "linecolor": "white",
            "showbackground": true,
            "ticks": "",
            "zerolinecolor": "white"
           },
           "zaxis": {
            "backgroundcolor": "#E5ECF6",
            "gridcolor": "white",
            "gridwidth": 2,
            "linecolor": "white",
            "showbackground": true,
            "ticks": "",
            "zerolinecolor": "white"
           }
          },
          "shapedefaults": {
           "fillcolor": "#506784",
           "line": {
            "width": 0
           },
           "opacity": 0.4
          },
          "ternary": {
           "aaxis": {
            "gridcolor": "white",
            "linecolor": "white",
            "ticks": ""
           },
           "baxis": {
            "gridcolor": "white",
            "linecolor": "white",
            "ticks": ""
           },
           "bgcolor": "#E5ECF6",
           "caxis": {
            "gridcolor": "white",
            "linecolor": "white",
            "ticks": ""
           }
          },
          "title": {
           "x": 0.05
          },
          "xaxis": {
           "automargin": true,
           "gridcolor": "white",
           "linecolor": "white",
           "ticks": "",
           "zerolinecolor": "white",
           "zerolinewidth": 2
          },
          "yaxis": {
           "automargin": true,
           "gridcolor": "white",
           "linecolor": "white",
           "ticks": "",
           "zerolinecolor": "white",
           "zerolinewidth": 2
          }
         }
        },
        "xaxis": {
         "title": {
          "text": "season"
         }
        },
        "yaxis": {
         "title": {
          "text": "batsman_runs"
         }
        }
       }
      },
      "text/html": [
       "<div id=\"bc8b3528-4ca0-4912-8081-e6d939203c9c\" style=\"height: 600px; width: 100%;\" class=\"plotly-graph-div\"></div><script type=\"text/javascript\">require([\"plotly\"], function(Plotly) { window.PLOTLYENV=window.PLOTLYENV || {};window.PLOTLYENV.BASE_URL=\"https://plot.ly\";\n",
       "if (document.getElementById(\"bc8b3528-4ca0-4912-8081-e6d939203c9c\")) {\n",
       "    Plotly.newPlot(\"bc8b3528-4ca0-4912-8081-e6d939203c9c\", [{\"alignmentgroup\": \"True\", \"hovertemplate\": \"batsman=CH Gayle<br>season=%{x}<br>batsman_runs=%{y}<extra></extra>\", \"legendgroup\": \"batsman=CH Gayle\", \"marker\": {\"color\": \"#636efa\"}, \"name\": \"batsman=CH Gayle\", \"offsetgroup\": \"batsman=CH Gayle\", \"orientation\": \"v\", \"showlegend\": true, \"textposition\": \"auto\", \"x\": [2012, 2011], \"xaxis\": \"x\", \"y\": [733, 608], \"yaxis\": \"y\", \"type\": \"bar\", \"uid\": \"9635540c-732a-42f8-b6fd-4db3c7329d26\"}, {\"alignmentgroup\": \"True\", \"hovertemplate\": \"batsman=DA Warner<br>season=%{x}<br>batsman_runs=%{y}<extra></extra>\", \"legendgroup\": \"batsman=DA Warner\", \"marker\": {\"color\": \"#EF553B\"}, \"name\": \"batsman=DA Warner\", \"offsetgroup\": \"batsman=DA Warner\", \"orientation\": \"v\", \"showlegend\": true, \"textposition\": \"auto\", \"x\": [2017, 2015], \"xaxis\": \"x\", \"y\": [641, 562], \"yaxis\": \"y\", \"type\": \"bar\", \"uid\": \"efdf3643-9f14-44e1-b764-f09b941b96f3\"}, {\"alignmentgroup\": \"True\", \"hovertemplate\": \"batsman=MEK Hussey<br>season=%{x}<br>batsman_runs=%{y}<extra></extra>\", \"legendgroup\": \"batsman=MEK Hussey\", \"marker\": {\"color\": \"#00cc96\"}, \"name\": \"batsman=MEK Hussey\", \"offsetgroup\": \"batsman=MEK Hussey\", \"orientation\": \"v\", \"showlegend\": true, \"textposition\": \"auto\", \"x\": [2013], \"xaxis\": \"x\", \"y\": [733], \"yaxis\": \"y\", \"type\": \"bar\", \"uid\": \"0272c147-f5a3-4907-aa6d-12fb510b3776\"}, {\"alignmentgroup\": \"True\", \"hovertemplate\": \"batsman=ML Hayden<br>season=%{x}<br>batsman_runs=%{y}<extra></extra>\", \"legendgroup\": \"batsman=ML Hayden\", \"marker\": {\"color\": \"#ab63fa\"}, \"name\": \"batsman=ML Hayden\", \"offsetgroup\": \"batsman=ML Hayden\", \"orientation\": \"v\", \"showlegend\": true, \"textposition\": \"auto\", \"x\": [2009], \"xaxis\": \"x\", \"y\": [572], \"yaxis\": \"y\", \"type\": \"bar\", \"uid\": \"d8e377cd-da6a-4f25-b8eb-8562e5ab503d\"}, {\"alignmentgroup\": \"True\", \"hovertemplate\": \"batsman=RV Uthappa<br>season=%{x}<br>batsman_runs=%{y}<extra></extra>\", \"legendgroup\": \"batsman=RV Uthappa\", \"marker\": {\"color\": \"#19d3f3\"}, \"name\": \"batsman=RV Uthappa\", \"offsetgroup\": \"batsman=RV Uthappa\", \"orientation\": \"v\", \"showlegend\": true, \"textposition\": \"auto\", \"x\": [2014], \"xaxis\": \"x\", \"y\": [660], \"yaxis\": \"y\", \"type\": \"bar\", \"uid\": \"cc0b171e-9e8b-405d-a337-9a08e384b070\"}, {\"alignmentgroup\": \"True\", \"hovertemplate\": \"batsman=SE Marsh<br>season=%{x}<br>batsman_runs=%{y}<extra></extra>\", \"legendgroup\": \"batsman=SE Marsh\", \"marker\": {\"color\": \"#e763fa\"}, \"name\": \"batsman=SE Marsh\", \"offsetgroup\": \"batsman=SE Marsh\", \"orientation\": \"v\", \"showlegend\": true, \"textposition\": \"auto\", \"x\": [2008], \"xaxis\": \"x\", \"y\": [616], \"yaxis\": \"y\", \"type\": \"bar\", \"uid\": \"f52eff25-f163-4a03-bb95-c086a914c5c8\"}, {\"alignmentgroup\": \"True\", \"hovertemplate\": \"batsman=SR Tendulkar<br>season=%{x}<br>batsman_runs=%{y}<extra></extra>\", \"legendgroup\": \"batsman=SR Tendulkar\", \"marker\": {\"color\": \"#fecb52\"}, \"name\": \"batsman=SR Tendulkar\", \"offsetgroup\": \"batsman=SR Tendulkar\", \"orientation\": \"v\", \"showlegend\": true, \"textposition\": \"auto\", \"x\": [2010], \"xaxis\": \"x\", \"y\": [618], \"yaxis\": \"y\", \"type\": \"bar\", \"uid\": \"e1692b00-b53a-41a3-af80-cc00ff20aaac\"}, {\"alignmentgroup\": \"True\", \"hovertemplate\": \"batsman=V Kohli<br>season=%{x}<br>batsman_runs=%{y}<extra></extra>\", \"legendgroup\": \"batsman=V Kohli\", \"marker\": {\"color\": \"#ffa15a\"}, \"name\": \"batsman=V Kohli\", \"offsetgroup\": \"batsman=V Kohli\", \"orientation\": \"v\", \"showlegend\": true, \"textposition\": \"auto\", \"x\": [2016], \"xaxis\": \"x\", \"y\": [973], \"yaxis\": \"y\", \"type\": \"bar\", \"uid\": \"145645e1-775b-422e-a232-1b6e12e07d50\"}], {\"barmode\": \"relative\", \"height\": 600, \"legend\": {\"tracegroupgap\": 0}, \"margin\": {\"t\": 60}, \"template\": {\"data\": {\"barpolar\": [{\"marker\": {\"line\": {\"color\": \"#E5ECF6\", \"width\": 0.5}}, \"type\": \"barpolar\"}], \"bar\": [{\"marker\": {\"line\": {\"color\": \"#E5ECF6\", \"width\": 0.5}}, \"type\": \"bar\"}], \"carpet\": [{\"aaxis\": {\"endlinecolor\": \"#2a3f5f\", \"gridcolor\": \"white\", \"linecolor\": \"white\", \"minorgridcolor\": \"white\", \"startlinecolor\": \"#2a3f5f\"}, \"baxis\": {\"endlinecolor\": \"#2a3f5f\", \"gridcolor\": \"white\", \"linecolor\": \"white\", \"minorgridcolor\": \"white\", \"startlinecolor\": \"#2a3f5f\"}, \"type\": \"carpet\"}], \"choropleth\": [{\"colorbar\": {\"outlinewidth\": 0, \"ticks\": \"\"}, \"type\": \"choropleth\"}], \"contourcarpet\": [{\"colorbar\": {\"outlinewidth\": 0, \"ticks\": \"\"}, \"type\": \"contourcarpet\"}], \"contour\": [{\"autocolorscale\": true, \"colorbar\": {\"outlinewidth\": 0, \"ticks\": \"\"}, \"type\": \"contour\"}], \"heatmapgl\": [{\"colorbar\": {\"outlinewidth\": 0, \"ticks\": \"\"}, \"type\": \"heatmapgl\"}], \"heatmap\": [{\"autocolorscale\": true, \"colorbar\": {\"outlinewidth\": 0, \"ticks\": \"\"}, \"type\": \"heatmap\"}], \"histogram2dcontour\": [{\"autocolorscale\": true, \"colorbar\": {\"outlinewidth\": 0, \"ticks\": \"\"}, \"type\": \"histogram2dcontour\"}], \"histogram2d\": [{\"autocolorscale\": true, \"colorbar\": {\"outlinewidth\": 0, \"ticks\": \"\"}, \"type\": \"histogram2d\"}], \"histogram\": [{\"marker\": {\"colorbar\": {\"outlinewidth\": 0, \"ticks\": \"\"}}, \"type\": \"histogram\"}], \"mesh3d\": [{\"colorbar\": {\"outlinewidth\": 0, \"ticks\": \"\"}, \"type\": \"mesh3d\"}], \"parcoords\": [{\"line\": {\"colorbar\": {\"outlinewidth\": 0, \"ticks\": \"\"}}, \"type\": \"parcoords\"}], \"scatter3d\": [{\"marker\": {\"colorbar\": {\"outlinewidth\": 0, \"ticks\": \"\"}}, \"type\": \"scatter3d\"}], \"scattercarpet\": [{\"marker\": {\"colorbar\": {\"outlinewidth\": 0, \"ticks\": \"\"}}, \"type\": \"scattercarpet\"}], \"scattergeo\": [{\"marker\": {\"colorbar\": {\"outlinewidth\": 0, \"ticks\": \"\"}}, \"type\": \"scattergeo\"}], \"scattergl\": [{\"marker\": {\"colorbar\": {\"outlinewidth\": 0, \"ticks\": \"\"}}, \"type\": \"scattergl\"}], \"scattermapbox\": [{\"marker\": {\"colorbar\": {\"outlinewidth\": 0, \"ticks\": \"\"}}, \"type\": \"scattermapbox\"}], \"scatterpolargl\": [{\"marker\": {\"colorbar\": {\"outlinewidth\": 0, \"ticks\": \"\"}}, \"type\": \"scatterpolargl\"}], \"scatterpolar\": [{\"marker\": {\"colorbar\": {\"outlinewidth\": 0, \"ticks\": \"\"}}, \"type\": \"scatterpolar\"}], \"scatter\": [{\"marker\": {\"colorbar\": {\"outlinewidth\": 0, \"ticks\": \"\"}}, \"type\": \"scatter\"}], \"scatterternary\": [{\"marker\": {\"colorbar\": {\"outlinewidth\": 0, \"ticks\": \"\"}}, \"type\": \"scatterternary\"}], \"surface\": [{\"colorbar\": {\"outlinewidth\": 0, \"ticks\": \"\"}, \"type\": \"surface\"}], \"table\": [{\"cells\": {\"fill\": {\"color\": \"#EBF0F8\"}, \"line\": {\"color\": \"white\"}}, \"header\": {\"fill\": {\"color\": \"#C8D4E3\"}, \"line\": {\"color\": \"white\"}}, \"type\": \"table\"}]}, \"layout\": {\"annotationdefaults\": {\"arrowcolor\": \"#506784\", \"arrowhead\": 0, \"arrowwidth\": 1}, \"colorscale\": {\"diverging\": [[0, \"#8e0152\"], [0.1, \"#c51b7d\"], [0.2, \"#de77ae\"], [0.3, \"#f1b6da\"], [0.4, \"#fde0ef\"], [0.5, \"#f7f7f7\"], [0.6, \"#e6f5d0\"], [0.7, \"#b8e186\"], [0.8, \"#7fbc41\"], [0.9, \"#4d9221\"], [1, \"#276419\"]], \"sequential\": [[0.0, \"#0508b8\"], [0.0893854748603352, \"#1910d8\"], [0.1787709497206704, \"#3c19f0\"], [0.2681564245810056, \"#6b1cfb\"], [0.3575418994413408, \"#981cfd\"], [0.44692737430167595, \"#bf1cfd\"], [0.5363128491620112, \"#dd2bfd\"], [0.6256983240223464, \"#f246fe\"], [0.7150837988826816, \"#fc67fd\"], [0.8044692737430168, \"#fe88fc\"], [0.8938547486033519, \"#fea5fd\"], [0.9832402234636871, \"#febefe\"], [1.0, \"#fec3fe\"]], \"sequentialminus\": [[0.0, \"#0508b8\"], [0.0893854748603352, \"#1910d8\"], [0.1787709497206704, \"#3c19f0\"], [0.2681564245810056, \"#6b1cfb\"], [0.3575418994413408, \"#981cfd\"], [0.44692737430167595, \"#bf1cfd\"], [0.5363128491620112, \"#dd2bfd\"], [0.6256983240223464, \"#f246fe\"], [0.7150837988826816, \"#fc67fd\"], [0.8044692737430168, \"#fe88fc\"], [0.8938547486033519, \"#fea5fd\"], [0.9832402234636871, \"#febefe\"], [1.0, \"#fec3fe\"]]}, \"colorway\": [\"#636efa\", \"#EF553B\", \"#00cc96\", \"#ab63fa\", \"#19d3f3\", \"#e763fa\", \"#FECB52\", \"#FFA15A\", \"#FF6692\", \"#B6E880\"], \"font\": {\"color\": \"#2a3f5f\"}, \"geo\": {\"bgcolor\": \"white\", \"lakecolor\": \"white\", \"landcolor\": \"#E5ECF6\", \"showlakes\": true, \"showland\": true, \"subunitcolor\": \"white\"}, \"hovermode\": \"closest\", \"mapbox\": {\"style\": \"light\"}, \"paper_bgcolor\": \"white\", \"plot_bgcolor\": \"#E5ECF6\", \"polar\": {\"angularaxis\": {\"gridcolor\": \"white\", \"linecolor\": \"white\", \"ticks\": \"\"}, \"bgcolor\": \"#E5ECF6\", \"radialaxis\": {\"gridcolor\": \"white\", \"linecolor\": \"white\", \"ticks\": \"\"}}, \"scene\": {\"xaxis\": {\"backgroundcolor\": \"#E5ECF6\", \"gridcolor\": \"white\", \"gridwidth\": 2, \"linecolor\": \"white\", \"showbackground\": true, \"ticks\": \"\", \"zerolinecolor\": \"white\"}, \"yaxis\": {\"backgroundcolor\": \"#E5ECF6\", \"gridcolor\": \"white\", \"gridwidth\": 2, \"linecolor\": \"white\", \"showbackground\": true, \"ticks\": \"\", \"zerolinecolor\": \"white\"}, \"zaxis\": {\"backgroundcolor\": \"#E5ECF6\", \"gridcolor\": \"white\", \"gridwidth\": 2, \"linecolor\": \"white\", \"showbackground\": true, \"ticks\": \"\", \"zerolinecolor\": \"white\"}}, \"shapedefaults\": {\"fillcolor\": \"#506784\", \"line\": {\"width\": 0}, \"opacity\": 0.4}, \"ternary\": {\"aaxis\": {\"gridcolor\": \"white\", \"linecolor\": \"white\", \"ticks\": \"\"}, \"baxis\": {\"gridcolor\": \"white\", \"linecolor\": \"white\", \"ticks\": \"\"}, \"bgcolor\": \"#E5ECF6\", \"caxis\": {\"gridcolor\": \"white\", \"linecolor\": \"white\", \"ticks\": \"\"}}, \"title\": {\"x\": 0.05}, \"xaxis\": {\"automargin\": true, \"gridcolor\": \"white\", \"linecolor\": \"white\", \"ticks\": \"\", \"zerolinecolor\": \"white\", \"zerolinewidth\": 2}, \"yaxis\": {\"automargin\": true, \"gridcolor\": \"white\", \"linecolor\": \"white\", \"ticks\": \"\", \"zerolinecolor\": \"white\", \"zerolinewidth\": 2}}}, \"grid\": {\"xaxes\": [\"x\"], \"yaxes\": [\"y\"], \"xgap\": 0.1, \"ygap\": 0.1, \"xside\": \"bottom\", \"yside\": \"left\"}, \"xaxis\": {\"title\": {\"text\": \"season\"}}, \"yaxis\": {\"title\": {\"text\": \"batsman_runs\"}}}, {\"showLink\": false, \"linkText\": \"Export to plot.ly\", \"plotlyServerURL\": \"https://plot.ly\"}); \n",
       "}\n",
       "});</script><script type=\"text/javascript\">window.addEventListener(\"resize\", function(){if (document.getElementById(\"bc8b3528-4ca0-4912-8081-e6d939203c9c\")) {window._Plotly.Plots.resize(document.getElementById(\"bc8b3528-4ca0-4912-8081-e6d939203c9c\"));};})</script>"
      ],
      "text/vnd.plotly.v1+html": [
       "<div id=\"bc8b3528-4ca0-4912-8081-e6d939203c9c\" style=\"height: 600px; width: 100%;\" class=\"plotly-graph-div\"></div><script type=\"text/javascript\">require([\"plotly\"], function(Plotly) { window.PLOTLYENV=window.PLOTLYENV || {};window.PLOTLYENV.BASE_URL=\"https://plot.ly\";\n",
       "if (document.getElementById(\"bc8b3528-4ca0-4912-8081-e6d939203c9c\")) {\n",
       "    Plotly.newPlot(\"bc8b3528-4ca0-4912-8081-e6d939203c9c\", [{\"alignmentgroup\": \"True\", \"hovertemplate\": \"batsman=CH Gayle<br>season=%{x}<br>batsman_runs=%{y}<extra></extra>\", \"legendgroup\": \"batsman=CH Gayle\", \"marker\": {\"color\": \"#636efa\"}, \"name\": \"batsman=CH Gayle\", \"offsetgroup\": \"batsman=CH Gayle\", \"orientation\": \"v\", \"showlegend\": true, \"textposition\": \"auto\", \"x\": [2012, 2011], \"xaxis\": \"x\", \"y\": [733, 608], \"yaxis\": \"y\", \"type\": \"bar\", \"uid\": \"9635540c-732a-42f8-b6fd-4db3c7329d26\"}, {\"alignmentgroup\": \"True\", \"hovertemplate\": \"batsman=DA Warner<br>season=%{x}<br>batsman_runs=%{y}<extra></extra>\", \"legendgroup\": \"batsman=DA Warner\", \"marker\": {\"color\": \"#EF553B\"}, \"name\": \"batsman=DA Warner\", \"offsetgroup\": \"batsman=DA Warner\", \"orientation\": \"v\", \"showlegend\": true, \"textposition\": \"auto\", \"x\": [2017, 2015], \"xaxis\": \"x\", \"y\": [641, 562], \"yaxis\": \"y\", \"type\": \"bar\", \"uid\": \"efdf3643-9f14-44e1-b764-f09b941b96f3\"}, {\"alignmentgroup\": \"True\", \"hovertemplate\": \"batsman=MEK Hussey<br>season=%{x}<br>batsman_runs=%{y}<extra></extra>\", \"legendgroup\": \"batsman=MEK Hussey\", \"marker\": {\"color\": \"#00cc96\"}, \"name\": \"batsman=MEK Hussey\", \"offsetgroup\": \"batsman=MEK Hussey\", \"orientation\": \"v\", \"showlegend\": true, \"textposition\": \"auto\", \"x\": [2013], \"xaxis\": \"x\", \"y\": [733], \"yaxis\": \"y\", \"type\": \"bar\", \"uid\": \"0272c147-f5a3-4907-aa6d-12fb510b3776\"}, {\"alignmentgroup\": \"True\", \"hovertemplate\": \"batsman=ML Hayden<br>season=%{x}<br>batsman_runs=%{y}<extra></extra>\", \"legendgroup\": \"batsman=ML Hayden\", \"marker\": {\"color\": \"#ab63fa\"}, \"name\": \"batsman=ML Hayden\", \"offsetgroup\": \"batsman=ML Hayden\", \"orientation\": \"v\", \"showlegend\": true, \"textposition\": \"auto\", \"x\": [2009], \"xaxis\": \"x\", \"y\": [572], \"yaxis\": \"y\", \"type\": \"bar\", \"uid\": \"d8e377cd-da6a-4f25-b8eb-8562e5ab503d\"}, {\"alignmentgroup\": \"True\", \"hovertemplate\": \"batsman=RV Uthappa<br>season=%{x}<br>batsman_runs=%{y}<extra></extra>\", \"legendgroup\": \"batsman=RV Uthappa\", \"marker\": {\"color\": \"#19d3f3\"}, \"name\": \"batsman=RV Uthappa\", \"offsetgroup\": \"batsman=RV Uthappa\", \"orientation\": \"v\", \"showlegend\": true, \"textposition\": \"auto\", \"x\": [2014], \"xaxis\": \"x\", \"y\": [660], \"yaxis\": \"y\", \"type\": \"bar\", \"uid\": \"cc0b171e-9e8b-405d-a337-9a08e384b070\"}, {\"alignmentgroup\": \"True\", \"hovertemplate\": \"batsman=SE Marsh<br>season=%{x}<br>batsman_runs=%{y}<extra></extra>\", \"legendgroup\": \"batsman=SE Marsh\", \"marker\": {\"color\": \"#e763fa\"}, \"name\": \"batsman=SE Marsh\", \"offsetgroup\": \"batsman=SE Marsh\", \"orientation\": \"v\", \"showlegend\": true, \"textposition\": \"auto\", \"x\": [2008], \"xaxis\": \"x\", \"y\": [616], \"yaxis\": \"y\", \"type\": \"bar\", \"uid\": \"f52eff25-f163-4a03-bb95-c086a914c5c8\"}, {\"alignmentgroup\": \"True\", \"hovertemplate\": \"batsman=SR Tendulkar<br>season=%{x}<br>batsman_runs=%{y}<extra></extra>\", \"legendgroup\": \"batsman=SR Tendulkar\", \"marker\": {\"color\": \"#fecb52\"}, \"name\": \"batsman=SR Tendulkar\", \"offsetgroup\": \"batsman=SR Tendulkar\", \"orientation\": \"v\", \"showlegend\": true, \"textposition\": \"auto\", \"x\": [2010], \"xaxis\": \"x\", \"y\": [618], \"yaxis\": \"y\", \"type\": \"bar\", \"uid\": \"e1692b00-b53a-41a3-af80-cc00ff20aaac\"}, {\"alignmentgroup\": \"True\", \"hovertemplate\": \"batsman=V Kohli<br>season=%{x}<br>batsman_runs=%{y}<extra></extra>\", \"legendgroup\": \"batsman=V Kohli\", \"marker\": {\"color\": \"#ffa15a\"}, \"name\": \"batsman=V Kohli\", \"offsetgroup\": \"batsman=V Kohli\", \"orientation\": \"v\", \"showlegend\": true, \"textposition\": \"auto\", \"x\": [2016], \"xaxis\": \"x\", \"y\": [973], \"yaxis\": \"y\", \"type\": \"bar\", \"uid\": \"145645e1-775b-422e-a232-1b6e12e07d50\"}], {\"barmode\": \"relative\", \"height\": 600, \"legend\": {\"tracegroupgap\": 0}, \"margin\": {\"t\": 60}, \"template\": {\"data\": {\"barpolar\": [{\"marker\": {\"line\": {\"color\": \"#E5ECF6\", \"width\": 0.5}}, \"type\": \"barpolar\"}], \"bar\": [{\"marker\": {\"line\": {\"color\": \"#E5ECF6\", \"width\": 0.5}}, \"type\": \"bar\"}], \"carpet\": [{\"aaxis\": {\"endlinecolor\": \"#2a3f5f\", \"gridcolor\": \"white\", \"linecolor\": \"white\", \"minorgridcolor\": \"white\", \"startlinecolor\": \"#2a3f5f\"}, \"baxis\": {\"endlinecolor\": \"#2a3f5f\", \"gridcolor\": \"white\", \"linecolor\": \"white\", \"minorgridcolor\": \"white\", \"startlinecolor\": \"#2a3f5f\"}, \"type\": \"carpet\"}], \"choropleth\": [{\"colorbar\": {\"outlinewidth\": 0, \"ticks\": \"\"}, \"type\": \"choropleth\"}], \"contourcarpet\": [{\"colorbar\": {\"outlinewidth\": 0, \"ticks\": \"\"}, \"type\": \"contourcarpet\"}], \"contour\": [{\"autocolorscale\": true, \"colorbar\": {\"outlinewidth\": 0, \"ticks\": \"\"}, \"type\": \"contour\"}], \"heatmapgl\": [{\"colorbar\": {\"outlinewidth\": 0, \"ticks\": \"\"}, \"type\": \"heatmapgl\"}], \"heatmap\": [{\"autocolorscale\": true, \"colorbar\": {\"outlinewidth\": 0, \"ticks\": \"\"}, \"type\": \"heatmap\"}], \"histogram2dcontour\": [{\"autocolorscale\": true, \"colorbar\": {\"outlinewidth\": 0, \"ticks\": \"\"}, \"type\": \"histogram2dcontour\"}], \"histogram2d\": [{\"autocolorscale\": true, \"colorbar\": {\"outlinewidth\": 0, \"ticks\": \"\"}, \"type\": \"histogram2d\"}], \"histogram\": [{\"marker\": {\"colorbar\": {\"outlinewidth\": 0, \"ticks\": \"\"}}, \"type\": \"histogram\"}], \"mesh3d\": [{\"colorbar\": {\"outlinewidth\": 0, \"ticks\": \"\"}, \"type\": \"mesh3d\"}], \"parcoords\": [{\"line\": {\"colorbar\": {\"outlinewidth\": 0, \"ticks\": \"\"}}, \"type\": \"parcoords\"}], \"scatter3d\": [{\"marker\": {\"colorbar\": {\"outlinewidth\": 0, \"ticks\": \"\"}}, \"type\": \"scatter3d\"}], \"scattercarpet\": [{\"marker\": {\"colorbar\": {\"outlinewidth\": 0, \"ticks\": \"\"}}, \"type\": \"scattercarpet\"}], \"scattergeo\": [{\"marker\": {\"colorbar\": {\"outlinewidth\": 0, \"ticks\": \"\"}}, \"type\": \"scattergeo\"}], \"scattergl\": [{\"marker\": {\"colorbar\": {\"outlinewidth\": 0, \"ticks\": \"\"}}, \"type\": \"scattergl\"}], \"scattermapbox\": [{\"marker\": {\"colorbar\": {\"outlinewidth\": 0, \"ticks\": \"\"}}, \"type\": \"scattermapbox\"}], \"scatterpolargl\": [{\"marker\": {\"colorbar\": {\"outlinewidth\": 0, \"ticks\": \"\"}}, \"type\": \"scatterpolargl\"}], \"scatterpolar\": [{\"marker\": {\"colorbar\": {\"outlinewidth\": 0, \"ticks\": \"\"}}, \"type\": \"scatterpolar\"}], \"scatter\": [{\"marker\": {\"colorbar\": {\"outlinewidth\": 0, \"ticks\": \"\"}}, \"type\": \"scatter\"}], \"scatterternary\": [{\"marker\": {\"colorbar\": {\"outlinewidth\": 0, \"ticks\": \"\"}}, \"type\": \"scatterternary\"}], \"surface\": [{\"colorbar\": {\"outlinewidth\": 0, \"ticks\": \"\"}, \"type\": \"surface\"}], \"table\": [{\"cells\": {\"fill\": {\"color\": \"#EBF0F8\"}, \"line\": {\"color\": \"white\"}}, \"header\": {\"fill\": {\"color\": \"#C8D4E3\"}, \"line\": {\"color\": \"white\"}}, \"type\": \"table\"}]}, \"layout\": {\"annotationdefaults\": {\"arrowcolor\": \"#506784\", \"arrowhead\": 0, \"arrowwidth\": 1}, \"colorscale\": {\"diverging\": [[0, \"#8e0152\"], [0.1, \"#c51b7d\"], [0.2, \"#de77ae\"], [0.3, \"#f1b6da\"], [0.4, \"#fde0ef\"], [0.5, \"#f7f7f7\"], [0.6, \"#e6f5d0\"], [0.7, \"#b8e186\"], [0.8, \"#7fbc41\"], [0.9, \"#4d9221\"], [1, \"#276419\"]], \"sequential\": [[0.0, \"#0508b8\"], [0.0893854748603352, \"#1910d8\"], [0.1787709497206704, \"#3c19f0\"], [0.2681564245810056, \"#6b1cfb\"], [0.3575418994413408, \"#981cfd\"], [0.44692737430167595, \"#bf1cfd\"], [0.5363128491620112, \"#dd2bfd\"], [0.6256983240223464, \"#f246fe\"], [0.7150837988826816, \"#fc67fd\"], [0.8044692737430168, \"#fe88fc\"], [0.8938547486033519, \"#fea5fd\"], [0.9832402234636871, \"#febefe\"], [1.0, \"#fec3fe\"]], \"sequentialminus\": [[0.0, \"#0508b8\"], [0.0893854748603352, \"#1910d8\"], [0.1787709497206704, \"#3c19f0\"], [0.2681564245810056, \"#6b1cfb\"], [0.3575418994413408, \"#981cfd\"], [0.44692737430167595, \"#bf1cfd\"], [0.5363128491620112, \"#dd2bfd\"], [0.6256983240223464, \"#f246fe\"], [0.7150837988826816, \"#fc67fd\"], [0.8044692737430168, \"#fe88fc\"], [0.8938547486033519, \"#fea5fd\"], [0.9832402234636871, \"#febefe\"], [1.0, \"#fec3fe\"]]}, \"colorway\": [\"#636efa\", \"#EF553B\", \"#00cc96\", \"#ab63fa\", \"#19d3f3\", \"#e763fa\", \"#FECB52\", \"#FFA15A\", \"#FF6692\", \"#B6E880\"], \"font\": {\"color\": \"#2a3f5f\"}, \"geo\": {\"bgcolor\": \"white\", \"lakecolor\": \"white\", \"landcolor\": \"#E5ECF6\", \"showlakes\": true, \"showland\": true, \"subunitcolor\": \"white\"}, \"hovermode\": \"closest\", \"mapbox\": {\"style\": \"light\"}, \"paper_bgcolor\": \"white\", \"plot_bgcolor\": \"#E5ECF6\", \"polar\": {\"angularaxis\": {\"gridcolor\": \"white\", \"linecolor\": \"white\", \"ticks\": \"\"}, \"bgcolor\": \"#E5ECF6\", \"radialaxis\": {\"gridcolor\": \"white\", \"linecolor\": \"white\", \"ticks\": \"\"}}, \"scene\": {\"xaxis\": {\"backgroundcolor\": \"#E5ECF6\", \"gridcolor\": \"white\", \"gridwidth\": 2, \"linecolor\": \"white\", \"showbackground\": true, \"ticks\": \"\", \"zerolinecolor\": \"white\"}, \"yaxis\": {\"backgroundcolor\": \"#E5ECF6\", \"gridcolor\": \"white\", \"gridwidth\": 2, \"linecolor\": \"white\", \"showbackground\": true, \"ticks\": \"\", \"zerolinecolor\": \"white\"}, \"zaxis\": {\"backgroundcolor\": \"#E5ECF6\", \"gridcolor\": \"white\", \"gridwidth\": 2, \"linecolor\": \"white\", \"showbackground\": true, \"ticks\": \"\", \"zerolinecolor\": \"white\"}}, \"shapedefaults\": {\"fillcolor\": \"#506784\", \"line\": {\"width\": 0}, \"opacity\": 0.4}, \"ternary\": {\"aaxis\": {\"gridcolor\": \"white\", \"linecolor\": \"white\", \"ticks\": \"\"}, \"baxis\": {\"gridcolor\": \"white\", \"linecolor\": \"white\", \"ticks\": \"\"}, \"bgcolor\": \"#E5ECF6\", \"caxis\": {\"gridcolor\": \"white\", \"linecolor\": \"white\", \"ticks\": \"\"}}, \"title\": {\"x\": 0.05}, \"xaxis\": {\"automargin\": true, \"gridcolor\": \"white\", \"linecolor\": \"white\", \"ticks\": \"\", \"zerolinecolor\": \"white\", \"zerolinewidth\": 2}, \"yaxis\": {\"automargin\": true, \"gridcolor\": \"white\", \"linecolor\": \"white\", \"ticks\": \"\", \"zerolinecolor\": \"white\", \"zerolinewidth\": 2}}}, \"grid\": {\"xaxes\": [\"x\"], \"yaxes\": [\"y\"], \"xgap\": 0.1, \"ygap\": 0.1, \"xside\": \"bottom\", \"yside\": \"left\"}, \"xaxis\": {\"title\": {\"text\": \"season\"}}, \"yaxis\": {\"title\": {\"text\": \"batsman_runs\"}}}, {\"showLink\": false, \"linkText\": \"Export to plot.ly\", \"plotlyServerURL\": \"https://plot.ly\"}); \n",
       "}\n",
       "});</script><script type=\"text/javascript\">window.addEventListener(\"resize\", function(){if (document.getElementById(\"bc8b3528-4ca0-4912-8081-e6d939203c9c\")) {window._Plotly.Plots.resize(document.getElementById(\"bc8b3528-4ca0-4912-8081-e6d939203c9c\"));};})</script>"
      ]
     },
     "metadata": {},
     "output_type": "display_data"
    }
   ],
   "source": [
    "orange=matches[['id','season']]\n",
    "orange=orange.merge(delivery,left_on='id',right_on='match_id',how='left')\n",
    "orange=orange.groupby(['season','batsman'])['batsman_runs'].sum().reset_index()\n",
    "orange=orange.sort_values('batsman_runs',ascending=0)\n",
    "orange=orange.drop_duplicates(subset=[\"season\"],keep=\"first\")\n",
    "orange.sort_values(by='season')\n",
    "\n",
    "px.bar(orange, x=\"season\", y = \"batsman_runs\", color=\"batsman\")"
   ]
  }
 ],
 "metadata": {
  "kernelspec": {
   "display_name": "Python 3",
   "language": "python",
   "name": "python3"
  },
  "language_info": {
   "codemirror_mode": {
    "name": "ipython",
    "version": 3
   },
   "file_extension": ".py",
   "mimetype": "text/x-python",
   "name": "python",
   "nbconvert_exporter": "python",
   "pygments_lexer": "ipython3",
   "version": "3.6.3"
  }
 },
 "nbformat": 4,
 "nbformat_minor": 2
}
